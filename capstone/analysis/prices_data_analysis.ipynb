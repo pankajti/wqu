{
 "cells": [
  {
   "cell_type": "code",
   "execution_count": 1,
   "id": "d907bf29-9692-47c1-8e57-35452fe5b8de",
   "metadata": {
    "scrolled": true
   },
   "outputs": [
    {
     "name": "stderr",
     "output_type": "stream",
     "text": [
      "/var/folders/tz/k1k21d6x7j1d90h0t6dqf5yc0000gn/T/ipykernel_46251/1027016788.py:1: DeprecationWarning: \n",
      "Pyarrow will become a required dependency of pandas in the next major release of pandas (pandas 3.0),\n",
      "(to allow more performant data types, such as the Arrow string type, and better interoperability with other libraries)\n",
      "but was not found to be installed on your system.\n",
      "If this would cause problems for you,\n",
      "please provide us feedback at https://github.com/pandas-dev/pandas/issues/54466\n",
      "        \n",
      "  import pandas as pd\n"
     ]
    }
   ],
   "source": [
    "import pandas as pd \n",
    "import yfinance as yf\n",
    "import plotly.express as px \n",
    "import matplotlib.pyplot as plt \n",
    "import datetime as dt\n",
    "import sqlite3\n",
    "import sqlalchemy\n",
    "import os"
   ]
  },
  {
   "cell_type": "code",
   "execution_count": 3,
   "id": "4a949982-abfd-4204-9d92-57f8bed00d84",
   "metadata": {},
   "outputs": [],
   "source": [
    "db_data_path = r'/Users/pankajti/dev/git/wqu/capstone/data/db/capstone.db'\n",
    "con = sqlite3.connect(db_data_path)\n",
    "dbEngine = sqlalchemy.create_engine(f'sqlite:///{db_data_path}')\n",
    "\n",
    "\n",
    "prices = pd.read_sql(\"select * from market_data\",dbEngine)"
   ]
  },
  {
   "cell_type": "code",
   "execution_count": 4,
   "id": "8697ffd2-67b4-4bcd-9b30-7175a1104387",
   "metadata": {},
   "outputs": [
    {
     "data": {
      "text/plain": [
       "(5318790, 9)"
      ]
     },
     "execution_count": 4,
     "metadata": {},
     "output_type": "execute_result"
    }
   ],
   "source": [
    "prices.shape"
   ]
  },
  {
   "cell_type": "code",
   "execution_count": 5,
   "id": "df94cd23-321a-42aa-9127-b038a7871334",
   "metadata": {},
   "outputs": [
    {
     "data": {
      "text/html": [
       "<div>\n",
       "<style scoped>\n",
       "    .dataframe tbody tr th:only-of-type {\n",
       "        vertical-align: middle;\n",
       "    }\n",
       "\n",
       "    .dataframe tbody tr th {\n",
       "        vertical-align: top;\n",
       "    }\n",
       "\n",
       "    .dataframe thead th {\n",
       "        text-align: right;\n",
       "    }\n",
       "</style>\n",
       "<table border=\"1\" class=\"dataframe\">\n",
       "  <thead>\n",
       "    <tr style=\"text-align: right;\">\n",
       "      <th></th>\n",
       "      <th>timestamp</th>\n",
       "      <th>Open</th>\n",
       "      <th>High</th>\n",
       "      <th>Low</th>\n",
       "      <th>Close</th>\n",
       "      <th>Adj Close</th>\n",
       "      <th>Volume</th>\n",
       "      <th>ticker</th>\n",
       "      <th>date</th>\n",
       "    </tr>\n",
       "  </thead>\n",
       "  <tbody>\n",
       "    <tr>\n",
       "      <th>0</th>\n",
       "      <td>2024-03-26 09:15:00+05:30</td>\n",
       "      <td>2898.449951</td>\n",
       "      <td>2903.899902</td>\n",
       "      <td>2898.449951</td>\n",
       "      <td>2903.899902</td>\n",
       "      <td>2903.899902</td>\n",
       "      <td>0.0</td>\n",
       "      <td>RELIANCE.NS</td>\n",
       "      <td>2024-03-26</td>\n",
       "    </tr>\n",
       "    <tr>\n",
       "      <th>1</th>\n",
       "      <td>2024-03-26 09:16:00+05:30</td>\n",
       "      <td>2903.300049</td>\n",
       "      <td>2903.300049</td>\n",
       "      <td>2898.750000</td>\n",
       "      <td>2900.600098</td>\n",
       "      <td>2900.600098</td>\n",
       "      <td>101095.0</td>\n",
       "      <td>RELIANCE.NS</td>\n",
       "      <td>2024-03-26</td>\n",
       "    </tr>\n",
       "    <tr>\n",
       "      <th>2</th>\n",
       "      <td>2024-03-26 09:17:00+05:30</td>\n",
       "      <td>2901.350098</td>\n",
       "      <td>2901.350098</td>\n",
       "      <td>2894.550049</td>\n",
       "      <td>2894.550049</td>\n",
       "      <td>2894.550049</td>\n",
       "      <td>61865.0</td>\n",
       "      <td>RELIANCE.NS</td>\n",
       "      <td>2024-03-26</td>\n",
       "    </tr>\n",
       "    <tr>\n",
       "      <th>3</th>\n",
       "      <td>2024-03-26 09:18:00+05:30</td>\n",
       "      <td>2894.800049</td>\n",
       "      <td>2900.949951</td>\n",
       "      <td>2894.800049</td>\n",
       "      <td>2896.899902</td>\n",
       "      <td>2896.899902</td>\n",
       "      <td>63076.0</td>\n",
       "      <td>RELIANCE.NS</td>\n",
       "      <td>2024-03-26</td>\n",
       "    </tr>\n",
       "    <tr>\n",
       "      <th>4</th>\n",
       "      <td>2024-03-26 09:19:00+05:30</td>\n",
       "      <td>2898.250000</td>\n",
       "      <td>2898.350098</td>\n",
       "      <td>2894.100098</td>\n",
       "      <td>2894.600098</td>\n",
       "      <td>2894.600098</td>\n",
       "      <td>25784.0</td>\n",
       "      <td>RELIANCE.NS</td>\n",
       "      <td>2024-03-26</td>\n",
       "    </tr>\n",
       "  </tbody>\n",
       "</table>\n",
       "</div>"
      ],
      "text/plain": [
       "                   timestamp         Open         High          Low  \\\n",
       "0  2024-03-26 09:15:00+05:30  2898.449951  2903.899902  2898.449951   \n",
       "1  2024-03-26 09:16:00+05:30  2903.300049  2903.300049  2898.750000   \n",
       "2  2024-03-26 09:17:00+05:30  2901.350098  2901.350098  2894.550049   \n",
       "3  2024-03-26 09:18:00+05:30  2894.800049  2900.949951  2894.800049   \n",
       "4  2024-03-26 09:19:00+05:30  2898.250000  2898.350098  2894.100098   \n",
       "\n",
       "         Close    Adj Close    Volume       ticker        date  \n",
       "0  2903.899902  2903.899902       0.0  RELIANCE.NS  2024-03-26  \n",
       "1  2900.600098  2900.600098  101095.0  RELIANCE.NS  2024-03-26  \n",
       "2  2894.550049  2894.550049   61865.0  RELIANCE.NS  2024-03-26  \n",
       "3  2896.899902  2896.899902   63076.0  RELIANCE.NS  2024-03-26  \n",
       "4  2894.600098  2894.600098   25784.0  RELIANCE.NS  2024-03-26  "
      ]
     },
     "execution_count": 5,
     "metadata": {},
     "output_type": "execute_result"
    }
   ],
   "source": [
    "prices.head()"
   ]
  },
  {
   "cell_type": "code",
   "execution_count": 8,
   "id": "1106af7e-5256-4ec5-b8a3-444d5af4fde0",
   "metadata": {},
   "outputs": [
    {
     "data": {
      "text/html": [
       "<div>\n",
       "<style scoped>\n",
       "    .dataframe tbody tr th:only-of-type {\n",
       "        vertical-align: middle;\n",
       "    }\n",
       "\n",
       "    .dataframe tbody tr th {\n",
       "        vertical-align: top;\n",
       "    }\n",
       "\n",
       "    .dataframe thead th {\n",
       "        text-align: right;\n",
       "    }\n",
       "</style>\n",
       "<table border=\"1\" class=\"dataframe\">\n",
       "  <thead>\n",
       "    <tr style=\"text-align: right;\">\n",
       "      <th></th>\n",
       "      <th>ticker</th>\n",
       "      <th>date</th>\n",
       "      <th>Close</th>\n",
       "    </tr>\n",
       "  </thead>\n",
       "  <tbody>\n",
       "    <tr>\n",
       "      <th>0</th>\n",
       "      <td>20MICRONS.NS</td>\n",
       "      <td>2024-03-26</td>\n",
       "      <td>196</td>\n",
       "    </tr>\n",
       "    <tr>\n",
       "      <th>1</th>\n",
       "      <td>20MICRONS.NS</td>\n",
       "      <td>2024-03-27</td>\n",
       "      <td>172</td>\n",
       "    </tr>\n",
       "    <tr>\n",
       "      <th>2</th>\n",
       "      <td>20MICRONS.NS</td>\n",
       "      <td>2024-03-28</td>\n",
       "      <td>176</td>\n",
       "    </tr>\n",
       "    <tr>\n",
       "      <th>3</th>\n",
       "      <td>20MICRONS.NS</td>\n",
       "      <td>2024-04-01</td>\n",
       "      <td>186</td>\n",
       "    </tr>\n",
       "    <tr>\n",
       "      <th>4</th>\n",
       "      <td>20MICRONS.NS</td>\n",
       "      <td>2024-04-02</td>\n",
       "      <td>333</td>\n",
       "    </tr>\n",
       "    <tr>\n",
       "      <th>...</th>\n",
       "      <td>...</td>\n",
       "      <td>...</td>\n",
       "      <td>...</td>\n",
       "    </tr>\n",
       "    <tr>\n",
       "      <th>21158</th>\n",
       "      <td>ZYDUSWELL.NS</td>\n",
       "      <td>2024-04-10</td>\n",
       "      <td>277</td>\n",
       "    </tr>\n",
       "    <tr>\n",
       "      <th>21159</th>\n",
       "      <td>ZYDUSWELL.NS</td>\n",
       "      <td>2024-04-12</td>\n",
       "      <td>292</td>\n",
       "    </tr>\n",
       "    <tr>\n",
       "      <th>21160</th>\n",
       "      <td>ZYDUSWELL.NS</td>\n",
       "      <td>2024-04-15</td>\n",
       "      <td>285</td>\n",
       "    </tr>\n",
       "    <tr>\n",
       "      <th>21161</th>\n",
       "      <td>ZYDUSWELL.NS</td>\n",
       "      <td>2024-04-16</td>\n",
       "      <td>306</td>\n",
       "    </tr>\n",
       "    <tr>\n",
       "      <th>21162</th>\n",
       "      <td>ZYDUSWELL.NS</td>\n",
       "      <td>2024-04-18</td>\n",
       "      <td>272</td>\n",
       "    </tr>\n",
       "  </tbody>\n",
       "</table>\n",
       "<p>21163 rows × 3 columns</p>\n",
       "</div>"
      ],
      "text/plain": [
       "             ticker        date  Close\n",
       "0      20MICRONS.NS  2024-03-26    196\n",
       "1      20MICRONS.NS  2024-03-27    172\n",
       "2      20MICRONS.NS  2024-03-28    176\n",
       "3      20MICRONS.NS  2024-04-01    186\n",
       "4      20MICRONS.NS  2024-04-02    333\n",
       "...             ...         ...    ...\n",
       "21158  ZYDUSWELL.NS  2024-04-10    277\n",
       "21159  ZYDUSWELL.NS  2024-04-12    292\n",
       "21160  ZYDUSWELL.NS  2024-04-15    285\n",
       "21161  ZYDUSWELL.NS  2024-04-16    306\n",
       "21162  ZYDUSWELL.NS  2024-04-18    272\n",
       "\n",
       "[21163 rows x 3 columns]"
      ]
     },
     "execution_count": 8,
     "metadata": {},
     "output_type": "execute_result"
    }
   ],
   "source": [
    "prices.groupby(['ticker','date']).count()['Close'].reset_index()"
   ]
  },
  {
   "cell_type": "code",
   "execution_count": 13,
   "id": "46665c2a-b510-49f9-a83e-9c1011949b37",
   "metadata": {},
   "outputs": [],
   "source": [
    "prices['range'] = 100*((prices.High - prices.Low)/prices.Low)"
   ]
  },
  {
   "cell_type": "code",
   "execution_count": 67,
   "id": "aa74c4fb-93b8-4ea6-a132-73aef484ddc7",
   "metadata": {
    "scrolled": true
   },
   "outputs": [],
   "source": [
    "records = [] \n",
    "for idx, df in prices.groupby(['ticker','date']):\n",
    "    df = df.set_index(pd.to_datetime(df['timestamp']))\n",
    "    #print(idx)\n",
    "    #print(df.range.plot())\n",
    "    ohlc_rec = df.Close.resample('1d').ohlc()\n",
    "    ohlc_rec['ticker'] = idx[0]\n",
    "    ohlc_rec['date'] = idx[1]\n",
    "    records.append(ohlc_rec)\n",
    "    #print(ohlc_rec\n",
    "    "
   ]
  },
  {
   "cell_type": "code",
   "execution_count": 35,
   "id": "c737f9d6-8622-4596-afba-66341f4ffa2e",
   "metadata": {},
   "outputs": [],
   "source": [
    "daily_rec = pd.concat(records)"
   ]
  },
  {
   "cell_type": "code",
   "execution_count": 36,
   "id": "941aacaa-afd7-4ebc-8d70-a5343cb96f3b",
   "metadata": {},
   "outputs": [
    {
     "data": {
      "text/plain": [
       "(21163, 6)"
      ]
     },
     "execution_count": 36,
     "metadata": {},
     "output_type": "execute_result"
    }
   ],
   "source": [
    "daily_rec.shape"
   ]
  },
  {
   "cell_type": "code",
   "execution_count": 43,
   "id": "bf55f6df-032b-4bdf-9071-eedebc540156",
   "metadata": {},
   "outputs": [],
   "source": [
    "daily_rec['range']=100*((daily_rec.high-daily_rec.low)/daily_rec.low)"
   ]
  },
  {
   "cell_type": "code",
   "execution_count": 58,
   "id": "4d1fb625-5fcb-4ac7-b38d-ecc04c837df2",
   "metadata": {},
   "outputs": [],
   "source": [
    "max_gainers = daily_rec[daily_rec.range>20].sort_values('range', ascending=False)"
   ]
  },
  {
   "cell_type": "code",
   "execution_count": 59,
   "id": "d615305f-e82d-4da0-a681-f32fd8ab1e98",
   "metadata": {},
   "outputs": [],
   "source": [
    "max_gainers= max_gainers[max_gainers.range<100]"
   ]
  },
  {
   "cell_type": "code",
   "execution_count": 60,
   "id": "a440fe07-943d-4a5c-9d77-716d83f22e30",
   "metadata": {},
   "outputs": [],
   "source": [
    "max_gainers = max_gainers[['ticker', 'date','range']]"
   ]
  },
  {
   "cell_type": "code",
   "execution_count": 68,
   "id": "6fc29c66-1b2b-4656-bac3-08a2f1f2551e",
   "metadata": {},
   "outputs": [
    {
     "data": {
      "text/plain": [
       "<matplotlib.collections.PathCollection at 0x2bf539ed0>"
      ]
     },
     "execution_count": 68,
     "metadata": {},
     "output_type": "execute_result"
    },
    {
     "data": {
      "image/png": "[encoded data removed]",
      "text/plain": [
       "<Figure size 640x480 with 1 Axes>"
      ]
     },
     "metadata": {},
     "output_type": "display_data"
    }
   ],
   "source": [
    "plt.scatter(max_gainers.date, max_gainers.range)"
   ]
  },
  {
   "cell_type": "code",
   "execution_count": 63,
   "id": "bd4bba17-e26d-4146-b210-5174fbe864d9",
   "metadata": {},
   "outputs": [
    {
     "data": {
      "application/vnd.plotly.v1+json": {
       "config": {
        "plotlyServerURL": "https://plot.ly"
       },
       "data": [
        {
         "hovertemplate": "date=%{x}<br>range=%{y}<extra></extra>",
         "legendgroup": "",
         "marker": {
          "color": "#636efa",
          "symbol": "circle"
         },
         "mode": "markers",
         "name": "",
         "orientation": "v",
         "showlegend": false,
         "type": "scatter",
         "x": [
          "2024-03-26",
          "2024-03-26",
          "2024-03-27",
          "2024-03-27",
          "2024-03-27",
          "2024-03-27",
          "2024-03-27",
          "2024-03-28",
          "2024-03-28",
          "2024-04-01",
          "2024-04-02",
          "2024-04-03",
          "2024-04-03",
          "2024-04-03",
          "2024-04-03",
          "2024-04-10",
          "2024-04-10",
          "2024-04-12",
          "2024-04-15",
          "2024-04-15",
          "2024-04-16",
          "2024-04-16",
          "2024-04-16"
         ],
         "xaxis": "x",
         "y": [
          20.787401574803148,
          22.22222810910089,
          21.020454305925494,
          20.521744437839672,
          22.28526561070235,
          22.22222810910089,
          22.027675418112793,
          23.599998474121094,
          22.22222810910089,
          22.22222810910089,
          21.186439764747416,
          20.519871244959266,
          25.138432297322428,
          20.689656702599095,
          21.393642233640406,
          25.724950010036224,
          20.455422134890046,
          22.002466114502198,
          26.445738002533698,
          21.54105380025548,
          21.467391304347828,
          21.18729896314399,
          21.947094667478108
         ],
         "yaxis": "y"
        }
       ],
       "layout": {
        "autosize": true,
        "legend": {
         "tracegroupgap": 0
        },
        "margin": {
         "t": 60
        },
        "template": {
         "data": {
          "bar": [
           {
            "error_x": {
             "color": "#2a3f5f"
            },
            "error_y": {
             "color": "#2a3f5f"
            },
            "marker": {
             "line": {
              "color": "#E5ECF6",
              "width": 0.5
             },
             "pattern": {
              "fillmode": "overlay",
              "size": 10,
              "solidity": 0.2
             }
            },
            "type": "bar"
           }
          ],
          "barpolar": [
           {
            "marker": {
             "line": {
              "color": "#E5ECF6",
              "width": 0.5
             },
             "pattern": {
              "fillmode": "overlay",
              "size": 10,
              "solidity": 0.2
             }
            },
            "type": "barpolar"
           }
          ],
          "carpet": [
           {
            "aaxis": {
             "endlinecolor": "#2a3f5f",
             "gridcolor": "white",
             "linecolor": "white",
             "minorgridcolor": "white",
             "startlinecolor": "#2a3f5f"
            },
            "baxis": {
             "endlinecolor": "#2a3f5f",
             "gridcolor": "white",
             "linecolor": "white",
             "minorgridcolor": "white",
             "startlinecolor": "#2a3f5f"
            },
            "type": "carpet"
           }
          ],
          "choropleth": [
           {
            "colorbar": {
             "outlinewidth": 0,
             "ticks": ""
            },
            "type": "choropleth"
           }
          ],
          "contour": [
           {
            "colorbar": {
             "outlinewidth": 0,
             "ticks": ""
            },
            "colorscale": [
             [
              0,
              "#0d0887"
             ],
             [
              0.1111111111111111,
              "#46039f"
             ],
             [
              0.2222222222222222,
              "#7201a8"
             ],
             [
              0.3333333333333333,
              "#9c179e"
             ],
             [
              0.4444444444444444,
              "#bd3786"
             ],
             [
              0.5555555555555556,
              "#d8576b"
             ],
             [
              0.6666666666666666,
              "#ed7953"
             ],
             [
              0.7777777777777778,
              "#fb9f3a"
             ],
             [
              0.8888888888888888,
              "#fdca26"
             ],
             [
              1,
              "#f0f921"
             ]
            ],
            "type": "contour"
           }
          ],
          "contourcarpet": [
           {
            "colorbar": {
             "outlinewidth": 0,
             "ticks": ""
            },
            "type": "contourcarpet"
           }
          ],
          "heatmap": [
           {
            "colorbar": {
             "outlinewidth": 0,
             "ticks": ""
            },
            "colorscale": [
             [
              0,
              "#0d0887"
             ],
             [
              0.1111111111111111,
              "#46039f"
             ],
             [
              0.2222222222222222,
              "#7201a8"
             ],
             [
              0.3333333333333333,
              "#9c179e"
             ],
             [
              0.4444444444444444,
              "#bd3786"
             ],
             [
              0.5555555555555556,
              "#d8576b"
             ],
             [
              0.6666666666666666,
              "#ed7953"
             ],
             [
              0.7777777777777778,
              "#fb9f3a"
             ],
             [
              0.8888888888888888,
              "#fdca26"
             ],
             [
              1,
              "#f0f921"
             ]
            ],
            "type": "heatmap"
           }
          ],
          "heatmapgl": [
           {
            "colorbar": {
             "outlinewidth": 0,
             "ticks": ""
            },
            "colorscale": [
             [
              0,
              "#0d0887"
             ],
             [
              0.1111111111111111,
              "#46039f"
             ],
             [
              0.2222222222222222,
              "#7201a8"
             ],
             [
              0.3333333333333333,
              "#9c179e"
             ],
             [
              0.4444444444444444,
              "#bd3786"
             ],
             [
              0.5555555555555556,
              "#d8576b"
             ],
             [
              0.6666666666666666,
              "#ed7953"
             ],
             [
              0.7777777777777778,
              "#fb9f3a"
             ],
             [
              0.8888888888888888,
              "#fdca26"
             ],
             [
              1,
              "#f0f921"
             ]
            ],
            "type": "heatmapgl"
           }
          ],
          "histogram": [
           {
            "marker": {
             "pattern": {
              "fillmode": "overlay",
              "size": 10,
              "solidity": 0.2
             }
            },
            "type": "histogram"
           }
          ],
          "histogram2d": [
           {
            "colorbar": {
             "outlinewidth": 0,
             "ticks": ""
            },
            "colorscale": [
             [
              0,
              "#0d0887"
             ],
             [
              0.1111111111111111,
              "#46039f"
             ],
             [
              0.2222222222222222,
              "#7201a8"
             ],
             [
              0.3333333333333333,
              "#9c179e"
             ],
             [
              0.4444444444444444,
              "#bd3786"
             ],
             [
              0.5555555555555556,
              "#d8576b"
             ],
             [
              0.6666666666666666,
              "#ed7953"
             ],
             [
              0.7777777777777778,
              "#fb9f3a"
             ],
             [
              0.8888888888888888,
              "#fdca26"
             ],
             [
              1,
              "#f0f921"
             ]
            ],
            "type": "histogram2d"
           }
          ],
          "histogram2dcontour": [
           {
            "colorbar": {
             "outlinewidth": 0,
             "ticks": ""
            },
            "colorscale": [
             [
              0,
              "#0d0887"
             ],
             [
              0.1111111111111111,
              "#46039f"
             ],
             [
              0.2222222222222222,
              "#7201a8"
             ],
             [
              0.3333333333333333,
              "#9c179e"
             ],
             [
              0.4444444444444444,
              "#bd3786"
             ],
             [
              0.5555555555555556,
              "#d8576b"
             ],
             [
              0.6666666666666666,
              "#ed7953"
             ],
             [
              0.7777777777777778,
              "#fb9f3a"
             ],
             [
              0.8888888888888888,
              "#fdca26"
             ],
             [
              1,
              "#f0f921"
             ]
            ],
            "type": "histogram2dcontour"
           }
          ],
          "mesh3d": [
           {
            "colorbar": {
             "outlinewidth": 0,
             "ticks": ""
            },
            "type": "mesh3d"
           }
          ],
          "parcoords": [
           {
            "line": {
             "colorbar": {
              "outlinewidth": 0,
              "ticks": ""
             }
            },
            "type": "parcoords"
           }
          ],
          "pie": [
           {
            "automargin": true,
            "type": "pie"
           }
          ],
          "scatter": [
           {
            "fillpattern": {
             "fillmode": "overlay",
             "size": 10,
             "solidity": 0.2
            },
            "type": "scatter"
           }
          ],
          "scatter3d": [
           {
            "line": {
             "colorbar": {
              "outlinewidth": 0,
              "ticks": ""
             }
            },
            "marker": {
             "colorbar": {
              "outlinewidth": 0,
              "ticks": ""
             }
            },
            "type": "scatter3d"
           }
          ],
          "scattercarpet": [
           {
            "marker": {
             "colorbar": {
              "outlinewidth": 0,
              "ticks": ""
             }
            },
            "type": "scattercarpet"
           }
          ],
          "scattergeo": [
           {
            "marker": {
             "colorbar": {
              "outlinewidth": 0,
              "ticks": ""
             }
            },
            "type": "scattergeo"
           }
          ],
          "scattergl": [
           {
            "marker": {
             "colorbar": {
              "outlinewidth": 0,
              "ticks": ""
             }
            },
            "type": "scattergl"
           }
          ],
          "scattermapbox": [
           {
            "marker": {
             "colorbar": {
              "outlinewidth": 0,
              "ticks": ""
             }
            },
            "type": "scattermapbox"
           }
          ],
          "scatterpolar": [
           {
            "marker": {
             "colorbar": {
              "outlinewidth": 0,
              "ticks": ""
             }
            },
            "type": "scatterpolar"
           }
          ],
          "scatterpolargl": [
           {
            "marker": {
             "colorbar": {
              "outlinewidth": 0,
              "ticks": ""
             }
            },
            "type": "scatterpolargl"
           }
          ],
          "scatterternary": [
           {
            "marker": {
             "colorbar": {
              "outlinewidth": 0,
              "ticks": ""
             }
            },
            "type": "scatterternary"
           }
          ],
          "surface": [
           {
            "colorbar": {
             "outlinewidth": 0,
             "ticks": ""
            },
            "colorscale": [
             [
              0,
              "#0d0887"
             ],
             [
              0.1111111111111111,
              "#46039f"
             ],
             [
              0.2222222222222222,
              "#7201a8"
             ],
             [
              0.3333333333333333,
              "#9c179e"
             ],
             [
              0.4444444444444444,
              "#bd3786"
             ],
             [
              0.5555555555555556,
              "#d8576b"
             ],
             [
              0.6666666666666666,
              "#ed7953"
             ],
             [
              0.7777777777777778,
              "#fb9f3a"
             ],
             [
              0.8888888888888888,
              "#fdca26"
             ],
             [
              1,
              "#f0f921"
             ]
            ],
            "type": "surface"
           }
          ],
          "table": [
           {
            "cells": {
             "fill": {
              "color": "#EBF0F8"
             },
             "line": {
              "color": "white"
             }
            },
            "header": {
             "fill": {
              "color": "#C8D4E3"
             },
             "line": {
              "color": "white"
             }
            },
            "type": "table"
           }
          ]
         },
         "layout": {
          "annotationdefaults": {
           "arrowcolor": "#2a3f5f",
           "arrowhead": 0,
           "arrowwidth": 1
          },
          "autotypenumbers": "strict",
          "coloraxis": {
           "colorbar": {
            "outlinewidth": 0,
            "ticks": ""
           }
          },
          "colorscale": {
           "diverging": [
            [
             0,
             "#8e0152"
            ],
            [
             0.1,
             "#c51b7d"
            ],
            [
             0.2,
             "#de77ae"
            ],
            [
             0.3,
             "#f1b6da"
            ],
            [
             0.4,
             "#fde0ef"
            ],
            [
             0.5,
             "#f7f7f7"
            ],
            [
             0.6,
             "#e6f5d0"
            ],
            [
             0.7,
             "#b8e186"
            ],
            [
             0.8,
             "#7fbc41"
            ],
            [
             0.9,
             "#4d9221"
            ],
            [
             1,
             "#276419"
            ]
           ],
           "sequential": [
            [
             0,
             "#0d0887"
            ],
            [
             0.1111111111111111,
             "#46039f"
            ],
            [
             0.2222222222222222,
             "#7201a8"
            ],
            [
             0.3333333333333333,
             "#9c179e"
            ],
            [
             0.4444444444444444,
             "#bd3786"
            ],
            [
             0.5555555555555556,
             "#d8576b"
            ],
            [
             0.6666666666666666,
             "#ed7953"
            ],
            [
             0.7777777777777778,
             "#fb9f3a"
            ],
            [
             0.8888888888888888,
             "#fdca26"
            ],
            [
             1,
             "#f0f921"
            ]
           ],
           "sequentialminus": [
            [
             0,
             "#0d0887"
            ],
            [
             0.1111111111111111,
             "#46039f"
            ],
            [
             0.2222222222222222,
             "#7201a8"
            ],
            [
             0.3333333333333333,
             "#9c179e"
            ],
            [
             0.4444444444444444,
             "#bd3786"
            ],
            [
             0.5555555555555556,
             "#d8576b"
            ],
            [
             0.6666666666666666,
             "#ed7953"
            ],
            [
             0.7777777777777778,
             "#fb9f3a"
            ],
            [
             0.8888888888888888,
             "#fdca26"
            ],
            [
             1,
             "#f0f921"
            ]
           ]
          },
          "colorway": [
           "#636efa",
           "#EF553B",
           "#00cc96",
           "#ab63fa",
           "#FFA15A",
           "#19d3f3",
           "#FF6692",
           "#B6E880",
           "#FF97FF",
           "#FECB52"
          ],
          "font": {
           "color": "#2a3f5f"
          },
          "geo": {
           "bgcolor": "white",
           "lakecolor": "white",
           "landcolor": "#E5ECF6",
           "showlakes": true,
           "showland": true,
           "subunitcolor": "white"
          },
          "hoverlabel": {
           "align": "left"
          },
          "hovermode": "closest",
          "mapbox": {
           "style": "light"
          },
          "paper_bgcolor": "white",
          "plot_bgcolor": "#E5ECF6",
          "polar": {
           "angularaxis": {
            "gridcolor": "white",
            "linecolor": "white",
            "ticks": ""
           },
           "bgcolor": "#E5ECF6",
           "radialaxis": {
            "gridcolor": "white",
            "linecolor": "white",
            "ticks": ""
           }
          },
          "scene": {
           "xaxis": {
            "backgroundcolor": "#E5ECF6",
            "gridcolor": "white",
            "gridwidth": 2,
            "linecolor": "white",
            "showbackground": true,
            "ticks": "",
            "zerolinecolor": "white"
           },
           "yaxis": {
            "backgroundcolor": "#E5ECF6",
            "gridcolor": "white",
            "gridwidth": 2,
            "linecolor": "white",
            "showbackground": true,
            "ticks": "",
            "zerolinecolor": "white"
           },
           "zaxis": {
            "backgroundcolor": "#E5ECF6",
            "gridcolor": "white",
            "gridwidth": 2,
            "linecolor": "white",
            "showbackground": true,
            "ticks": "",
            "zerolinecolor": "white"
           }
          },
          "shapedefaults": {
           "line": {
            "color": "#2a3f5f"
           }
          },
          "ternary": {
           "aaxis": {
            "gridcolor": "white",
            "linecolor": "white",
            "ticks": ""
           },
           "baxis": {
            "gridcolor": "white",
            "linecolor": "white",
            "ticks": ""
           },
           "bgcolor": "#E5ECF6",
           "caxis": {
            "gridcolor": "white",
            "linecolor": "white",
            "ticks": ""
           }
          },
          "title": {
           "x": 0.05
          },
          "xaxis": {
           "automargin": true,
           "gridcolor": "white",
           "linecolor": "white",
           "ticks": "",
           "title": {
            "standoff": 15
           },
           "zerolinecolor": "white",
           "zerolinewidth": 2
          },
          "yaxis": {
           "automargin": true,
           "gridcolor": "white",
           "linecolor": "white",
           "ticks": "",
           "title": {
            "standoff": 15
           },
           "zerolinecolor": "white",
           "zerolinewidth": 2
          }
         }
        },
        "xaxis": {
         "anchor": "y",
         "autorange": true,
         "domain": [
          0,
          1
         ],
         "range": [
          "2024-03-24 17:32:34.7912",
          "2024-04-17 06:27:25.2088"
         ],
         "title": {
          "text": "date"
         },
         "type": "date"
        },
        "yaxis": {
         "anchor": "x",
         "autorange": true,
         "domain": [
          0,
          1
         ],
         "range": [
          19.991605027027873,
          26.90955511039587
         ],
         "title": {
          "text": "range"
         },
         "type": "linear"
        }
       }
      },
      "image/png": "[encoded data removed]",
      "text/html": [
       "<div>                            <div id=\"1f0664ef-ec3b-49d8-8840-b1916c687a3d\" class=\"plotly-graph-div\" style=\"height:525px; width:100%;\"></div>            <script type=\"text/javascript\">                require([\"plotly\"], function(Plotly) {                    window.PLOTLYENV=window.PLOTLYENV || {};                                    if (document.getElementById(\"1f0664ef-ec3b-49d8-8840-b1916c687a3d\")) {                    Plotly.newPlot(                        \"1f0664ef-ec3b-49d8-8840-b1916c687a3d\",                        [{\"hovertemplate\":\"date=%{x}\\u003cbr\\u003erange=%{y}\\u003cextra\\u003e\\u003c\\u002fextra\\u003e\",\"legendgroup\":\"\",\"marker\":{\"color\":\"#636efa\",\"symbol\":\"circle\"},\"mode\":\"markers\",\"name\":\"\",\"orientation\":\"v\",\"showlegend\":false,\"x\":[\"2024-03-26\",\"2024-03-26\",\"2024-03-27\",\"2024-03-27\",\"2024-03-27\",\"2024-03-27\",\"2024-03-27\",\"2024-03-28\",\"2024-03-28\",\"2024-04-01\",\"2024-04-02\",\"2024-04-03\",\"2024-04-03\",\"2024-04-03\",\"2024-04-03\",\"2024-04-10\",\"2024-04-10\",\"2024-04-12\",\"2024-04-15\",\"2024-04-15\",\"2024-04-16\",\"2024-04-16\",\"2024-04-16\"],\"xaxis\":\"x\",\"y\":[20.787401574803148,22.22222810910089,21.020454305925494,20.521744437839672,22.28526561070235,22.22222810910089,22.027675418112793,23.599998474121094,22.22222810910089,22.22222810910089,21.186439764747416,20.519871244959266,25.138432297322428,20.689656702599095,21.393642233640406,25.724950010036224,20.455422134890046,22.002466114502198,26.445738002533698,21.54105380025548,21.467391304347828,21.18729896314399,21.947094667478108],\"yaxis\":\"y\",\"type\":\"scatter\"}],                        {\"template\":{\"data\":{\"histogram2dcontour\":[{\"type\":\"histogram2dcontour\",\"colorbar\":{\"outlinewidth\":0,\"ticks\":\"\"},\"colorscale\":[[0.0,\"#0d0887\"],[0.1111111111111111,\"#46039f\"],[0.2222222222222222,\"#7201a8\"],[0.3333333333333333,\"#9c179e\"],[0.4444444444444444,\"#bd3786\"],[0.5555555555555556,\"#d8576b\"],[0.6666666666666666,\"#ed7953\"],[0.7777777777777778,\"#fb9f3a\"],[0.8888888888888888,\"#fdca26\"],[1.0,\"#f0f921\"]]}],\"choropleth\":[{\"type\":\"choropleth\",\"colorbar\":{\"outlinewidth\":0,\"ticks\":\"\"}}],\"histogram2d\":[{\"type\":\"histogram2d\",\"colorbar\":{\"outlinewidth\":0,\"ticks\":\"\"},\"colorscale\":[[0.0,\"#0d0887\"],[0.1111111111111111,\"#46039f\"],[0.2222222222222222,\"#7201a8\"],[0.3333333333333333,\"#9c179e\"],[0.4444444444444444,\"#bd3786\"],[0.5555555555555556,\"#d8576b\"],[0.6666666666666666,\"#ed7953\"],[0.7777777777777778,\"#fb9f3a\"],[0.8888888888888888,\"#fdca26\"],[1.0,\"#f0f921\"]]}],\"heatmap\":[{\"type\":\"heatmap\",\"colorbar\":{\"outlinewidth\":0,\"ticks\":\"\"},\"colorscale\":[[0.0,\"#0d0887\"],[0.1111111111111111,\"#46039f\"],[0.2222222222222222,\"#7201a8\"],[0.3333333333333333,\"#9c179e\"],[0.4444444444444444,\"#bd3786\"],[0.5555555555555556,\"#d8576b\"],[0.6666666666666666,\"#ed7953\"],[0.7777777777777778,\"#fb9f3a\"],[0.8888888888888888,\"#fdca26\"],[1.0,\"#f0f921\"]]}],\"heatmapgl\":[{\"type\":\"heatmapgl\",\"colorbar\":{\"outlinewidth\":0,\"ticks\":\"\"},\"colorscale\":[[0.0,\"#0d0887\"],[0.1111111111111111,\"#46039f\"],[0.2222222222222222,\"#7201a8\"],[0.3333333333333333,\"#9c179e\"],[0.4444444444444444,\"#bd3786\"],[0.5555555555555556,\"#d8576b\"],[0.6666666666666666,\"#ed7953\"],[0.7777777777777778,\"#fb9f3a\"],[0.8888888888888888,\"#fdca26\"],[1.0,\"#f0f921\"]]}],\"contourcarpet\":[{\"type\":\"contourcarpet\",\"colorbar\":{\"outlinewidth\":0,\"ticks\":\"\"}}],\"contour\":[{\"type\":\"contour\",\"colorbar\":{\"outlinewidth\":0,\"ticks\":\"\"},\"colorscale\":[[0.0,\"#0d0887\"],[0.1111111111111111,\"#46039f\"],[0.2222222222222222,\"#7201a8\"],[0.3333333333333333,\"#9c179e\"],[0.4444444444444444,\"#bd3786\"],[0.5555555555555556,\"#d8576b\"],[0.6666666666666666,\"#ed7953\"],[0.7777777777777778,\"#fb9f3a\"],[0.8888888888888888,\"#fdca26\"],[1.0,\"#f0f921\"]]}],\"surface\":[{\"type\":\"surface\",\"colorbar\":{\"outlinewidth\":0,\"ticks\":\"\"},\"colorscale\":[[0.0,\"#0d0887\"],[0.1111111111111111,\"#46039f\"],[0.2222222222222222,\"#7201a8\"],[0.3333333333333333,\"#9c179e\"],[0.4444444444444444,\"#bd3786\"],[0.5555555555555556,\"#d8576b\"],[0.6666666666666666,\"#ed7953\"],[0.7777777777777778,\"#fb9f3a\"],[0.8888888888888888,\"#fdca26\"],[1.0,\"#f0f921\"]]}],\"mesh3d\":[{\"type\":\"mesh3d\",\"colorbar\":{\"outlinewidth\":0,\"ticks\":\"\"}}],\"scatter\":[{\"fillpattern\":{\"fillmode\":\"overlay\",\"size\":10,\"solidity\":0.2},\"type\":\"scatter\"}],\"parcoords\":[{\"type\":\"parcoords\",\"line\":{\"colorbar\":{\"outlinewidth\":0,\"ticks\":\"\"}}}],\"scatterpolargl\":[{\"type\":\"scatterpolargl\",\"marker\":{\"colorbar\":{\"outlinewidth\":0,\"ticks\":\"\"}}}],\"bar\":[{\"error_x\":{\"color\":\"#2a3f5f\"},\"error_y\":{\"color\":\"#2a3f5f\"},\"marker\":{\"line\":{\"color\":\"#E5ECF6\",\"width\":0.5},\"pattern\":{\"fillmode\":\"overlay\",\"size\":10,\"solidity\":0.2}},\"type\":\"bar\"}],\"scattergeo\":[{\"type\":\"scattergeo\",\"marker\":{\"colorbar\":{\"outlinewidth\":0,\"ticks\":\"\"}}}],\"scatterpolar\":[{\"type\":\"scatterpolar\",\"marker\":{\"colorbar\":{\"outlinewidth\":0,\"ticks\":\"\"}}}],\"histogram\":[{\"marker\":{\"pattern\":{\"fillmode\":\"overlay\",\"size\":10,\"solidity\":0.2}},\"type\":\"histogram\"}],\"scattergl\":[{\"type\":\"scattergl\",\"marker\":{\"colorbar\":{\"outlinewidth\":0,\"ticks\":\"\"}}}],\"scatter3d\":[{\"type\":\"scatter3d\",\"line\":{\"colorbar\":{\"outlinewidth\":0,\"ticks\":\"\"}},\"marker\":{\"colorbar\":{\"outlinewidth\":0,\"ticks\":\"\"}}}],\"scattermapbox\":[{\"type\":\"scattermapbox\",\"marker\":{\"colorbar\":{\"outlinewidth\":0,\"ticks\":\"\"}}}],\"scatterternary\":[{\"type\":\"scatterternary\",\"marker\":{\"colorbar\":{\"outlinewidth\":0,\"ticks\":\"\"}}}],\"scattercarpet\":[{\"type\":\"scattercarpet\",\"marker\":{\"colorbar\":{\"outlinewidth\":0,\"ticks\":\"\"}}}],\"carpet\":[{\"aaxis\":{\"endlinecolor\":\"#2a3f5f\",\"gridcolor\":\"white\",\"linecolor\":\"white\",\"minorgridcolor\":\"white\",\"startlinecolor\":\"#2a3f5f\"},\"baxis\":{\"endlinecolor\":\"#2a3f5f\",\"gridcolor\":\"white\",\"linecolor\":\"white\",\"minorgridcolor\":\"white\",\"startlinecolor\":\"#2a3f5f\"},\"type\":\"carpet\"}],\"table\":[{\"cells\":{\"fill\":{\"color\":\"#EBF0F8\"},\"line\":{\"color\":\"white\"}},\"header\":{\"fill\":{\"color\":\"#C8D4E3\"},\"line\":{\"color\":\"white\"}},\"type\":\"table\"}],\"barpolar\":[{\"marker\":{\"line\":{\"color\":\"#E5ECF6\",\"width\":0.5},\"pattern\":{\"fillmode\":\"overlay\",\"size\":10,\"solidity\":0.2}},\"type\":\"barpolar\"}],\"pie\":[{\"automargin\":true,\"type\":\"pie\"}]},\"layout\":{\"autotypenumbers\":\"strict\",\"colorway\":[\"#636efa\",\"#EF553B\",\"#00cc96\",\"#ab63fa\",\"#FFA15A\",\"#19d3f3\",\"#FF6692\",\"#B6E880\",\"#FF97FF\",\"#FECB52\"],\"font\":{\"color\":\"#2a3f5f\"},\"hovermode\":\"closest\",\"hoverlabel\":{\"align\":\"left\"},\"paper_bgcolor\":\"white\",\"plot_bgcolor\":\"#E5ECF6\",\"polar\":{\"bgcolor\":\"#E5ECF6\",\"angularaxis\":{\"gridcolor\":\"white\",\"linecolor\":\"white\",\"ticks\":\"\"},\"radialaxis\":{\"gridcolor\":\"white\",\"linecolor\":\"white\",\"ticks\":\"\"}},\"ternary\":{\"bgcolor\":\"#E5ECF6\",\"aaxis\":{\"gridcolor\":\"white\",\"linecolor\":\"white\",\"ticks\":\"\"},\"baxis\":{\"gridcolor\":\"white\",\"linecolor\":\"white\",\"ticks\":\"\"},\"caxis\":{\"gridcolor\":\"white\",\"linecolor\":\"white\",\"ticks\":\"\"}},\"coloraxis\":{\"colorbar\":{\"outlinewidth\":0,\"ticks\":\"\"}},\"colorscale\":{\"sequential\":[[0.0,\"#0d0887\"],[0.1111111111111111,\"#46039f\"],[0.2222222222222222,\"#7201a8\"],[0.3333333333333333,\"#9c179e\"],[0.4444444444444444,\"#bd3786\"],[0.5555555555555556,\"#d8576b\"],[0.6666666666666666,\"#ed7953\"],[0.7777777777777778,\"#fb9f3a\"],[0.8888888888888888,\"#fdca26\"],[1.0,\"#f0f921\"]],\"sequentialminus\":[[0.0,\"#0d0887\"],[0.1111111111111111,\"#46039f\"],[0.2222222222222222,\"#7201a8\"],[0.3333333333333333,\"#9c179e\"],[0.4444444444444444,\"#bd3786\"],[0.5555555555555556,\"#d8576b\"],[0.6666666666666666,\"#ed7953\"],[0.7777777777777778,\"#fb9f3a\"],[0.8888888888888888,\"#fdca26\"],[1.0,\"#f0f921\"]],\"diverging\":[[0,\"#8e0152\"],[0.1,\"#c51b7d\"],[0.2,\"#de77ae\"],[0.3,\"#f1b6da\"],[0.4,\"#fde0ef\"],[0.5,\"#f7f7f7\"],[0.6,\"#e6f5d0\"],[0.7,\"#b8e186\"],[0.8,\"#7fbc41\"],[0.9,\"#4d9221\"],[1,\"#276419\"]]},\"xaxis\":{\"gridcolor\":\"white\",\"linecolor\":\"white\",\"ticks\":\"\",\"title\":{\"standoff\":15},\"zerolinecolor\":\"white\",\"automargin\":true,\"zerolinewidth\":2},\"yaxis\":{\"gridcolor\":\"white\",\"linecolor\":\"white\",\"ticks\":\"\",\"title\":{\"standoff\":15},\"zerolinecolor\":\"white\",\"automargin\":true,\"zerolinewidth\":2},\"scene\":{\"xaxis\":{\"backgroundcolor\":\"#E5ECF6\",\"gridcolor\":\"white\",\"linecolor\":\"white\",\"showbackground\":true,\"ticks\":\"\",\"zerolinecolor\":\"white\",\"gridwidth\":2},\"yaxis\":{\"backgroundcolor\":\"#E5ECF6\",\"gridcolor\":\"white\",\"linecolor\":\"white\",\"showbackground\":true,\"ticks\":\"\",\"zerolinecolor\":\"white\",\"gridwidth\":2},\"zaxis\":{\"backgroundcolor\":\"#E5ECF6\",\"gridcolor\":\"white\",\"linecolor\":\"white\",\"showbackground\":true,\"ticks\":\"\",\"zerolinecolor\":\"white\",\"gridwidth\":2}},\"shapedefaults\":{\"line\":{\"color\":\"#2a3f5f\"}},\"annotationdefaults\":{\"arrowcolor\":\"#2a3f5f\",\"arrowhead\":0,\"arrowwidth\":1},\"geo\":{\"bgcolor\":\"white\",\"landcolor\":\"#E5ECF6\",\"subunitcolor\":\"white\",\"showland\":true,\"showlakes\":true,\"lakecolor\":\"white\"},\"title\":{\"x\":0.05},\"mapbox\":{\"style\":\"light\"}}},\"xaxis\":{\"anchor\":\"y\",\"domain\":[0.0,1.0],\"title\":{\"text\":\"date\"}},\"yaxis\":{\"anchor\":\"x\",\"domain\":[0.0,1.0],\"title\":{\"text\":\"range\"}},\"legend\":{\"tracegroupgap\":0},\"margin\":{\"t\":60}},                        {\"responsive\": true}                    ).then(function(){\n",
       "                            \n",
       "var gd = document.getElementById('1f0664ef-ec3b-49d8-8840-b1916c687a3d');\n",
       "var x = new MutationObserver(function (mutations, observer) {{\n",
       "        var display = window.getComputedStyle(gd).display;\n",
       "        if (!display || display === 'none') {{\n",
       "            console.log([gd, 'removed!']);\n",
       "            Plotly.purge(gd);\n",
       "            observer.disconnect();\n",
       "        }}\n",
       "}});\n",
       "\n",
       "// Listen for the removal of the full notebook cells\n",
       "var notebookContainer = gd.closest('#notebook-container');\n",
       "if (notebookContainer) {{\n",
       "    x.observe(notebookContainer, {childList: true});\n",
       "}}\n",
       "\n",
       "// Listen for the clearing of the current output cell\n",
       "var outputEl = gd.closest('.output');\n",
       "if (outputEl) {{\n",
       "    x.observe(outputEl, {childList: true});\n",
       "}}\n",
       "\n",
       "                        })                };                });            </script>        </div>"
      ]
     },
     "metadata": {},
     "output_type": "display_data"
    }
   ],
   "source": [
    "px.scatter(max_gainers.sort_values('date'), y='range', x= 'date')"
   ]
  },
  {
   "cell_type": "code",
   "execution_count": 62,
   "id": "ce3bf5ca-50e4-4778-bf8c-9a6ebaa6cae0",
   "metadata": {},
   "outputs": [
    {
     "data": {
      "text/html": [
       "<div>\n",
       "<style scoped>\n",
       "    .dataframe tbody tr th:only-of-type {\n",
       "        vertical-align: middle;\n",
       "    }\n",
       "\n",
       "    .dataframe tbody tr th {\n",
       "        vertical-align: top;\n",
       "    }\n",
       "\n",
       "    .dataframe thead th {\n",
       "        text-align: right;\n",
       "    }\n",
       "</style>\n",
       "<table border=\"1\" class=\"dataframe\">\n",
       "  <thead>\n",
       "    <tr style=\"text-align: right;\">\n",
       "      <th></th>\n",
       "      <th>ticker</th>\n",
       "      <th>date</th>\n",
       "      <th>range</th>\n",
       "    </tr>\n",
       "    <tr>\n",
       "      <th>timestamp</th>\n",
       "      <th></th>\n",
       "      <th></th>\n",
       "      <th></th>\n",
       "    </tr>\n",
       "  </thead>\n",
       "  <tbody>\n",
       "    <tr>\n",
       "      <th>2024-03-26 00:00:00+05:30</th>\n",
       "      <td>HITECHGEAR.NS</td>\n",
       "      <td>2024-03-26</td>\n",
       "      <td>20.787402</td>\n",
       "    </tr>\n",
       "    <tr>\n",
       "      <th>2024-03-26 00:00:00+05:30</th>\n",
       "      <td>EXCEL.NS</td>\n",
       "      <td>2024-03-26</td>\n",
       "      <td>22.222228</td>\n",
       "    </tr>\n",
       "    <tr>\n",
       "      <th>2024-03-27 00:00:00+05:30</th>\n",
       "      <td>NIITMTS.NS</td>\n",
       "      <td>2024-03-27</td>\n",
       "      <td>21.020454</td>\n",
       "    </tr>\n",
       "    <tr>\n",
       "      <th>2024-03-27 00:00:00+05:30</th>\n",
       "      <td>OSWALSEEDS.NS</td>\n",
       "      <td>2024-03-27</td>\n",
       "      <td>20.521744</td>\n",
       "    </tr>\n",
       "    <tr>\n",
       "      <th>2024-03-27 00:00:00+05:30</th>\n",
       "      <td>PFIZER.NS</td>\n",
       "      <td>2024-03-27</td>\n",
       "      <td>22.285266</td>\n",
       "    </tr>\n",
       "    <tr>\n",
       "      <th>2024-03-27 00:00:00+05:30</th>\n",
       "      <td>EXCEL.NS</td>\n",
       "      <td>2024-03-27</td>\n",
       "      <td>22.222228</td>\n",
       "    </tr>\n",
       "    <tr>\n",
       "      <th>2024-03-27 00:00:00+05:30</th>\n",
       "      <td>AGRITECH.NS</td>\n",
       "      <td>2024-03-27</td>\n",
       "      <td>22.027675</td>\n",
       "    </tr>\n",
       "    <tr>\n",
       "      <th>2024-03-28 00:00:00+05:30</th>\n",
       "      <td>HEADSUP.NS</td>\n",
       "      <td>2024-03-28</td>\n",
       "      <td>23.599998</td>\n",
       "    </tr>\n",
       "    <tr>\n",
       "      <th>2024-03-28 00:00:00+05:30</th>\n",
       "      <td>EXCEL.NS</td>\n",
       "      <td>2024-03-28</td>\n",
       "      <td>22.222228</td>\n",
       "    </tr>\n",
       "    <tr>\n",
       "      <th>2024-04-01 00:00:00+05:30</th>\n",
       "      <td>EXCEL.NS</td>\n",
       "      <td>2024-04-01</td>\n",
       "      <td>22.222228</td>\n",
       "    </tr>\n",
       "    <tr>\n",
       "      <th>2024-04-02 00:00:00+05:30</th>\n",
       "      <td>SECURCRED.NS</td>\n",
       "      <td>2024-04-02</td>\n",
       "      <td>21.186440</td>\n",
       "    </tr>\n",
       "    <tr>\n",
       "      <th>2024-04-03 00:00:00+05:30</th>\n",
       "      <td>RELCHEMQ.NS</td>\n",
       "      <td>2024-04-03</td>\n",
       "      <td>20.519871</td>\n",
       "    </tr>\n",
       "    <tr>\n",
       "      <th>2024-04-03 00:00:00+05:30</th>\n",
       "      <td>BIL.NS</td>\n",
       "      <td>2024-04-03</td>\n",
       "      <td>25.138432</td>\n",
       "    </tr>\n",
       "    <tr>\n",
       "      <th>2024-04-03 00:00:00+05:30</th>\n",
       "      <td>INDOAMIN.NS</td>\n",
       "      <td>2024-04-03</td>\n",
       "      <td>20.689657</td>\n",
       "    </tr>\n",
       "    <tr>\n",
       "      <th>2024-04-03 00:00:00+05:30</th>\n",
       "      <td>AGROPHOS.NS</td>\n",
       "      <td>2024-04-03</td>\n",
       "      <td>21.393642</td>\n",
       "    </tr>\n",
       "    <tr>\n",
       "      <th>2024-04-10 00:00:00+05:30</th>\n",
       "      <td>RELINFRA.NS</td>\n",
       "      <td>2024-04-10</td>\n",
       "      <td>25.724950</td>\n",
       "    </tr>\n",
       "    <tr>\n",
       "      <th>2024-04-10 00:00:00+05:30</th>\n",
       "      <td>GANGESSECU.NS</td>\n",
       "      <td>2024-04-10</td>\n",
       "      <td>20.455422</td>\n",
       "    </tr>\n",
       "    <tr>\n",
       "      <th>2024-04-12 00:00:00+05:30</th>\n",
       "      <td>LEXUS.NS</td>\n",
       "      <td>2024-04-12</td>\n",
       "      <td>22.002466</td>\n",
       "    </tr>\n",
       "    <tr>\n",
       "      <th>2024-04-15 00:00:00+05:30</th>\n",
       "      <td>RITCO.NS</td>\n",
       "      <td>2024-04-15</td>\n",
       "      <td>26.445738</td>\n",
       "    </tr>\n",
       "    <tr>\n",
       "      <th>2024-04-15 00:00:00+05:30</th>\n",
       "      <td>PAR.NS</td>\n",
       "      <td>2024-04-15</td>\n",
       "      <td>21.541054</td>\n",
       "    </tr>\n",
       "    <tr>\n",
       "      <th>2024-04-16 00:00:00+05:30</th>\n",
       "      <td>AAATECH.NS</td>\n",
       "      <td>2024-04-16</td>\n",
       "      <td>21.467391</td>\n",
       "    </tr>\n",
       "    <tr>\n",
       "      <th>2024-04-16 00:00:00+05:30</th>\n",
       "      <td>DSSL.NS</td>\n",
       "      <td>2024-04-16</td>\n",
       "      <td>21.187299</td>\n",
       "    </tr>\n",
       "    <tr>\n",
       "      <th>2024-04-16 00:00:00+05:30</th>\n",
       "      <td>URAVI.NS</td>\n",
       "      <td>2024-04-16</td>\n",
       "      <td>21.947095</td>\n",
       "    </tr>\n",
       "  </tbody>\n",
       "</table>\n",
       "</div>"
      ],
      "text/plain": [
       "                                  ticker        date      range\n",
       "timestamp                                                      \n",
       "2024-03-26 00:00:00+05:30  HITECHGEAR.NS  2024-03-26  20.787402\n",
       "2024-03-26 00:00:00+05:30       EXCEL.NS  2024-03-26  22.222228\n",
       "2024-03-27 00:00:00+05:30     NIITMTS.NS  2024-03-27  21.020454\n",
       "2024-03-27 00:00:00+05:30  OSWALSEEDS.NS  2024-03-27  20.521744\n",
       "2024-03-27 00:00:00+05:30      PFIZER.NS  2024-03-27  22.285266\n",
       "2024-03-27 00:00:00+05:30       EXCEL.NS  2024-03-27  22.222228\n",
       "2024-03-27 00:00:00+05:30    AGRITECH.NS  2024-03-27  22.027675\n",
       "2024-03-28 00:00:00+05:30     HEADSUP.NS  2024-03-28  23.599998\n",
       "2024-03-28 00:00:00+05:30       EXCEL.NS  2024-03-28  22.222228\n",
       "2024-04-01 00:00:00+05:30       EXCEL.NS  2024-04-01  22.222228\n",
       "2024-04-02 00:00:00+05:30   SECURCRED.NS  2024-04-02  21.186440\n",
       "2024-04-03 00:00:00+05:30    RELCHEMQ.NS  2024-04-03  20.519871\n",
       "2024-04-03 00:00:00+05:30         BIL.NS  2024-04-03  25.138432\n",
       "2024-04-03 00:00:00+05:30    INDOAMIN.NS  2024-04-03  20.689657\n",
       "2024-04-03 00:00:00+05:30    AGROPHOS.NS  2024-04-03  21.393642\n",
       "2024-04-10 00:00:00+05:30    RELINFRA.NS  2024-04-10  25.724950\n",
       "2024-04-10 00:00:00+05:30  GANGESSECU.NS  2024-04-10  20.455422\n",
       "2024-04-12 00:00:00+05:30       LEXUS.NS  2024-04-12  22.002466\n",
       "2024-04-15 00:00:00+05:30       RITCO.NS  2024-04-15  26.445738\n",
       "2024-04-15 00:00:00+05:30         PAR.NS  2024-04-15  21.541054\n",
       "2024-04-16 00:00:00+05:30     AAATECH.NS  2024-04-16  21.467391\n",
       "2024-04-16 00:00:00+05:30        DSSL.NS  2024-04-16  21.187299\n",
       "2024-04-16 00:00:00+05:30       URAVI.NS  2024-04-16  21.947095"
      ]
     },
     "execution_count": 62,
     "metadata": {},
     "output_type": "execute_result"
    }
   ],
   "source": [
    "max_gainers.sort_values('date')"
   ]
  },
  {
   "cell_type": "code",
   "execution_count": null,
   "id": "9148bb7d-01d5-47be-9adb-9835ead8f874",
   "metadata": {},
   "outputs": [],
   "source": []
  },
  {
   "cell_type": "code",
   "execution_count": 64,
   "id": "b4cbabce-9eeb-4596-bb79-8b207a875161",
   "metadata": {
    "scrolled": true
   },
   "outputs": [
    {
     "data": {
      "text/plain": [
       "timestamp\n",
       "2024-04-15 00:00:00+05:30         RITCO.NS\n",
       "2024-04-10 00:00:00+05:30      RELINFRA.NS\n",
       "2024-04-03 00:00:00+05:30           BIL.NS\n",
       "2024-03-28 00:00:00+05:30       HEADSUP.NS\n",
       "2024-03-27 00:00:00+05:30        PFIZER.NS\n",
       "2024-03-26 00:00:00+05:30         EXCEL.NS\n",
       "2024-03-27 00:00:00+05:30         EXCEL.NS\n",
       "2024-03-28 00:00:00+05:30         EXCEL.NS\n",
       "2024-04-01 00:00:00+05:30         EXCEL.NS\n",
       "2024-03-27 00:00:00+05:30      AGRITECH.NS\n",
       "2024-04-12 00:00:00+05:30         LEXUS.NS\n",
       "2024-04-16 00:00:00+05:30         URAVI.NS\n",
       "2024-04-15 00:00:00+05:30           PAR.NS\n",
       "2024-04-16 00:00:00+05:30       AAATECH.NS\n",
       "2024-04-03 00:00:00+05:30      AGROPHOS.NS\n",
       "2024-04-16 00:00:00+05:30          DSSL.NS\n",
       "2024-04-02 00:00:00+05:30     SECURCRED.NS\n",
       "2024-03-27 00:00:00+05:30       NIITMTS.NS\n",
       "2024-03-26 00:00:00+05:30    HITECHGEAR.NS\n",
       "2024-04-03 00:00:00+05:30      INDOAMIN.NS\n",
       "2024-03-27 00:00:00+05:30    OSWALSEEDS.NS\n",
       "2024-04-03 00:00:00+05:30      RELCHEMQ.NS\n",
       "2024-04-10 00:00:00+05:30    GANGESSECU.NS\n",
       "Name: ticker, dtype: object"
      ]
     },
     "execution_count": 64,
     "metadata": {},
     "output_type": "execute_result"
    }
   ],
   "source": [
    "max_gainers.ticker"
   ]
  },
  {
   "cell_type": "code",
   "execution_count": 66,
   "id": "f6c595fb-502e-4c6c-932f-572217d43f5b",
   "metadata": {},
   "outputs": [
    {
     "data": {
      "text/html": [
       "<div>\n",
       "<style scoped>\n",
       "    .dataframe tbody tr th:only-of-type {\n",
       "        vertical-align: middle;\n",
       "    }\n",
       "\n",
       "    .dataframe tbody tr th {\n",
       "        vertical-align: top;\n",
       "    }\n",
       "\n",
       "    .dataframe thead th {\n",
       "        text-align: right;\n",
       "    }\n",
       "</style>\n",
       "<table border=\"1\" class=\"dataframe\">\n",
       "  <thead>\n",
       "    <tr style=\"text-align: right;\">\n",
       "      <th></th>\n",
       "      <th>timestamp</th>\n",
       "      <th>Open</th>\n",
       "      <th>High</th>\n",
       "      <th>Low</th>\n",
       "      <th>Close</th>\n",
       "      <th>Adj Close</th>\n",
       "      <th>Volume</th>\n",
       "      <th>ticker</th>\n",
       "      <th>date</th>\n",
       "      <th>range</th>\n",
       "    </tr>\n",
       "  </thead>\n",
       "  <tbody>\n",
       "    <tr>\n",
       "      <th>1463284</th>\n",
       "      <td>2024-03-26 09:15:00+05:30</td>\n",
       "      <td>0.55</td>\n",
       "      <td>0.55</td>\n",
       "      <td>0.50</td>\n",
       "      <td>0.55</td>\n",
       "      <td>0.55</td>\n",
       "      <td>0.0</td>\n",
       "      <td>EXCEL.NS</td>\n",
       "      <td>2024-03-26</td>\n",
       "      <td>10.000002</td>\n",
       "    </tr>\n",
       "    <tr>\n",
       "      <th>1463285</th>\n",
       "      <td>2024-03-26 09:16:00+05:30</td>\n",
       "      <td>0.50</td>\n",
       "      <td>0.55</td>\n",
       "      <td>0.50</td>\n",
       "      <td>0.55</td>\n",
       "      <td>0.55</td>\n",
       "      <td>77764.0</td>\n",
       "      <td>EXCEL.NS</td>\n",
       "      <td>2024-03-26</td>\n",
       "      <td>10.000002</td>\n",
       "    </tr>\n",
       "    <tr>\n",
       "      <th>1463286</th>\n",
       "      <td>2024-03-26 09:17:00+05:30</td>\n",
       "      <td>0.55</td>\n",
       "      <td>0.55</td>\n",
       "      <td>0.50</td>\n",
       "      <td>0.50</td>\n",
       "      <td>0.50</td>\n",
       "      <td>40419.0</td>\n",
       "      <td>EXCEL.NS</td>\n",
       "      <td>2024-03-26</td>\n",
       "      <td>10.000002</td>\n",
       "    </tr>\n",
       "    <tr>\n",
       "      <th>1463287</th>\n",
       "      <td>2024-03-26 09:18:00+05:30</td>\n",
       "      <td>0.50</td>\n",
       "      <td>0.55</td>\n",
       "      <td>0.50</td>\n",
       "      <td>0.50</td>\n",
       "      <td>0.50</td>\n",
       "      <td>24007.0</td>\n",
       "      <td>EXCEL.NS</td>\n",
       "      <td>2024-03-26</td>\n",
       "      <td>10.000002</td>\n",
       "    </tr>\n",
       "    <tr>\n",
       "      <th>1463288</th>\n",
       "      <td>2024-03-26 09:19:00+05:30</td>\n",
       "      <td>0.55</td>\n",
       "      <td>0.55</td>\n",
       "      <td>0.50</td>\n",
       "      <td>0.55</td>\n",
       "      <td>0.55</td>\n",
       "      <td>46681.0</td>\n",
       "      <td>EXCEL.NS</td>\n",
       "      <td>2024-03-26</td>\n",
       "      <td>10.000002</td>\n",
       "    </tr>\n",
       "    <tr>\n",
       "      <th>...</th>\n",
       "      <td>...</td>\n",
       "      <td>...</td>\n",
       "      <td>...</td>\n",
       "      <td>...</td>\n",
       "      <td>...</td>\n",
       "      <td>...</td>\n",
       "      <td>...</td>\n",
       "      <td>...</td>\n",
       "      <td>...</td>\n",
       "      <td>...</td>\n",
       "    </tr>\n",
       "    <tr>\n",
       "      <th>5307134</th>\n",
       "      <td>2024-04-18 15:25:00+05:30</td>\n",
       "      <td>0.55</td>\n",
       "      <td>0.55</td>\n",
       "      <td>0.55</td>\n",
       "      <td>0.55</td>\n",
       "      <td>0.55</td>\n",
       "      <td>122.0</td>\n",
       "      <td>EXCEL.NS</td>\n",
       "      <td>2024-04-18</td>\n",
       "      <td>0.000000</td>\n",
       "    </tr>\n",
       "    <tr>\n",
       "      <th>5307135</th>\n",
       "      <td>2024-04-18 15:26:00+05:30</td>\n",
       "      <td>0.50</td>\n",
       "      <td>0.55</td>\n",
       "      <td>0.50</td>\n",
       "      <td>0.55</td>\n",
       "      <td>0.55</td>\n",
       "      <td>575.0</td>\n",
       "      <td>EXCEL.NS</td>\n",
       "      <td>2024-04-18</td>\n",
       "      <td>10.000002</td>\n",
       "    </tr>\n",
       "    <tr>\n",
       "      <th>5307136</th>\n",
       "      <td>2024-04-18 15:27:00+05:30</td>\n",
       "      <td>0.55</td>\n",
       "      <td>0.55</td>\n",
       "      <td>0.50</td>\n",
       "      <td>0.55</td>\n",
       "      <td>0.55</td>\n",
       "      <td>13258.0</td>\n",
       "      <td>EXCEL.NS</td>\n",
       "      <td>2024-04-18</td>\n",
       "      <td>10.000002</td>\n",
       "    </tr>\n",
       "    <tr>\n",
       "      <th>5307137</th>\n",
       "      <td>2024-04-18 15:28:00+05:30</td>\n",
       "      <td>0.50</td>\n",
       "      <td>0.55</td>\n",
       "      <td>0.50</td>\n",
       "      <td>0.55</td>\n",
       "      <td>0.55</td>\n",
       "      <td>9931.0</td>\n",
       "      <td>EXCEL.NS</td>\n",
       "      <td>2024-04-18</td>\n",
       "      <td>10.000002</td>\n",
       "    </tr>\n",
       "    <tr>\n",
       "      <th>5307138</th>\n",
       "      <td>2024-04-18 15:29:00+05:30</td>\n",
       "      <td>0.55</td>\n",
       "      <td>0.55</td>\n",
       "      <td>0.50</td>\n",
       "      <td>0.55</td>\n",
       "      <td>0.55</td>\n",
       "      <td>6348.0</td>\n",
       "      <td>EXCEL.NS</td>\n",
       "      <td>2024-04-18</td>\n",
       "      <td>10.000002</td>\n",
       "    </tr>\n",
       "  </tbody>\n",
       "</table>\n",
       "<p>4109 rows × 10 columns</p>\n",
       "</div>"
      ],
      "text/plain": [
       "                         timestamp  Open  High   Low  Close  Adj Close  \\\n",
       "1463284  2024-03-26 09:15:00+05:30  0.55  0.55  0.50   0.55       0.55   \n",
       "1463285  2024-03-26 09:16:00+05:30  0.50  0.55  0.50   0.55       0.55   \n",
       "1463286  2024-03-26 09:17:00+05:30  0.55  0.55  0.50   0.50       0.50   \n",
       "1463287  2024-03-26 09:18:00+05:30  0.50  0.55  0.50   0.50       0.50   \n",
       "1463288  2024-03-26 09:19:00+05:30  0.55  0.55  0.50   0.55       0.55   \n",
       "...                            ...   ...   ...   ...    ...        ...   \n",
       "5307134  2024-04-18 15:25:00+05:30  0.55  0.55  0.55   0.55       0.55   \n",
       "5307135  2024-04-18 15:26:00+05:30  0.50  0.55  0.50   0.55       0.55   \n",
       "5307136  2024-04-18 15:27:00+05:30  0.55  0.55  0.50   0.55       0.55   \n",
       "5307137  2024-04-18 15:28:00+05:30  0.50  0.55  0.50   0.55       0.55   \n",
       "5307138  2024-04-18 15:29:00+05:30  0.55  0.55  0.50   0.55       0.55   \n",
       "\n",
       "          Volume    ticker        date      range  \n",
       "1463284      0.0  EXCEL.NS  2024-03-26  10.000002  \n",
       "1463285  77764.0  EXCEL.NS  2024-03-26  10.000002  \n",
       "1463286  40419.0  EXCEL.NS  2024-03-26  10.000002  \n",
       "1463287  24007.0  EXCEL.NS  2024-03-26  10.000002  \n",
       "1463288  46681.0  EXCEL.NS  2024-03-26  10.000002  \n",
       "...          ...       ...         ...        ...  \n",
       "5307134    122.0  EXCEL.NS  2024-04-18   0.000000  \n",
       "5307135    575.0  EXCEL.NS  2024-04-18  10.000002  \n",
       "5307136  13258.0  EXCEL.NS  2024-04-18  10.000002  \n",
       "5307137   9931.0  EXCEL.NS  2024-04-18  10.000002  \n",
       "5307138   6348.0  EXCEL.NS  2024-04-18  10.000002  \n",
       "\n",
       "[4109 rows x 10 columns]"
      ]
     },
     "execution_count": 66,
     "metadata": {},
     "output_type": "execute_result"
    }
   ],
   "source": [
    "prices[prices.ticker=='EXCEL.NS']"
   ]
  }
 ],
 "metadata": {
  "kernelspec": {
   "display_name": "Python 3 (ipykernel)",
   "language": "python",
   "name": "python3"
  },
  "language_info": {
   "codemirror_mode": {
    "name": "ipython",
    "version": 3
   },
   "file_extension": ".py",
   "mimetype": "text/x-python",
   "name": "python",
   "nbconvert_exporter": "python",
   "pygments_lexer": "ipython3",
   "version": "3.11.7"
  }
 },
 "nbformat": 4,
 "nbformat_minor": 5
}
