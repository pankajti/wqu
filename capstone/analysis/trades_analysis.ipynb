{
 "cells": [
  {
   "cell_type": "code",
   "execution_count": 159,
   "id": "c01f47b2-42ae-4a5b-b380-6deae2d02d0c",
   "metadata": {},
   "outputs": [],
   "source": [
    "import schedule\n",
    "import time\n",
    "import datetime as dt\n",
    "import logging\n",
    "import pandas as pd\n",
    "import numpy as np\n",
    "import pytz\n",
    "import sqlite3\n",
    "import sqlalchemy\n",
    "\n",
    "db_data_path = r'/Users/pankajti/dev/git/wqu/capstone/data/db/capstone.db'\n",
    "con = sqlite3.connect(db_data_path)\n",
    "dbEngine = sqlalchemy.create_engine(f'sqlite:///{db_data_path}')\n",
    "\n",
    "\n",
    "trades = pd.read_sql(\"select * from trades\",dbEngine)\n"
   ]
  },
  {
   "cell_type": "code",
   "execution_count": 160,
   "id": "99ae8838-b4cc-4035-82a4-d5ea369610cc",
   "metadata": {},
   "outputs": [
    {
     "data": {
      "text/html": [
       "<div>\n",
       "<style scoped>\n",
       "    .dataframe tbody tr th:only-of-type {\n",
       "        vertical-align: middle;\n",
       "    }\n",
       "\n",
       "    .dataframe tbody tr th {\n",
       "        vertical-align: top;\n",
       "    }\n",
       "\n",
       "    .dataframe thead th {\n",
       "        text-align: right;\n",
       "    }\n",
       "</style>\n",
       "<table border=\"1\" class=\"dataframe\">\n",
       "  <thead>\n",
       "    <tr style=\"text-align: right;\">\n",
       "      <th></th>\n",
       "      <th>trade_time</th>\n",
       "      <th>ticker</th>\n",
       "      <th>side</th>\n",
       "      <th>quantity</th>\n",
       "      <th>price</th>\n",
       "      <th>strategy</th>\n",
       "      <th>creatime</th>\n",
       "    </tr>\n",
       "  </thead>\n",
       "  <tbody>\n",
       "    <tr>\n",
       "      <th>0</th>\n",
       "      <td>2024-03-26 09:26:00+05:30</td>\n",
       "      <td>PASUPTAC.NS</td>\n",
       "      <td>buy</td>\n",
       "      <td>1</td>\n",
       "      <td>40.2999992370606</td>\n",
       "      <td>price_breakout</td>\n",
       "      <td>2024-04-27 07:16:59.676345</td>\n",
       "    </tr>\n",
       "    <tr>\n",
       "      <th>1</th>\n",
       "      <td>2024-03-26 14:03:00+05:30</td>\n",
       "      <td>SANGAMIND.NS</td>\n",
       "      <td>buy</td>\n",
       "      <td>1.0</td>\n",
       "      <td>448.350006103516</td>\n",
       "      <td>price_breakout</td>\n",
       "      <td>2024-04-27 07:23:48.354952</td>\n",
       "    </tr>\n",
       "    <tr>\n",
       "      <th>2</th>\n",
       "      <td>2024-03-26 14:04:00+05:30</td>\n",
       "      <td>PASUPTAC.NS</td>\n",
       "      <td>sell</td>\n",
       "      <td>1.0</td>\n",
       "      <td>37.4000015258789</td>\n",
       "      <td>price_breakout</td>\n",
       "      <td>2024-04-27 07:23:48.354952</td>\n",
       "    </tr>\n",
       "    <tr>\n",
       "      <th>3</th>\n",
       "      <td>2024-03-26 14:05:00+05:30</td>\n",
       "      <td>GANDHITUBE.NS</td>\n",
       "      <td>buy</td>\n",
       "      <td>1.0</td>\n",
       "      <td>776.049987792969</td>\n",
       "      <td>price_breakout</td>\n",
       "      <td>2024-04-27 07:23:55.564643</td>\n",
       "    </tr>\n",
       "    <tr>\n",
       "      <th>4</th>\n",
       "      <td>2024-03-26 15:03:00+05:30</td>\n",
       "      <td>GANDHITUBE.NS</td>\n",
       "      <td>sell</td>\n",
       "      <td>1.0</td>\n",
       "      <td>740.900024414063</td>\n",
       "      <td>price_breakout</td>\n",
       "      <td>2024-04-27 07:25:12.646088</td>\n",
       "    </tr>\n",
       "  </tbody>\n",
       "</table>\n",
       "</div>"
      ],
      "text/plain": [
       "                  trade_time         ticker  side quantity             price  \\\n",
       "0  2024-03-26 09:26:00+05:30    PASUPTAC.NS   buy        1  40.2999992370606   \n",
       "1  2024-03-26 14:03:00+05:30   SANGAMIND.NS   buy      1.0  448.350006103516   \n",
       "2  2024-03-26 14:04:00+05:30    PASUPTAC.NS  sell      1.0  37.4000015258789   \n",
       "3  2024-03-26 14:05:00+05:30  GANDHITUBE.NS   buy      1.0  776.049987792969   \n",
       "4  2024-03-26 15:03:00+05:30  GANDHITUBE.NS  sell      1.0  740.900024414063   \n",
       "\n",
       "         strategy                    creatime  \n",
       "0  price_breakout  2024-04-27 07:16:59.676345  \n",
       "1  price_breakout  2024-04-27 07:23:48.354952  \n",
       "2  price_breakout  2024-04-27 07:23:48.354952  \n",
       "3  price_breakout  2024-04-27 07:23:55.564643  \n",
       "4  price_breakout  2024-04-27 07:25:12.646088  "
      ]
     },
     "execution_count": 160,
     "metadata": {},
     "output_type": "execute_result"
    }
   ],
   "source": [
    "trades.head()"
   ]
  },
  {
   "cell_type": "code",
   "execution_count": 161,
   "id": "cb956323-91dc-49f5-9291-badedd5f7d37",
   "metadata": {
    "scrolled": true
   },
   "outputs": [
    {
     "name": "stdout",
     "output_type": "stream",
     "text": [
      "<class 'pandas.core.frame.DataFrame'>\n",
      "RangeIndex: 226 entries, 0 to 225\n",
      "Data columns (total 7 columns):\n",
      " #   Column      Non-Null Count  Dtype \n",
      "---  ------      --------------  ----- \n",
      " 0   trade_time  226 non-null    object\n",
      " 1   ticker      226 non-null    object\n",
      " 2   side        226 non-null    object\n",
      " 3   quantity    226 non-null    object\n",
      " 4   price       226 non-null    object\n",
      " 5   strategy    226 non-null    object\n",
      " 6   creatime    226 non-null    object\n",
      "dtypes: object(7)\n",
      "memory usage: 12.5+ KB\n"
     ]
    }
   ],
   "source": [
    "trades.info()"
   ]
  },
  {
   "cell_type": "code",
   "execution_count": 162,
   "id": "1810687f-5e3b-42b6-a13f-e4236eb15b1b",
   "metadata": {
    "scrolled": true
   },
   "outputs": [
    {
     "data": {
      "text/html": [
       "<div>\n",
       "<style scoped>\n",
       "    .dataframe tbody tr th:only-of-type {\n",
       "        vertical-align: middle;\n",
       "    }\n",
       "\n",
       "    .dataframe tbody tr th {\n",
       "        vertical-align: top;\n",
       "    }\n",
       "\n",
       "    .dataframe thead th {\n",
       "        text-align: right;\n",
       "    }\n",
       "</style>\n",
       "<table border=\"1\" class=\"dataframe\">\n",
       "  <thead>\n",
       "    <tr style=\"text-align: right;\">\n",
       "      <th></th>\n",
       "      <th>trade_time</th>\n",
       "      <th>ticker</th>\n",
       "      <th>side</th>\n",
       "      <th>quantity</th>\n",
       "      <th>price</th>\n",
       "      <th>strategy</th>\n",
       "      <th>creatime</th>\n",
       "    </tr>\n",
       "  </thead>\n",
       "  <tbody>\n",
       "    <tr>\n",
       "      <th>count</th>\n",
       "      <td>226</td>\n",
       "      <td>226</td>\n",
       "      <td>226</td>\n",
       "      <td>226</td>\n",
       "      <td>226</td>\n",
       "      <td>226</td>\n",
       "      <td>226</td>\n",
       "    </tr>\n",
       "    <tr>\n",
       "      <th>unique</th>\n",
       "      <td>152</td>\n",
       "      <td>103</td>\n",
       "      <td>2</td>\n",
       "      <td>2</td>\n",
       "      <td>219</td>\n",
       "      <td>1</td>\n",
       "      <td>115</td>\n",
       "    </tr>\n",
       "    <tr>\n",
       "      <th>top</th>\n",
       "      <td>2024-04-01 15:04:00+05:30</td>\n",
       "      <td>AGRITECH.NS</td>\n",
       "      <td>buy</td>\n",
       "      <td>1.0</td>\n",
       "      <td>42.1500015258789</td>\n",
       "      <td>price_breakout</td>\n",
       "      <td>2024-04-27 07:52:09.977470</td>\n",
       "    </tr>\n",
       "    <tr>\n",
       "      <th>freq</th>\n",
       "      <td>10</td>\n",
       "      <td>6</td>\n",
       "      <td>113</td>\n",
       "      <td>202</td>\n",
       "      <td>2</td>\n",
       "      <td>226</td>\n",
       "      <td>14</td>\n",
       "    </tr>\n",
       "  </tbody>\n",
       "</table>\n",
       "</div>"
      ],
      "text/plain": [
       "                       trade_time       ticker side quantity  \\\n",
       "count                         226          226  226      226   \n",
       "unique                        152          103    2        2   \n",
       "top     2024-04-01 15:04:00+05:30  AGRITECH.NS  buy      1.0   \n",
       "freq                           10            6  113      202   \n",
       "\n",
       "                   price        strategy                    creatime  \n",
       "count                226             226                         226  \n",
       "unique               219               1                         115  \n",
       "top     42.1500015258789  price_breakout  2024-04-27 07:52:09.977470  \n",
       "freq                   2             226                          14  "
      ]
     },
     "execution_count": 162,
     "metadata": {},
     "output_type": "execute_result"
    }
   ],
   "source": [
    "trades.describe()"
   ]
  },
  {
   "cell_type": "code",
   "execution_count": 163,
   "id": "25ad3adf-a074-477a-ba73-ebad7f994b54",
   "metadata": {},
   "outputs": [],
   "source": [
    "trades['tdate'] = trades.trade_time.str[:10]"
   ]
  },
  {
   "cell_type": "code",
   "execution_count": 164,
   "id": "e0791090-d719-4724-ab12-98339fdecca4",
   "metadata": {},
   "outputs": [
    {
     "data": {
      "text/html": [
       "<div>\n",
       "<style scoped>\n",
       "    .dataframe tbody tr th:only-of-type {\n",
       "        vertical-align: middle;\n",
       "    }\n",
       "\n",
       "    .dataframe tbody tr th {\n",
       "        vertical-align: top;\n",
       "    }\n",
       "\n",
       "    .dataframe thead th {\n",
       "        text-align: right;\n",
       "    }\n",
       "</style>\n",
       "<table border=\"1\" class=\"dataframe\">\n",
       "  <thead>\n",
       "    <tr style=\"text-align: right;\">\n",
       "      <th></th>\n",
       "      <th>trade_time</th>\n",
       "      <th>ticker</th>\n",
       "      <th>side</th>\n",
       "      <th>quantity</th>\n",
       "      <th>price</th>\n",
       "      <th>strategy</th>\n",
       "      <th>creatime</th>\n",
       "      <th>tdate</th>\n",
       "    </tr>\n",
       "  </thead>\n",
       "  <tbody>\n",
       "    <tr>\n",
       "      <th>181</th>\n",
       "      <td>2024-04-22 15:04:00.000000</td>\n",
       "      <td>AAATECH.NS</td>\n",
       "      <td>sell</td>\n",
       "      <td>1.0</td>\n",
       "      <td>136.550003051758</td>\n",
       "      <td>price_breakout</td>\n",
       "      <td>2024-04-27 08:49:24.032978</td>\n",
       "      <td>2024-04-22</td>\n",
       "    </tr>\n",
       "    <tr>\n",
       "      <th>174</th>\n",
       "      <td>2024-04-22 13:00:00.000000</td>\n",
       "      <td>AAATECH.NS</td>\n",
       "      <td>buy</td>\n",
       "      <td>1.0</td>\n",
       "      <td>141.449996948242</td>\n",
       "      <td>price_breakout</td>\n",
       "      <td>2024-04-27 08:47:52.210643</td>\n",
       "      <td>2024-04-22</td>\n",
       "    </tr>\n",
       "    <tr>\n",
       "      <th>99</th>\n",
       "      <td>2024-04-03 14:56:00+05:30</td>\n",
       "      <td>ADVANIHOTR.NS</td>\n",
       "      <td>buy</td>\n",
       "      <td>1.0</td>\n",
       "      <td>89.5999984741211</td>\n",
       "      <td>price_breakout</td>\n",
       "      <td>2024-04-27 08:07:01.368481</td>\n",
       "      <td>2024-04-03</td>\n",
       "    </tr>\n",
       "    <tr>\n",
       "      <th>104</th>\n",
       "      <td>2024-04-03 15:04:00+05:30</td>\n",
       "      <td>ADVANIHOTR.NS</td>\n",
       "      <td>sell</td>\n",
       "      <td>1.0</td>\n",
       "      <td>88.1999969482422</td>\n",
       "      <td>price_breakout</td>\n",
       "      <td>2024-04-27 08:07:03.176572</td>\n",
       "      <td>2024-04-03</td>\n",
       "    </tr>\n",
       "    <tr>\n",
       "      <th>161</th>\n",
       "      <td>2024-04-16 15:04:00+05:30</td>\n",
       "      <td>AEGISCHEM.NS</td>\n",
       "      <td>sell</td>\n",
       "      <td>1.0</td>\n",
       "      <td>522.400024414063</td>\n",
       "      <td>price_breakout</td>\n",
       "      <td>2024-04-27 08:38:40.773193</td>\n",
       "      <td>2024-04-16</td>\n",
       "    </tr>\n",
       "    <tr>\n",
       "      <th>...</th>\n",
       "      <td>...</td>\n",
       "      <td>...</td>\n",
       "      <td>...</td>\n",
       "      <td>...</td>\n",
       "      <td>...</td>\n",
       "      <td>...</td>\n",
       "      <td>...</td>\n",
       "      <td>...</td>\n",
       "    </tr>\n",
       "    <tr>\n",
       "      <th>33</th>\n",
       "      <td>2024-03-28 14:23:00+05:30</td>\n",
       "      <td>ZENITHEXPO.NS</td>\n",
       "      <td>buy</td>\n",
       "      <td>1.0</td>\n",
       "      <td>178.449996948242</td>\n",
       "      <td>price_breakout</td>\n",
       "      <td>2024-04-27 07:42:26.372063</td>\n",
       "      <td>2024-03-28</td>\n",
       "    </tr>\n",
       "    <tr>\n",
       "      <th>183</th>\n",
       "      <td>2024-04-23 09:26:00.000000</td>\n",
       "      <td>ZIMLAB.NS</td>\n",
       "      <td>buy</td>\n",
       "      <td>1</td>\n",
       "      <td>102.800003051758</td>\n",
       "      <td>price_breakout</td>\n",
       "      <td>2024-04-27 08:49:42.948299</td>\n",
       "      <td>2024-04-23</td>\n",
       "    </tr>\n",
       "    <tr>\n",
       "      <th>193</th>\n",
       "      <td>2024-04-23 15:04:00.000000</td>\n",
       "      <td>ZIMLAB.NS</td>\n",
       "      <td>sell</td>\n",
       "      <td>1.0</td>\n",
       "      <td>110.050003051758</td>\n",
       "      <td>price_breakout</td>\n",
       "      <td>2024-04-27 08:54:06.937126</td>\n",
       "      <td>2024-04-23</td>\n",
       "    </tr>\n",
       "    <tr>\n",
       "      <th>119</th>\n",
       "      <td>2024-04-12 14:27:00+05:30</td>\n",
       "      <td>ZUARI.NS</td>\n",
       "      <td>buy</td>\n",
       "      <td>1.0</td>\n",
       "      <td>205.5</td>\n",
       "      <td>price_breakout</td>\n",
       "      <td>2024-04-27 08:23:23.689659</td>\n",
       "      <td>2024-04-12</td>\n",
       "    </tr>\n",
       "    <tr>\n",
       "      <th>126</th>\n",
       "      <td>2024-04-12 15:04:00+05:30</td>\n",
       "      <td>ZUARI.NS</td>\n",
       "      <td>sell</td>\n",
       "      <td>1.0</td>\n",
       "      <td>200.949996948242</td>\n",
       "      <td>price_breakout</td>\n",
       "      <td>2024-04-27 08:24:10.793674</td>\n",
       "      <td>2024-04-12</td>\n",
       "    </tr>\n",
       "  </tbody>\n",
       "</table>\n",
       "<p>226 rows × 8 columns</p>\n",
       "</div>"
      ],
      "text/plain": [
       "                     trade_time         ticker  side quantity  \\\n",
       "181  2024-04-22 15:04:00.000000     AAATECH.NS  sell      1.0   \n",
       "174  2024-04-22 13:00:00.000000     AAATECH.NS   buy      1.0   \n",
       "99    2024-04-03 14:56:00+05:30  ADVANIHOTR.NS   buy      1.0   \n",
       "104   2024-04-03 15:04:00+05:30  ADVANIHOTR.NS  sell      1.0   \n",
       "161   2024-04-16 15:04:00+05:30   AEGISCHEM.NS  sell      1.0   \n",
       "..                          ...            ...   ...      ...   \n",
       "33    2024-03-28 14:23:00+05:30  ZENITHEXPO.NS   buy      1.0   \n",
       "183  2024-04-23 09:26:00.000000      ZIMLAB.NS   buy        1   \n",
       "193  2024-04-23 15:04:00.000000      ZIMLAB.NS  sell      1.0   \n",
       "119   2024-04-12 14:27:00+05:30       ZUARI.NS   buy      1.0   \n",
       "126   2024-04-12 15:04:00+05:30       ZUARI.NS  sell      1.0   \n",
       "\n",
       "                price        strategy                    creatime       tdate  \n",
       "181  136.550003051758  price_breakout  2024-04-27 08:49:24.032978  2024-04-22  \n",
       "174  141.449996948242  price_breakout  2024-04-27 08:47:52.210643  2024-04-22  \n",
       "99   89.5999984741211  price_breakout  2024-04-27 08:07:01.368481  2024-04-03  \n",
       "104  88.1999969482422  price_breakout  2024-04-27 08:07:03.176572  2024-04-03  \n",
       "161  522.400024414063  price_breakout  2024-04-27 08:38:40.773193  2024-04-16  \n",
       "..                ...             ...                         ...         ...  \n",
       "33   178.449996948242  price_breakout  2024-04-27 07:42:26.372063  2024-03-28  \n",
       "183  102.800003051758  price_breakout  2024-04-27 08:49:42.948299  2024-04-23  \n",
       "193  110.050003051758  price_breakout  2024-04-27 08:54:06.937126  2024-04-23  \n",
       "119             205.5  price_breakout  2024-04-27 08:23:23.689659  2024-04-12  \n",
       "126  200.949996948242  price_breakout  2024-04-27 08:24:10.793674  2024-04-12  \n",
       "\n",
       "[226 rows x 8 columns]"
      ]
     },
     "execution_count": 164,
     "metadata": {},
     "output_type": "execute_result"
    }
   ],
   "source": [
    "trades.sort_values('ticker')"
   ]
  },
  {
   "cell_type": "code",
   "execution_count": 165,
   "id": "e3c327b4-e42c-4118-85fb-be994925aa79",
   "metadata": {},
   "outputs": [],
   "source": [
    "trades_data = trades[['tdate', 'ticker', 'side','quantity' , 'price']]"
   ]
  },
  {
   "cell_type": "code",
   "execution_count": 166,
   "id": "b93d0a75-ccb4-4ac9-89ed-a93f58577af9",
   "metadata": {},
   "outputs": [
    {
     "name": "stderr",
     "output_type": "stream",
     "text": [
      "/var/folders/tz/k1k21d6x7j1d90h0t6dqf5yc0000gn/T/ipykernel_45703/686818239.py:1: SettingWithCopyWarning: \n",
      "A value is trying to be set on a copy of a slice from a DataFrame.\n",
      "Try using .loc[row_indexer,col_indexer] = value instead\n",
      "\n",
      "See the caveats in the documentation: https://pandas.pydata.org/pandas-docs/stable/user_guide/indexing.html#returning-a-view-versus-a-copy\n",
      "  trades_data['price'] = trades_data.price.astype(float)\n"
     ]
    }
   ],
   "source": [
    "trades_data['price'] = trades_data.price.astype(float)"
   ]
  },
  {
   "cell_type": "code",
   "execution_count": 167,
   "id": "b1fc9a70-e385-45f4-8ba2-1cc5650e343d",
   "metadata": {
    "scrolled": true
   },
   "outputs": [],
   "source": [
    "#trades_data['side'] =  trades_data.apply(lambda x : 1 if x['side']=='buy' else -1, axis =1 )*trades_data.quantity.astype(float)"
   ]
  },
  {
   "cell_type": "code",
   "execution_count": 168,
   "id": "e17dbfda-e4b4-485e-b6d1-b1967d27de23",
   "metadata": {
    "scrolled": true
   },
   "outputs": [],
   "source": [
    "#trades_data['trades_cost'] = trades_data['side']*trades_data.price"
   ]
  },
  {
   "cell_type": "code",
   "execution_count": 169,
   "id": "4529ce42-e645-4f39-a065-67ec9cc0b940",
   "metadata": {},
   "outputs": [],
   "source": [
    "trades_data= trades_data.pivot_table(index= ['tdate','ticker'], columns =['side'], values=['price'] )"
   ]
  },
  {
   "cell_type": "code",
   "execution_count": 170,
   "id": "7b9450ba-82e5-40bd-88ca-20de3bb1ea8d",
   "metadata": {},
   "outputs": [],
   "source": [
    "trades_data=trades_data.T.reset_index().T.reset_index()[2:].rename({0:'buy',1:'sell'},axis=1).dropna()"
   ]
  },
  {
   "cell_type": "code",
   "execution_count": 171,
   "id": "90ba09bd-dadf-4081-b891-d3d0775ec5a8",
   "metadata": {},
   "outputs": [],
   "source": [
    "trades_data['ret']=trades_data.sell-trades_data.buy"
   ]
  },
  {
   "cell_type": "code",
   "execution_count": 172,
   "id": "9d81738c-8e12-49a5-94b9-e782bd238ecc",
   "metadata": {},
   "outputs": [],
   "source": [
    "daily_return = trades_data.groupby('tdate').sum()['ret']"
   ]
  },
  {
   "cell_type": "code",
   "execution_count": 173,
   "id": "4a171713-0207-4e91-8b65-c77c6155be65",
   "metadata": {},
   "outputs": [
    {
     "data": {
      "text/plain": [
       "<Axes: xlabel='tdate'>"
      ]
     },
     "execution_count": 173,
     "metadata": {},
     "output_type": "execute_result"
    },
    {
     "data": {
      "image/png": "[encoded data removed]",
      "text/plain": [
       "<Figure size 640x480 with 1 Axes>"
      ]
     },
     "metadata": {},
     "output_type": "display_data"
    }
   ],
   "source": [
    "daily_return.plot(kind='bar')"
   ]
  },
  {
   "cell_type": "code",
   "execution_count": 174,
   "id": "7512bfbf-5715-41e4-8644-841c8ad17ae5",
   "metadata": {},
   "outputs": [
    {
     "data": {
      "text/plain": [
       "77.06987115062871"
      ]
     },
     "execution_count": 174,
     "metadata": {},
     "output_type": "execute_result"
    }
   ],
   "source": [
    "daily_return.std()"
   ]
  },
  {
   "cell_type": "code",
   "execution_count": 175,
   "id": "12487caa-5efc-4749-941e-41828d35ea65",
   "metadata": {},
   "outputs": [
    {
     "data": {
      "text/plain": [
       "-35.53331921895433"
      ]
     },
     "execution_count": 175,
     "metadata": {},
     "output_type": "execute_result"
    }
   ],
   "source": [
    "daily_return.mean()"
   ]
  },
  {
   "cell_type": "code",
   "execution_count": 191,
   "id": "395812e3-e933-4b03-8322-e09e9a15fdc7",
   "metadata": {},
   "outputs": [
    {
     "name": "stdout",
     "output_type": "stream",
     "text": [
      " Sharpe ratio::  -0.4610533103072985\n"
     ]
    }
   ],
   "source": [
    "sharpe_ratio = daily_return.mean()/daily_return.std()\n",
    "print(f\" Sharpe ratio::  {sharpe_ratio}\")"
   ]
  },
  {
   "cell_type": "code",
   "execution_count": 179,
   "id": "0d8f6343-131c-4930-8810-c231c25e6101",
   "metadata": {},
   "outputs": [],
   "source": [
    "import matplotlib.pyplot as plt"
   ]
  },
  {
   "cell_type": "markdown",
   "id": "6556c963-1f0d-4f30-983b-6b55c57007fe",
   "metadata": {},
   "source": [
    "## Plt maxdrawdown"
   ]
  },
  {
   "cell_type": "code",
   "execution_count": 184,
   "id": "6a24df81-8200-4c06-bc27-f8ede813663e",
   "metadata": {},
   "outputs": [
    {
     "data": {
      "text/plain": [
       "tdate\n",
       "2024-03-26    -32.399967\n",
       "2024-03-27    -69.399952\n",
       "2024-03-28   -159.600048\n",
       "2024-04-01   -182.450069\n",
       "2024-04-02    -178.75008\n",
       "2024-04-03   -250.150082\n",
       "2024-04-10   -354.800083\n",
       "2024-04-12   -201.150028\n",
       "2024-04-15   -270.749977\n",
       "2024-04-16   -292.300026\n",
       "2024-04-18   -475.349934\n",
       "2024-04-22   -415.299883\n",
       "2024-04-23   -449.749887\n",
       "2024-04-24    -537.59984\n",
       "2024-04-25   -532.999788\n",
       "Name: ret, dtype: object"
      ]
     },
     "execution_count": 184,
     "metadata": {},
     "output_type": "execute_result"
    }
   ],
   "source": [
    "xs"
   ]
  },
  {
   "cell_type": "code",
   "execution_count": 188,
   "id": "f9e64e72-46c9-43f7-b432-018ca4e85bc1",
   "metadata": {},
   "outputs": [
    {
     "name": "stderr",
     "output_type": "stream",
     "text": [
      "/var/folders/tz/k1k21d6x7j1d90h0t6dqf5yc0000gn/T/ipykernel_45703/2157712442.py:7: FutureWarning: Series.__getitem__ treating keys as positions is deprecated. In a future version, integer keys will always be treated as labels (consistent with DataFrame behavior). To access a value by position, use `ser.iloc[pos]`\n",
      "  plt.plot([i, j], [xs[i], xs[j]], 'o', color='Red', markersize=10)\n"
     ]
    },
    {
     "data": {
      "text/plain": [
       "[<matplotlib.lines.Line2D at 0x2c53adf90>]"
      ]
     },
     "execution_count": 188,
     "metadata": {},
     "output_type": "execute_result"
    },
    {
     "data": {
      "image/png": "[encoded data removed]",
      "text/plain": [
       "<Figure size 640x480 with 1 Axes>"
      ]
     },
     "metadata": {},
     "output_type": "display_data"
    }
   ],
   "source": [
    "n=20\n",
    "xs = daily_return.cumsum()\n",
    "i = np.argmax(np.maximum.accumulate(xs) - xs) # end of the period\n",
    "j = np.argmax(xs[:i]) # start of period\n",
    "\n",
    "plt.plot(xs)\n",
    "plt.plot([i, j], [xs[i], xs[j]], 'o', color='Red', markersize=10)"
   ]
  },
  {
   "cell_type": "code",
   "execution_count": 187,
   "id": "9370bacc-28c2-4b27-bb7a-3ddbe5f8f48b",
   "metadata": {},
   "outputs": [
    {
     "name": "stderr",
     "output_type": "stream",
     "text": [
      "/var/folders/tz/k1k21d6x7j1d90h0t6dqf5yc0000gn/T/ipykernel_45703/3724533705.py:1: FutureWarning: Series.__getitem__ treating keys as positions is deprecated. In a future version, integer keys will always be treated as labels (consistent with DataFrame behavior). To access a value by position, use `ser.iloc[pos]`\n",
      "  xs[j]-xs[i]\n"
     ]
    },
    {
     "data": {
      "text/plain": [
       "505.1998729705889"
      ]
     },
     "execution_count": 187,
     "metadata": {},
     "output_type": "execute_result"
    }
   ],
   "source": [
    "xs[j]-xs[i]"
   ]
  }
 ],
 "metadata": {
  "kernelspec": {
   "display_name": "Python 3 (ipykernel)",
   "language": "python",
   "name": "python3"
  },
  "language_info": {
   "codemirror_mode": {
    "name": "ipython",
    "version": 3
   },
   "file_extension": ".py",
   "mimetype": "text/x-python",
   "name": "python",
   "nbconvert_exporter": "python",
   "pygments_lexer": "ipython3",
   "version": "3.11.7"
  }
 },
 "nbformat": 4,
 "nbformat_minor": 5
}
