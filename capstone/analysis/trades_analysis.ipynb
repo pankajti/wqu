{
 "cells": [
  {
   "cell_type": "code",
   "execution_count": 2,
   "id": "c01f47b2-42ae-4a5b-b380-6deae2d02d0c",
   "metadata": {},
   "outputs": [
    {
     "name": "stderr",
     "output_type": "stream",
     "text": [
      "/var/folders/tz/k1k21d6x7j1d90h0t6dqf5yc0000gn/T/ipykernel_45703/2032447191.py:5: DeprecationWarning: \n",
      "Pyarrow will become a required dependency of pandas in the next major release of pandas (pandas 3.0),\n",
      "(to allow more performant data types, such as the Arrow string type, and better interoperability with other libraries)\n",
      "but was not found to be installed on your system.\n",
      "If this would cause problems for you,\n",
      "please provide us feedback at https://github.com/pandas-dev/pandas/issues/54466\n",
      "        \n",
      "  import pandas as pd\n"
     ]
    }
   ],
   "source": [
    "import schedule\n",
    "import time\n",
    "import datetime as dt\n",
    "import logging\n",
    "import pandas as pd\n",
    "import numpy as np\n",
    "import pytz\n",
    "import sqlite3\n",
    "import sqlalchemy\n",
    "\n",
    "db_data_path = r'/Users/pankajti/dev/git/wqu/capstone/data/db/capstone.db'\n",
    "con = sqlite3.connect(db_data_path)\n",
    "dbEngine = sqlalchemy.create_engine(f'sqlite:///{db_data_path}')\n",
    "\n",
    "\n",
    "trades = pd.read_sql(\"select * from trades\",dbEngine)\n"
   ]
  },
  {
   "cell_type": "code",
   "execution_count": 3,
   "id": "99ae8838-b4cc-4035-82a4-d5ea369610cc",
   "metadata": {},
   "outputs": [
    {
     "data": {
      "text/html": [
       "<div>\n",
       "<style scoped>\n",
       "    .dataframe tbody tr th:only-of-type {\n",
       "        vertical-align: middle;\n",
       "    }\n",
       "\n",
       "    .dataframe tbody tr th {\n",
       "        vertical-align: top;\n",
       "    }\n",
       "\n",
       "    .dataframe thead th {\n",
       "        text-align: right;\n",
       "    }\n",
       "</style>\n",
       "<table border=\"1\" class=\"dataframe\">\n",
       "  <thead>\n",
       "    <tr style=\"text-align: right;\">\n",
       "      <th></th>\n",
       "      <th>trade_time</th>\n",
       "      <th>ticker</th>\n",
       "      <th>side</th>\n",
       "      <th>quantity</th>\n",
       "      <th>price</th>\n",
       "      <th>strategy</th>\n",
       "      <th>creatime</th>\n",
       "    </tr>\n",
       "  </thead>\n",
       "  <tbody>\n",
       "    <tr>\n",
       "      <th>0</th>\n",
       "      <td>2024-03-26 09:26:00+05:30</td>\n",
       "      <td>PASUPTAC.NS</td>\n",
       "      <td>buy</td>\n",
       "      <td>1</td>\n",
       "      <td>40.2999992370606</td>\n",
       "      <td>price_breakout</td>\n",
       "      <td>2024-04-19 11:11:32.999214</td>\n",
       "    </tr>\n",
       "    <tr>\n",
       "      <th>1</th>\n",
       "      <td>2024-03-26 14:03:00+05:30</td>\n",
       "      <td>SANGAMIND.NS</td>\n",
       "      <td>buy</td>\n",
       "      <td>1.0</td>\n",
       "      <td>448.350006103516</td>\n",
       "      <td>price_breakout</td>\n",
       "      <td>2024-04-19 11:19:10.088254</td>\n",
       "    </tr>\n",
       "    <tr>\n",
       "      <th>2</th>\n",
       "      <td>2024-03-26 14:05:00+05:30</td>\n",
       "      <td>GANDHITUBE.NS</td>\n",
       "      <td>buy</td>\n",
       "      <td>1.0</td>\n",
       "      <td>776.049987792969</td>\n",
       "      <td>price_breakout</td>\n",
       "      <td>2024-04-19 11:19:18.486934</td>\n",
       "    </tr>\n",
       "    <tr>\n",
       "      <th>3</th>\n",
       "      <td>2024-03-26 15:03:00+05:30</td>\n",
       "      <td>GANDHITUBE.NS</td>\n",
       "      <td>sell</td>\n",
       "      <td>1.0</td>\n",
       "      <td>740.900024414063</td>\n",
       "      <td>price_breakout</td>\n",
       "      <td>2024-04-19 11:20:46.621785</td>\n",
       "    </tr>\n",
       "    <tr>\n",
       "      <th>4</th>\n",
       "      <td>2024-03-26 15:04:00+05:30</td>\n",
       "      <td>SANGAMIND.NS</td>\n",
       "      <td>sell</td>\n",
       "      <td>1.0</td>\n",
       "      <td>454.0</td>\n",
       "      <td>price_breakout</td>\n",
       "      <td>2024-04-19 11:20:46.621785</td>\n",
       "    </tr>\n",
       "  </tbody>\n",
       "</table>\n",
       "</div>"
      ],
      "text/plain": [
       "                  trade_time         ticker  side quantity             price  \\\n",
       "0  2024-03-26 09:26:00+05:30    PASUPTAC.NS   buy        1  40.2999992370606   \n",
       "1  2024-03-26 14:03:00+05:30   SANGAMIND.NS   buy      1.0  448.350006103516   \n",
       "2  2024-03-26 14:05:00+05:30  GANDHITUBE.NS   buy      1.0  776.049987792969   \n",
       "3  2024-03-26 15:03:00+05:30  GANDHITUBE.NS  sell      1.0  740.900024414063   \n",
       "4  2024-03-26 15:04:00+05:30   SANGAMIND.NS  sell      1.0             454.0   \n",
       "\n",
       "         strategy                    creatime  \n",
       "0  price_breakout  2024-04-19 11:11:32.999214  \n",
       "1  price_breakout  2024-04-19 11:19:10.088254  \n",
       "2  price_breakout  2024-04-19 11:19:18.486934  \n",
       "3  price_breakout  2024-04-19 11:20:46.621785  \n",
       "4  price_breakout  2024-04-19 11:20:46.621785  "
      ]
     },
     "execution_count": 3,
     "metadata": {},
     "output_type": "execute_result"
    }
   ],
   "source": [
    "trades.head()"
   ]
  },
  {
   "cell_type": "code",
   "execution_count": 4,
   "id": "cb956323-91dc-49f5-9291-badedd5f7d37",
   "metadata": {},
   "outputs": [
    {
     "name": "stdout",
     "output_type": "stream",
     "text": [
      "<class 'pandas.core.frame.DataFrame'>\n",
      "RangeIndex: 170 entries, 0 to 169\n",
      "Data columns (total 7 columns):\n",
      " #   Column      Non-Null Count  Dtype \n",
      "---  ------      --------------  ----- \n",
      " 0   trade_time  170 non-null    object\n",
      " 1   ticker      170 non-null    object\n",
      " 2   side        170 non-null    object\n",
      " 3   quantity    170 non-null    object\n",
      " 4   price       170 non-null    object\n",
      " 5   strategy    170 non-null    object\n",
      " 6   creatime    170 non-null    object\n",
      "dtypes: object(7)\n",
      "memory usage: 9.4+ KB\n"
     ]
    }
   ],
   "source": [
    "trades.info()"
   ]
  },
  {
   "cell_type": "code",
   "execution_count": 5,
   "id": "1810687f-5e3b-42b6-a13f-e4236eb15b1b",
   "metadata": {},
   "outputs": [
    {
     "data": {
      "text/html": [
       "<div>\n",
       "<style scoped>\n",
       "    .dataframe tbody tr th:only-of-type {\n",
       "        vertical-align: middle;\n",
       "    }\n",
       "\n",
       "    .dataframe tbody tr th {\n",
       "        vertical-align: top;\n",
       "    }\n",
       "\n",
       "    .dataframe thead th {\n",
       "        text-align: right;\n",
       "    }\n",
       "</style>\n",
       "<table border=\"1\" class=\"dataframe\">\n",
       "  <thead>\n",
       "    <tr style=\"text-align: right;\">\n",
       "      <th></th>\n",
       "      <th>trade_time</th>\n",
       "      <th>ticker</th>\n",
       "      <th>side</th>\n",
       "      <th>quantity</th>\n",
       "      <th>price</th>\n",
       "      <th>strategy</th>\n",
       "      <th>creatime</th>\n",
       "    </tr>\n",
       "  </thead>\n",
       "  <tbody>\n",
       "    <tr>\n",
       "      <th>count</th>\n",
       "      <td>170</td>\n",
       "      <td>170</td>\n",
       "      <td>170</td>\n",
       "      <td>170</td>\n",
       "      <td>170</td>\n",
       "      <td>170</td>\n",
       "      <td>170</td>\n",
       "    </tr>\n",
       "    <tr>\n",
       "      <th>unique</th>\n",
       "      <td>108</td>\n",
       "      <td>80</td>\n",
       "      <td>2</td>\n",
       "      <td>2</td>\n",
       "      <td>166</td>\n",
       "      <td>1</td>\n",
       "      <td>84</td>\n",
       "    </tr>\n",
       "    <tr>\n",
       "      <th>top</th>\n",
       "      <td>2024-03-28 15:04:00+05:30</td>\n",
       "      <td>AGRITECH.NS</td>\n",
       "      <td>buy</td>\n",
       "      <td>1.0</td>\n",
       "      <td>37.0999984741211</td>\n",
       "      <td>price_breakout</td>\n",
       "      <td>2024-04-19 19:37:05.240720</td>\n",
       "    </tr>\n",
       "    <tr>\n",
       "      <th>freq</th>\n",
       "      <td>10</td>\n",
       "      <td>6</td>\n",
       "      <td>85</td>\n",
       "      <td>151</td>\n",
       "      <td>3</td>\n",
       "      <td>170</td>\n",
       "      <td>14</td>\n",
       "    </tr>\n",
       "  </tbody>\n",
       "</table>\n",
       "</div>"
      ],
      "text/plain": [
       "                       trade_time       ticker side quantity  \\\n",
       "count                         170          170  170      170   \n",
       "unique                        108           80    2        2   \n",
       "top     2024-03-28 15:04:00+05:30  AGRITECH.NS  buy      1.0   \n",
       "freq                           10            6   85      151   \n",
       "\n",
       "                   price        strategy                    creatime  \n",
       "count                170             170                         170  \n",
       "unique               166               1                          84  \n",
       "top     37.0999984741211  price_breakout  2024-04-19 19:37:05.240720  \n",
       "freq                   3             170                          14  "
      ]
     },
     "execution_count": 5,
     "metadata": {},
     "output_type": "execute_result"
    }
   ],
   "source": [
    "trades.describe()"
   ]
  },
  {
   "cell_type": "code",
   "execution_count": 8,
   "id": "25ad3adf-a074-477a-ba73-ebad7f994b54",
   "metadata": {},
   "outputs": [],
   "source": [
    "trades['tdate'] = trades.trade_time.str[:10]"
   ]
  },
  {
   "cell_type": "code",
   "execution_count": 9,
   "id": "e0791090-d719-4724-ab12-98339fdecca4",
   "metadata": {},
   "outputs": [
    {
     "data": {
      "text/html": [
       "<div>\n",
       "<style scoped>\n",
       "    .dataframe tbody tr th:only-of-type {\n",
       "        vertical-align: middle;\n",
       "    }\n",
       "\n",
       "    .dataframe tbody tr th {\n",
       "        vertical-align: top;\n",
       "    }\n",
       "\n",
       "    .dataframe thead th {\n",
       "        text-align: right;\n",
       "    }\n",
       "</style>\n",
       "<table border=\"1\" class=\"dataframe\">\n",
       "  <thead>\n",
       "    <tr style=\"text-align: right;\">\n",
       "      <th></th>\n",
       "      <th>trade_time</th>\n",
       "      <th>ticker</th>\n",
       "      <th>side</th>\n",
       "      <th>quantity</th>\n",
       "      <th>price</th>\n",
       "      <th>strategy</th>\n",
       "      <th>creatime</th>\n",
       "      <th>tdate</th>\n",
       "    </tr>\n",
       "  </thead>\n",
       "  <tbody>\n",
       "    <tr>\n",
       "      <th>0</th>\n",
       "      <td>2024-03-26 09:26:00+05:30</td>\n",
       "      <td>PASUPTAC.NS</td>\n",
       "      <td>buy</td>\n",
       "      <td>1</td>\n",
       "      <td>40.2999992370606</td>\n",
       "      <td>price_breakout</td>\n",
       "      <td>2024-04-19 11:11:32.999214</td>\n",
       "      <td>2024-03-26</td>\n",
       "    </tr>\n",
       "    <tr>\n",
       "      <th>1</th>\n",
       "      <td>2024-03-26 14:03:00+05:30</td>\n",
       "      <td>SANGAMIND.NS</td>\n",
       "      <td>buy</td>\n",
       "      <td>1.0</td>\n",
       "      <td>448.350006103516</td>\n",
       "      <td>price_breakout</td>\n",
       "      <td>2024-04-19 11:19:10.088254</td>\n",
       "      <td>2024-03-26</td>\n",
       "    </tr>\n",
       "    <tr>\n",
       "      <th>2</th>\n",
       "      <td>2024-03-26 14:05:00+05:30</td>\n",
       "      <td>GANDHITUBE.NS</td>\n",
       "      <td>buy</td>\n",
       "      <td>1.0</td>\n",
       "      <td>776.049987792969</td>\n",
       "      <td>price_breakout</td>\n",
       "      <td>2024-04-19 11:19:18.486934</td>\n",
       "      <td>2024-03-26</td>\n",
       "    </tr>\n",
       "    <tr>\n",
       "      <th>3</th>\n",
       "      <td>2024-03-26 15:03:00+05:30</td>\n",
       "      <td>GANDHITUBE.NS</td>\n",
       "      <td>sell</td>\n",
       "      <td>1.0</td>\n",
       "      <td>740.900024414063</td>\n",
       "      <td>price_breakout</td>\n",
       "      <td>2024-04-19 11:20:46.621785</td>\n",
       "      <td>2024-03-26</td>\n",
       "    </tr>\n",
       "    <tr>\n",
       "      <th>4</th>\n",
       "      <td>2024-03-26 15:04:00+05:30</td>\n",
       "      <td>SANGAMIND.NS</td>\n",
       "      <td>sell</td>\n",
       "      <td>1.0</td>\n",
       "      <td>454.0</td>\n",
       "      <td>price_breakout</td>\n",
       "      <td>2024-04-19 11:20:46.621785</td>\n",
       "      <td>2024-03-26</td>\n",
       "    </tr>\n",
       "    <tr>\n",
       "      <th>...</th>\n",
       "      <td>...</td>\n",
       "      <td>...</td>\n",
       "      <td>...</td>\n",
       "      <td>...</td>\n",
       "      <td>...</td>\n",
       "      <td>...</td>\n",
       "      <td>...</td>\n",
       "      <td>...</td>\n",
       "    </tr>\n",
       "    <tr>\n",
       "      <th>165</th>\n",
       "      <td>2024-04-18 13:22:00+05:30</td>\n",
       "      <td>INDORAMA.NS</td>\n",
       "      <td>buy</td>\n",
       "      <td>1.0</td>\n",
       "      <td>46.8499984741211</td>\n",
       "      <td>price_breakout</td>\n",
       "      <td>2024-04-20 01:16:33.924303</td>\n",
       "      <td>2024-04-18</td>\n",
       "    </tr>\n",
       "    <tr>\n",
       "      <th>166</th>\n",
       "      <td>2024-04-18 15:01:00+05:30</td>\n",
       "      <td>INDORAMA.NS</td>\n",
       "      <td>sell</td>\n",
       "      <td>1.0</td>\n",
       "      <td>44.2000007629395</td>\n",
       "      <td>price_breakout</td>\n",
       "      <td>2024-04-20 01:18:23.861961</td>\n",
       "      <td>2024-04-18</td>\n",
       "    </tr>\n",
       "    <tr>\n",
       "      <th>167</th>\n",
       "      <td>2024-04-18 15:04:00+05:30</td>\n",
       "      <td>MASTEK.NS</td>\n",
       "      <td>sell</td>\n",
       "      <td>1.0</td>\n",
       "      <td>2830.10009765625</td>\n",
       "      <td>price_breakout</td>\n",
       "      <td>2024-04-20 01:18:23.861961</td>\n",
       "      <td>2024-04-18</td>\n",
       "    </tr>\n",
       "    <tr>\n",
       "      <th>168</th>\n",
       "      <td>2024-04-18 15:04:00+05:30</td>\n",
       "      <td>HARSHA.NS</td>\n",
       "      <td>sell</td>\n",
       "      <td>1.0</td>\n",
       "      <td>416.149993896484</td>\n",
       "      <td>price_breakout</td>\n",
       "      <td>2024-04-20 01:18:23.861961</td>\n",
       "      <td>2024-04-18</td>\n",
       "    </tr>\n",
       "    <tr>\n",
       "      <th>169</th>\n",
       "      <td>2024-04-18 15:04:00+05:30</td>\n",
       "      <td>TPLPLASTEH.NS</td>\n",
       "      <td>sell</td>\n",
       "      <td>1.0</td>\n",
       "      <td>83.8499984741211</td>\n",
       "      <td>price_breakout</td>\n",
       "      <td>2024-04-20 01:18:23.861961</td>\n",
       "      <td>2024-04-18</td>\n",
       "    </tr>\n",
       "  </tbody>\n",
       "</table>\n",
       "<p>170 rows × 8 columns</p>\n",
       "</div>"
      ],
      "text/plain": [
       "                    trade_time         ticker  side quantity  \\\n",
       "0    2024-03-26 09:26:00+05:30    PASUPTAC.NS   buy        1   \n",
       "1    2024-03-26 14:03:00+05:30   SANGAMIND.NS   buy      1.0   \n",
       "2    2024-03-26 14:05:00+05:30  GANDHITUBE.NS   buy      1.0   \n",
       "3    2024-03-26 15:03:00+05:30  GANDHITUBE.NS  sell      1.0   \n",
       "4    2024-03-26 15:04:00+05:30   SANGAMIND.NS  sell      1.0   \n",
       "..                         ...            ...   ...      ...   \n",
       "165  2024-04-18 13:22:00+05:30    INDORAMA.NS   buy      1.0   \n",
       "166  2024-04-18 15:01:00+05:30    INDORAMA.NS  sell      1.0   \n",
       "167  2024-04-18 15:04:00+05:30      MASTEK.NS  sell      1.0   \n",
       "168  2024-04-18 15:04:00+05:30      HARSHA.NS  sell      1.0   \n",
       "169  2024-04-18 15:04:00+05:30  TPLPLASTEH.NS  sell      1.0   \n",
       "\n",
       "                price        strategy                    creatime       tdate  \n",
       "0    40.2999992370606  price_breakout  2024-04-19 11:11:32.999214  2024-03-26  \n",
       "1    448.350006103516  price_breakout  2024-04-19 11:19:10.088254  2024-03-26  \n",
       "2    776.049987792969  price_breakout  2024-04-19 11:19:18.486934  2024-03-26  \n",
       "3    740.900024414063  price_breakout  2024-04-19 11:20:46.621785  2024-03-26  \n",
       "4               454.0  price_breakout  2024-04-19 11:20:46.621785  2024-03-26  \n",
       "..                ...             ...                         ...         ...  \n",
       "165  46.8499984741211  price_breakout  2024-04-20 01:16:33.924303  2024-04-18  \n",
       "166  44.2000007629395  price_breakout  2024-04-20 01:18:23.861961  2024-04-18  \n",
       "167  2830.10009765625  price_breakout  2024-04-20 01:18:23.861961  2024-04-18  \n",
       "168  416.149993896484  price_breakout  2024-04-20 01:18:23.861961  2024-04-18  \n",
       "169  83.8499984741211  price_breakout  2024-04-20 01:18:23.861961  2024-04-18  \n",
       "\n",
       "[170 rows x 8 columns]"
      ]
     },
     "execution_count": 9,
     "metadata": {},
     "output_type": "execute_result"
    }
   ],
   "source": [
    "trades"
   ]
  },
  {
   "cell_type": "code",
   "execution_count": 11,
   "id": "e3c327b4-e42c-4118-85fb-be994925aa79",
   "metadata": {},
   "outputs": [],
   "source": [
    "trades_data = trades[['tdate', 'ticker', 'side','quantity' , 'price']]"
   ]
  },
  {
   "cell_type": "code",
   "execution_count": 20,
   "id": "b93d0a75-ccb4-4ac9-89ed-a93f58577af9",
   "metadata": {},
   "outputs": [
    {
     "name": "stderr",
     "output_type": "stream",
     "text": [
      "/var/folders/tz/k1k21d6x7j1d90h0t6dqf5yc0000gn/T/ipykernel_45703/686818239.py:1: SettingWithCopyWarning: \n",
      "A value is trying to be set on a copy of a slice from a DataFrame.\n",
      "Try using .loc[row_indexer,col_indexer] = value instead\n",
      "\n",
      "See the caveats in the documentation: https://pandas.pydata.org/pandas-docs/stable/user_guide/indexing.html#returning-a-view-versus-a-copy\n",
      "  trades_data['price'] = trades_data.price.astype(float)\n"
     ]
    }
   ],
   "source": [
    "trades_data['price'] = trades_data.price.astype(float)"
   ]
  },
  {
   "cell_type": "code",
   "execution_count": 28,
   "id": "b1fc9a70-e385-45f4-8ba2-1cc5650e343d",
   "metadata": {},
   "outputs": [
    {
     "name": "stderr",
     "output_type": "stream",
     "text": [
      "/var/folders/tz/k1k21d6x7j1d90h0t6dqf5yc0000gn/T/ipykernel_45703/3875672729.py:1: SettingWithCopyWarning: \n",
      "A value is trying to be set on a copy of a slice from a DataFrame.\n",
      "Try using .loc[row_indexer,col_indexer] = value instead\n",
      "\n",
      "See the caveats in the documentation: https://pandas.pydata.org/pandas-docs/stable/user_guide/indexing.html#returning-a-view-versus-a-copy\n",
      "  trades_data['side'] =  trades_data.apply(lambda x : 1 if x['side']=='buy' else -1, axis =1 )*trades_data.quantity.astype(float)\n"
     ]
    }
   ],
   "source": [
    "trades_data['side'] =  trades_data.apply(lambda x : 1 if x['side']=='buy' else -1, axis =1 )*trades_data.quantity.astype(float)"
   ]
  },
  {
   "cell_type": "code",
   "execution_count": 34,
   "id": "e17dbfda-e4b4-485e-b6d1-b1967d27de23",
   "metadata": {},
   "outputs": [
    {
     "name": "stderr",
     "output_type": "stream",
     "text": [
      "/var/folders/tz/k1k21d6x7j1d90h0t6dqf5yc0000gn/T/ipykernel_45703/724449048.py:1: SettingWithCopyWarning: \n",
      "A value is trying to be set on a copy of a slice from a DataFrame.\n",
      "Try using .loc[row_indexer,col_indexer] = value instead\n",
      "\n",
      "See the caveats in the documentation: https://pandas.pydata.org/pandas-docs/stable/user_guide/indexing.html#returning-a-view-versus-a-copy\n",
      "  trades_data['trades_cost'] = trades_data['side']*trades_data.price\n"
     ]
    }
   ],
   "source": [
    "trades_data['trades_cost'] = trades_data['side']*trades_data.price"
   ]
  },
  {
   "cell_type": "code",
   "execution_count": 35,
   "id": "90ba09bd-dadf-4081-b891-d3d0775ec5a8",
   "metadata": {},
   "outputs": [
    {
     "data": {
      "text/plain": [
       "ticker\n",
       "ADVANIHOTR.NS    -177.799995\n",
       "AEGISCHEM.NS    -1044.100037\n",
       "AGRITECH.NS     -1363.300003\n",
       "AHLADA.NS        -235.250000\n",
       "AMJLAND.NS        -69.549999\n",
       "                    ...     \n",
       "VINYLINDIA.NS    -758.200012\n",
       "WEALTH.NS       -1303.950012\n",
       "YUKEN.NS        -1867.400024\n",
       "ZENITHEXPO.NS    -349.849991\n",
       "ZUARI.NS         -406.449997\n",
       "Name: trades_cost, Length: 80, dtype: float64"
      ]
     },
     "execution_count": 35,
     "metadata": {},
     "output_type": "execute_result"
    }
   ],
   "source": [
    "trades_data.groupby('ticker').sum()['trades_cost']"
   ]
  },
  {
   "cell_type": "code",
   "execution_count": 37,
   "id": "4a171713-0207-4e91-8b65-c77c6155be65",
   "metadata": {},
   "outputs": [
    {
     "data": {
      "text/plain": [
       "tdate\n",
       "2024-03-26    -2496.700016\n",
       "2024-03-27    -3710.649971\n",
       "2024-03-28    -5351.500042\n",
       "2024-04-01    -9200.750046\n",
       "2024-04-02   -12318.800001\n",
       "2024-04-03    -4082.950005\n",
       "2024-04-10    -4857.150047\n",
       "2024-04-12    -8405.950043\n",
       "2024-04-15    -6228.750019\n",
       "2024-04-16    -5485.650059\n",
       "2024-04-18    -7008.049992\n",
       "Name: trades_cost, dtype: float64"
      ]
     },
     "execution_count": 37,
     "metadata": {},
     "output_type": "execute_result"
    }
   ],
   "source": [
    "trades_data.groupby('tdate').sum()['trades_cost']"
   ]
  },
  {
   "cell_type": "code",
   "execution_count": 38,
   "id": "9375e2ab-9640-4bdb-9662-69d992f72464",
   "metadata": {},
   "outputs": [
    {
     "data": {
      "text/plain": [
       "<Axes: xlabel='tdate'>"
      ]
     },
     "execution_count": 38,
     "metadata": {},
     "output_type": "execute_result"
    },
    {
     "data": {
      "image/png": "[encoded data removed]",
      "text/plain": [
       "<Figure size 640x480 with 1 Axes>"
      ]
     },
     "metadata": {},
     "output_type": "display_data"
    }
   ],
   "source": [
    "trades_data.groupby('tdate').sum()['trades_cost'].plot(kind='bar')"
   ]
  }
 ],
 "metadata": {
  "kernelspec": {
   "display_name": "Python 3 (ipykernel)",
   "language": "python",
   "name": "python3"
  },
  "language_info": {
   "codemirror_mode": {
    "name": "ipython",
    "version": 3
   },
   "file_extension": ".py",
   "mimetype": "text/x-python",
   "name": "python",
   "nbconvert_exporter": "python",
   "pygments_lexer": "ipython3",
   "version": "3.11.7"
  }
 },
 "nbformat": 4,
 "nbformat_minor": 5
}
