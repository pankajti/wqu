{
 "cells": [
  {
   "cell_type": "code",
   "execution_count": 2,
   "id": "c01f47b2-42ae-4a5b-b380-6deae2d02d0c",
   "metadata": {},
   "outputs": [
    {
     "name": "stderr",
     "output_type": "stream",
     "text": [
      "/var/folders/tz/k1k21d6x7j1d90h0t6dqf5yc0000gn/T/ipykernel_67404/2304959270.py:5: DeprecationWarning: \n",
      "Pyarrow will become a required dependency of pandas in the next major release of pandas (pandas 3.0),\n",
      "(to allow more performant data types, such as the Arrow string type, and better interoperability with other libraries)\n",
      "but was not found to be installed on your system.\n",
      "If this would cause problems for you,\n",
      "please provide us feedback at https://github.com/pandas-dev/pandas/issues/54466\n",
      "        \n",
      "  import pandas as pd\n"
     ]
    }
   ],
   "source": [
    "import schedule\n",
    "import time\n",
    "import datetime as dt\n",
    "import logging\n",
    "import pandas as pd\n",
    "import numpy as np\n",
    "import pytz\n",
    "import sqlite3\n",
    "import sqlalchemy\n",
    "\n",
    "db_data_path = r'/Users/pankajti/dev/git/wqu/capstone/data/db/capstone.db'\n",
    "con = sqlite3.connect(db_data_path)\n",
    "dbEngine = sqlalchemy.create_engine(f'sqlite:///{db_data_path}')\n",
    "\n",
    "\n",
    "trades = pd.read_sql(\"select * from trades where strategy ='opening_range_breakout' and version = 1714233201 \",dbEngine)\n"
   ]
  },
  {
   "cell_type": "code",
   "execution_count": 3,
   "id": "99ae8838-b4cc-4035-82a4-d5ea369610cc",
   "metadata": {},
   "outputs": [
    {
     "data": {
      "text/html": [
       "<div>\n",
       "<style scoped>\n",
       "    .dataframe tbody tr th:only-of-type {\n",
       "        vertical-align: middle;\n",
       "    }\n",
       "\n",
       "    .dataframe tbody tr th {\n",
       "        vertical-align: top;\n",
       "    }\n",
       "\n",
       "    .dataframe thead th {\n",
       "        text-align: right;\n",
       "    }\n",
       "</style>\n",
       "<table border=\"1\" class=\"dataframe\">\n",
       "  <thead>\n",
       "    <tr style=\"text-align: right;\">\n",
       "      <th></th>\n",
       "      <th>trade_time</th>\n",
       "      <th>ticker</th>\n",
       "      <th>side</th>\n",
       "      <th>quantity</th>\n",
       "      <th>price</th>\n",
       "      <th>strategy</th>\n",
       "      <th>creatime</th>\n",
       "      <th>version</th>\n",
       "    </tr>\n",
       "  </thead>\n",
       "  <tbody>\n",
       "    <tr>\n",
       "      <th>0</th>\n",
       "      <td>2024-03-26 09:54:00+05:30</td>\n",
       "      <td>ITC.NS</td>\n",
       "      <td>1</td>\n",
       "      <td>1</td>\n",
       "      <td>428.799987792969</td>\n",
       "      <td>opening_range_breakout</td>\n",
       "      <td>2024-04-27 23:53:31.972306</td>\n",
       "      <td>1714233201</td>\n",
       "    </tr>\n",
       "    <tr>\n",
       "      <th>1</th>\n",
       "      <td>2024-03-26 09:54:00+05:30</td>\n",
       "      <td>LT.NS</td>\n",
       "      <td>1</td>\n",
       "      <td>1</td>\n",
       "      <td>3618.0</td>\n",
       "      <td>opening_range_breakout</td>\n",
       "      <td>2024-04-27 23:53:31.972306</td>\n",
       "      <td>1714233201</td>\n",
       "    </tr>\n",
       "    <tr>\n",
       "      <th>2</th>\n",
       "      <td>2024-03-26 09:54:00+05:30</td>\n",
       "      <td>BAJFINANCE.NS</td>\n",
       "      <td>1</td>\n",
       "      <td>1</td>\n",
       "      <td>6928.2001953125</td>\n",
       "      <td>opening_range_breakout</td>\n",
       "      <td>2024-04-27 23:53:31.972306</td>\n",
       "      <td>1714233201</td>\n",
       "    </tr>\n",
       "    <tr>\n",
       "      <th>3</th>\n",
       "      <td>2024-03-26 09:54:00+05:30</td>\n",
       "      <td>KOTAKBANK.NS</td>\n",
       "      <td>-1</td>\n",
       "      <td>-1</td>\n",
       "      <td>1765.55004882813</td>\n",
       "      <td>opening_range_breakout</td>\n",
       "      <td>2024-04-27 23:53:31.972306</td>\n",
       "      <td>1714233201</td>\n",
       "    </tr>\n",
       "    <tr>\n",
       "      <th>4</th>\n",
       "      <td>2024-03-26 09:54:00+05:30</td>\n",
       "      <td>NTPC.NS</td>\n",
       "      <td>1</td>\n",
       "      <td>1</td>\n",
       "      <td>326.0</td>\n",
       "      <td>opening_range_breakout</td>\n",
       "      <td>2024-04-27 23:53:31.972306</td>\n",
       "      <td>1714233201</td>\n",
       "    </tr>\n",
       "  </tbody>\n",
       "</table>\n",
       "</div>"
      ],
      "text/plain": [
       "                  trade_time         ticker side quantity             price  \\\n",
       "0  2024-03-26 09:54:00+05:30         ITC.NS    1        1  428.799987792969   \n",
       "1  2024-03-26 09:54:00+05:30          LT.NS    1        1            3618.0   \n",
       "2  2024-03-26 09:54:00+05:30  BAJFINANCE.NS    1        1   6928.2001953125   \n",
       "3  2024-03-26 09:54:00+05:30   KOTAKBANK.NS   -1       -1  1765.55004882813   \n",
       "4  2024-03-26 09:54:00+05:30        NTPC.NS    1        1             326.0   \n",
       "\n",
       "                 strategy                    creatime     version  \n",
       "0  opening_range_breakout  2024-04-27 23:53:31.972306  1714233201  \n",
       "1  opening_range_breakout  2024-04-27 23:53:31.972306  1714233201  \n",
       "2  opening_range_breakout  2024-04-27 23:53:31.972306  1714233201  \n",
       "3  opening_range_breakout  2024-04-27 23:53:31.972306  1714233201  \n",
       "4  opening_range_breakout  2024-04-27 23:53:31.972306  1714233201  "
      ]
     },
     "execution_count": 3,
     "metadata": {},
     "output_type": "execute_result"
    }
   ],
   "source": [
    "trades.head()"
   ]
  },
  {
   "cell_type": "code",
   "execution_count": 4,
   "id": "cb956323-91dc-49f5-9291-badedd5f7d37",
   "metadata": {
    "scrolled": true
   },
   "outputs": [
    {
     "name": "stdout",
     "output_type": "stream",
     "text": [
      "<class 'pandas.core.frame.DataFrame'>\n",
      "RangeIndex: 311854 entries, 0 to 311853\n",
      "Data columns (total 8 columns):\n",
      " #   Column      Non-Null Count   Dtype \n",
      "---  ------      --------------   ----- \n",
      " 0   trade_time  311854 non-null  object\n",
      " 1   ticker      311854 non-null  object\n",
      " 2   side        311854 non-null  object\n",
      " 3   quantity    311854 non-null  object\n",
      " 4   price       311854 non-null  object\n",
      " 5   strategy    311854 non-null  object\n",
      " 6   creatime    311854 non-null  object\n",
      " 7   version     311854 non-null  int64 \n",
      "dtypes: int64(1), object(7)\n",
      "memory usage: 19.0+ MB\n"
     ]
    }
   ],
   "source": [
    "trades.info()"
   ]
  },
  {
   "cell_type": "code",
   "execution_count": 5,
   "id": "1810687f-5e3b-42b6-a13f-e4236eb15b1b",
   "metadata": {
    "scrolled": true
   },
   "outputs": [
    {
     "data": {
      "text/html": [
       "<div>\n",
       "<style scoped>\n",
       "    .dataframe tbody tr th:only-of-type {\n",
       "        vertical-align: middle;\n",
       "    }\n",
       "\n",
       "    .dataframe tbody tr th {\n",
       "        vertical-align: top;\n",
       "    }\n",
       "\n",
       "    .dataframe thead th {\n",
       "        text-align: right;\n",
       "    }\n",
       "</style>\n",
       "<table border=\"1\" class=\"dataframe\">\n",
       "  <thead>\n",
       "    <tr style=\"text-align: right;\">\n",
       "      <th></th>\n",
       "      <th>version</th>\n",
       "    </tr>\n",
       "  </thead>\n",
       "  <tbody>\n",
       "    <tr>\n",
       "      <th>count</th>\n",
       "      <td>3.118540e+05</td>\n",
       "    </tr>\n",
       "    <tr>\n",
       "      <th>mean</th>\n",
       "      <td>1.714233e+09</td>\n",
       "    </tr>\n",
       "    <tr>\n",
       "      <th>std</th>\n",
       "      <td>0.000000e+00</td>\n",
       "    </tr>\n",
       "    <tr>\n",
       "      <th>min</th>\n",
       "      <td>1.714233e+09</td>\n",
       "    </tr>\n",
       "    <tr>\n",
       "      <th>25%</th>\n",
       "      <td>1.714233e+09</td>\n",
       "    </tr>\n",
       "    <tr>\n",
       "      <th>50%</th>\n",
       "      <td>1.714233e+09</td>\n",
       "    </tr>\n",
       "    <tr>\n",
       "      <th>75%</th>\n",
       "      <td>1.714233e+09</td>\n",
       "    </tr>\n",
       "    <tr>\n",
       "      <th>max</th>\n",
       "      <td>1.714233e+09</td>\n",
       "    </tr>\n",
       "  </tbody>\n",
       "</table>\n",
       "</div>"
      ],
      "text/plain": [
       "            version\n",
       "count  3.118540e+05\n",
       "mean   1.714233e+09\n",
       "std    0.000000e+00\n",
       "min    1.714233e+09\n",
       "25%    1.714233e+09\n",
       "50%    1.714233e+09\n",
       "75%    1.714233e+09\n",
       "max    1.714233e+09"
      ]
     },
     "execution_count": 5,
     "metadata": {},
     "output_type": "execute_result"
    }
   ],
   "source": [
    "trades.describe()"
   ]
  },
  {
   "cell_type": "code",
   "execution_count": 6,
   "id": "25ad3adf-a074-477a-ba73-ebad7f994b54",
   "metadata": {},
   "outputs": [],
   "source": [
    "trades['tdate'] = trades.trade_time.str[:10]"
   ]
  },
  {
   "cell_type": "code",
   "execution_count": 7,
   "id": "e0791090-d719-4724-ab12-98339fdecca4",
   "metadata": {},
   "outputs": [
    {
     "data": {
      "text/html": [
       "<div>\n",
       "<style scoped>\n",
       "    .dataframe tbody tr th:only-of-type {\n",
       "        vertical-align: middle;\n",
       "    }\n",
       "\n",
       "    .dataframe tbody tr th {\n",
       "        vertical-align: top;\n",
       "    }\n",
       "\n",
       "    .dataframe thead th {\n",
       "        text-align: right;\n",
       "    }\n",
       "</style>\n",
       "<table border=\"1\" class=\"dataframe\">\n",
       "  <thead>\n",
       "    <tr style=\"text-align: right;\">\n",
       "      <th></th>\n",
       "      <th>trade_time</th>\n",
       "      <th>ticker</th>\n",
       "      <th>side</th>\n",
       "      <th>quantity</th>\n",
       "      <th>price</th>\n",
       "      <th>strategy</th>\n",
       "      <th>creatime</th>\n",
       "      <th>version</th>\n",
       "      <th>tdate</th>\n",
       "    </tr>\n",
       "  </thead>\n",
       "  <tbody>\n",
       "    <tr>\n",
       "      <th>279139</th>\n",
       "      <td>2024-04-25 14:09:00.000000</td>\n",
       "      <td>20MICRONS.NS</td>\n",
       "      <td>-1</td>\n",
       "      <td>-2097152.0</td>\n",
       "      <td>158.649993896484</td>\n",
       "      <td>opening_range_breakout</td>\n",
       "      <td>2024-04-28 00:48:28.892282</td>\n",
       "      <td>1714233201</td>\n",
       "      <td>2024-04-25</td>\n",
       "    </tr>\n",
       "    <tr>\n",
       "      <th>304550</th>\n",
       "      <td>2024-04-26 14:04:00.000000</td>\n",
       "      <td>20MICRONS.NS</td>\n",
       "      <td>-1</td>\n",
       "      <td>-131072.0</td>\n",
       "      <td>161.449996948242</td>\n",
       "      <td>opening_range_breakout</td>\n",
       "      <td>2024-04-28 00:50:12.802989</td>\n",
       "      <td>1714233201</td>\n",
       "      <td>2024-04-26</td>\n",
       "    </tr>\n",
       "    <tr>\n",
       "      <th>237683</th>\n",
       "      <td>2024-04-23 14:24:00.000000</td>\n",
       "      <td>20MICRONS.NS</td>\n",
       "      <td>-1</td>\n",
       "      <td>-8192.0</td>\n",
       "      <td>152.5</td>\n",
       "      <td>opening_range_breakout</td>\n",
       "      <td>2024-04-28 00:45:07.236228</td>\n",
       "      <td>1714233201</td>\n",
       "      <td>2024-04-23</td>\n",
       "    </tr>\n",
       "    <tr>\n",
       "      <th>91284</th>\n",
       "      <td>2024-04-01 15:04:00+05:30</td>\n",
       "      <td>20MICRONS.NS</td>\n",
       "      <td>sell</td>\n",
       "      <td>1.0</td>\n",
       "      <td>147.300003051758</td>\n",
       "      <td>opening_range_breakout</td>\n",
       "      <td>2024-04-28 00:13:38.250431</td>\n",
       "      <td>1714233201</td>\n",
       "      <td>2024-04-01</td>\n",
       "    </tr>\n",
       "    <tr>\n",
       "      <th>12801</th>\n",
       "      <td>2024-03-26 13:29:00+05:30</td>\n",
       "      <td>20MICRONS.NS</td>\n",
       "      <td>-1</td>\n",
       "      <td>-1024.0</td>\n",
       "      <td>144.199996948242</td>\n",
       "      <td>opening_range_breakout</td>\n",
       "      <td>2024-04-27 23:56:39.556934</td>\n",
       "      <td>1714233201</td>\n",
       "      <td>2024-03-26</td>\n",
       "    </tr>\n",
       "    <tr>\n",
       "      <th>...</th>\n",
       "      <td>...</td>\n",
       "      <td>...</td>\n",
       "      <td>...</td>\n",
       "      <td>...</td>\n",
       "      <td>...</td>\n",
       "      <td>...</td>\n",
       "      <td>...</td>\n",
       "      <td>...</td>\n",
       "      <td>...</td>\n",
       "    </tr>\n",
       "    <tr>\n",
       "      <th>74239</th>\n",
       "      <td>2024-03-28 14:24:00+05:30</td>\n",
       "      <td>ZYDUSWELL.NS</td>\n",
       "      <td>-1</td>\n",
       "      <td>-4194304.0</td>\n",
       "      <td>1472.09997558594</td>\n",
       "      <td>opening_range_breakout</td>\n",
       "      <td>2024-04-28 00:07:52.404384</td>\n",
       "      <td>1714233201</td>\n",
       "      <td>2024-03-28</td>\n",
       "    </tr>\n",
       "    <tr>\n",
       "      <th>69591</th>\n",
       "      <td>2024-03-28 13:34:00+05:30</td>\n",
       "      <td>ZYDUSWELL.NS</td>\n",
       "      <td>-1</td>\n",
       "      <td>-32768.0</td>\n",
       "      <td>1477.44995117188</td>\n",
       "      <td>opening_range_breakout</td>\n",
       "      <td>2024-04-28 00:07:06.897466</td>\n",
       "      <td>1714233201</td>\n",
       "      <td>2024-03-28</td>\n",
       "    </tr>\n",
       "    <tr>\n",
       "      <th>239957</th>\n",
       "      <td>2024-04-23 14:59:00.000000</td>\n",
       "      <td>ZYDUSWELL.NS</td>\n",
       "      <td>-1</td>\n",
       "      <td>-4194304.0</td>\n",
       "      <td>1632.94995117188</td>\n",
       "      <td>opening_range_breakout</td>\n",
       "      <td>2024-04-28 00:45:17.343783</td>\n",
       "      <td>1714233201</td>\n",
       "      <td>2024-04-23</td>\n",
       "    </tr>\n",
       "    <tr>\n",
       "      <th>169163</th>\n",
       "      <td>2024-04-16 09:54:00+05:30</td>\n",
       "      <td>ZYDUSWELL.NS</td>\n",
       "      <td>1</td>\n",
       "      <td>1.0</td>\n",
       "      <td>1610.0</td>\n",
       "      <td>opening_range_breakout</td>\n",
       "      <td>2024-04-28 00:34:35.178884</td>\n",
       "      <td>1714233201</td>\n",
       "      <td>2024-04-16</td>\n",
       "    </tr>\n",
       "    <tr>\n",
       "      <th>234943</th>\n",
       "      <td>2024-04-23 13:44:00.000000</td>\n",
       "      <td>ZYDUSWELL.NS</td>\n",
       "      <td>-1</td>\n",
       "      <td>-1024.0</td>\n",
       "      <td>1623.15002441406</td>\n",
       "      <td>opening_range_breakout</td>\n",
       "      <td>2024-04-28 00:44:55.738789</td>\n",
       "      <td>1714233201</td>\n",
       "      <td>2024-04-23</td>\n",
       "    </tr>\n",
       "  </tbody>\n",
       "</table>\n",
       "<p>311854 rows × 9 columns</p>\n",
       "</div>"
      ],
      "text/plain": [
       "                        trade_time        ticker  side    quantity  \\\n",
       "279139  2024-04-25 14:09:00.000000  20MICRONS.NS    -1  -2097152.0   \n",
       "304550  2024-04-26 14:04:00.000000  20MICRONS.NS    -1   -131072.0   \n",
       "237683  2024-04-23 14:24:00.000000  20MICRONS.NS    -1     -8192.0   \n",
       "91284    2024-04-01 15:04:00+05:30  20MICRONS.NS  sell         1.0   \n",
       "12801    2024-03-26 13:29:00+05:30  20MICRONS.NS    -1     -1024.0   \n",
       "...                            ...           ...   ...         ...   \n",
       "74239    2024-03-28 14:24:00+05:30  ZYDUSWELL.NS    -1  -4194304.0   \n",
       "69591    2024-03-28 13:34:00+05:30  ZYDUSWELL.NS    -1    -32768.0   \n",
       "239957  2024-04-23 14:59:00.000000  ZYDUSWELL.NS    -1  -4194304.0   \n",
       "169163   2024-04-16 09:54:00+05:30  ZYDUSWELL.NS     1         1.0   \n",
       "234943  2024-04-23 13:44:00.000000  ZYDUSWELL.NS    -1     -1024.0   \n",
       "\n",
       "                   price                strategy                    creatime  \\\n",
       "279139  158.649993896484  opening_range_breakout  2024-04-28 00:48:28.892282   \n",
       "304550  161.449996948242  opening_range_breakout  2024-04-28 00:50:12.802989   \n",
       "237683             152.5  opening_range_breakout  2024-04-28 00:45:07.236228   \n",
       "91284   147.300003051758  opening_range_breakout  2024-04-28 00:13:38.250431   \n",
       "12801   144.199996948242  opening_range_breakout  2024-04-27 23:56:39.556934   \n",
       "...                  ...                     ...                         ...   \n",
       "74239   1472.09997558594  opening_range_breakout  2024-04-28 00:07:52.404384   \n",
       "69591   1477.44995117188  opening_range_breakout  2024-04-28 00:07:06.897466   \n",
       "239957  1632.94995117188  opening_range_breakout  2024-04-28 00:45:17.343783   \n",
       "169163            1610.0  opening_range_breakout  2024-04-28 00:34:35.178884   \n",
       "234943  1623.15002441406  opening_range_breakout  2024-04-28 00:44:55.738789   \n",
       "\n",
       "           version       tdate  \n",
       "279139  1714233201  2024-04-25  \n",
       "304550  1714233201  2024-04-26  \n",
       "237683  1714233201  2024-04-23  \n",
       "91284   1714233201  2024-04-01  \n",
       "12801   1714233201  2024-03-26  \n",
       "...            ...         ...  \n",
       "74239   1714233201  2024-03-28  \n",
       "69591   1714233201  2024-03-28  \n",
       "239957  1714233201  2024-04-23  \n",
       "169163  1714233201  2024-04-16  \n",
       "234943  1714233201  2024-04-23  \n",
       "\n",
       "[311854 rows x 9 columns]"
      ]
     },
     "execution_count": 7,
     "metadata": {},
     "output_type": "execute_result"
    }
   ],
   "source": [
    "trades.sort_values('ticker')"
   ]
  },
  {
   "cell_type": "code",
   "execution_count": 8,
   "id": "e3c327b4-e42c-4118-85fb-be994925aa79",
   "metadata": {},
   "outputs": [],
   "source": [
    "trades_data = trades[['tdate', 'ticker', 'side','quantity' , 'price']]"
   ]
  },
  {
   "cell_type": "code",
   "execution_count": 9,
   "id": "b93d0a75-ccb4-4ac9-89ed-a93f58577af9",
   "metadata": {},
   "outputs": [
    {
     "name": "stderr",
     "output_type": "stream",
     "text": [
      "/var/folders/tz/k1k21d6x7j1d90h0t6dqf5yc0000gn/T/ipykernel_67404/686818239.py:1: SettingWithCopyWarning: \n",
      "A value is trying to be set on a copy of a slice from a DataFrame.\n",
      "Try using .loc[row_indexer,col_indexer] = value instead\n",
      "\n",
      "See the caveats in the documentation: https://pandas.pydata.org/pandas-docs/stable/user_guide/indexing.html#returning-a-view-versus-a-copy\n",
      "  trades_data['price'] = trades_data.price.astype(float)\n"
     ]
    }
   ],
   "source": [
    "trades_data['price'] = trades_data.price.astype(float)"
   ]
  },
  {
   "cell_type": "code",
   "execution_count": 10,
   "id": "b1fc9a70-e385-45f4-8ba2-1cc5650e343d",
   "metadata": {
    "scrolled": true
   },
   "outputs": [],
   "source": [
    "#trades_data['side'] =  trades_data.apply(lambda x : 1 if x['side']=='buy' else -1, axis =1 )*trades_data.quantity.astype(float)"
   ]
  },
  {
   "cell_type": "code",
   "execution_count": 11,
   "id": "e17dbfda-e4b4-485e-b6d1-b1967d27de23",
   "metadata": {
    "scrolled": true
   },
   "outputs": [],
   "source": [
    "#trades_data['trades_cost'] = trades_data['side']*trades_data.price"
   ]
  },
  {
   "cell_type": "code",
   "execution_count": 12,
   "id": "4529ce42-e645-4f39-a065-67ec9cc0b940",
   "metadata": {},
   "outputs": [],
   "source": [
    "trades_data= trades_data.pivot_table(index= ['tdate','ticker'], columns =['side'], values=['price'] )"
   ]
  },
  {
   "cell_type": "code",
   "execution_count": 13,
   "id": "7b9450ba-82e5-40bd-88ca-20de3bb1ea8d",
   "metadata": {},
   "outputs": [],
   "source": [
    "trades_data=trades_data.T.reset_index().T.reset_index()[2:].rename({0:'buy',1:'sell'},axis=1).dropna()"
   ]
  },
  {
   "cell_type": "code",
   "execution_count": 14,
   "id": "90ba09bd-dadf-4081-b891-d3d0775ec5a8",
   "metadata": {},
   "outputs": [],
   "source": [
    "trades_data['ret']=(trades_data.sell-trades_data.buy)/trades_data.buy"
   ]
  },
  {
   "cell_type": "code",
   "execution_count": 15,
   "id": "f03435e8-eb53-4c55-8c7d-7d350f6c4544",
   "metadata": {},
   "outputs": [],
   "source": [
    "trades_data['ret_perc']=100*((trades_data.sell-trades_data.buy)/trades_data.buy)"
   ]
  },
  {
   "cell_type": "code",
   "execution_count": 16,
   "id": "aeb16e73-d9e7-4319-a45a-0a047edfc6e8",
   "metadata": {},
   "outputs": [],
   "source": [
    "trades_data['tc']=.005*(trades_data.buy+trades_data.sell)"
   ]
  },
  {
   "cell_type": "code",
   "execution_count": 17,
   "id": "704962e9-a965-4c7d-b107-0660d1a3af75",
   "metadata": {},
   "outputs": [],
   "source": [
    "trades_data['ret_perc_ac']=100*((trades_data.sell-trades_data.buy-trades_data.tc)/trades_data.buy)"
   ]
  },
  {
   "cell_type": "code",
   "execution_count": 18,
   "id": "a9e26060-9475-415c-8ef5-a900e430db24",
   "metadata": {
    "scrolled": true
   },
   "outputs": [
    {
     "data": {
      "text/html": [
       "<div>\n",
       "<style scoped>\n",
       "    .dataframe tbody tr th:only-of-type {\n",
       "        vertical-align: middle;\n",
       "    }\n",
       "\n",
       "    .dataframe tbody tr th {\n",
       "        vertical-align: top;\n",
       "    }\n",
       "\n",
       "    .dataframe thead th {\n",
       "        text-align: right;\n",
       "    }\n",
       "</style>\n",
       "<table border=\"1\" class=\"dataframe\">\n",
       "  <thead>\n",
       "    <tr style=\"text-align: right;\">\n",
       "      <th></th>\n",
       "      <th>tdate</th>\n",
       "      <th>ticker</th>\n",
       "      <th>buy</th>\n",
       "      <th>sell</th>\n",
       "      <th>2</th>\n",
       "      <th>ret</th>\n",
       "      <th>ret_perc</th>\n",
       "      <th>tc</th>\n",
       "      <th>ret_perc_ac</th>\n",
       "    </tr>\n",
       "  </thead>\n",
       "  <tbody>\n",
       "    <tr>\n",
       "      <th>2</th>\n",
       "      <td>2024-03-26</td>\n",
       "      <td>20MICRONS.NS</td>\n",
       "      <td>143.94375</td>\n",
       "      <td>147.050003</td>\n",
       "      <td>143.199997</td>\n",
       "      <td>0.02158</td>\n",
       "      <td>2.157963</td>\n",
       "      <td>1.454969</td>\n",
       "      <td>1.147173</td>\n",
       "    </tr>\n",
       "    <tr>\n",
       "      <th>12</th>\n",
       "      <td>2024-03-26</td>\n",
       "      <td>AARON.NS</td>\n",
       "      <td>255.175003</td>\n",
       "      <td>260.0</td>\n",
       "      <td>255.199997</td>\n",
       "      <td>0.018909</td>\n",
       "      <td>1.890858</td>\n",
       "      <td>2.575875</td>\n",
       "      <td>0.881404</td>\n",
       "    </tr>\n",
       "    <tr>\n",
       "      <th>15</th>\n",
       "      <td>2024-03-26</td>\n",
       "      <td>AARTIIND.NS</td>\n",
       "      <td>651.216654</td>\n",
       "      <td>657.299988</td>\n",
       "      <td>657.849976</td>\n",
       "      <td>0.009341</td>\n",
       "      <td>0.934149</td>\n",
       "      <td>6.542583</td>\n",
       "      <td>-0.070522</td>\n",
       "    </tr>\n",
       "    <tr>\n",
       "      <th>47</th>\n",
       "      <td>2024-03-26</td>\n",
       "      <td>AIAENG.NS</td>\n",
       "      <td>3755.923105</td>\n",
       "      <td>3805.525024</td>\n",
       "      <td>3805.674927</td>\n",
       "      <td>0.013206</td>\n",
       "      <td>1.320632</td>\n",
       "      <td>37.807241</td>\n",
       "      <td>0.314029</td>\n",
       "    </tr>\n",
       "    <tr>\n",
       "      <th>75</th>\n",
       "      <td>2024-03-26</td>\n",
       "      <td>AMRUTANJAN.NS</td>\n",
       "      <td>604.014282</td>\n",
       "      <td>608.183329</td>\n",
       "      <td>608.5</td>\n",
       "      <td>0.006902</td>\n",
       "      <td>0.690223</td>\n",
       "      <td>6.060988</td>\n",
       "      <td>-0.313228</td>\n",
       "    </tr>\n",
       "    <tr>\n",
       "      <th>...</th>\n",
       "      <td>...</td>\n",
       "      <td>...</td>\n",
       "      <td>...</td>\n",
       "      <td>...</td>\n",
       "      <td>...</td>\n",
       "      <td>...</td>\n",
       "      <td>...</td>\n",
       "      <td>...</td>\n",
       "      <td>...</td>\n",
       "    </tr>\n",
       "    <tr>\n",
       "      <th>24237</th>\n",
       "      <td>2024-04-26</td>\n",
       "      <td>YATHARTH.NS</td>\n",
       "      <td>441.633335</td>\n",
       "      <td>446.283335</td>\n",
       "      <td>448.800003</td>\n",
       "      <td>0.010529</td>\n",
       "      <td>1.05291</td>\n",
       "      <td>4.439583</td>\n",
       "      <td>0.047645</td>\n",
       "    </tr>\n",
       "    <tr>\n",
       "      <th>24240</th>\n",
       "      <td>2024-04-26</td>\n",
       "      <td>ZAGGLE.NS</td>\n",
       "      <td>298.076084</td>\n",
       "      <td>305.050003</td>\n",
       "      <td>306.125</td>\n",
       "      <td>0.023396</td>\n",
       "      <td>2.339644</td>\n",
       "      <td>3.01563</td>\n",
       "      <td>1.327946</td>\n",
       "    </tr>\n",
       "    <tr>\n",
       "      <th>24248</th>\n",
       "      <td>2024-04-26</td>\n",
       "      <td>ZIMLAB.NS</td>\n",
       "      <td>121.071427</td>\n",
       "      <td>124.900002</td>\n",
       "      <td>122.599998</td>\n",
       "      <td>0.031622</td>\n",
       "      <td>3.162244</td>\n",
       "      <td>1.229857</td>\n",
       "      <td>2.146433</td>\n",
       "    </tr>\n",
       "    <tr>\n",
       "      <th>24251</th>\n",
       "      <td>2024-04-26</td>\n",
       "      <td>ZOTA.NS</td>\n",
       "      <td>483.783335</td>\n",
       "      <td>489.75</td>\n",
       "      <td>487.525009</td>\n",
       "      <td>0.012333</td>\n",
       "      <td>1.233334</td>\n",
       "      <td>4.867667</td>\n",
       "      <td>0.227167</td>\n",
       "    </tr>\n",
       "    <tr>\n",
       "      <th>24252</th>\n",
       "      <td>2024-04-26</td>\n",
       "      <td>ZUARI.NS</td>\n",
       "      <td>196.28333</td>\n",
       "      <td>198.75</td>\n",
       "      <td>200.100006</td>\n",
       "      <td>0.012567</td>\n",
       "      <td>1.256688</td>\n",
       "      <td>1.975167</td>\n",
       "      <td>0.250405</td>\n",
       "    </tr>\n",
       "  </tbody>\n",
       "</table>\n",
       "<p>3660 rows × 9 columns</p>\n",
       "</div>"
      ],
      "text/plain": [
       "            tdate         ticker          buy         sell            2  \\\n",
       "2      2024-03-26   20MICRONS.NS    143.94375   147.050003   143.199997   \n",
       "12     2024-03-26       AARON.NS   255.175003        260.0   255.199997   \n",
       "15     2024-03-26    AARTIIND.NS   651.216654   657.299988   657.849976   \n",
       "47     2024-03-26      AIAENG.NS  3755.923105  3805.525024  3805.674927   \n",
       "75     2024-03-26  AMRUTANJAN.NS   604.014282   608.183329        608.5   \n",
       "...           ...            ...          ...          ...          ...   \n",
       "24237  2024-04-26    YATHARTH.NS   441.633335   446.283335   448.800003   \n",
       "24240  2024-04-26      ZAGGLE.NS   298.076084   305.050003      306.125   \n",
       "24248  2024-04-26      ZIMLAB.NS   121.071427   124.900002   122.599998   \n",
       "24251  2024-04-26        ZOTA.NS   483.783335       489.75   487.525009   \n",
       "24252  2024-04-26       ZUARI.NS    196.28333       198.75   200.100006   \n",
       "\n",
       "            ret  ret_perc         tc ret_perc_ac  \n",
       "2       0.02158  2.157963   1.454969    1.147173  \n",
       "12     0.018909  1.890858   2.575875    0.881404  \n",
       "15     0.009341  0.934149   6.542583   -0.070522  \n",
       "47     0.013206  1.320632  37.807241    0.314029  \n",
       "75     0.006902  0.690223   6.060988   -0.313228  \n",
       "...         ...       ...        ...         ...  \n",
       "24237  0.010529   1.05291   4.439583    0.047645  \n",
       "24240  0.023396  2.339644    3.01563    1.327946  \n",
       "24248  0.031622  3.162244   1.229857    2.146433  \n",
       "24251  0.012333  1.233334   4.867667    0.227167  \n",
       "24252  0.012567  1.256688   1.975167    0.250405  \n",
       "\n",
       "[3660 rows x 9 columns]"
      ]
     },
     "execution_count": 18,
     "metadata": {},
     "output_type": "execute_result"
    }
   ],
   "source": [
    "trades_data"
   ]
  },
  {
   "cell_type": "code",
   "execution_count": 19,
   "id": "9d81738c-8e12-49a5-94b9-e782bd238ecc",
   "metadata": {},
   "outputs": [
    {
     "data": {
      "text/plain": [
       "<Axes: xlabel='tdate'>"
      ]
     },
     "execution_count": 19,
     "metadata": {},
     "output_type": "execute_result"
    },
    {
     "data": {
      "image/png": "[encoded data removed]",
      "text/plain": [
       "<Figure size 640x480 with 1 Axes>"
      ]
     },
     "metadata": {},
     "output_type": "display_data"
    }
   ],
   "source": [
    "daily_return = trades_data.groupby('tdate').sum()[['buy','sell','tc']]\n",
    "daily_return.plot(kind='bar')"
   ]
  },
  {
   "cell_type": "code",
   "execution_count": 20,
   "id": "58175737-636e-442d-9518-842d23c03b44",
   "metadata": {},
   "outputs": [
    {
     "data": {
      "text/html": [
       "<div>\n",
       "<style scoped>\n",
       "    .dataframe tbody tr th:only-of-type {\n",
       "        vertical-align: middle;\n",
       "    }\n",
       "\n",
       "    .dataframe tbody tr th {\n",
       "        vertical-align: top;\n",
       "    }\n",
       "\n",
       "    .dataframe thead th {\n",
       "        text-align: right;\n",
       "    }\n",
       "</style>\n",
       "<table border=\"1\" class=\"dataframe\">\n",
       "  <thead>\n",
       "    <tr style=\"text-align: right;\">\n",
       "      <th></th>\n",
       "      <th>buy</th>\n",
       "      <th>sell</th>\n",
       "      <th>tc</th>\n",
       "    </tr>\n",
       "    <tr>\n",
       "      <th>tdate</th>\n",
       "      <th></th>\n",
       "      <th></th>\n",
       "      <th></th>\n",
       "    </tr>\n",
       "  </thead>\n",
       "  <tbody>\n",
       "    <tr>\n",
       "      <th>2024-03-26</th>\n",
       "      <td>116030.329424</td>\n",
       "      <td>118238.058563</td>\n",
       "      <td>1171.34194</td>\n",
       "    </tr>\n",
       "    <tr>\n",
       "      <th>2024-03-27</th>\n",
       "      <td>319976.335578</td>\n",
       "      <td>325437.726037</td>\n",
       "      <td>3227.070308</td>\n",
       "    </tr>\n",
       "    <tr>\n",
       "      <th>2024-03-28</th>\n",
       "      <td>398112.46022</td>\n",
       "      <td>403430.381308</td>\n",
       "      <td>4007.714208</td>\n",
       "    </tr>\n",
       "    <tr>\n",
       "      <th>2024-04-01</th>\n",
       "      <td>100570.037856</td>\n",
       "      <td>102416.266881</td>\n",
       "      <td>1014.931524</td>\n",
       "    </tr>\n",
       "    <tr>\n",
       "      <th>2024-04-02</th>\n",
       "      <td>245017.831896</td>\n",
       "      <td>248867.384158</td>\n",
       "      <td>2469.42608</td>\n",
       "    </tr>\n",
       "    <tr>\n",
       "      <th>2024-04-03</th>\n",
       "      <td>419828.584259</td>\n",
       "      <td>424195.267806</td>\n",
       "      <td>4220.11926</td>\n",
       "    </tr>\n",
       "    <tr>\n",
       "      <th>2024-04-10</th>\n",
       "      <td>286214.988697</td>\n",
       "      <td>290528.091481</td>\n",
       "      <td>2883.715401</td>\n",
       "    </tr>\n",
       "    <tr>\n",
       "      <th>2024-04-12</th>\n",
       "      <td>372825.936413</td>\n",
       "      <td>376958.776634</td>\n",
       "      <td>3748.923565</td>\n",
       "    </tr>\n",
       "    <tr>\n",
       "      <th>2024-04-15</th>\n",
       "      <td>97670.635672</td>\n",
       "      <td>99245.874699</td>\n",
       "      <td>984.582552</td>\n",
       "    </tr>\n",
       "    <tr>\n",
       "      <th>2024-04-16</th>\n",
       "      <td>289861.056579</td>\n",
       "      <td>294453.373427</td>\n",
       "      <td>2921.57215</td>\n",
       "    </tr>\n",
       "    <tr>\n",
       "      <th>2024-04-18</th>\n",
       "      <td>357907.826354</td>\n",
       "      <td>363886.466807</td>\n",
       "      <td>3608.971466</td>\n",
       "    </tr>\n",
       "    <tr>\n",
       "      <th>2024-04-22</th>\n",
       "      <td>281975.162449</td>\n",
       "      <td>286505.066134</td>\n",
       "      <td>2842.401143</td>\n",
       "    </tr>\n",
       "    <tr>\n",
       "      <th>2024-04-23</th>\n",
       "      <td>187594.872732</td>\n",
       "      <td>191112.083065</td>\n",
       "      <td>1893.534779</td>\n",
       "    </tr>\n",
       "    <tr>\n",
       "      <th>2024-04-24</th>\n",
       "      <td>168929.16901</td>\n",
       "      <td>171499.491636</td>\n",
       "      <td>1702.143303</td>\n",
       "    </tr>\n",
       "    <tr>\n",
       "      <th>2024-04-25</th>\n",
       "      <td>299712.075946</td>\n",
       "      <td>304123.934058</td>\n",
       "      <td>3019.18005</td>\n",
       "    </tr>\n",
       "    <tr>\n",
       "      <th>2024-04-26</th>\n",
       "      <td>334238.367145</td>\n",
       "      <td>339294.396396</td>\n",
       "      <td>3367.663818</td>\n",
       "    </tr>\n",
       "  </tbody>\n",
       "</table>\n",
       "</div>"
      ],
      "text/plain": [
       "                      buy           sell           tc\n",
       "tdate                                                \n",
       "2024-03-26  116030.329424  118238.058563   1171.34194\n",
       "2024-03-27  319976.335578  325437.726037  3227.070308\n",
       "2024-03-28   398112.46022  403430.381308  4007.714208\n",
       "2024-04-01  100570.037856  102416.266881  1014.931524\n",
       "2024-04-02  245017.831896  248867.384158   2469.42608\n",
       "2024-04-03  419828.584259  424195.267806   4220.11926\n",
       "2024-04-10  286214.988697  290528.091481  2883.715401\n",
       "2024-04-12  372825.936413  376958.776634  3748.923565\n",
       "2024-04-15   97670.635672   99245.874699   984.582552\n",
       "2024-04-16  289861.056579  294453.373427   2921.57215\n",
       "2024-04-18  357907.826354  363886.466807  3608.971466\n",
       "2024-04-22  281975.162449  286505.066134  2842.401143\n",
       "2024-04-23  187594.872732  191112.083065  1893.534779\n",
       "2024-04-24   168929.16901  171499.491636  1702.143303\n",
       "2024-04-25  299712.075946  304123.934058   3019.18005\n",
       "2024-04-26  334238.367145  339294.396396  3367.663818"
      ]
     },
     "execution_count": 20,
     "metadata": {},
     "output_type": "execute_result"
    }
   ],
   "source": [
    "daily_return"
   ]
  },
  {
   "cell_type": "code",
   "execution_count": 21,
   "id": "3a6a0d29-f341-40a9-bbb2-0f33845811d2",
   "metadata": {},
   "outputs": [],
   "source": [
    "daily_return['per_ret_bc'] = 100*((daily_return.sell-daily_return.buy)/daily_return.buy)\n",
    "daily_return['per_ret_ac'] = 100*((daily_return.sell-daily_return.buy-daily_return.tc)/daily_return.buy)"
   ]
  },
  {
   "cell_type": "code",
   "execution_count": 22,
   "id": "9ddfa505-899d-4cc6-829c-add7acf787f4",
   "metadata": {},
   "outputs": [
    {
     "data": {
      "text/plain": [
       "0.2396487597798924"
      ]
     },
     "execution_count": 22,
     "metadata": {},
     "output_type": "execute_result"
    }
   ],
   "source": [
    "daily_return.per_ret_ac.std()"
   ]
  },
  {
   "cell_type": "code",
   "execution_count": 23,
   "id": "218d9c78-276d-49b5-b993-e4d421a72e01",
   "metadata": {},
   "outputs": [
    {
     "data": {
      "text/plain": [
       "0.5461681803308448"
      ]
     },
     "execution_count": 23,
     "metadata": {},
     "output_type": "execute_result"
    }
   ],
   "source": [
    "daily_return.per_ret_ac.mean()"
   ]
  },
  {
   "cell_type": "code",
   "execution_count": 24,
   "id": "a919ee31-12a5-449b-8137-0693d4275447",
   "metadata": {},
   "outputs": [
    {
     "data": {
      "text/plain": [
       "<Axes: xlabel='tdate'>"
      ]
     },
     "execution_count": 24,
     "metadata": {},
     "output_type": "execute_result"
    },
    {
     "data": {
      "image/png": "[encoded data removed]",
      "text/plain": [
       "<Figure size 640x480 with 1 Axes>"
      ]
     },
     "metadata": {},
     "output_type": "display_data"
    }
   ],
   "source": [
    "daily_return.per_ret_ac.plot()"
   ]
  },
  {
   "cell_type": "code",
   "execution_count": 25,
   "id": "49140071-28d7-476f-a306-44d63a72c799",
   "metadata": {},
   "outputs": [
    {
     "data": {
      "text/plain": [
       "<Axes: xlabel='tdate'>"
      ]
     },
     "execution_count": 25,
     "metadata": {},
     "output_type": "execute_result"
    },
    {
     "data": {
      "image/png": "[encoded data removed]",
      "text/plain": [
       "<Figure size 640x480 with 1 Axes>"
      ]
     },
     "metadata": {},
     "output_type": "display_data"
    }
   ],
   "source": [
    "daily_return.per_ret_bc.plot()"
   ]
  },
  {
   "cell_type": "code",
   "execution_count": 26,
   "id": "487f0bf9-9e15-422d-aee0-08ed700f4e36",
   "metadata": {},
   "outputs": [
    {
     "data": {
      "text/plain": [
       "2.2790361228344267"
      ]
     },
     "execution_count": 26,
     "metadata": {},
     "output_type": "execute_result"
    }
   ],
   "source": [
    "daily_return.per_ret_ac.mean()/daily_return.per_ret_ac.std()"
   ]
  },
  {
   "cell_type": "code",
   "execution_count": 27,
   "id": "a913eefd-7305-46f3-8e14-0123afafe415",
   "metadata": {},
   "outputs": [
    {
     "name": "stderr",
     "output_type": "stream",
     "text": [
      "/var/folders/tz/k1k21d6x7j1d90h0t6dqf5yc0000gn/T/ipykernel_67404/3514087353.py:2: FutureWarning: Series.__getitem__ treating keys as positions is deprecated. In a future version, integer keys will always be treated as labels (consistent with DataFrame behavior). To access a value by position, use `ser.iloc[pos]`\n",
      "  cum_ret_bc[-1]\n"
     ]
    },
    {
     "data": {
      "text/plain": [
       "873.9345216968709"
      ]
     },
     "execution_count": 27,
     "metadata": {},
     "output_type": "execute_result"
    }
   ],
   "source": [
    "cum_ret_bc= (1+daily_return.per_ret_ac).cumprod()\n",
    "cum_ret_bc[-1]"
   ]
  },
  {
   "cell_type": "code",
   "execution_count": 28,
   "id": "4a171713-0207-4e91-8b65-c77c6155be65",
   "metadata": {},
   "outputs": [
    {
     "name": "stderr",
     "output_type": "stream",
     "text": [
      "/var/folders/tz/k1k21d6x7j1d90h0t6dqf5yc0000gn/T/ipykernel_67404/305887988.py:2: FutureWarning: Series.__getitem__ treating keys as positions is deprecated. In a future version, integer keys will always be treated as labels (consistent with DataFrame behavior). To access a value by position, use `ser.iloc[pos]`\n",
      "  cum_ret_bc[-1]\n"
     ]
    },
    {
     "data": {
      "text/plain": [
       "3053800.621350969"
      ]
     },
     "execution_count": 28,
     "metadata": {},
     "output_type": "execute_result"
    }
   ],
   "source": [
    "cum_ret_bc= (1+daily_return.per_ret_bc).cumprod()\n",
    "cum_ret_bc[-1]"
   ]
  },
  {
   "cell_type": "code",
   "execution_count": 29,
   "id": "7512bfbf-5715-41e4-8644-841c8ad17ae5",
   "metadata": {},
   "outputs": [
    {
     "data": {
      "text/plain": [
       "6.451809647381186"
      ]
     },
     "execution_count": 29,
     "metadata": {},
     "output_type": "execute_result"
    }
   ],
   "source": [
    "daily_return.per_ret_bc.mean()/daily_return.per_ret_bc.std()"
   ]
  },
  {
   "cell_type": "code",
   "execution_count": 30,
   "id": "12487caa-5efc-4749-941e-41828d35ea65",
   "metadata": {},
   "outputs": [
    {
     "data": {
      "text/plain": [
       "buy           267279.104389\n",
       "sell          271262.039943\n",
       "tc              2692.705722\n",
       "per_ret_bc         1.553938\n",
       "per_ret_ac         0.546168\n",
       "dtype: object"
      ]
     },
     "execution_count": 30,
     "metadata": {},
     "output_type": "execute_result"
    }
   ],
   "source": [
    "daily_return.mean()"
   ]
  },
  {
   "cell_type": "code",
   "execution_count": 31,
   "id": "395812e3-e933-4b03-8322-e09e9a15fdc7",
   "metadata": {},
   "outputs": [
    {
     "name": "stdout",
     "output_type": "stream",
     "text": [
      " Sharpe ratio::  buy           2.547694\n",
      "sell          2.557213\n",
      "tc             2.55249\n",
      "per_ret_bc     6.45181\n",
      "per_ret_ac    2.279036\n",
      "dtype: object\n"
     ]
    }
   ],
   "source": [
    "sharpe_ratio = daily_return.mean()/daily_return.std()\n",
    "print(f\" Sharpe ratio::  {sharpe_ratio}\")"
   ]
  },
  {
   "cell_type": "code",
   "execution_count": 32,
   "id": "0d8f6343-131c-4930-8810-c231c25e6101",
   "metadata": {},
   "outputs": [],
   "source": [
    "import matplotlib.pyplot as plt"
   ]
  },
  {
   "cell_type": "code",
   "execution_count": 33,
   "id": "7e9341a1-45fc-4b51-9db6-a898a52f5363",
   "metadata": {},
   "outputs": [],
   "source": [
    "#opening_range_breakout"
   ]
  },
  {
   "cell_type": "markdown",
   "id": "6556c963-1f0d-4f30-983b-6b55c57007fe",
   "metadata": {},
   "source": [
    "## Plt maxdrawdown"
   ]
  },
  {
   "cell_type": "code",
   "execution_count": 34,
   "id": "f9e64e72-46c9-43f7-b432-018ca4e85bc1",
   "metadata": {},
   "outputs": [
    {
     "ename": "ValueError",
     "evalue": "attempt to get argmax of an empty sequence",
     "output_type": "error",
     "traceback": [
      "\u001b[0;31m---------------------------------------------------------------------------\u001b[0m",
      "\u001b[0;31mValueError\u001b[0m                                Traceback (most recent call last)",
      "Cell \u001b[0;32mIn[34], line 4\u001b[0m\n\u001b[1;32m      2\u001b[0m xs \u001b[38;5;241m=\u001b[39m daily_return\u001b[38;5;241m.\u001b[39mcumsum()\n\u001b[1;32m      3\u001b[0m i \u001b[38;5;241m=\u001b[39m np\u001b[38;5;241m.\u001b[39margmax(np\u001b[38;5;241m.\u001b[39mmaximum\u001b[38;5;241m.\u001b[39maccumulate(xs) \u001b[38;5;241m-\u001b[39m xs) \u001b[38;5;66;03m# end of the period\u001b[39;00m\n\u001b[0;32m----> 4\u001b[0m j \u001b[38;5;241m=\u001b[39m np\u001b[38;5;241m.\u001b[39margmax(xs[:i])\n",
      "File \u001b[0;32m~/anaconda3/envs/nlp/lib/python3.11/site-packages/numpy/core/fromnumeric.py:1229\u001b[0m, in \u001b[0;36margmax\u001b[0;34m(a, axis, out, keepdims)\u001b[0m\n\u001b[1;32m   1142\u001b[0m \u001b[38;5;250m\u001b[39m\u001b[38;5;124;03m\"\"\"\u001b[39;00m\n\u001b[1;32m   1143\u001b[0m \u001b[38;5;124;03mReturns the indices of the maximum values along an axis.\u001b[39;00m\n\u001b[1;32m   1144\u001b[0m \n\u001b[0;32m   (...)\u001b[0m\n\u001b[1;32m   1226\u001b[0m \u001b[38;5;124;03m(2, 1, 4)\u001b[39;00m\n\u001b[1;32m   1227\u001b[0m \u001b[38;5;124;03m\"\"\"\u001b[39;00m\n\u001b[1;32m   1228\u001b[0m kwds \u001b[38;5;241m=\u001b[39m {\u001b[38;5;124m'\u001b[39m\u001b[38;5;124mkeepdims\u001b[39m\u001b[38;5;124m'\u001b[39m: keepdims} \u001b[38;5;28;01mif\u001b[39;00m keepdims \u001b[38;5;129;01mis\u001b[39;00m \u001b[38;5;129;01mnot\u001b[39;00m np\u001b[38;5;241m.\u001b[39m_NoValue \u001b[38;5;28;01melse\u001b[39;00m {}\n\u001b[0;32m-> 1229\u001b[0m \u001b[38;5;28;01mreturn\u001b[39;00m _wrapfunc(a, \u001b[38;5;124m'\u001b[39m\u001b[38;5;124margmax\u001b[39m\u001b[38;5;124m'\u001b[39m, axis\u001b[38;5;241m=\u001b[39maxis, out\u001b[38;5;241m=\u001b[39mout, \u001b[38;5;241m*\u001b[39m\u001b[38;5;241m*\u001b[39mkwds)\n",
      "File \u001b[0;32m~/anaconda3/envs/nlp/lib/python3.11/site-packages/numpy/core/fromnumeric.py:56\u001b[0m, in \u001b[0;36m_wrapfunc\u001b[0;34m(obj, method, *args, **kwds)\u001b[0m\n\u001b[1;32m     54\u001b[0m bound \u001b[38;5;241m=\u001b[39m \u001b[38;5;28mgetattr\u001b[39m(obj, method, \u001b[38;5;28;01mNone\u001b[39;00m)\n\u001b[1;32m     55\u001b[0m \u001b[38;5;28;01mif\u001b[39;00m bound \u001b[38;5;129;01mis\u001b[39;00m \u001b[38;5;28;01mNone\u001b[39;00m:\n\u001b[0;32m---> 56\u001b[0m     \u001b[38;5;28;01mreturn\u001b[39;00m _wrapit(obj, method, \u001b[38;5;241m*\u001b[39margs, \u001b[38;5;241m*\u001b[39m\u001b[38;5;241m*\u001b[39mkwds)\n\u001b[1;32m     58\u001b[0m \u001b[38;5;28;01mtry\u001b[39;00m:\n\u001b[1;32m     59\u001b[0m     \u001b[38;5;28;01mreturn\u001b[39;00m bound(\u001b[38;5;241m*\u001b[39margs, \u001b[38;5;241m*\u001b[39m\u001b[38;5;241m*\u001b[39mkwds)\n",
      "File \u001b[0;32m~/anaconda3/envs/nlp/lib/python3.11/site-packages/numpy/core/fromnumeric.py:45\u001b[0m, in \u001b[0;36m_wrapit\u001b[0;34m(obj, method, *args, **kwds)\u001b[0m\n\u001b[1;32m     43\u001b[0m \u001b[38;5;28;01mexcept\u001b[39;00m \u001b[38;5;167;01mAttributeError\u001b[39;00m:\n\u001b[1;32m     44\u001b[0m     wrap \u001b[38;5;241m=\u001b[39m \u001b[38;5;28;01mNone\u001b[39;00m\n\u001b[0;32m---> 45\u001b[0m result \u001b[38;5;241m=\u001b[39m \u001b[38;5;28mgetattr\u001b[39m(asarray(obj), method)(\u001b[38;5;241m*\u001b[39margs, \u001b[38;5;241m*\u001b[39m\u001b[38;5;241m*\u001b[39mkwds)\n\u001b[1;32m     46\u001b[0m \u001b[38;5;28;01mif\u001b[39;00m wrap:\n\u001b[1;32m     47\u001b[0m     \u001b[38;5;28;01mif\u001b[39;00m \u001b[38;5;129;01mnot\u001b[39;00m \u001b[38;5;28misinstance\u001b[39m(result, mu\u001b[38;5;241m.\u001b[39mndarray):\n",
      "\u001b[0;31mValueError\u001b[0m: attempt to get argmax of an empty sequence"
     ]
    }
   ],
   "source": [
    "n=20\n",
    "xs = daily_return.cumsum()\n",
    "i = np.argmax(np.maximum.accumulate(xs) - xs) # end of the period\n",
    "j = np.argmax(xs[:i]) # start of period\n",
    "\n"
   ]
  },
  {
   "cell_type": "code",
   "execution_count": null,
   "id": "cbdfa3a7-f868-401f-aeee-cb596767f540",
   "metadata": {},
   "outputs": [],
   "source": [
    "xs.plot()"
   ]
  },
  {
   "cell_type": "code",
   "execution_count": null,
   "id": "9370bacc-28c2-4b27-bb7a-3ddbe5f8f48b",
   "metadata": {},
   "outputs": [],
   "source": [
    "xs[j]-xs[i]"
   ]
  }
 ],
 "metadata": {
  "kernelspec": {
   "display_name": "Python 3 (ipykernel)",
   "language": "python",
   "name": "python3"
  },
  "language_info": {
   "codemirror_mode": {
    "name": "ipython",
    "version": 3
   },
   "file_extension": ".py",
   "mimetype": "text/x-python",
   "name": "python",
   "nbconvert_exporter": "python",
   "pygments_lexer": "ipython3",
   "version": "3.11.7"
  }
 },
 "nbformat": 4,
 "nbformat_minor": 5
}
