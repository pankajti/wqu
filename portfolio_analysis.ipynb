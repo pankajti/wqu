{
 "cells": [
  {
   "cell_type": "code",
   "execution_count": 3,
   "id": "7e4dcd05",
   "metadata": {},
   "outputs": [],
   "source": [
    "from pandas_datareader.nasdaq_trader import *"
   ]
  },
  {
   "cell_type": "code",
   "execution_count": 4,
   "id": "472300a3",
   "metadata": {},
   "outputs": [],
   "source": [
    "import pandas as pd\n",
    "import numpy as np\n",
    "import random \n",
    "from pandas_datareader.yahoo.daily import YahooDailyReader"
   ]
  },
  {
   "cell_type": "code",
   "execution_count": 5,
   "id": "66b59787",
   "metadata": {},
   "outputs": [],
   "source": [
    "symbols = ['AAPL', 'GOOG', 'MSFT']"
   ]
  },
  {
   "cell_type": "code",
   "execution_count": 6,
   "id": "b3bc64b9",
   "metadata": {},
   "outputs": [],
   "source": [
    "start_date = '2021-07-01'"
   ]
  },
  {
   "cell_type": "code",
   "execution_count": 7,
   "id": "133c48ae",
   "metadata": {},
   "outputs": [],
   "source": [
    "web = YahooDailyReader(symbols =symbols, start = start_date )"
   ]
  },
  {
   "cell_type": "code",
   "execution_count": 8,
   "id": "a7946334",
   "metadata": {},
   "outputs": [],
   "source": [
    "data = web.read()"
   ]
  },
  {
   "cell_type": "code",
   "execution_count": 9,
   "id": "b7ae1663",
   "metadata": {},
   "outputs": [],
   "source": [
    "close=data['Close']"
   ]
  },
  {
   "cell_type": "code",
   "execution_count": 10,
   "id": "896eb574",
   "metadata": {},
   "outputs": [],
   "source": [
    "cov = close.cov()"
   ]
  },
  {
   "cell_type": "code",
   "execution_count": 11,
   "id": "7103f486",
   "metadata": {},
   "outputs": [
    {
     "data": {
      "text/html": [
       "<div>\n",
       "<style scoped>\n",
       "    .dataframe tbody tr th:only-of-type {\n",
       "        vertical-align: middle;\n",
       "    }\n",
       "\n",
       "    .dataframe tbody tr th {\n",
       "        vertical-align: top;\n",
       "    }\n",
       "\n",
       "    .dataframe thead th {\n",
       "        text-align: right;\n",
       "    }\n",
       "</style>\n",
       "<table border=\"1\" class=\"dataframe\">\n",
       "  <thead>\n",
       "    <tr style=\"text-align: right;\">\n",
       "      <th>Symbols</th>\n",
       "      <th>AAPL</th>\n",
       "      <th>GOOG</th>\n",
       "      <th>MSFT</th>\n",
       "    </tr>\n",
       "    <tr>\n",
       "      <th>Symbols</th>\n",
       "      <th></th>\n",
       "      <th></th>\n",
       "      <th></th>\n",
       "    </tr>\n",
       "  </thead>\n",
       "  <tbody>\n",
       "    <tr>\n",
       "      <th>AAPL</th>\n",
       "      <td>152.744032</td>\n",
       "      <td>52.080149</td>\n",
       "      <td>158.796426</td>\n",
       "    </tr>\n",
       "    <tr>\n",
       "      <th>GOOG</th>\n",
       "      <td>52.080149</td>\n",
       "      <td>162.535388</td>\n",
       "      <td>274.798908</td>\n",
       "    </tr>\n",
       "    <tr>\n",
       "      <th>MSFT</th>\n",
       "      <td>158.796426</td>\n",
       "      <td>274.798908</td>\n",
       "      <td>580.019388</td>\n",
       "    </tr>\n",
       "  </tbody>\n",
       "</table>\n",
       "</div>"
      ],
      "text/plain": [
       "Symbols        AAPL        GOOG        MSFT\n",
       "Symbols                                    \n",
       "AAPL     152.744032   52.080149  158.796426\n",
       "GOOG      52.080149  162.535388  274.798908\n",
       "MSFT     158.796426  274.798908  580.019388"
      ]
     },
     "execution_count": 11,
     "metadata": {},
     "output_type": "execute_result"
    }
   ],
   "source": [
    "cov"
   ]
  },
  {
   "cell_type": "code",
   "execution_count": 12,
   "id": "a7e4abb4",
   "metadata": {},
   "outputs": [],
   "source": [
    "close_diff =close.diff()"
   ]
  },
  {
   "cell_type": "code",
   "execution_count": 13,
   "id": "3a076131",
   "metadata": {},
   "outputs": [],
   "source": [
    "returns = close_diff.sum()/len(close_diff)"
   ]
  },
  {
   "cell_type": "code",
   "execution_count": 14,
   "id": "b1a635d5",
   "metadata": {},
   "outputs": [],
   "source": [
    "std = np.array(close.std())"
   ]
  },
  {
   "cell_type": "code",
   "execution_count": 15,
   "id": "567e3067",
   "metadata": {},
   "outputs": [],
   "source": [
    "#std"
   ]
  },
  {
   "cell_type": "code",
   "execution_count": 16,
   "id": "43384492",
   "metadata": {},
   "outputs": [],
   "source": [
    "cov_mat = np.array(cov)"
   ]
  },
  {
   "cell_type": "code",
   "execution_count": 17,
   "id": "b33f2904",
   "metadata": {},
   "outputs": [],
   "source": [
    "#cov_mat"
   ]
  },
  {
   "cell_type": "code",
   "execution_count": 18,
   "id": "a961caea",
   "metadata": {},
   "outputs": [],
   "source": [
    "a = np.array(random.sample(range(0,100),3))\n",
    "weights = a/sum(a)"
   ]
  },
  {
   "cell_type": "code",
   "execution_count": 19,
   "id": "6d8f4108",
   "metadata": {},
   "outputs": [],
   "source": [
    "#weights"
   ]
  },
  {
   "cell_type": "code",
   "execution_count": 20,
   "id": "20add447",
   "metadata": {},
   "outputs": [],
   "source": [
    "#returns"
   ]
  },
  {
   "cell_type": "code",
   "execution_count": 21,
   "id": "41ceb449",
   "metadata": {},
   "outputs": [],
   "source": [
    "portfolio_return = weights.dot(returns)"
   ]
  },
  {
   "cell_type": "code",
   "execution_count": 22,
   "id": "e02b30df",
   "metadata": {},
   "outputs": [],
   "source": [
    "#portfolio_return"
   ]
  },
  {
   "cell_type": "code",
   "execution_count": 23,
   "id": "ef1fcb3a",
   "metadata": {},
   "outputs": [],
   "source": [
    "portfolio_cov = weights.dot(cov).dot(weights)"
   ]
  },
  {
   "cell_type": "code",
   "execution_count": 24,
   "id": "2cc27d90",
   "metadata": {},
   "outputs": [],
   "source": [
    "#portfolio_cov"
   ]
  },
  {
   "cell_type": "code",
   "execution_count": 25,
   "id": "561c1417",
   "metadata": {},
   "outputs": [],
   "source": [
    "import sympy\n"
   ]
  },
  {
   "cell_type": "code",
   "execution_count": 26,
   "id": "f7adae43",
   "metadata": {},
   "outputs": [
    {
     "data": {
      "text/latex": [
       "$\\displaystyle 12$"
      ],
      "text/plain": [
       "12"
      ]
     },
     "execution_count": 26,
     "metadata": {},
     "output_type": "execute_result"
    }
   ],
   "source": [
    "sympy.Integer(12)"
   ]
  },
  {
   "cell_type": "code",
   "execution_count": 27,
   "id": "3e8fac63",
   "metadata": {},
   "outputs": [
    {
     "data": {
      "text/latex": [
       "$\\displaystyle \\infty$"
      ],
      "text/plain": [
       "oo"
      ]
     },
     "execution_count": 27,
     "metadata": {},
     "output_type": "execute_result"
    }
   ],
   "source": [
    "sympy.oo"
   ]
  },
  {
   "cell_type": "code",
   "execution_count": 28,
   "id": "ca3401cc",
   "metadata": {},
   "outputs": [],
   "source": [
    "x=sympy.Symbol('x')"
   ]
  },
  {
   "cell_type": "code",
   "execution_count": 29,
   "id": "4b460c5e",
   "metadata": {},
   "outputs": [
    {
     "data": {
      "text/latex": [
       "$\\displaystyle - \\frac{1}{x + 2} + \\frac{1}{x + 1}$"
      ],
      "text/plain": [
       "-1/(x + 2) + 1/(x + 1)"
      ]
     },
     "execution_count": 29,
     "metadata": {},
     "output_type": "execute_result"
    }
   ],
   "source": [
    "sympy.apart(1/(x**2 + 3*x + 2), x)"
   ]
  },
  {
   "cell_type": "code",
   "execution_count": 30,
   "id": "ea2fafcc",
   "metadata": {},
   "outputs": [
    {
     "data": {
      "text/latex": [
       "$\\displaystyle f{\\left(0 \\right)} + x \\left. \\frac{d}{d \\xi} f{\\left(\\xi \\right)} \\right|_{\\substack{ \\xi=0 }} + \\frac{x^{2} \\left. \\frac{d^{2}}{d \\xi^{2}} f{\\left(\\xi \\right)} \\right|_{\\substack{ \\xi=0 }}}{2} + \\frac{x^{3} \\left. \\frac{d^{3}}{d \\xi^{3}} f{\\left(\\xi \\right)} \\right|_{\\substack{ \\xi=0 }}}{6} + \\frac{x^{4} \\left. \\frac{d^{4}}{d \\xi^{4}} f{\\left(\\xi \\right)} \\right|_{\\substack{ \\xi=0 }}}{24} + \\frac{x^{5} \\left. \\frac{d^{5}}{d \\xi^{5}} f{\\left(\\xi \\right)} \\right|_{\\substack{ \\xi=0 }}}{120} + O\\left(x^{6}\\right)$"
      ],
      "text/plain": [
       "f(0) + x*Subs(Derivative(f(xi), xi), xi, 0) + x**2*Subs(Derivative(f(xi), (xi, 2)), xi, 0)/2 + x**3*Subs(Derivative(f(xi), (xi, 3)), xi, 0)/6 + x**4*Subs(Derivative(f(xi), (xi, 4)), xi, 0)/24 + x**5*Subs(Derivative(f(xi), (xi, 5)), xi, 0)/120 + O(x**6)"
      ]
     },
     "execution_count": 30,
     "metadata": {},
     "output_type": "execute_result"
    }
   ],
   "source": [
    "x, y = sympy.symbols(\"x, y\")\n",
    "f = sympy.Function(\"f\")(x)\n",
    "sympy.series(f, x)"
   ]
  },
  {
   "cell_type": "code",
   "execution_count": 31,
   "id": "41a7f877",
   "metadata": {},
   "outputs": [
    {
     "data": {
      "text/latex": [
       "$\\displaystyle f{\\left(x \\right)}$"
      ],
      "text/plain": [
       "f(x)"
      ]
     },
     "execution_count": 31,
     "metadata": {},
     "output_type": "execute_result"
    }
   ],
   "source": [
    "f"
   ]
  },
  {
   "cell_type": "code",
   "execution_count": 32,
   "id": "f08dc7c4",
   "metadata": {},
   "outputs": [
    {
     "data": {
      "text/latex": [
       "$\\displaystyle \\left[\\begin{matrix}1 & 2\\\\2 & 3\\end{matrix}\\right]$"
      ],
      "text/plain": [
       "Matrix([\n",
       "[1, 2],\n",
       "[2, 3]])"
      ]
     },
     "execution_count": 32,
     "metadata": {},
     "output_type": "execute_result"
    }
   ],
   "source": [
    "sympy.Matrix([[1,2],[2,3]])"
   ]
  },
  {
   "cell_type": "code",
   "execution_count": 33,
   "id": "fde5e260",
   "metadata": {},
   "outputs": [],
   "source": [
    "import matplotlib.pyplot as plt"
   ]
  },
  {
   "cell_type": "code",
   "execution_count": 34,
   "id": "d7c2fd59",
   "metadata": {},
   "outputs": [
    {
     "data": {
      "text/plain": [
       "[<matplotlib.lines.Line2D at 0x7fb3d0fc0b80>]"
      ]
     },
     "execution_count": 34,
     "metadata": {},
     "output_type": "execute_result"
    },
    {
     "data": {
      "image/png": "[encoded data removed]",
      "text/plain": [
       "<Figure size 432x288 with 1 Axes>"
      ]
     },
     "metadata": {
      "needs_background": "light"
     },
     "output_type": "display_data"
    }
   ],
   "source": [
    "plt.plot([3,4], [5,-12])"
   ]
  },
  {
   "cell_type": "code",
   "execution_count": null,
   "id": "a65505fc",
   "metadata": {},
   "outputs": [],
   "source": []
  },
  {
   "cell_type": "code",
   "execution_count": 35,
   "id": "838d1163",
   "metadata": {},
   "outputs": [
    {
     "data": {
      "text/latex": [
       "$\\displaystyle \\left[\\begin{matrix}- 3 x^{2} - 4 x & 1\\\\2 x & 1\\end{matrix}\\right]$"
      ],
      "text/plain": [
       "Matrix([\n",
       "[-3*x**2 - 4*x, 1],\n",
       "[          2*x, 1]])"
      ]
     },
     "execution_count": 35,
     "metadata": {},
     "output_type": "execute_result"
    }
   ],
   "source": [
    "x, y = sympy.symbols(\"x, y\")\n",
    "f_mat = sympy.Matrix([y - x**3 -2*x**2 + 1, y + x**2 - 1])\n",
    "f_mat.jacobian(sympy.Matrix([x, y]))"
   ]
  },
  {
   "cell_type": "code",
   "execution_count": 36,
   "id": "b20fbbb2",
   "metadata": {},
   "outputs": [
    {
     "data": {
      "text/latex": [
       "$\\displaystyle \\left[\\begin{matrix}- x^{3} - 2 x^{2} + y + 1\\\\x^{2} + y - 1\\end{matrix}\\right]$"
      ],
      "text/plain": [
       "Matrix([\n",
       "[-x**3 - 2*x**2 + y + 1],\n",
       "[          x**2 + y - 1]])"
      ]
     },
     "execution_count": 36,
     "metadata": {},
     "output_type": "execute_result"
    }
   ],
   "source": [
    "f_mat"
   ]
  },
  {
   "cell_type": "code",
   "execution_count": 37,
   "id": "53da533c",
   "metadata": {},
   "outputs": [
    {
     "data": {
      "text/latex": [
       "$\\displaystyle \\left[\\begin{matrix}- x^{3} - 2 x^{2} + y + 1\\\\x^{2} + y - 1\\end{matrix}\\right]$"
      ],
      "text/plain": [
       "Matrix([\n",
       "[-x**3 - 2*x**2 + y + 1],\n",
       "[          x**2 + y - 1]])"
      ]
     },
     "execution_count": 37,
     "metadata": {},
     "output_type": "execute_result"
    }
   ],
   "source": [
    "f_mat"
   ]
  },
  {
   "cell_type": "code",
   "execution_count": 38,
   "id": "b2a699e3",
   "metadata": {},
   "outputs": [
    {
     "data": {
      "text/plain": [
       "Text(5, 6, 'efficient Front')"
      ]
     },
     "execution_count": 38,
     "metadata": {},
     "output_type": "execute_result"
    },
    {
     "data": {
      "image/png": "[encoded data removed]",
      "text/plain": [
       "<Figure size 432x288 with 1 Axes>"
      ]
     },
     "metadata": {
      "needs_background": "light"
     },
     "output_type": "display_data"
    }
   ],
   "source": [
    "plt.plot([3,10],[5,23])\n",
    "plt.annotate('efficient Front', xy = (5,6),arrowprops=dict(facecolor='black', shrink=0.05))"
   ]
  },
  {
   "cell_type": "code",
   "execution_count": 40,
   "id": "e930767b",
   "metadata": {},
   "outputs": [],
   "source": [
    "import scipy\n",
    "import numpy as np"
   ]
  },
  {
   "cell_type": "code",
   "execution_count": 41,
   "id": "23a1e531",
   "metadata": {},
   "outputs": [],
   "source": [
    "from scipy import linalg"
   ]
  },
  {
   "cell_type": "code",
   "execution_count": 43,
   "id": "3e433ea4",
   "metadata": {},
   "outputs": [
    {
     "data": {
      "text/plain": [
       "(array([[-0.43480907, -0.90052267],\n",
       "        [-0.90052267,  0.43480907]]),\n",
       " array([11.4291242 ,  0.61247038]),\n",
       " array([[-0.50809147, -0.86130311],\n",
       "        [-0.86130311,  0.50809147]]))"
      ]
     },
     "execution_count": 43,
     "metadata": {},
     "output_type": "execute_result"
    }
   ],
   "source": [
    "linalg.svd(np.array([[3,4],[5,9]]))"
   ]
  },
  {
   "cell_type": "code",
   "execution_count": null,
   "id": "dbeb48e3",
   "metadata": {},
   "outputs": [],
   "source": []
  }
 ],
 "metadata": {
  "kernelspec": {
   "display_name": "Python 3 (ipykernel)",
   "language": "python",
   "name": "python3"
  },
  "language_info": {
   "codemirror_mode": {
    "name": "ipython",
    "version": 3
   },
   "file_extension": ".py",
   "mimetype": "text/x-python",
   "name": "python",
   "nbconvert_exporter": "python",
   "pygments_lexer": "ipython3",
   "version": "3.9.12"
  }
 },
 "nbformat": 4,
 "nbformat_minor": 5
}
