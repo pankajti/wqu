{
 "cells": [
  {
   "cell_type": "markdown",
   "id": "f06ed4ab",
   "metadata": {},
   "source": [
    "## Using SimPy to calculate Future Value and Present Value \n",
    "\n",
    "We use following famous formula to calculate future value of amounts that compound annually.\n",
    "\n",
    "$ FV_n = PV(1+r)^n $ \n",
    "\n",
    "mathematically it is easy to calulate this using normal python functions. We are going to use sympy package to evaluate it as an expression. \n",
    "In the following example we are going to calculate compound interest of principal amount 100 after 3 years which is compounded yearly at a rate of 5 %. We'll use normal way and sympy's expressions to calculate this. \n",
    "\n",
    "In the next part we are going to calculate present value of amount which we are going to get after 3 years discounted at the rate of 5 %. \n"
   ]
  },
  {
   "cell_type": "markdown",
   "id": "567e724a",
   "metadata": {},
   "source": [
    "###  Future  Value calculation "
   ]
  },
  {
   "cell_type": "code",
   "execution_count": 44,
   "id": "c09d9e6d",
   "metadata": {},
   "outputs": [],
   "source": [
    "interest_rate = 5 \n",
    "principal = 100\n",
    "time = 3 "
   ]
  },
  {
   "cell_type": "code",
   "execution_count": 21,
   "id": "3bb1ffef",
   "metadata": {},
   "outputs": [
    {
     "data": {
      "text/plain": [
       "115.76250000000002"
      ]
     },
     "execution_count": 21,
     "metadata": {},
     "output_type": "execute_result"
    }
   ],
   "source": [
    "principal*(1+interest_rate/100)**time"
   ]
  },
  {
   "cell_type": "markdown",
   "id": "4cee6ee5",
   "metadata": {},
   "source": [
    "#### Future value after 1 year "
   ]
  },
  {
   "cell_type": "code",
   "execution_count": 22,
   "id": "c541e769",
   "metadata": {},
   "outputs": [],
   "source": [
    "FV1 = 100*(1+5/100)**1"
   ]
  },
  {
   "cell_type": "code",
   "execution_count": 23,
   "id": "9140c509",
   "metadata": {},
   "outputs": [
    {
     "data": {
      "text/plain": [
       "105.0"
      ]
     },
     "execution_count": 23,
     "metadata": {},
     "output_type": "execute_result"
    }
   ],
   "source": [
    "FV1"
   ]
  },
  {
   "cell_type": "markdown",
   "id": "b33604d5",
   "metadata": {},
   "source": [
    "#### Future value after 2 year "
   ]
  },
  {
   "cell_type": "code",
   "execution_count": 24,
   "id": "c11ea2bb",
   "metadata": {},
   "outputs": [],
   "source": [
    "FV2 = 100*(1+5/100)**2"
   ]
  },
  {
   "cell_type": "code",
   "execution_count": 25,
   "id": "d4879858",
   "metadata": {},
   "outputs": [
    {
     "data": {
      "text/plain": [
       "110.25"
      ]
     },
     "execution_count": 25,
     "metadata": {},
     "output_type": "execute_result"
    }
   ],
   "source": [
    "FV2"
   ]
  },
  {
   "cell_type": "markdown",
   "id": "2184e91a",
   "metadata": {},
   "source": [
    "$ PV = FV_n/(1+r)^n $ "
   ]
  },
  {
   "cell_type": "code",
   "execution_count": 26,
   "id": "fe63c398",
   "metadata": {},
   "outputs": [
    {
     "data": {
      "text/plain": [
       "110.25"
      ]
     },
     "execution_count": 26,
     "metadata": {},
     "output_type": "execute_result"
    }
   ],
   "source": [
    "FV2"
   ]
  },
  {
   "cell_type": "markdown",
   "id": "deed9f24",
   "metadata": {},
   "source": [
    "### Using sympy to calculate Future Value\n",
    "\n",
    "We define symbols and formula for the calculations. The expression for future value will be defined in terms of these symbols"
   ]
  },
  {
   "cell_type": "code",
   "execution_count": 27,
   "id": "aa525fc5",
   "metadata": {},
   "outputs": [],
   "source": [
    "from sympy import Symbol"
   ]
  },
  {
   "cell_type": "code",
   "execution_count": 28,
   "id": "8d0acc9d",
   "metadata": {},
   "outputs": [],
   "source": [
    "P = Symbol('Present Value')"
   ]
  },
  {
   "cell_type": "code",
   "execution_count": 29,
   "id": "646b03a2",
   "metadata": {},
   "outputs": [],
   "source": [
    "r = Symbol('rate')\n",
    "n =Symbol('time')"
   ]
  },
  {
   "cell_type": "code",
   "execution_count": 30,
   "id": "591f46d3",
   "metadata": {},
   "outputs": [],
   "source": [
    "future_value = P*(1+r)**n"
   ]
  },
  {
   "cell_type": "code",
   "execution_count": 32,
   "id": "988c95b2",
   "metadata": {},
   "outputs": [
    {
     "data": {
      "text/latex": [
       "$\\displaystyle Present Value \\left(rate + 1\\right)^{time}$"
      ],
      "text/plain": [
       "Present Value*(rate + 1)**time"
      ]
     },
     "execution_count": 32,
     "metadata": {},
     "output_type": "execute_result"
    }
   ],
   "source": [
    "future_value"
   ]
  },
  {
   "cell_type": "code",
   "execution_count": 33,
   "id": "dfa513a8",
   "metadata": {},
   "outputs": [
    {
     "data": {
      "text/latex": [
       "$\\displaystyle Present Value \\left(rate + 1\\right)^{time}$"
      ],
      "text/plain": [
       "Present Value*(rate + 1)**time"
      ]
     },
     "execution_count": 33,
     "metadata": {},
     "output_type": "execute_result"
    }
   ],
   "source": [
    "future_value "
   ]
  },
  {
   "cell_type": "code",
   "execution_count": 34,
   "id": "9a1a14da",
   "metadata": {},
   "outputs": [
    {
     "data": {
      "text/latex": [
       "$\\displaystyle 110.25$"
      ],
      "text/plain": [
       "110.250000000000"
      ]
     },
     "execution_count": 34,
     "metadata": {},
     "output_type": "execute_result"
    }
   ],
   "source": [
    "future_value.evalf(subs= {P:100, r:5/100, n:2})"
   ]
  },
  {
   "cell_type": "markdown",
   "id": "81ce199a",
   "metadata": {},
   "source": [
    "### Calculating Present Value \n"
   ]
  },
  {
   "cell_type": "code",
   "execution_count": 35,
   "id": "35025417",
   "metadata": {},
   "outputs": [],
   "source": [
    "\n",
    "discount_rate = 5 \n",
    "future_value = 100\n",
    "time = 3 "
   ]
  },
  {
   "cell_type": "code",
   "execution_count": 36,
   "id": "1f55a7e6",
   "metadata": {},
   "outputs": [
    {
     "data": {
      "text/plain": [
       "0.46296296296296297"
      ]
     },
     "execution_count": 36,
     "metadata": {},
     "output_type": "execute_result"
    }
   ],
   "source": [
    "future_value/(1+discount_rate)**3"
   ]
  },
  {
   "cell_type": "markdown",
   "id": "a7d1371e",
   "metadata": {},
   "source": [
    "present value for amount 100 received after 1 year "
   ]
  },
  {
   "cell_type": "code",
   "execution_count": 37,
   "id": "823aa9f6",
   "metadata": {},
   "outputs": [
    {
     "data": {
      "text/plain": [
       "95.23809523809524"
      ]
     },
     "execution_count": 37,
     "metadata": {},
     "output_type": "execute_result"
    }
   ],
   "source": [
    "PV = future_value/(1+discount_rate/100)**1\n",
    "PV"
   ]
  },
  {
   "cell_type": "code",
   "execution_count": 38,
   "id": "37f74d44",
   "metadata": {},
   "outputs": [
    {
     "data": {
      "text/plain": [
       "90.70294784580499"
      ]
     },
     "execution_count": 38,
     "metadata": {},
     "output_type": "execute_result"
    }
   ],
   "source": [
    "PV = future_value/(1+discount_rate/100)**2\n",
    "PV"
   ]
  },
  {
   "cell_type": "markdown",
   "id": "4b2d8d34",
   "metadata": {},
   "source": [
    "### Using SymPy To calculate Present Value\n"
   ]
  },
  {
   "cell_type": "code",
   "execution_count": 39,
   "id": "258d4490",
   "metadata": {},
   "outputs": [],
   "source": [
    "F= Symbol ('Future Value')"
   ]
  },
  {
   "cell_type": "code",
   "execution_count": 40,
   "id": "e1c1ebcd",
   "metadata": {},
   "outputs": [],
   "source": [
    "present_value = F/(1+r)**n"
   ]
  },
  {
   "cell_type": "code",
   "execution_count": 41,
   "id": "c0fc45ee",
   "metadata": {},
   "outputs": [
    {
     "data": {
      "text/latex": [
       "$\\displaystyle Future Value \\left(rate + 1\\right)^{- time}$"
      ],
      "text/plain": [
       "Future Value/(rate + 1)**time"
      ]
     },
     "execution_count": 41,
     "metadata": {},
     "output_type": "execute_result"
    }
   ],
   "source": [
    "present_value"
   ]
  },
  {
   "cell_type": "code",
   "execution_count": 42,
   "id": "46ca2a3c",
   "metadata": {},
   "outputs": [
    {
     "data": {
      "text/latex": [
       "$\\displaystyle 86.3837598531476$"
      ],
      "text/plain": [
       "86.3837598531476"
      ]
     },
     "execution_count": 42,
     "metadata": {},
     "output_type": "execute_result"
    }
   ],
   "source": [
    "present_value.evalf(subs={F:100, r:5/100, n:3})"
   ]
  },
  {
   "cell_type": "code",
   "execution_count": 43,
   "id": "2afb24e8",
   "metadata": {},
   "outputs": [
    {
     "data": {
      "text/latex": [
       "$\\displaystyle 77.2183480061064$"
      ],
      "text/plain": [
       "77.2183480061064"
      ]
     },
     "execution_count": 43,
     "metadata": {},
     "output_type": "execute_result"
    }
   ],
   "source": [
    "present_value.evalf(subs={F:100, r:9/100, n:3})"
   ]
  }
 ],
 "metadata": {
  "kernelspec": {
   "display_name": "Python 3 (ipykernel)",
   "language": "python",
   "name": "python3"
  },
  "language_info": {
   "codemirror_mode": {
    "name": "ipython",
    "version": 3
   },
   "file_extension": ".py",
   "mimetype": "text/x-python",
   "name": "python",
   "nbconvert_exporter": "python",
   "pygments_lexer": "ipython3",
   "version": "3.9.12"
  }
 },
 "nbformat": 4,
 "nbformat_minor": 5
}
