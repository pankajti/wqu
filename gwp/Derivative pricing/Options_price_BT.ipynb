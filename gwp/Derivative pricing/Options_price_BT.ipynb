{
 "cells": [
  {
   "cell_type": "code",
   "execution_count": 1,
   "id": "e4ff441c",
   "metadata": {},
   "outputs": [],
   "source": [
    "import  matplotlib.pyplot as plt\n",
    "import numpy as np \n",
    "import pandas as pd \n",
    "import math"
   ]
  },
  {
   "cell_type": "code",
   "execution_count": 51,
   "id": "f7750fcd",
   "metadata": {},
   "outputs": [],
   "source": [
    "def calculate_pay_off_eur(option_type , strike ,  excercise_price,trade_type,option_price):\n",
    "    if option_type =='c':\n",
    "        payoff= max(excercise_price-strike-option_price, -option_price)\n",
    "    if option_type.lower() =='p':\n",
    "        payoff= max(strike-excercise_price-option_price, -option_price)\n",
    "    \n",
    "    if trade_type =='s':\n",
    "        payoff=-payoff\n",
    "    return payoff"
   ]
  },
  {
   "cell_type": "code",
   "execution_count": 52,
   "id": "df251dc1",
   "metadata": {},
   "outputs": [],
   "source": [
    "def binomial_tree_price_eur(S0,K,T,r, u , d, steps):\n",
    "    size = steps +1\n",
    "    dt = T / steps  # Define time step\n",
    "    p = (np.exp(r * dt) - d) / (u - d)  # Risk neutral probabilities (probs)\n",
    "    put_tree=np.zeros([size, size])\n",
    "    ud_tree=np.zeros([size, size])\n",
    "    call_tree = np.zeros([size, size])\n",
    "    print(dt , r ,p)\n",
    "    for i in range(size):\n",
    "        for j in range(size-i):\n",
    "            underlying_price = S0*u**j * d**i\n",
    "            ud_tree[i][j]=underlying_price\n",
    "            if i+j==steps:\n",
    "                call_tree[i][j] = max(underlying_price-K,0)\n",
    "                put_tree[i][j] = max(K-underlying_price,0)\n",
    "                \n",
    "    for i in range(steps-1, -1,-1):\n",
    "        for j in range(steps-1,-1,-1):\n",
    "            if i+j!=steps:\n",
    "                call_tree[j][i] = np.exp(-r * dt) * (p * call_tree[j , i + 1] + (1 - p) * call_tree[j + 1, i])\n",
    "                put_tree[j][i] = np.exp(-r * dt) * (p * put_tree[j , i + 1] + (1 - p) * put_tree[j + 1, i])\n",
    "\n",
    "    return ud_tree, call_tree,put_tree"
   ]
  },
  {
   "cell_type": "code",
   "execution_count": 59,
   "id": "0d03de85",
   "metadata": {},
   "outputs": [],
   "source": [
    "def binomial_tree_eur_m(S0,K,T,r, u , d, steps):\n",
    "    size = steps +1\n",
    "    dt = T / steps  # Define time step\n",
    "    p = (np.exp(r * dt) - d) / (u - d)  # Risk neutral probabilities (probs)\n",
    "    put_tree=np.zeros([size, size])\n",
    "    ud_tree=np.zeros([size, size])\n",
    "    call_tree = np.zeros([size, size])\n",
    "    print(dt , r ,p)\n",
    "    for i in range(size):\n",
    "        for j in range(size-i):\n",
    "            underlying_price = S0*u**j * d**i\n",
    "            ud_tree[i][j]=underlying_price\n",
    "            if i+j==steps:\n",
    "                call_tree[i][j] = max(underlying_price-K,0)\n",
    "                put_tree[i][j] = max(K-underlying_price,0)\n",
    "                \n",
    "#     for i in range(steps-1, -1,-1):\n",
    "#         for j in range(steps-1,-1,-1):\n",
    "#             if i+j!=steps:\n",
    "#                 call_tree[j][i] = np.exp(-r * dt) * (p * call_tree[j , i + 1] + (1 - p) * call_tree[j + 1, i])\n",
    "#                 put_tree[j][i] = np.exp(-r * dt) * (p * put_tree[j , i + 1] + (1 - p) * put_tree[j + 1, i])\n",
    "    return ud_tree, call_tree,put_tree"
   ]
  },
  {
   "cell_type": "code",
   "execution_count": 61,
   "id": "065c7911",
   "metadata": {},
   "outputs": [
    {
     "name": "stdout",
     "output_type": "stream",
     "text": [
      "50.0 0.1 369.03289775644157\n"
     ]
    },
    {
     "data": {
      "text/plain": [
       "(array([[145. , 174. , 208.8],\n",
       "        [116. , 139.2,   0. ],\n",
       "        [ 92.8,   0. ,   0. ]]),\n",
       " array([[189.27070365, 173.3262053 , 108.8       ],\n",
       "        [ 97.47174496,  39.2       ,   0.        ],\n",
       "        [  0.        ,   0.        ,   0.        ]]),\n",
       " array([[ 44.27524364,   0.        ,   0.        ],\n",
       "        [-17.85446034,   0.        ,   0.        ],\n",
       "        [  7.2       ,   0.        ,   0.        ]]))"
      ]
     },
     "execution_count": 61,
     "metadata": {},
     "output_type": "execute_result"
    }
   ],
   "source": [
    "binomial_tree_eur(145, 100, 100, 0.1, 1.2, 0.8, 2)"
   ]
  },
  {
   "cell_type": "code",
   "execution_count": 44,
   "id": "de415e81",
   "metadata": {},
   "outputs": [],
   "source": []
  },
  {
   "cell_type": "code",
   "execution_count": 25,
   "id": "51afd278",
   "metadata": {},
   "outputs": [],
   "source": [
    "def binomial_tree_price_eur(S0,K,T,r, u , d, steps):\n",
    "    ud_tree, call_tree,put_tree = binomial_tree_eur(S0,K,T,r, u , d, steps)\n",
    "    stock_price = ud_tree[0][0]\n",
    "    call_price= call_tree[0][0]\n",
    "    put_price = put_tree[0][0]\n",
    "    return stock_price, call_price,put_price"
   ]
  },
  {
   "cell_type": "code",
   "execution_count": 26,
   "id": "8de678ab",
   "metadata": {},
   "outputs": [],
   "source": [
    "S0 = 100\n",
    "r = .05 \n",
    "sigma = .2\n",
    "T = 3\n",
    "K=90\n",
    "steps = 3\n",
    "d= np.exp(-sigma*np.sqrt(T/steps))\n",
    "u = 1/d"
   ]
  },
  {
   "cell_type": "markdown",
   "id": "bf15a7a5",
   "metadata": {},
   "source": [
    "For put call parity to hold following equation should be satisfied :\n",
    "\n",
    "C: call price \n",
    "\n",
    "K:  strike \n",
    "\n",
    "S: underlying price\n",
    "\n",
    "P:  put price \n",
    "\n",
    "r: risk-free interest rate\n",
    "\n",
    "t:  time to expiry\n",
    "\n",
    "$$ C+K*(e^-rt) = P+S  $$\n"
   ]
  },
  {
   "cell_type": "code",
   "execution_count": 27,
   "id": "37e40f07",
   "metadata": {},
   "outputs": [
    {
     "data": {
      "text/plain": [
       "100"
      ]
     },
     "execution_count": 27,
     "metadata": {},
     "output_type": "execute_result"
    }
   ],
   "source": [
    "S0"
   ]
  },
  {
   "cell_type": "code",
   "execution_count": 28,
   "id": "aef86ec1",
   "metadata": {},
   "outputs": [
    {
     "name": "stdout",
     "output_type": "stream",
     "text": [
      "1.0 0.05 0.5774931963561243\n"
     ]
    }
   ],
   "source": [
    "S, C , P = binomial_tree_price_eur(S0,K,T,r, u , d, steps)"
   ]
  },
  {
   "cell_type": "code",
   "execution_count": 29,
   "id": "7bcad78c",
   "metadata": {},
   "outputs": [
    {
     "name": "stdout",
     "output_type": "stream",
     "text": [
      "1.0 0.05 0.5774931963561243\n"
     ]
    },
    {
     "data": {
      "text/plain": [
       "(array([[100.        , 122.14027582, 149.18246976, 182.21188004],\n",
       "        [ 81.87307531, 100.        , 122.14027582,   0.        ],\n",
       "        [ 67.0320046 ,  81.87307531,   0.        ,   0.        ],\n",
       "        [ 54.88116361,   0.        ,   0.        ,   0.        ]]),\n",
       " array([[26.97938803, 42.01760431, 63.57182156, 92.21188004],\n",
       "        [ 9.69870825, 17.65557017, 32.14027582,  0.        ],\n",
       "        [ 0.        ,  0.        ,  0.        ,  0.        ],\n",
       "        [ 0.        ,  0.        ,  0.        ,  0.        ]]),\n",
       " array([[ 4.44310591,  1.31269612,  0.        ,  0.        ],\n",
       "        [ 9.26100056,  3.26621838,  0.        ,  0.        ],\n",
       "        [18.5786436 ,  8.12692469,  0.        ,  0.        ],\n",
       "        [35.11883639,  0.        ,  0.        ,  0.        ]]))"
      ]
     },
     "execution_count": 29,
     "metadata": {},
     "output_type": "execute_result"
    }
   ],
   "source": [
    "binomial_tree_eur(S0,K,T,r, u , d, steps)"
   ]
  },
  {
   "cell_type": "code",
   "execution_count": 20,
   "id": "9ea73e68",
   "metadata": {},
   "outputs": [],
   "source": [
    "K_present = K*np.exp(-r*T)"
   ]
  },
  {
   "cell_type": "code",
   "execution_count": 30,
   "id": "7a943735",
   "metadata": {},
   "outputs": [
    {
     "data": {
      "text/plain": [
       "(100.0, 26.979388033508236, 4.443105911763413)"
      ]
     },
     "execution_count": 30,
     "metadata": {},
     "output_type": "execute_result"
    }
   ],
   "source": [
    "S, C , P"
   ]
  },
  {
   "cell_type": "code",
   "execution_count": 31,
   "id": "f96e753c",
   "metadata": {},
   "outputs": [
    {
     "data": {
      "text/plain": [
       "26.9793880335082"
      ]
     },
     "execution_count": 31,
     "metadata": {},
     "output_type": "execute_result"
    }
   ],
   "source": [
    "S+P-K_present"
   ]
  },
  {
   "cell_type": "code",
   "execution_count": 38,
   "id": "568322cd",
   "metadata": {},
   "outputs": [],
   "source": [
    "sigma = 0.25\n",
    "T=1/2\n",
    "N=3\n",
    "dt = T/N"
   ]
  },
  {
   "cell_type": "code",
   "execution_count": 39,
   "id": "dc810738",
   "metadata": {},
   "outputs": [],
   "source": [
    "u = np.exp(sigma * np.sqrt(dt))  # Define u\n",
    "d = np.exp(-sigma * np.sqrt(dt))"
   ]
  },
  {
   "cell_type": "code",
   "execution_count": 40,
   "id": "458f4484",
   "metadata": {},
   "outputs": [
    {
     "name": "stdout",
     "output_type": "stream",
     "text": [
      "0.16666666666666666 0.02 0.49083542271712927\n"
     ]
    },
    {
     "data": {
      "text/plain": [
       "(180.0, 13.633315352711051, 13.82238509505968)"
      ]
     },
     "execution_count": 40,
     "metadata": {},
     "output_type": "execute_result"
    }
   ],
   "source": [
    "binomial_tree_price_eur(180, 182, 1/2, 0.02,u,d , 3)"
   ]
  },
  {
   "attachments": {
    "image.png": {
     "image/png": "[encoded data removed]"
    }
   },
   "cell_type": "markdown",
   "id": "ec20974a",
   "metadata": {},
   "source": [
    "![image.png](attachment:image.png)"
   ]
  },
  {
   "attachments": {
    "image.png": {
     "image/png": "[encoded data removed]"
    }
   },
   "cell_type": "markdown",
   "id": "bd25e7c7",
   "metadata": {},
   "source": [
    "![image.png](attachment:image.png)"
   ]
  },
  {
   "cell_type": "code",
   "execution_count": null,
   "id": "89c77194",
   "metadata": {},
   "outputs": [],
   "source": [
    "u = 1.2, d = 0.8, T = 2 = N, dt = 1, r = 5%, K = $52 and S0 = $50."
   ]
  },
  {
   "cell_type": "code",
   "execution_count": 76,
   "id": "6dcac989",
   "metadata": {},
   "outputs": [
    {
     "name": "stdout",
     "output_type": "stream",
     "text": [
      "1.0 0.05 0.6281777409400603\n"
     ]
    },
    {
     "data": {
      "text/plain": [
       "(array([[50., 60., 72.],\n",
       "        [40., 48.,  0.],\n",
       "        [32.,  0.,  0.]]),\n",
       " array([[ 7.14110854, 11.95082302, 20.        ],\n",
       "        [ 0.        ,  0.        ,  0.        ],\n",
       "        [ 0.        ,  0.        ,  0.        ]]),\n",
       " array([[ 4.19265428,  1.41475309,  0.        ],\n",
       "        [ 9.46393007,  4.        ,  0.        ],\n",
       "        [20.        ,  0.        ,  0.        ]]),\n",
       " array([[ 7.14110854, 11.95082302, 20.        ],\n",
       "        [ 0.        ,  0.        ,  0.        ],\n",
       "        [ 0.        ,  0.        ,  0.        ]]),\n",
       " array([[ 5.08963247,  1.41475309,  0.        ],\n",
       "        [12.        ,  4.        ,  0.        ],\n",
       "        [20.        ,  0.        ,  0.        ]]))"
      ]
     },
     "execution_count": 76,
     "metadata": {},
     "output_type": "execute_result"
    }
   ],
   "source": [
    "binomial_tree_option(50, 52, 2, 0.05, 1.2, .8, 2)"
   ]
  },
  {
   "cell_type": "code",
   "execution_count": 71,
   "id": "0e7a2025",
   "metadata": {},
   "outputs": [
    {
     "name": "stdout",
     "output_type": "stream",
     "text": [
      "50.0 0.1 369.03289775644157\n"
     ]
    },
    {
     "data": {
      "text/plain": [
       "(array([[145. , 174. , 208.8],\n",
       "        [116. , 139.2,   0. ],\n",
       "        [ 92.8,   0. ,   0. ]]),\n",
       " array([[189.27070365, 173.3262053 , 108.8       ],\n",
       "        [ 97.47174496,  39.2       ,   0.        ],\n",
       "        [  0.        ,   0.        ,   0.        ]]),\n",
       " array([[ 44.27524364,   0.        ,   0.        ],\n",
       "        [-17.85446034,   0.        ,   0.        ],\n",
       "        [  7.2       ,   0.        ,   0.        ]]),\n",
       " array([[189.27070365, 173.3262053 , 108.8       ],\n",
       "        [ 97.47174496,  39.2       ,   0.        ],\n",
       "        [  0.        ,   0.        ,   0.        ]]),\n",
       " array([[ 44.27524364,   0.        ,   0.        ],\n",
       "        [-16.        ,   0.        ,   0.        ],\n",
       "        [  7.2       ,   0.        ,   0.        ]]))"
      ]
     },
     "execution_count": 71,
     "metadata": {},
     "output_type": "execute_result"
    }
   ],
   "source": [
    "import numpy as np\n",
    "\n",
    "def binomial_tree_option(S0, K, T, r, u, d, steps):\n",
    "    size = steps + 1\n",
    "    dt = T / steps\n",
    "    p = (np.exp(r * dt) - d) / (u - d)\n",
    "    ud_tree = np.zeros([size, size])\n",
    "    eu_put_tree = np.zeros([size, size])\n",
    "    eu_call_tree = np.zeros([size, size])\n",
    "    am_put_tree = np.zeros([size, size])\n",
    "    am_call_tree = np.zeros([size, size])\n",
    "\n",
    "    print(dt, r, p)\n",
    "    for i in range(size):\n",
    "        for j in range(size - i):\n",
    "            underlying_price = S0 * u ** j * d ** i\n",
    "            ud_tree[i][j] = underlying_price\n",
    "            if i + j == steps:\n",
    "                eu_call_tree[i][j] = max(underlying_price - K, 0)\n",
    "                eu_put_tree[i][j] = max(K - underlying_price, 0)\n",
    "                am_call_tree[i][j] = max(underlying_price - K, 0)\n",
    "                am_put_tree[i][j] = max(K - underlying_price, 0)\n",
    "\n",
    "\n",
    "    for i in range(steps - 1, -1, -1):\n",
    "        for j in range(steps - 1, -1, -1):\n",
    "            if i + j != steps:\n",
    "                eu_call_tree[j][i] = np.exp(-r * dt) * (p * eu_call_tree[j, i + 1] + (1 - p) * eu_call_tree[j + 1, i])\n",
    "                eu_put_tree[j][i] = np.exp(-r * dt) * (p * eu_put_tree[j, i + 1] + (1 - p) * eu_put_tree[j + 1, i])\n",
    "\n",
    "                am_call_tree[j][i] = max((ud_tree[j][i] - K), eu_call_tree[j][i] )\n",
    "                am_put_tree[j][i] = max((K-ud_tree[j][i] ), eu_put_tree[j][i] )\n",
    "\n",
    "    return ud_tree, eu_call_tree, eu_put_tree,am_call_tree,am_put_tree\n",
    "\n",
    "binomial_tree_option(145, 100, 100, 0.1, 1.2, 0.8, 2)"
   ]
  },
  {
   "cell_type": "code",
   "execution_count": 75,
   "id": "33e61c1e",
   "metadata": {},
   "outputs": [
    {
     "name": "stdout",
     "output_type": "stream",
     "text": [
      "50.0 0.1 369.03289775644157\n"
     ]
    },
    {
     "data": {
      "text/plain": [
       "(array([[145. , 174. , 208.8],\n",
       "        [116. , 139.2,   0. ],\n",
       "        [ 92.8,   0. ,   0. ]]),\n",
       " array([[189.27070365, 173.3262053 , 108.8       ],\n",
       "        [ 97.47174496,  39.2       ,   0.        ],\n",
       "        [  0.        ,   0.        ,   0.        ]]),\n",
       " array([[ 44.27524364,   0.        ,   0.        ],\n",
       "        [-17.85446034,   0.        ,   0.        ],\n",
       "        [  7.2       ,   0.        ,   0.        ]]),\n",
       " array([[189.27070365, 173.3262053 , 108.8       ],\n",
       "        [ 97.47174496,  39.2       ,   0.        ],\n",
       "        [  0.        ,   0.        ,   0.        ]]),\n",
       " array([[ 39.67657854,   0.        ,   0.        ],\n",
       "        [-16.        ,   0.        ,   0.        ],\n",
       "        [  7.2       ,   0.        ,   0.        ]]))"
      ]
     },
     "execution_count": 75,
     "metadata": {},
     "output_type": "execute_result"
    }
   ],
   "source": [
    "import numpy as np\n",
    "\n",
    "def binomial_tree_option(S0, K, T, r, u, d, steps):\n",
    "    size = steps + 1\n",
    "    dt = T / steps\n",
    "    p = (np.exp(r * dt) - d) / (u - d)\n",
    "    ud_tree = np.zeros([size, size])\n",
    "    eu_put_tree = np.zeros([size, size])\n",
    "    eu_call_tree = np.zeros([size, size])\n",
    "    am_put_tree = np.zeros([size, size])\n",
    "    am_call_tree = np.zeros([size, size])\n",
    "\n",
    "    print(dt, r, p)\n",
    "    for i in range(size):\n",
    "        for j in range(size - i):\n",
    "            underlying_price = S0 * u ** j * d ** i\n",
    "            ud_tree[i][j] = underlying_price\n",
    "            if i + j == steps:\n",
    "                eu_call_tree[i][j] = max(underlying_price - K, 0)\n",
    "                eu_put_tree[i][j] = max(K - underlying_price, 0)\n",
    "                am_call_tree[i][j] = max(underlying_price - K, 0)\n",
    "                am_put_tree[i][j] = max(K - underlying_price, 0)\n",
    "\n",
    "\n",
    "    for i in range(steps - 1, -1, -1):\n",
    "        for j in range(steps - 1, -1, -1):\n",
    "            if i + j != steps:\n",
    "                \n",
    "                eu_call_tree[j][i] = np.exp(-r * dt) * (p * eu_call_tree[j, i + 1] + (1 - p) * eu_call_tree[j + 1, i])\n",
    "                eu_put_tree[j][i] = np.exp(-r * dt) * (p * eu_put_tree[j, i + 1] + (1 - p) * eu_put_tree[j + 1, i])\n",
    "                \n",
    "                am_call_tree[j][i] = np.exp(-r * dt) * (p * am_call_tree[j, i + 1] + (1 - p) * am_call_tree[j + 1, i])\n",
    "                am_put_tree[j][i] = np.exp(-r * dt) * (p * am_put_tree[j, i + 1] + (1 - p) * am_put_tree[j + 1, i])\n",
    "\n",
    "                am_call_tree[j][i] = max((ud_tree[j][i] - K), am_call_tree[j][i] )\n",
    "                am_put_tree[j][i] = max((K-ud_tree[j][i] ), am_put_tree[j][i] )\n",
    "\n",
    "    return ud_tree, eu_call_tree, eu_put_tree,am_call_tree,am_put_tree\n",
    "\n",
    "binomial_tree_option(145, 100, 100, 0.1, 1.2, 0.8, 2)"
   ]
  },
  {
   "cell_type": "code",
   "execution_count": 67,
   "id": "1b491dd2",
   "metadata": {},
   "outputs": [
    {
     "ename": "TypeError",
     "evalue": "binomial_tree_option() missing 1 required positional argument: 'steps'",
     "output_type": "error",
     "traceback": [
      "\u001b[0;31m---------------------------------------------------------------------------\u001b[0m",
      "\u001b[0;31mTypeError\u001b[0m                                 Traceback (most recent call last)",
      "\u001b[0;32m/var/folders/my/jhytrkzj6z7g66h16rkc3prr0000gn/T/ipykernel_39550/3247293351.py\u001b[0m in \u001b[0;36m<module>\u001b[0;34m\u001b[0m\n\u001b[0;32m----> 1\u001b[0;31m \u001b[0mbinomial_tree_option\u001b[0m\u001b[0;34m(\u001b[0m\u001b[0;36m100\u001b[0m\u001b[0;34m,\u001b[0m \u001b[0;36m90\u001b[0m\u001b[0;34m,\u001b[0m \u001b[0;36m10\u001b[0m\u001b[0;34m,\u001b[0m \u001b[0;36m0\u001b[0m\u001b[0;34m,\u001b[0m \u001b[0;36m0.3\u001b[0m\u001b[0;34m,\u001b[0m \u001b[0;36m10\u001b[0m\u001b[0;34m)\u001b[0m\u001b[0;34m\u001b[0m\u001b[0;34m\u001b[0m\u001b[0m\n\u001b[0m",
      "\u001b[0;31mTypeError\u001b[0m: binomial_tree_option() missing 1 required positional argument: 'steps'"
     ]
    }
   ],
   "source": [
    "binomial_tree_option(100, 90, 10, 0, 0.3, 10)"
   ]
  },
  {
   "cell_type": "code",
   "execution_count": null,
   "id": "bdfd3a25",
   "metadata": {},
   "outputs": [],
   "source": []
  }
 ],
 "metadata": {
  "kernelspec": {
   "display_name": "Python 3 (ipykernel)",
   "language": "python",
   "name": "python3"
  },
  "language_info": {
   "codemirror_mode": {
    "name": "ipython",
    "version": 3
   },
   "file_extension": ".py",
   "mimetype": "text/x-python",
   "name": "python",
   "nbconvert_exporter": "python",
   "pygments_lexer": "ipython3",
   "version": "3.8.10"
  }
 },
 "nbformat": 4,
 "nbformat_minor": 5
}
