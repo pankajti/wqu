{
  "cells": [
    {
      "cell_type": "code",
      "execution_count": 1,
      "id": "6e77d759",
      "metadata": {
        "id": "6e77d759",
        "outputId": "2aac76c4-d775-44bb-fc3d-ffb5709402b9",
        "colab": {
          "base_uri": "https://localhost:8080/"
        }
      },
      "outputs": [
        {
          "output_type": "stream",
          "name": "stdout",
          "text": [
            "\r[*********************100%%**********************]  1 of 1 completed\n"
          ]
        }
      ],
      "source": [
        "import yfinance as yf\n",
        "import pandas as pd\n",
        "ticker = 'TCS.NS'\n",
        "yf_ticker = yf.Ticker(ticker)\n",
        "hf_tick_hist=yf.download(ticker, start='2022-01-01', end='2022-11-21')#, actions=True)"
      ]
    },
    {
      "cell_type": "code",
      "execution_count": null,
      "id": "7b83df87",
      "metadata": {
        "id": "7b83df87"
      },
      "outputs": [],
      "source": []
    },
    {
      "cell_type": "code",
      "execution_count": null,
      "id": "76aa85ef",
      "metadata": {
        "id": "76aa85ef"
      },
      "outputs": [],
      "source": []
    },
    {
      "cell_type": "code",
      "execution_count": null,
      "id": "b86be6c1",
      "metadata": {
        "id": "b86be6c1",
        "outputId": "51f25617-4654-4235-c8a7-32f7959d7ad4"
      },
      "outputs": [
        {
          "name": "stdout",
          "output_type": "stream",
          "text": [
            "[*********************100%***********************]  1 of 1 completed\n"
          ]
        }
      ],
      "source": []
    },
    {
      "cell_type": "code",
      "execution_count": null,
      "id": "365e7b03",
      "metadata": {
        "scrolled": true,
        "id": "365e7b03"
      },
      "outputs": [],
      "source": [
        "#hf_tick_hist.iloc[:,[0,1,2,3,5]]"
      ]
    },
    {
      "cell_type": "code",
      "execution_count": null,
      "id": "212e6ddb",
      "metadata": {
        "id": "212e6ddb"
      },
      "outputs": [],
      "source": [
        "data_feed= bt.feeds.PandasData(dataname =hf_tick_hist.iloc[:,[0,1,2,3,5]])"
      ]
    },
    {
      "cell_type": "code",
      "execution_count": null,
      "id": "13c6514d",
      "metadata": {
        "scrolled": true,
        "id": "13c6514d",
        "outputId": "89d7e064-3f28-499a-d266-2d2c2a15771c"
      },
      "outputs": [
        {
          "data": {
            "text/plain": [
              "['datetime', 'open', 'high', 'low', 'close', 'volume', 'openinterest']"
            ]
          },
          "execution_count": 209,
          "metadata": {},
          "output_type": "execute_result"
        }
      ],
      "source": [
        "data_feed.datafields"
      ]
    },
    {
      "cell_type": "code",
      "execution_count": null,
      "id": "d927370b",
      "metadata": {
        "id": "d927370b"
      },
      "outputs": [],
      "source": []
    }
  ],
  "metadata": {
    "kernelspec": {
      "display_name": "Python 3 (ipykernel)",
      "language": "python",
      "name": "python3"
    },
    "language_info": {
      "codemirror_mode": {
        "name": "ipython",
        "version": 3
      },
      "file_extension": ".py",
      "mimetype": "text/x-python",
      "name": "python",
      "nbconvert_exporter": "python",
      "pygments_lexer": "ipython3",
      "version": "3.9.12"
    },
    "colab": {
      "provenance": []
    }
  },
  "nbformat": 4,
  "nbformat_minor": 5
}