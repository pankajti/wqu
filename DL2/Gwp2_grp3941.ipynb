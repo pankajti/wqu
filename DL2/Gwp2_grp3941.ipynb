{
  "nbformat": 4,
  "nbformat_minor": 0,
  "metadata": {
    "colab": {
      "provenance": [],
      "gpuType": "T4",
      "authorship_tag": "ABX9TyO4hP4ipq39aILAD2RvKTPg",
      "include_colab_link": true
    },
    "kernelspec": {
      "name": "python3",
      "display_name": "Python 3"
    },
    "language_info": {
      "name": "python"
    },
    "accelerator": "GPU"
  },
  "cells": [
    {
      "cell_type": "markdown",
      "metadata": {
        "id": "view-in-github",
        "colab_type": "text"
      },
      "source": [
        "<a href=\"https://colab.research.google.com/github/pankajti/wqu/blob/main/DL2/Gwp2_grp3941.ipynb\" target=\"_parent\"><img src=\"https://colab.research.google.com/assets/colab-badge.svg\" alt=\"Open In Colab\"/></a>"
      ]
    },
    {
      "cell_type": "markdown",
      "source": [
        "## Step 1"
      ],
      "metadata": {
        "id": "kMVqcqpXXv70"
      }
    },
    {
      "cell_type": "code",
      "execution_count": null,
      "metadata": {
        "id": "n5fBhSSKptjp"
      },
      "outputs": [],
      "source": [
        "import yfinance as yf\n",
        "import tensorflow as tf\n",
        "import numpy as np\n",
        "import matplotlib.pyplot as plt\n",
        "import pandas as pd\n",
        "from sklearn.model_selection import train_test_split\n",
        "from sklearn.preprocessing import MinMaxScaler\n",
        "import tensorflow as tf\n",
        "from keras.callbacks import EarlyStopping\n",
        "from sklearn.preprocessing import MinMaxScaler\n",
        "from keras import Sequential\n",
        "from keras.callbacks import EarlyStopping\n"
      ]
    },
    {
      "cell_type": "code",
      "source": [
        "ticker_names = ['SPY', 'TLT', 'SHY', 'GLD', 'DBO']\n",
        "#ticker_names = ['SPY']"
      ],
      "metadata": {
        "id": "kuhI4Gc4p8GW"
      },
      "execution_count": null,
      "outputs": []
    },
    {
      "cell_type": "code",
      "source": [
        "tickers_yf = yf.Tickers(ticker_names)\n",
        "tickers_df = tickers_yf.history(start='2018-01-01', end = '2022-12-30')"
      ],
      "metadata": {
        "colab": {
          "base_uri": "https://localhost:8080/"
        },
        "id": "1HpY7nlEp8P-",
        "outputId": "2c3d8001-9f4d-4442-ff66-fcb7c3a98581"
      },
      "execution_count": null,
      "outputs": [
        {
          "output_type": "stream",
          "name": "stdout",
          "text": [
            "[*********************100%%**********************]  5 of 5 completed\n"
          ]
        }
      ]
    },
    {
      "cell_type": "code",
      "source": [
        "tickers_df"
      ],
      "metadata": {
        "colab": {
          "base_uri": "https://localhost:8080/",
          "height": 680
        },
        "id": "5reMW91YNVbF",
        "outputId": "0a9d9ee0-8c53-4e43-bc50-e8fac2d6a2a0"
      },
      "execution_count": null,
      "outputs": [
        {
          "output_type": "execute_result",
          "data": {
            "text/plain": [
              "           Capital Gains                          Close              \\\n",
              "                     DBO  GLD  SHY  SPY  TLT        DBO         GLD   \n",
              "Date                                                                  \n",
              "2018-01-02           0.0  0.0  0.0  0.0  0.0   9.797762  125.150002   \n",
              "2018-01-03           0.0  0.0  0.0  0.0  0.0  10.009295  124.820000   \n",
              "2018-01-04           0.0  0.0  0.0  0.0  0.0  10.028524  125.459999   \n",
              "2018-01-05           0.0  0.0  0.0  0.0  0.0   9.980449  125.330002   \n",
              "2018-01-08           0.0  0.0  0.0  0.0  0.0  10.038139  125.309998   \n",
              "...                  ...  ...  ...  ...  ...        ...         ...   \n",
              "2022-12-22           0.0  0.0  0.0  0.0  0.0  14.640000  166.759995   \n",
              "2022-12-23           0.0  0.0  0.0  0.0  0.0  15.000000  167.259995   \n",
              "2022-12-27           0.0  0.0  0.0  0.0  0.0  15.110000  168.669998   \n",
              "2022-12-28           0.0  0.0  0.0  0.0  0.0  14.950000  167.910004   \n",
              "2022-12-29           0.0  0.0  0.0  0.0  0.0  14.880000  168.850006   \n",
              "\n",
              "                                               ... Stock Splits            \\\n",
              "                  SHY         SPY         TLT  ...          DBO  GLD  SHY   \n",
              "Date                                           ...                          \n",
              "2018-01-02  77.229553  244.918594  110.790878  ...          0.0  0.0  0.0   \n",
              "2018-01-03  77.229553  246.467819  111.320595  ...          0.0  0.0  0.0   \n",
              "2018-01-04  77.192719  247.506622  111.302902  ...          0.0  0.0  0.0   \n",
              "2018-01-05  77.192719  249.156006  110.985092  ...          0.0  0.0  0.0   \n",
              "2018-01-08  77.192719  249.611633  110.914467  ...          0.0  0.0  0.0   \n",
              "...               ...         ...         ...  ...          ...  ...  ...   \n",
              "2022-12-22  79.868927  377.868866  101.506241  ...          0.0  0.0  0.0   \n",
              "2022-12-23  79.829674  380.042480  100.018112  ...          0.0  0.0  0.0   \n",
              "2022-12-27  79.721672  378.543793   98.040466  ...          0.0  0.0  0.0   \n",
              "2022-12-28  79.721672  373.839264   97.462837  ...          0.0  0.0  0.0   \n",
              "2022-12-29  79.780594  380.568512   98.569138  ...          0.0  0.0  0.0   \n",
              "\n",
              "                      Volume                                          \n",
              "            SPY  TLT     DBO       GLD      SHY        SPY       TLT  \n",
              "Date                                                                  \n",
              "2018-01-02  0.0  0.0  155000  11762500  1786000   86655700  16238200  \n",
              "2018-01-03  0.0  0.0  216000   7904300  1040900   90070400   8605100  \n",
              "2018-01-04  0.0  0.0  184600   7329700   955400   80636400   9217900  \n",
              "2018-01-05  0.0  0.0  307700   5739900   850600   83524000  10915400  \n",
              "2018-01-08  0.0  0.0  183400   3566700   597700   57319200   8850600  \n",
              "...         ...  ...     ...       ...      ...        ...       ...  \n",
              "2022-12-22  0.0  0.0  355100   5672700  6612800  100120900  11322500  \n",
              "2022-12-23  0.0  0.0  374500   2912300  2737200   59857300  15408900  \n",
              "2022-12-27  0.0  0.0  585500   6885700  3969500   51638200  26475700  \n",
              "2022-12-28  0.0  0.0  439000   3662500  4308900   70911500  17302900  \n",
              "2022-12-29  0.0  0.0  284900   3345900  4149000   66970900  16593000  \n",
              "\n",
              "[1258 rows x 40 columns]"
            ],
            "text/html": [
              "\n",
              "  <div id=\"df-8dff0165-017e-443a-b559-af0efda0c5c3\" class=\"colab-df-container\">\n",
              "    <div>\n",
              "<style scoped>\n",
              "    .dataframe tbody tr th:only-of-type {\n",
              "        vertical-align: middle;\n",
              "    }\n",
              "\n",
              "    .dataframe tbody tr th {\n",
              "        vertical-align: top;\n",
              "    }\n",
              "\n",
              "    .dataframe thead tr th {\n",
              "        text-align: left;\n",
              "    }\n",
              "\n",
              "    .dataframe thead tr:last-of-type th {\n",
              "        text-align: right;\n",
              "    }\n",
              "</style>\n",
              "<table border=\"1\" class=\"dataframe\">\n",
              "  <thead>\n",
              "    <tr>\n",
              "      <th></th>\n",
              "      <th colspan=\"5\" halign=\"left\">Capital Gains</th>\n",
              "      <th colspan=\"5\" halign=\"left\">Close</th>\n",
              "      <th>...</th>\n",
              "      <th colspan=\"5\" halign=\"left\">Stock Splits</th>\n",
              "      <th colspan=\"5\" halign=\"left\">Volume</th>\n",
              "    </tr>\n",
              "    <tr>\n",
              "      <th></th>\n",
              "      <th>DBO</th>\n",
              "      <th>GLD</th>\n",
              "      <th>SHY</th>\n",
              "      <th>SPY</th>\n",
              "      <th>TLT</th>\n",
              "      <th>DBO</th>\n",
              "      <th>GLD</th>\n",
              "      <th>SHY</th>\n",
              "      <th>SPY</th>\n",
              "      <th>TLT</th>\n",
              "      <th>...</th>\n",
              "      <th>DBO</th>\n",
              "      <th>GLD</th>\n",
              "      <th>SHY</th>\n",
              "      <th>SPY</th>\n",
              "      <th>TLT</th>\n",
              "      <th>DBO</th>\n",
              "      <th>GLD</th>\n",
              "      <th>SHY</th>\n",
              "      <th>SPY</th>\n",
              "      <th>TLT</th>\n",
              "    </tr>\n",
              "    <tr>\n",
              "      <th>Date</th>\n",
              "      <th></th>\n",
              "      <th></th>\n",
              "      <th></th>\n",
              "      <th></th>\n",
              "      <th></th>\n",
              "      <th></th>\n",
              "      <th></th>\n",
              "      <th></th>\n",
              "      <th></th>\n",
              "      <th></th>\n",
              "      <th></th>\n",
              "      <th></th>\n",
              "      <th></th>\n",
              "      <th></th>\n",
              "      <th></th>\n",
              "      <th></th>\n",
              "      <th></th>\n",
              "      <th></th>\n",
              "      <th></th>\n",
              "      <th></th>\n",
              "      <th></th>\n",
              "    </tr>\n",
              "  </thead>\n",
              "  <tbody>\n",
              "    <tr>\n",
              "      <th>2018-01-02</th>\n",
              "      <td>0.0</td>\n",
              "      <td>0.0</td>\n",
              "      <td>0.0</td>\n",
              "      <td>0.0</td>\n",
              "      <td>0.0</td>\n",
              "      <td>9.797762</td>\n",
              "      <td>125.150002</td>\n",
              "      <td>77.229553</td>\n",
              "      <td>244.918594</td>\n",
              "      <td>110.790878</td>\n",
              "      <td>...</td>\n",
              "      <td>0.0</td>\n",
              "      <td>0.0</td>\n",
              "      <td>0.0</td>\n",
              "      <td>0.0</td>\n",
              "      <td>0.0</td>\n",
              "      <td>155000</td>\n",
              "      <td>11762500</td>\n",
              "      <td>1786000</td>\n",
              "      <td>86655700</td>\n",
              "      <td>16238200</td>\n",
              "    </tr>\n",
              "    <tr>\n",
              "      <th>2018-01-03</th>\n",
              "      <td>0.0</td>\n",
              "      <td>0.0</td>\n",
              "      <td>0.0</td>\n",
              "      <td>0.0</td>\n",
              "      <td>0.0</td>\n",
              "      <td>10.009295</td>\n",
              "      <td>124.820000</td>\n",
              "      <td>77.229553</td>\n",
              "      <td>246.467819</td>\n",
              "      <td>111.320595</td>\n",
              "      <td>...</td>\n",
              "      <td>0.0</td>\n",
              "      <td>0.0</td>\n",
              "      <td>0.0</td>\n",
              "      <td>0.0</td>\n",
              "      <td>0.0</td>\n",
              "      <td>216000</td>\n",
              "      <td>7904300</td>\n",
              "      <td>1040900</td>\n",
              "      <td>90070400</td>\n",
              "      <td>8605100</td>\n",
              "    </tr>\n",
              "    <tr>\n",
              "      <th>2018-01-04</th>\n",
              "      <td>0.0</td>\n",
              "      <td>0.0</td>\n",
              "      <td>0.0</td>\n",
              "      <td>0.0</td>\n",
              "      <td>0.0</td>\n",
              "      <td>10.028524</td>\n",
              "      <td>125.459999</td>\n",
              "      <td>77.192719</td>\n",
              "      <td>247.506622</td>\n",
              "      <td>111.302902</td>\n",
              "      <td>...</td>\n",
              "      <td>0.0</td>\n",
              "      <td>0.0</td>\n",
              "      <td>0.0</td>\n",
              "      <td>0.0</td>\n",
              "      <td>0.0</td>\n",
              "      <td>184600</td>\n",
              "      <td>7329700</td>\n",
              "      <td>955400</td>\n",
              "      <td>80636400</td>\n",
              "      <td>9217900</td>\n",
              "    </tr>\n",
              "    <tr>\n",
              "      <th>2018-01-05</th>\n",
              "      <td>0.0</td>\n",
              "      <td>0.0</td>\n",
              "      <td>0.0</td>\n",
              "      <td>0.0</td>\n",
              "      <td>0.0</td>\n",
              "      <td>9.980449</td>\n",
              "      <td>125.330002</td>\n",
              "      <td>77.192719</td>\n",
              "      <td>249.156006</td>\n",
              "      <td>110.985092</td>\n",
              "      <td>...</td>\n",
              "      <td>0.0</td>\n",
              "      <td>0.0</td>\n",
              "      <td>0.0</td>\n",
              "      <td>0.0</td>\n",
              "      <td>0.0</td>\n",
              "      <td>307700</td>\n",
              "      <td>5739900</td>\n",
              "      <td>850600</td>\n",
              "      <td>83524000</td>\n",
              "      <td>10915400</td>\n",
              "    </tr>\n",
              "    <tr>\n",
              "      <th>2018-01-08</th>\n",
              "      <td>0.0</td>\n",
              "      <td>0.0</td>\n",
              "      <td>0.0</td>\n",
              "      <td>0.0</td>\n",
              "      <td>0.0</td>\n",
              "      <td>10.038139</td>\n",
              "      <td>125.309998</td>\n",
              "      <td>77.192719</td>\n",
              "      <td>249.611633</td>\n",
              "      <td>110.914467</td>\n",
              "      <td>...</td>\n",
              "      <td>0.0</td>\n",
              "      <td>0.0</td>\n",
              "      <td>0.0</td>\n",
              "      <td>0.0</td>\n",
              "      <td>0.0</td>\n",
              "      <td>183400</td>\n",
              "      <td>3566700</td>\n",
              "      <td>597700</td>\n",
              "      <td>57319200</td>\n",
              "      <td>8850600</td>\n",
              "    </tr>\n",
              "    <tr>\n",
              "      <th>...</th>\n",
              "      <td>...</td>\n",
              "      <td>...</td>\n",
              "      <td>...</td>\n",
              "      <td>...</td>\n",
              "      <td>...</td>\n",
              "      <td>...</td>\n",
              "      <td>...</td>\n",
              "      <td>...</td>\n",
              "      <td>...</td>\n",
              "      <td>...</td>\n",
              "      <td>...</td>\n",
              "      <td>...</td>\n",
              "      <td>...</td>\n",
              "      <td>...</td>\n",
              "      <td>...</td>\n",
              "      <td>...</td>\n",
              "      <td>...</td>\n",
              "      <td>...</td>\n",
              "      <td>...</td>\n",
              "      <td>...</td>\n",
              "      <td>...</td>\n",
              "    </tr>\n",
              "    <tr>\n",
              "      <th>2022-12-22</th>\n",
              "      <td>0.0</td>\n",
              "      <td>0.0</td>\n",
              "      <td>0.0</td>\n",
              "      <td>0.0</td>\n",
              "      <td>0.0</td>\n",
              "      <td>14.640000</td>\n",
              "      <td>166.759995</td>\n",
              "      <td>79.868927</td>\n",
              "      <td>377.868866</td>\n",
              "      <td>101.506241</td>\n",
              "      <td>...</td>\n",
              "      <td>0.0</td>\n",
              "      <td>0.0</td>\n",
              "      <td>0.0</td>\n",
              "      <td>0.0</td>\n",
              "      <td>0.0</td>\n",
              "      <td>355100</td>\n",
              "      <td>5672700</td>\n",
              "      <td>6612800</td>\n",
              "      <td>100120900</td>\n",
              "      <td>11322500</td>\n",
              "    </tr>\n",
              "    <tr>\n",
              "      <th>2022-12-23</th>\n",
              "      <td>0.0</td>\n",
              "      <td>0.0</td>\n",
              "      <td>0.0</td>\n",
              "      <td>0.0</td>\n",
              "      <td>0.0</td>\n",
              "      <td>15.000000</td>\n",
              "      <td>167.259995</td>\n",
              "      <td>79.829674</td>\n",
              "      <td>380.042480</td>\n",
              "      <td>100.018112</td>\n",
              "      <td>...</td>\n",
              "      <td>0.0</td>\n",
              "      <td>0.0</td>\n",
              "      <td>0.0</td>\n",
              "      <td>0.0</td>\n",
              "      <td>0.0</td>\n",
              "      <td>374500</td>\n",
              "      <td>2912300</td>\n",
              "      <td>2737200</td>\n",
              "      <td>59857300</td>\n",
              "      <td>15408900</td>\n",
              "    </tr>\n",
              "    <tr>\n",
              "      <th>2022-12-27</th>\n",
              "      <td>0.0</td>\n",
              "      <td>0.0</td>\n",
              "      <td>0.0</td>\n",
              "      <td>0.0</td>\n",
              "      <td>0.0</td>\n",
              "      <td>15.110000</td>\n",
              "      <td>168.669998</td>\n",
              "      <td>79.721672</td>\n",
              "      <td>378.543793</td>\n",
              "      <td>98.040466</td>\n",
              "      <td>...</td>\n",
              "      <td>0.0</td>\n",
              "      <td>0.0</td>\n",
              "      <td>0.0</td>\n",
              "      <td>0.0</td>\n",
              "      <td>0.0</td>\n",
              "      <td>585500</td>\n",
              "      <td>6885700</td>\n",
              "      <td>3969500</td>\n",
              "      <td>51638200</td>\n",
              "      <td>26475700</td>\n",
              "    </tr>\n",
              "    <tr>\n",
              "      <th>2022-12-28</th>\n",
              "      <td>0.0</td>\n",
              "      <td>0.0</td>\n",
              "      <td>0.0</td>\n",
              "      <td>0.0</td>\n",
              "      <td>0.0</td>\n",
              "      <td>14.950000</td>\n",
              "      <td>167.910004</td>\n",
              "      <td>79.721672</td>\n",
              "      <td>373.839264</td>\n",
              "      <td>97.462837</td>\n",
              "      <td>...</td>\n",
              "      <td>0.0</td>\n",
              "      <td>0.0</td>\n",
              "      <td>0.0</td>\n",
              "      <td>0.0</td>\n",
              "      <td>0.0</td>\n",
              "      <td>439000</td>\n",
              "      <td>3662500</td>\n",
              "      <td>4308900</td>\n",
              "      <td>70911500</td>\n",
              "      <td>17302900</td>\n",
              "    </tr>\n",
              "    <tr>\n",
              "      <th>2022-12-29</th>\n",
              "      <td>0.0</td>\n",
              "      <td>0.0</td>\n",
              "      <td>0.0</td>\n",
              "      <td>0.0</td>\n",
              "      <td>0.0</td>\n",
              "      <td>14.880000</td>\n",
              "      <td>168.850006</td>\n",
              "      <td>79.780594</td>\n",
              "      <td>380.568512</td>\n",
              "      <td>98.569138</td>\n",
              "      <td>...</td>\n",
              "      <td>0.0</td>\n",
              "      <td>0.0</td>\n",
              "      <td>0.0</td>\n",
              "      <td>0.0</td>\n",
              "      <td>0.0</td>\n",
              "      <td>284900</td>\n",
              "      <td>3345900</td>\n",
              "      <td>4149000</td>\n",
              "      <td>66970900</td>\n",
              "      <td>16593000</td>\n",
              "    </tr>\n",
              "  </tbody>\n",
              "</table>\n",
              "<p>1258 rows × 40 columns</p>\n",
              "</div>\n",
              "    <div class=\"colab-df-buttons\">\n",
              "\n",
              "  <div class=\"colab-df-container\">\n",
              "    <button class=\"colab-df-convert\" onclick=\"convertToInteractive('df-8dff0165-017e-443a-b559-af0efda0c5c3')\"\n",
              "            title=\"Convert this dataframe to an interactive table.\"\n",
              "            style=\"display:none;\">\n",
              "\n",
              "  <svg xmlns=\"http://www.w3.org/2000/svg\" height=\"24px\" viewBox=\"0 -960 960 960\">\n",
              "    <path d=\"M120-120v-720h720v720H120Zm60-500h600v-160H180v160Zm220 220h160v-160H400v160Zm0 220h160v-160H400v160ZM180-400h160v-160H180v160Zm440 0h160v-160H620v160ZM180-180h160v-160H180v160Zm440 0h160v-160H620v160Z\"/>\n",
              "  </svg>\n",
              "    </button>\n",
              "\n",
              "  <style>\n",
              "    .colab-df-container {\n",
              "      display:flex;\n",
              "      gap: 12px;\n",
              "    }\n",
              "\n",
              "    .colab-df-convert {\n",
              "      background-color: #E8F0FE;\n",
              "      border: none;\n",
              "      border-radius: 50%;\n",
              "      cursor: pointer;\n",
              "      display: none;\n",
              "      fill: #1967D2;\n",
              "      height: 32px;\n",
              "      padding: 0 0 0 0;\n",
              "      width: 32px;\n",
              "    }\n",
              "\n",
              "    .colab-df-convert:hover {\n",
              "      background-color: #E2EBFA;\n",
              "      box-shadow: 0px 1px 2px rgba(60, 64, 67, 0.3), 0px 1px 3px 1px rgba(60, 64, 67, 0.15);\n",
              "      fill: #174EA6;\n",
              "    }\n",
              "\n",
              "    .colab-df-buttons div {\n",
              "      margin-bottom: 4px;\n",
              "    }\n",
              "\n",
              "    [theme=dark] .colab-df-convert {\n",
              "      background-color: #3B4455;\n",
              "      fill: #D2E3FC;\n",
              "    }\n",
              "\n",
              "    [theme=dark] .colab-df-convert:hover {\n",
              "      background-color: #434B5C;\n",
              "      box-shadow: 0px 1px 3px 1px rgba(0, 0, 0, 0.15);\n",
              "      filter: drop-shadow(0px 1px 2px rgba(0, 0, 0, 0.3));\n",
              "      fill: #FFFFFF;\n",
              "    }\n",
              "  </style>\n",
              "\n",
              "    <script>\n",
              "      const buttonEl =\n",
              "        document.querySelector('#df-8dff0165-017e-443a-b559-af0efda0c5c3 button.colab-df-convert');\n",
              "      buttonEl.style.display =\n",
              "        google.colab.kernel.accessAllowed ? 'block' : 'none';\n",
              "\n",
              "      async function convertToInteractive(key) {\n",
              "        const element = document.querySelector('#df-8dff0165-017e-443a-b559-af0efda0c5c3');\n",
              "        const dataTable =\n",
              "          await google.colab.kernel.invokeFunction('convertToInteractive',\n",
              "                                                    [key], {});\n",
              "        if (!dataTable) return;\n",
              "\n",
              "        const docLinkHtml = 'Like what you see? Visit the ' +\n",
              "          '<a target=\"_blank\" href=https://colab.research.google.com/notebooks/data_table.ipynb>data table notebook</a>'\n",
              "          + ' to learn more about interactive tables.';\n",
              "        element.innerHTML = '';\n",
              "        dataTable['output_type'] = 'display_data';\n",
              "        await google.colab.output.renderOutput(dataTable, element);\n",
              "        const docLink = document.createElement('div');\n",
              "        docLink.innerHTML = docLinkHtml;\n",
              "        element.appendChild(docLink);\n",
              "      }\n",
              "    </script>\n",
              "  </div>\n",
              "\n",
              "\n",
              "<div id=\"df-ce0da867-7779-4559-b55d-301cf62464ce\">\n",
              "  <button class=\"colab-df-quickchart\" onclick=\"quickchart('df-ce0da867-7779-4559-b55d-301cf62464ce')\"\n",
              "            title=\"Suggest charts.\"\n",
              "            style=\"display:none;\">\n",
              "\n",
              "<svg xmlns=\"http://www.w3.org/2000/svg\" height=\"24px\"viewBox=\"0 0 24 24\"\n",
              "     width=\"24px\">\n",
              "    <g>\n",
              "        <path d=\"M19 3H5c-1.1 0-2 .9-2 2v14c0 1.1.9 2 2 2h14c1.1 0 2-.9 2-2V5c0-1.1-.9-2-2-2zM9 17H7v-7h2v7zm4 0h-2V7h2v10zm4 0h-2v-4h2v4z\"/>\n",
              "    </g>\n",
              "</svg>\n",
              "  </button>\n",
              "\n",
              "<style>\n",
              "  .colab-df-quickchart {\n",
              "      --bg-color: #E8F0FE;\n",
              "      --fill-color: #1967D2;\n",
              "      --hover-bg-color: #E2EBFA;\n",
              "      --hover-fill-color: #174EA6;\n",
              "      --disabled-fill-color: #AAA;\n",
              "      --disabled-bg-color: #DDD;\n",
              "  }\n",
              "\n",
              "  [theme=dark] .colab-df-quickchart {\n",
              "      --bg-color: #3B4455;\n",
              "      --fill-color: #D2E3FC;\n",
              "      --hover-bg-color: #434B5C;\n",
              "      --hover-fill-color: #FFFFFF;\n",
              "      --disabled-bg-color: #3B4455;\n",
              "      --disabled-fill-color: #666;\n",
              "  }\n",
              "\n",
              "  .colab-df-quickchart {\n",
              "    background-color: var(--bg-color);\n",
              "    border: none;\n",
              "    border-radius: 50%;\n",
              "    cursor: pointer;\n",
              "    display: none;\n",
              "    fill: var(--fill-color);\n",
              "    height: 32px;\n",
              "    padding: 0;\n",
              "    width: 32px;\n",
              "  }\n",
              "\n",
              "  .colab-df-quickchart:hover {\n",
              "    background-color: var(--hover-bg-color);\n",
              "    box-shadow: 0 1px 2px rgba(60, 64, 67, 0.3), 0 1px 3px 1px rgba(60, 64, 67, 0.15);\n",
              "    fill: var(--button-hover-fill-color);\n",
              "  }\n",
              "\n",
              "  .colab-df-quickchart-complete:disabled,\n",
              "  .colab-df-quickchart-complete:disabled:hover {\n",
              "    background-color: var(--disabled-bg-color);\n",
              "    fill: var(--disabled-fill-color);\n",
              "    box-shadow: none;\n",
              "  }\n",
              "\n",
              "  .colab-df-spinner {\n",
              "    border: 2px solid var(--fill-color);\n",
              "    border-color: transparent;\n",
              "    border-bottom-color: var(--fill-color);\n",
              "    animation:\n",
              "      spin 1s steps(1) infinite;\n",
              "  }\n",
              "\n",
              "  @keyframes spin {\n",
              "    0% {\n",
              "      border-color: transparent;\n",
              "      border-bottom-color: var(--fill-color);\n",
              "      border-left-color: var(--fill-color);\n",
              "    }\n",
              "    20% {\n",
              "      border-color: transparent;\n",
              "      border-left-color: var(--fill-color);\n",
              "      border-top-color: var(--fill-color);\n",
              "    }\n",
              "    30% {\n",
              "      border-color: transparent;\n",
              "      border-left-color: var(--fill-color);\n",
              "      border-top-color: var(--fill-color);\n",
              "      border-right-color: var(--fill-color);\n",
              "    }\n",
              "    40% {\n",
              "      border-color: transparent;\n",
              "      border-right-color: var(--fill-color);\n",
              "      border-top-color: var(--fill-color);\n",
              "    }\n",
              "    60% {\n",
              "      border-color: transparent;\n",
              "      border-right-color: var(--fill-color);\n",
              "    }\n",
              "    80% {\n",
              "      border-color: transparent;\n",
              "      border-right-color: var(--fill-color);\n",
              "      border-bottom-color: var(--fill-color);\n",
              "    }\n",
              "    90% {\n",
              "      border-color: transparent;\n",
              "      border-bottom-color: var(--fill-color);\n",
              "    }\n",
              "  }\n",
              "</style>\n",
              "\n",
              "  <script>\n",
              "    async function quickchart(key) {\n",
              "      const quickchartButtonEl =\n",
              "        document.querySelector('#' + key + ' button');\n",
              "      quickchartButtonEl.disabled = true;  // To prevent multiple clicks.\n",
              "      quickchartButtonEl.classList.add('colab-df-spinner');\n",
              "      try {\n",
              "        const charts = await google.colab.kernel.invokeFunction(\n",
              "            'suggestCharts', [key], {});\n",
              "      } catch (error) {\n",
              "        console.error('Error during call to suggestCharts:', error);\n",
              "      }\n",
              "      quickchartButtonEl.classList.remove('colab-df-spinner');\n",
              "      quickchartButtonEl.classList.add('colab-df-quickchart-complete');\n",
              "    }\n",
              "    (() => {\n",
              "      let quickchartButtonEl =\n",
              "        document.querySelector('#df-ce0da867-7779-4559-b55d-301cf62464ce button');\n",
              "      quickchartButtonEl.style.display =\n",
              "        google.colab.kernel.accessAllowed ? 'block' : 'none';\n",
              "    })();\n",
              "  </script>\n",
              "</div>\n",
              "    </div>\n",
              "  </div>\n"
            ]
          },
          "metadata": {},
          "execution_count": 4
        }
      ]
    },
    {
      "cell_type": "code",
      "source": [
        "tickers_close_df= tickers_df.Close\n"
      ],
      "metadata": {
        "id": "meKcJbFUR_Av"
      },
      "execution_count": null,
      "outputs": []
    },
    {
      "cell_type": "code",
      "source": [
        "def get_data(time_series, lags, pred_ahead):\n",
        "  ts_data = pd.DataFrame()\n",
        "  ts_data['t']=time_series\n",
        "  for l in range(1,lags+1) :\n",
        "    ts_data[f't_{l}'] = time_series.shift(l)\n",
        "\n",
        "  X= ts_data.iloc[:,1:]\n",
        "  y=time_series.shift(-pred_ahead)\n",
        "  X=X[lags:-pred_ahead]\n",
        "  y=y[lags:-pred_ahead]\n",
        "  return X,y"
      ],
      "metadata": {
        "id": "_XFwH3LBZEfG"
      },
      "execution_count": null,
      "outputs": []
    },
    {
      "cell_type": "markdown",
      "source": [
        "## Step 2"
      ],
      "metadata": {
        "id": "nybuJJ6kX-hF"
      }
    },
    {
      "cell_type": "code",
      "source": [
        "def get_model():\n",
        "  model = tf.keras.models.Sequential(\n",
        "      [\n",
        "          tf.keras.layers.SimpleRNN(\n",
        "              50, return_sequences=True, input_shape=(X_train.shape[1], 1)\n",
        "          ),\n",
        "          tf.keras.layers.Dropout(0.2),\n",
        "          tf.keras.layers.LSTM(50, return_sequences=True),\n",
        "          tf.keras.layers.Dropout(0.2),\n",
        "          tf.keras.layers.LSTM(50, return_sequences=True),\n",
        "          tf.keras.layers.Dropout(0.2),\n",
        "          tf.keras.layers.LSTM(50, return_sequences=False),\n",
        "          tf.keras.layers.Dropout(0.2),\n",
        "          tf.keras.layers.Dense(10),\n",
        "          tf.keras.layers.Dense(1),\n",
        "      ],name=\n",
        "  )\n",
        "  return model"
      ],
      "metadata": {
        "id": "LOjsK9x2YnFr"
      },
      "execution_count": null,
      "outputs": []
    },
    {
      "cell_type": "code",
      "source": [
        "def get_model_2(name):\n",
        "  SEED = 1234\n",
        "\n",
        "  units_lstm = 50\n",
        "  n_dropout = 0.2\n",
        "  act_fun = \"relu\"\n",
        "  n_features=1\n",
        "\n",
        "\n",
        "\n",
        "  model = tf.keras.models.Sequential(name=name)\n",
        "\n",
        "  model.add(\n",
        "      tf.keras.layers.LSTM(\n",
        "          units=units_lstm,\n",
        "          return_sequences=True,\n",
        "          activation=\"tanh\",\n",
        "          input_shape=(X_train.shape[1], n_features),\n",
        "      )\n",
        "  )\n",
        "  model.add(tf.keras.layers.LSTM(units=units_lstm, return_sequences=True, activation=\"tanh\"))\n",
        "  model.add(tf.keras.layers.Dropout(n_dropout, seed=SEED))\n",
        "\n",
        "\n",
        "  model.add(tf.keras.layers.LSTM(units=units_lstm, return_sequences=True, activation=\"tanh\"))\n",
        "  model.add(tf.keras.layers.Dropout(n_dropout, seed=SEED))\n",
        "\n",
        "\n",
        "  model.add(tf.keras.layers.LSTM(units=units_lstm, return_sequences=False, activation=\"tanh\"))\n",
        "  model.add(tf.keras.layers.Dropout(n_dropout, seed=SEED))\n",
        "\n",
        "  model.add(tf.keras.layers.Dense(units=20, activation=act_fun))\n",
        "  model.add(tf.keras.layers.Dropout(n_dropout, seed=SEED))\n",
        "\n",
        "  model.add(tf.keras.layers.Dense(units=10, activation=act_fun))\n",
        "  model.add(tf.keras.layers.Dropout(n_dropout, seed=SEED))\n",
        "\n",
        "  model.add(tf.keras.layers.Dense(1))\n",
        "  return model"
      ],
      "metadata": {
        "id": "NuZ8gSbNXRKi"
      },
      "execution_count": null,
      "outputs": []
    },
    {
      "cell_type": "code",
      "source": [
        "def run_model(model, X_train,y_train):\n",
        "  hp_lr = 1e-4\n",
        "  model.compile(\n",
        "      optimizer=tf.keras.optimizers.Adam(learning_rate=hp_lr), loss=\"mean_absolute_error\"\n",
        "  )\n",
        "  es = EarlyStopping(\n",
        "      monitor=\"val_loss\", mode=\"min\", verbose=1, patience=10, restore_best_weights=True\n",
        "  )\n",
        "  # fit the models\n",
        "  model.fit(\n",
        "      X_train,\n",
        "      y_train,\n",
        "      validation_split=0.2,\n",
        "      epochs=500,\n",
        "      batch_size=64,\n",
        "      verbose=1,\n",
        "      callbacks=[es],\n",
        "  )"
      ],
      "metadata": {
        "id": "YySczjJlZ7Z2"
      },
      "execution_count": null,
      "outputs": []
    },
    {
      "cell_type": "code",
      "source": [
        "def plot_return(model,X_test,y_test):\n",
        "  y_pred= model.predict(X_test)\n",
        "  y_pred=pd.Series(y_pred.reshape(y_pred.shape[0]))\n",
        "  df_predictions=pd.DataFrame()\n",
        "  df_predictions[\"values\"]=y_pred\n",
        "  df_predictions['Date']=y_test.index\n",
        "  df_predictions[\"Positions\"] = y_pred.apply(np.sign)\n",
        "  df_predictions[\"Strat_ret\"] = (\n",
        "      df_predictions[\"Positions\"].shift(1) * df_predictions[\"values\"]\n",
        "  )\n",
        "  df_predictions[\"CumRet\"] = (\n",
        "      df_predictions[\"Strat_ret\"].expanding().apply(lambda x: np.prod(1 + x) - 1)\n",
        "  )\n",
        "  df_predictions[\"bhRet\"] = (\n",
        "      df_predictions[\"values\"].expanding().apply(lambda x: np.prod(1 + x) - 1)\n",
        "  )\n",
        "\n",
        "  Final_Return = np.prod(1 + df_predictions[\"Strat_ret\"]) - 1\n",
        "  Buy_Return = np.prod(1 + df_predictions[\"values\"]) - 1\n",
        "\n",
        "  print(\"Strat Return =\", Final_Return * 100, \"%\")\n",
        "  print(\"Buy and Hold Return =\", Buy_Return * 100, \"%\")\n",
        "\n",
        "\n",
        "  ax = plt.gca()\n",
        "  df_predictions.plot(x=\"Date\", y=\"bhRet\", ax=ax)\n",
        "  df_predictions.plot(x=\"Date\", y=\"CumRet\", ax=ax)\n",
        "  plt.show()"
      ],
      "metadata": {
        "id": "lISzXGZX4rvh"
      },
      "execution_count": null,
      "outputs": []
    },
    {
      "cell_type": "code",
      "source": [
        "df_ret = tickers_close_df.SPY.pct_change().dropna()\n",
        "X,y=get_data(df_ret,20,30)\n",
        "X_train , X_test, y_train , y_test = train_test_split(X,y, test_size = .2, shuffle=False, )\n",
        "model_spy=get_model_2('mosel_SPY')\n",
        "run_model(model_spy, X_train,y_train)\n"
      ],
      "metadata": {
        "id": "FzFz9zuBqow9",
        "colab": {
          "base_uri": "https://localhost:8080/"
        },
        "outputId": "6149d0d5-06cd-46f1-ac25-524fcbc96773"
      },
      "execution_count": null,
      "outputs": [
        {
          "output_type": "stream",
          "name": "stdout",
          "text": [
            "Epoch 1/500\n",
            "13/13 [==============================] - 19s 222ms/step - loss: 0.0087 - val_loss: 0.0058\n",
            "Epoch 2/500\n",
            "13/13 [==============================] - 0s 27ms/step - loss: 0.0087 - val_loss: 0.0057\n",
            "Epoch 3/500\n",
            "13/13 [==============================] - 0s 21ms/step - loss: 0.0087 - val_loss: 0.0058\n",
            "Epoch 4/500\n",
            "13/13 [==============================] - 0s 23ms/step - loss: 0.0086 - val_loss: 0.0057\n",
            "Epoch 5/500\n",
            "13/13 [==============================] - 0s 22ms/step - loss: 0.0087 - val_loss: 0.0057\n",
            "Epoch 6/500\n",
            "13/13 [==============================] - 0s 29ms/step - loss: 0.0087 - val_loss: 0.0058\n",
            "Epoch 7/500\n",
            "13/13 [==============================] - 0s 25ms/step - loss: 0.0087 - val_loss: 0.0057\n",
            "Epoch 8/500\n",
            "13/13 [==============================] - 0s 28ms/step - loss: 0.0087 - val_loss: 0.0057\n",
            "Epoch 9/500\n",
            "13/13 [==============================] - 0s 25ms/step - loss: 0.0086 - val_loss: 0.0057\n",
            "Epoch 10/500\n",
            "13/13 [==============================] - 0s 25ms/step - loss: 0.0087 - val_loss: 0.0057\n",
            "Epoch 11/500\n",
            "13/13 [==============================] - 0s 30ms/step - loss: 0.0087 - val_loss: 0.0057\n",
            "Epoch 12/500\n",
            "13/13 [==============================] - 0s 30ms/step - loss: 0.0086 - val_loss: 0.0057\n",
            "Epoch 13/500\n",
            "13/13 [==============================] - 0s 26ms/step - loss: 0.0086 - val_loss: 0.0057\n",
            "Epoch 14/500\n",
            "13/13 [==============================] - 0s 33ms/step - loss: 0.0087 - val_loss: 0.0057\n",
            "Epoch 15/500\n",
            "13/13 [==============================] - 0s 26ms/step - loss: 0.0087 - val_loss: 0.0057\n",
            "Epoch 16/500\n",
            "13/13 [==============================] - 0s 25ms/step - loss: 0.0086 - val_loss: 0.0057\n",
            "Epoch 17/500\n",
            "13/13 [==============================] - 0s 24ms/step - loss: 0.0086 - val_loss: 0.0057\n",
            "Epoch 18/500\n",
            "10/13 [======================>.......] - ETA: 0s - loss: 0.0085Restoring model weights from the end of the best epoch: 8.\n",
            "13/13 [==============================] - 0s 28ms/step - loss: 0.0086 - val_loss: 0.0057\n",
            "Epoch 18: early stopping\n"
          ]
        }
      ]
    },
    {
      "cell_type": "code",
      "source": [
        "plot_return(model_spy,X_test,y_test)"
      ],
      "metadata": {
        "colab": {
          "base_uri": "https://localhost:8080/",
          "height": 487
        },
        "id": "28RWExMUV5Yp",
        "outputId": "f6856fb8-eabe-40b8-a2b0-4765ca5397c5"
      },
      "execution_count": null,
      "outputs": [
        {
          "output_type": "stream",
          "name": "stdout",
          "text": [
            "8/8 [==============================] - 1s 4ms/step\n",
            "Strat Return = 37.1982216835022 %\n",
            "Buy and Hold Return = 37.37837076187134 %\n"
          ]
        },
        {
          "output_type": "display_data",
          "data": {
            "text/plain": [
              "<Figure size 640x480 with 1 Axes>"
            ],
            "image/png": "[encoded data removed]"
          },
          "metadata": {}
        }
      ]
    },
    {
      "cell_type": "code",
      "source": [
        "tickers_close_df.columns"
      ],
      "metadata": {
        "colab": {
          "base_uri": "https://localhost:8080/"
        },
        "id": "Pod2qdxb47Ku",
        "outputId": "ecbdb319-ef0b-41a0-8ccb-c442afabeabd"
      },
      "execution_count": null,
      "outputs": [
        {
          "output_type": "execute_result",
          "data": {
            "text/plain": [
              "Index(['DBO', 'GLD', 'SHY', 'SPY', 'TLT'], dtype='object')"
            ]
          },
          "metadata": {},
          "execution_count": 13
        }
      ]
    },
    {
      "cell_type": "code",
      "source": [
        "df_ret = tickers_close_df.DBO.pct_change().dropna()\n",
        "X,y=get_data(df_ret,20,30)\n",
        "X_train , X_test, y_train , y_test = train_test_split(X,y, test_size = .2, shuffle=False, )\n",
        "model_dbo=get_model_2()\n",
        "run_model(model_dbo, X_train,y_train)\n",
        "y_dbo_pred= model_dbo.predict(X)\n",
        "y_dbo_pred"
      ],
      "metadata": {
        "colab": {
          "base_uri": "https://localhost:8080/"
        },
        "id": "O6Qjv1mbcw9W",
        "outputId": "9d217629-974c-47af-c74e-98bbb57ad081"
      },
      "execution_count": null,
      "outputs": [
        {
          "output_type": "stream",
          "name": "stdout",
          "text": [
            "Epoch 1/500\n",
            "13/13 [==============================] - 9s 126ms/step - loss: 0.0151 - val_loss: 0.0138\n",
            "Epoch 2/500\n",
            "13/13 [==============================] - 0s 22ms/step - loss: 0.0151 - val_loss: 0.0139\n",
            "Epoch 3/500\n",
            "13/13 [==============================] - 0s 25ms/step - loss: 0.0151 - val_loss: 0.0139\n",
            "Epoch 4/500\n",
            "13/13 [==============================] - 0s 26ms/step - loss: 0.0150 - val_loss: 0.0138\n",
            "Epoch 5/500\n",
            "13/13 [==============================] - 0s 23ms/step - loss: 0.0150 - val_loss: 0.0138\n",
            "Epoch 6/500\n",
            "13/13 [==============================] - 0s 18ms/step - loss: 0.0150 - val_loss: 0.0140\n",
            "Epoch 7/500\n",
            "13/13 [==============================] - 0s 14ms/step - loss: 0.0151 - val_loss: 0.0138\n",
            "Epoch 8/500\n",
            "13/13 [==============================] - 0s 13ms/step - loss: 0.0150 - val_loss: 0.0139\n",
            "Epoch 9/500\n",
            "13/13 [==============================] - 0s 15ms/step - loss: 0.0150 - val_loss: 0.0138\n",
            "Epoch 10/500\n",
            "13/13 [==============================] - 0s 13ms/step - loss: 0.0152 - val_loss: 0.0138\n",
            "Epoch 11/500\n",
            "13/13 [==============================] - 0s 22ms/step - loss: 0.0151 - val_loss: 0.0139\n",
            "Epoch 12/500\n",
            "13/13 [==============================] - 0s 21ms/step - loss: 0.0150 - val_loss: 0.0138\n",
            "Epoch 13/500\n",
            "13/13 [==============================] - 0s 13ms/step - loss: 0.0150 - val_loss: 0.0139\n",
            "Epoch 14/500\n",
            "13/13 [==============================] - 0s 24ms/step - loss: 0.0150 - val_loss: 0.0139\n",
            "Epoch 15/500\n",
            "13/13 [==============================] - 0s 30ms/step - loss: 0.0150 - val_loss: 0.0139\n",
            "Epoch 16/500\n",
            "13/13 [==============================] - 0s 30ms/step - loss: 0.0150 - val_loss: 0.0138\n",
            "Epoch 17/500\n",
            "13/13 [==============================] - 0s 15ms/step - loss: 0.0151 - val_loss: 0.0139\n",
            "Epoch 18/500\n",
            "13/13 [==============================] - 0s 15ms/step - loss: 0.0150 - val_loss: 0.0139\n",
            "Epoch 19/500\n",
            "11/13 [========================>.....] - ETA: 0s - loss: 0.0149Restoring model weights from the end of the best epoch: 9.\n",
            "13/13 [==============================] - 0s 15ms/step - loss: 0.0150 - val_loss: 0.0139\n",
            "Epoch 19: early stopping\n",
            "38/38 [==============================] - 3s 5ms/step\n"
          ]
        },
        {
          "output_type": "execute_result",
          "data": {
            "text/plain": [
              "array([[0.00350934],\n",
              "       [0.00352277],\n",
              "       [0.00351424],\n",
              "       ...,\n",
              "       [0.0034979 ],\n",
              "       [0.00350363],\n",
              "       [0.00347005]], dtype=float32)"
            ]
          },
          "metadata": {},
          "execution_count": 25
        }
      ]
    },
    {
      "cell_type": "code",
      "source": [
        "plot_return(model_dbo,X_test,y_test)"
      ],
      "metadata": {
        "colab": {
          "base_uri": "https://localhost:8080/",
          "height": 489
        },
        "id": "479UHq9WWHuF",
        "outputId": "874843c7-2732-46e5-ef4f-b490d554f6fd"
      },
      "execution_count": null,
      "outputs": [
        {
          "output_type": "stream",
          "name": "stdout",
          "text": [
            "8/8 [==============================] - 0s 4ms/step\n",
            "Strat Return = 134.18984413146973 %\n",
            "Buy and Hold Return = 134.99042987823486 %\n"
          ]
        },
        {
          "output_type": "display_data",
          "data": {
            "text/plain": [
              "<Figure size 640x480 with 1 Axes>"
            ],
            "image/png": "[encoded data removed]"
          },
          "metadata": {}
        }
      ]
    },
    {
      "cell_type": "code",
      "source": [
        "df_ret = tickers_close_df.GLD.pct_change().dropna()\n",
        "X,y=get_data(df_ret,20,30)\n",
        "X_train , X_test, y_train , y_test = train_test_split(X,y, test_size = .2, shuffle=False, )\n",
        "model_gld=get_model_2()\n",
        "run_model(model_gld, X_train,y_train)\n",
        "y_gld_pred= model_gld.predict(X)\n",
        "y_gld_pred"
      ],
      "metadata": {
        "colab": {
          "base_uri": "https://localhost:8080/"
        },
        "id": "sEGDiC9Ycl7o",
        "outputId": "f4689f3f-185a-44be-9925-67628f95cd2f"
      },
      "execution_count": null,
      "outputs": [
        {
          "output_type": "stream",
          "name": "stdout",
          "text": [
            "Epoch 1/500\n",
            "13/13 [==============================] - 14s 122ms/step - loss: 0.0066 - val_loss: 0.0058\n",
            "Epoch 2/500\n",
            "13/13 [==============================] - 0s 13ms/step - loss: 0.0065 - val_loss: 0.0059\n",
            "Epoch 3/500\n",
            "13/13 [==============================] - 0s 14ms/step - loss: 0.0065 - val_loss: 0.0058\n",
            "Epoch 4/500\n",
            "13/13 [==============================] - 0s 14ms/step - loss: 0.0065 - val_loss: 0.0059\n",
            "Epoch 5/500\n",
            "13/13 [==============================] - 0s 14ms/step - loss: 0.0065 - val_loss: 0.0059\n",
            "Epoch 6/500\n",
            "13/13 [==============================] - 0s 33ms/step - loss: 0.0065 - val_loss: 0.0059\n",
            "Epoch 7/500\n",
            "13/13 [==============================] - 1s 47ms/step - loss: 0.0065 - val_loss: 0.0059\n",
            "Epoch 8/500\n",
            "13/13 [==============================] - 0s 28ms/step - loss: 0.0065 - val_loss: 0.0059\n",
            "Epoch 9/500\n",
            "13/13 [==============================] - 0s 23ms/step - loss: 0.0065 - val_loss: 0.0059\n",
            "Epoch 10/500\n",
            "13/13 [==============================] - 0s 14ms/step - loss: 0.0065 - val_loss: 0.0059\n",
            "Epoch 11/500\n",
            "13/13 [==============================] - 0s 25ms/step - loss: 0.0065 - val_loss: 0.0058\n",
            "Epoch 12/500\n",
            "13/13 [==============================] - 0s 24ms/step - loss: 0.0065 - val_loss: 0.0059\n",
            "Epoch 13/500\n",
            "13/13 [==============================] - 0s 25ms/step - loss: 0.0065 - val_loss: 0.0059\n",
            "Epoch 14/500\n",
            "13/13 [==============================] - 0s 14ms/step - loss: 0.0065 - val_loss: 0.0059\n",
            "Epoch 15/500\n",
            "13/13 [==============================] - 0s 13ms/step - loss: 0.0065 - val_loss: 0.0059\n",
            "Epoch 16/500\n",
            "13/13 [==============================] - 0s 14ms/step - loss: 0.0065 - val_loss: 0.0059\n",
            "Epoch 17/500\n",
            "13/13 [==============================] - 0s 13ms/step - loss: 0.0065 - val_loss: 0.0058\n",
            "Epoch 18/500\n",
            "13/13 [==============================] - 0s 18ms/step - loss: 0.0065 - val_loss: 0.0058\n",
            "Epoch 19/500\n",
            "13/13 [==============================] - 0s 14ms/step - loss: 0.0065 - val_loss: 0.0058\n",
            "Epoch 20/500\n",
            "13/13 [==============================] - 0s 14ms/step - loss: 0.0065 - val_loss: 0.0058\n",
            "Epoch 21/500\n",
            "12/13 [==========================>...] - ETA: 0s - loss: 0.0065Restoring model weights from the end of the best epoch: 11.\n",
            "13/13 [==============================] - 0s 15ms/step - loss: 0.0065 - val_loss: 0.0058\n",
            "Epoch 21: early stopping\n",
            "38/38 [==============================] - 1s 5ms/step\n"
          ]
        },
        {
          "output_type": "execute_result",
          "data": {
            "text/plain": [
              "array([[0.00042763],\n",
              "       [0.0004277 ],\n",
              "       [0.00042694],\n",
              "       ...,\n",
              "       [0.00043017],\n",
              "       [0.00043078],\n",
              "       [0.00043117]], dtype=float32)"
            ]
          },
          "metadata": {},
          "execution_count": 27
        }
      ]
    },
    {
      "cell_type": "code",
      "source": [
        "plot_return(model_gld,X_test,y_test)"
      ],
      "metadata": {
        "colab": {
          "base_uri": "https://localhost:8080/",
          "height": 487
        },
        "id": "ewg10iOKWV2L",
        "outputId": "66cee361-4f28-4698-ea49-2ecb1888e7ca"
      },
      "execution_count": null,
      "outputs": [
        {
          "output_type": "stream",
          "name": "stdout",
          "text": [
            "8/8 [==============================] - 0s 5ms/step\n",
            "Strat Return = 10.810601711273193 %\n",
            "Buy and Hold Return = 10.857546329498291 %\n"
          ]
        },
        {
          "output_type": "display_data",
          "data": {
            "text/plain": [
              "<Figure size 640x480 with 1 Axes>"
            ],
            "image/png": "[encoded data removed]"
          },
          "metadata": {}
        }
      ]
    },
    {
      "cell_type": "code",
      "source": [
        "df_ret = tickers_close_df.SHY.pct_change().dropna()\n",
        "X,y=get_data(df_ret,20,30)\n",
        "X_train , X_test, y_train , y_test = train_test_split(X,y, test_size = .2, shuffle=False, )\n",
        "model_shy=get_model_2()\n",
        "run_model(model_shy, X_train,y_train)\n",
        "y_shy_pred= model_shy.predict(X)\n",
        "y_shy_pred"
      ],
      "metadata": {
        "colab": {
          "base_uri": "https://localhost:8080/"
        },
        "id": "D7K-6EGtcaOM",
        "outputId": "c30ade69-620b-4862-db80-028e54aaeeb3"
      },
      "execution_count": null,
      "outputs": [
        {
          "output_type": "stream",
          "name": "stdout",
          "text": [
            "Epoch 1/500\n",
            "13/13 [==============================] - 11s 122ms/step - loss: 5.6848e-04 - val_loss: 3.4898e-04\n",
            "Epoch 2/500\n",
            "13/13 [==============================] - 0s 13ms/step - loss: 4.8047e-04 - val_loss: 3.5304e-04\n",
            "Epoch 3/500\n",
            "13/13 [==============================] - 0s 14ms/step - loss: 4.6739e-04 - val_loss: 3.8638e-04\n",
            "Epoch 4/500\n",
            "13/13 [==============================] - 0s 14ms/step - loss: 4.5067e-04 - val_loss: 3.4378e-04\n",
            "Epoch 5/500\n",
            "13/13 [==============================] - 0s 13ms/step - loss: 4.4437e-04 - val_loss: 3.5365e-04\n",
            "Epoch 6/500\n",
            "13/13 [==============================] - 0s 14ms/step - loss: 4.4088e-04 - val_loss: 3.6411e-04\n",
            "Epoch 7/500\n",
            "13/13 [==============================] - 0s 14ms/step - loss: 4.4220e-04 - val_loss: 3.5017e-04\n",
            "Epoch 8/500\n",
            "13/13 [==============================] - 0s 13ms/step - loss: 4.4093e-04 - val_loss: 3.5917e-04\n",
            "Epoch 9/500\n",
            "13/13 [==============================] - 0s 17ms/step - loss: 4.4105e-04 - val_loss: 3.5909e-04\n",
            "Epoch 10/500\n",
            "13/13 [==============================] - 0s 23ms/step - loss: 4.4047e-04 - val_loss: 3.4634e-04\n",
            "Epoch 11/500\n",
            "13/13 [==============================] - 0s 22ms/step - loss: 4.4058e-04 - val_loss: 3.5901e-04\n",
            "Epoch 12/500\n",
            "13/13 [==============================] - 0s 22ms/step - loss: 4.4134e-04 - val_loss: 3.5769e-04\n",
            "Epoch 13/500\n",
            "13/13 [==============================] - 0s 18ms/step - loss: 4.4155e-04 - val_loss: 3.5926e-04\n",
            "Epoch 14/500\n",
            "13/13 [==============================] - ETA: 0s - loss: 4.4157e-04Restoring model weights from the end of the best epoch: 4.\n",
            "13/13 [==============================] - 0s 24ms/step - loss: 4.4157e-04 - val_loss: 3.4549e-04\n",
            "Epoch 14: early stopping\n",
            "38/38 [==============================] - 2s 5ms/step\n"
          ]
        },
        {
          "output_type": "execute_result",
          "data": {
            "text/plain": [
              "array([[9.829619e-06],\n",
              "       [9.829619e-06],\n",
              "       [9.829619e-06],\n",
              "       ...,\n",
              "       [9.829619e-06],\n",
              "       [9.829619e-06],\n",
              "       [9.829619e-06]], dtype=float32)"
            ]
          },
          "metadata": {},
          "execution_count": 29
        }
      ]
    },
    {
      "cell_type": "code",
      "source": [
        "plot_return(model_shy,X_test,y_test)"
      ],
      "metadata": {
        "colab": {
          "base_uri": "https://localhost:8080/",
          "height": 493
        },
        "id": "ie69kWV8WdoJ",
        "outputId": "ec25a9f0-a3c2-4fa7-e86a-49ac6108d22a"
      },
      "execution_count": null,
      "outputs": [
        {
          "output_type": "stream",
          "name": "stdout",
          "text": [
            "8/8 [==============================] - 0s 4ms/step\n",
            "Strat Return = 0.2355813980102539 %\n",
            "Buy and Hold Return = 0.2365589141845703 %\n"
          ]
        },
        {
          "output_type": "display_data",
          "data": {
            "text/plain": [
              "<Figure size 640x480 with 1 Axes>"
            ],
            "image/png": "[encoded data removed]"
          },
          "metadata": {}
        }
      ]
    },
    {
      "cell_type": "code",
      "source": [
        "df_ret = tickers_close_df.TLT.pct_change().dropna()\n",
        "X,y=get_data(df_ret,20,30)\n",
        "X_train , X_test, y_train , y_test = train_test_split(X,y, test_size = .2, shuffle=False, )\n",
        "model_tlt=get_model_2()\n",
        "run_model(model_tlt, X_train,y_train)\n",
        "y_tlt_pred= model_tlt.predict(X)\n",
        "y_tlt_pred"
      ],
      "metadata": {
        "id": "Pi0wtaE64ijQ",
        "colab": {
          "base_uri": "https://localhost:8080/"
        },
        "outputId": "6a5f2c24-4f34-44e4-ff2e-7865881cb131"
      },
      "execution_count": null,
      "outputs": [
        {
          "output_type": "stream",
          "name": "stdout",
          "text": [
            "Epoch 1/500\n",
            "13/13 [==============================] - 10s 124ms/step - loss: 0.0066 - val_loss: 0.0068\n",
            "Epoch 2/500\n",
            "13/13 [==============================] - 0s 14ms/step - loss: 0.0066 - val_loss: 0.0068\n",
            "Epoch 3/500\n",
            "13/13 [==============================] - 0s 14ms/step - loss: 0.0066 - val_loss: 0.0068\n",
            "Epoch 4/500\n",
            "13/13 [==============================] - 0s 15ms/step - loss: 0.0066 - val_loss: 0.0069\n",
            "Epoch 5/500\n",
            "13/13 [==============================] - 0s 14ms/step - loss: 0.0066 - val_loss: 0.0068\n",
            "Epoch 6/500\n",
            "13/13 [==============================] - 0s 15ms/step - loss: 0.0066 - val_loss: 0.0068\n",
            "Epoch 7/500\n",
            "13/13 [==============================] - 0s 14ms/step - loss: 0.0066 - val_loss: 0.0068\n",
            "Epoch 8/500\n",
            "13/13 [==============================] - 0s 14ms/step - loss: 0.0066 - val_loss: 0.0068\n",
            "Epoch 9/500\n",
            "13/13 [==============================] - 0s 14ms/step - loss: 0.0066 - val_loss: 0.0068\n",
            "Epoch 10/500\n",
            "13/13 [==============================] - 0s 14ms/step - loss: 0.0066 - val_loss: 0.0068\n",
            "Epoch 11/500\n",
            "13/13 [==============================] - 0s 14ms/step - loss: 0.0066 - val_loss: 0.0068\n",
            "Epoch 12/500\n",
            "13/13 [==============================] - 0s 13ms/step - loss: 0.0066 - val_loss: 0.0068\n",
            "Epoch 13/500\n",
            "13/13 [==============================] - 0s 14ms/step - loss: 0.0066 - val_loss: 0.0068\n",
            "Epoch 14/500\n",
            "13/13 [==============================] - 0s 14ms/step - loss: 0.0066 - val_loss: 0.0068\n",
            "Epoch 15/500\n",
            "13/13 [==============================] - 0s 14ms/step - loss: 0.0067 - val_loss: 0.0068\n",
            "Epoch 16/500\n",
            "13/13 [==============================] - 0s 14ms/step - loss: 0.0066 - val_loss: 0.0068\n",
            "Epoch 17/500\n",
            "13/13 [==============================] - 0s 14ms/step - loss: 0.0066 - val_loss: 0.0068\n",
            "Epoch 18/500\n",
            "13/13 [==============================] - 0s 14ms/step - loss: 0.0066 - val_loss: 0.0068\n",
            "Epoch 19/500\n",
            "13/13 [==============================] - 0s 14ms/step - loss: 0.0066 - val_loss: 0.0068\n",
            "Epoch 20/500\n",
            "13/13 [==============================] - 0s 14ms/step - loss: 0.0066 - val_loss: 0.0068\n",
            "Epoch 21/500\n",
            "13/13 [==============================] - 0s 14ms/step - loss: 0.0066 - val_loss: 0.0068\n",
            "Epoch 22/500\n",
            "13/13 [==============================] - 0s 14ms/step - loss: 0.0065 - val_loss: 0.0068\n",
            "Epoch 23/500\n",
            "13/13 [==============================] - 0s 13ms/step - loss: 0.0066 - val_loss: 0.0068\n",
            "Epoch 24/500\n",
            "13/13 [==============================] - 0s 13ms/step - loss: 0.0066 - val_loss: 0.0068\n",
            "Epoch 25/500\n",
            "11/13 [========================>.....] - ETA: 0s - loss: 0.0064Restoring model weights from the end of the best epoch: 15.\n",
            "13/13 [==============================] - 0s 16ms/step - loss: 0.0066 - val_loss: 0.0068\n",
            "Epoch 25: early stopping\n",
            "38/38 [==============================] - 2s 6ms/step\n"
          ]
        },
        {
          "output_type": "execute_result",
          "data": {
            "text/plain": [
              "array([[-8.9554605e-06],\n",
              "       [-8.9554605e-06],\n",
              "       [-8.9554605e-06],\n",
              "       ...,\n",
              "       [-8.9554605e-06],\n",
              "       [-8.9554605e-06],\n",
              "       [-8.9554605e-06]], dtype=float32)"
            ]
          },
          "metadata": {},
          "execution_count": 31
        }
      ]
    },
    {
      "cell_type": "code",
      "source": [
        "plot_return(model_tlt,X_test,y_test)"
      ],
      "metadata": {
        "colab": {
          "base_uri": "https://localhost:8080/",
          "height": 487
        },
        "id": "c6W5wvTGV35M",
        "outputId": "eadf24df-f937-4a7e-ee64-6726d34f63a2"
      },
      "execution_count": null,
      "outputs": [
        {
          "output_type": "stream",
          "name": "stdout",
          "text": [
            "8/8 [==============================] - 0s 6ms/step\n",
            "Strat Return = 0.2154707908630371 %\n",
            "Buy and Hold Return = -0.21636486053466797 %\n"
          ]
        },
        {
          "output_type": "display_data",
          "data": {
            "text/plain": [
              "<Figure size 640x480 with 1 Axes>"
            ],
            "image/png": "[encoded data removed]"
          },
          "metadata": {}
        }
      ]
    },
    {
      "cell_type": "markdown",
      "source": [
        "## Step 3"
      ],
      "metadata": {
        "id": "Cdwzz5AgYRl-"
      }
    },
    {
      "cell_type": "code",
      "source": [
        "ticker_names = ['SPY', 'TLT', 'SHY', 'GLD', 'DBO']"
      ],
      "metadata": {
        "id": "jfc8t9zLaeU7"
      },
      "execution_count": null,
      "outputs": []
    },
    {
      "cell_type": "code",
      "source": [
        "ticker_weights = {'SPY':1/len(ticker_names), 'TLT':1/len(ticker_names), 'SHY':1/len(ticker_names),\n",
        "                  'GLD':1/len(ticker_names), 'DBO':1/len(ticker_names)}"
      ],
      "metadata": {
        "id": "qrpx1LXAb9xR"
      },
      "execution_count": null,
      "outputs": []
    },
    {
      "cell_type": "code",
      "source": [
        "ticker_predictions = {'SPY':y_spy_pred , 'TLT':1/len(ticker_names), 'SHY':1/len(ticker_names),\n",
        "                  'GLD':1/len(ticker_names), 'DBO':1/len(ticker_names)}"
      ],
      "metadata": {
        "id": "b0ceHATacRB3"
      },
      "execution_count": null,
      "outputs": []
    },
    {
      "cell_type": "code",
      "source": [
        "models = [model_spy, model_dbo,model_gld, model_tlt,model_shy]\n",
        "positions_df = pd.DataFrame()\n",
        "values_df = pd.DataFrame()\n",
        "for model in models:\n",
        "  y_pred= model.predict(X_test)\n",
        "  y_pred=pd.Series(y_pred.reshape(y_pred.shape[0]))\n",
        "  values_df['model'] = y_pred.values\n",
        "  positions_df['model'] = y_pred.apply(np.sign)\n"
      ],
      "metadata": {
        "colab": {
          "base_uri": "https://localhost:8080/"
        },
        "id": "MHkyfWwNdilO",
        "outputId": "b2e98db6-1c77-4630-95e1-e35ee372cc0f"
      },
      "execution_count": null,
      "outputs": [
        {
          "output_type": "stream",
          "name": "stdout",
          "text": [
            "8/8 [==============================] - 0s 5ms/step\n",
            "8/8 [==============================] - 0s 5ms/step\n",
            "8/8 [==============================] - 0s 5ms/step\n",
            "8/8 [==============================] - 0s 4ms/step\n",
            "8/8 [==============================] - 0s 4ms/step\n"
          ]
        }
      ]
    },
    {
      "cell_type": "code",
      "source": [
        "model.name"
      ],
      "metadata": {
        "colab": {
          "base_uri": "https://localhost:8080/",
          "height": 35
        },
        "id": "vd4iQ-w5iVlm",
        "outputId": "5c591918-9689-4e72-f5c3-db4303226d90"
      },
      "execution_count": null,
      "outputs": [
        {
          "output_type": "execute_result",
          "data": {
            "text/plain": [
              "'sequential'"
            ],
            "application/vnd.google.colaboratory.intrinsic+json": {
              "type": "string"
            }
          },
          "metadata": {},
          "execution_count": 38
        }
      ]
    },
    {
      "cell_type": "code",
      "source": [
        "y_pred"
      ],
      "metadata": {
        "colab": {
          "base_uri": "https://localhost:8080/"
        },
        "id": "sq8KN_XkiFuS",
        "outputId": "01a2b5f5-ae11-43f5-e8db-609733266ab1"
      },
      "execution_count": null,
      "outputs": [
        {
          "output_type": "execute_result",
          "data": {
            "text/plain": [
              "0      0.001312\n",
              "1      0.001312\n",
              "2      0.001312\n",
              "3      0.001312\n",
              "4      0.001312\n",
              "         ...   \n",
              "237    0.001313\n",
              "238    0.001313\n",
              "239    0.001312\n",
              "240    0.001312\n",
              "241    0.001312\n",
              "Length: 242, dtype: float32"
            ]
          },
          "metadata": {},
          "execution_count": 34
        }
      ]
    },
    {
      "cell_type": "code",
      "source": [
        "def plot_combines_return(model,X_test,y_test):\n",
        "  y_pred= model.predict(X_test)\n",
        "  y_pred=pd.Series(y_pred.reshape(y_pred.shape[0]))\n",
        "  df_predictions=pd.DataFrame()\n",
        "  df_predictions[\"values\"]=y_pred\n",
        "  df_predictions['Date']=y_test.index\n",
        "  df_predictions[\"Positions\"] = y_pred.apply(np.sign)\n",
        "  df_predictions[\"Strat_ret\"] = (\n",
        "      df_predictions[\"Positions\"].shift(1) * df_predictions[\"values\"]\n",
        "  )\n",
        "  df_predictions[\"CumRet\"] = (\n",
        "      df_predictions[\"Strat_ret\"].expanding().apply(lambda x: np.prod(1 + x) - 1)\n",
        "  )\n",
        "  df_predictions[\"bhRet\"] = (\n",
        "      df_predictions[\"values\"].expanding().apply(lambda x: np.prod(1 + x) - 1)\n",
        "  )\n",
        "\n",
        "  Final_Return = np.prod(1 + df_predictions[\"Strat_ret\"]) - 1\n",
        "  Buy_Return = np.prod(1 + df_predictions[\"values\"]) - 1\n",
        "\n",
        "  print(\"Strat Return =\", Final_Return * 100, \"%\")\n",
        "  print(\"Buy and Hold Return =\", Buy_Return * 100, \"%\")\n",
        "\n",
        "\n",
        "  ax = plt.gca()\n",
        "  df_predictions.plot(x=\"Date\", y=\"bhRet\", ax=ax)\n",
        "  df_predictions.plot(x=\"Date\", y=\"CumRet\", ax=ax)\n",
        "  plt.show()"
      ],
      "metadata": {
        "id": "J_e7zsGubYGf"
      },
      "execution_count": null,
      "outputs": []
    },
    {
      "cell_type": "markdown",
      "source": [
        "## Step 4"
      ],
      "metadata": {
        "id": "0ixzmbL1YR6z"
      }
    }
  ]
}