{
 "cells": [
  {
   "cell_type": "code",
   "execution_count": 18,
   "id": "e99e7b7f",
   "metadata": {},
   "outputs": [],
   "source": [
    "import pandas as pd\n",
    "import pandas_ta as ta\n",
    "import numpy as np \n",
    "import random"
   ]
  },
  {
   "cell_type": "code",
   "execution_count": 19,
   "id": "655a84a5",
   "metadata": {},
   "outputs": [],
   "source": [
    "random.seed(42)"
   ]
  },
  {
   "cell_type": "code",
   "execution_count": 25,
   "id": "bf6af268",
   "metadata": {},
   "outputs": [],
   "source": [
    "date_idx  = pd.DatetimeIndex(pd.date_range('20230101','20230110'))\n",
    "rec_count = len(date_idx)\n",
    "df = pd.DataFrame({'Date':date_idx, 'Close': [random.randint(10,100) for _ in range(rec_count)]})"
   ]
  },
  {
   "cell_type": "code",
   "execution_count": 28,
   "id": "5088c177",
   "metadata": {},
   "outputs": [],
   "source": [
    "df['Ret']=df.Close.pct_change()"
   ]
  },
  {
   "cell_type": "code",
   "execution_count": 29,
   "id": "36b942a2",
   "metadata": {},
   "outputs": [],
   "source": [
    "df['Pred'] = [random.random() for _ in range(rec_count)]"
   ]
  },
  {
   "cell_type": "code",
   "execution_count": null,
   "id": "b6083f69",
   "metadata": {},
   "outputs": [],
   "source": []
  },
  {
   "cell_type": "code",
   "execution_count": 30,
   "id": "39283966",
   "metadata": {
    "scrolled": true
   },
   "outputs": [
    {
     "data": {
      "text/html": [
       "<div>\n",
       "<style scoped>\n",
       "    .dataframe tbody tr th:only-of-type {\n",
       "        vertical-align: middle;\n",
       "    }\n",
       "\n",
       "    .dataframe tbody tr th {\n",
       "        vertical-align: top;\n",
       "    }\n",
       "\n",
       "    .dataframe thead th {\n",
       "        text-align: right;\n",
       "    }\n",
       "</style>\n",
       "<table border=\"1\" class=\"dataframe\">\n",
       "  <thead>\n",
       "    <tr style=\"text-align: right;\">\n",
       "      <th></th>\n",
       "      <th>Date</th>\n",
       "      <th>Close</th>\n",
       "      <th>Ret</th>\n",
       "      <th>Pred</th>\n",
       "    </tr>\n",
       "  </thead>\n",
       "  <tbody>\n",
       "    <tr>\n",
       "      <th>0</th>\n",
       "      <td>2023-01-01</td>\n",
       "      <td>85</td>\n",
       "      <td>NaN</td>\n",
       "      <td>0.957213</td>\n",
       "    </tr>\n",
       "    <tr>\n",
       "      <th>1</th>\n",
       "      <td>2023-01-02</td>\n",
       "      <td>45</td>\n",
       "      <td>-0.470588</td>\n",
       "      <td>0.336595</td>\n",
       "    </tr>\n",
       "    <tr>\n",
       "      <th>2</th>\n",
       "      <td>2023-01-03</td>\n",
       "      <td>10</td>\n",
       "      <td>-0.777778</td>\n",
       "      <td>0.092746</td>\n",
       "    </tr>\n",
       "    <tr>\n",
       "      <th>3</th>\n",
       "      <td>2023-01-04</td>\n",
       "      <td>30</td>\n",
       "      <td>2.000000</td>\n",
       "      <td>0.096716</td>\n",
       "    </tr>\n",
       "    <tr>\n",
       "      <th>4</th>\n",
       "      <td>2023-01-05</td>\n",
       "      <td>99</td>\n",
       "      <td>2.300000</td>\n",
       "      <td>0.847494</td>\n",
       "    </tr>\n",
       "    <tr>\n",
       "      <th>5</th>\n",
       "      <td>2023-01-06</td>\n",
       "      <td>64</td>\n",
       "      <td>-0.353535</td>\n",
       "      <td>0.603726</td>\n",
       "    </tr>\n",
       "    <tr>\n",
       "      <th>6</th>\n",
       "      <td>2023-01-07</td>\n",
       "      <td>53</td>\n",
       "      <td>-0.171875</td>\n",
       "      <td>0.807128</td>\n",
       "    </tr>\n",
       "    <tr>\n",
       "      <th>7</th>\n",
       "      <td>2023-01-08</td>\n",
       "      <td>45</td>\n",
       "      <td>-0.150943</td>\n",
       "      <td>0.729732</td>\n",
       "    </tr>\n",
       "    <tr>\n",
       "      <th>8</th>\n",
       "      <td>2023-01-09</td>\n",
       "      <td>29</td>\n",
       "      <td>-0.355556</td>\n",
       "      <td>0.536228</td>\n",
       "    </tr>\n",
       "    <tr>\n",
       "      <th>9</th>\n",
       "      <td>2023-01-10</td>\n",
       "      <td>37</td>\n",
       "      <td>0.275862</td>\n",
       "      <td>0.973116</td>\n",
       "    </tr>\n",
       "  </tbody>\n",
       "</table>\n",
       "</div>"
      ],
      "text/plain": [
       "        Date  Close       Ret      Pred\n",
       "0 2023-01-01     85       NaN  0.957213\n",
       "1 2023-01-02     45 -0.470588  0.336595\n",
       "2 2023-01-03     10 -0.777778  0.092746\n",
       "3 2023-01-04     30  2.000000  0.096716\n",
       "4 2023-01-05     99  2.300000  0.847494\n",
       "5 2023-01-06     64 -0.353535  0.603726\n",
       "6 2023-01-07     53 -0.171875  0.807128\n",
       "7 2023-01-08     45 -0.150943  0.729732\n",
       "8 2023-01-09     29 -0.355556  0.536228\n",
       "9 2023-01-10     37  0.275862  0.973116"
      ]
     },
     "execution_count": 30,
     "metadata": {},
     "output_type": "execute_result"
    }
   ],
   "source": [
    "df[\"Ret25_i\"] = df[name].rolling(25).apply(lambda x: 100 * (np.prod(1 + x / 100) - 1))\n",
    "df[\"Ret60_i\"] = df[name].rolling(60).apply(lambda x: 100 * (np.prod(1 + x / 100) - 1))\n",
    "df[\"Ret90_i\"] = df[name].rolling(90).apply(lambda x: 100 * (np.prod(1 + x / 100) - 1))\n",
    "df[\"Ret120_i\"] = df[name].rolling(120).apply(lambda x: 100 * (np.prod(1 + x / 100) - 1))\n",
    "df[\"Ret240_i\"] = df[name].rolling(240).apply(lambda x: 100 * (np.prod(1 + x / 100) - 1))\n",
    "\n",
    "\n",
    "df[\"Ret120\"] = df[\"Ret120_i\"].shift(-120)\n",
    "df[\"Output\"] = df[\"Ret120\"] > 0\n",
    "df[\"Output\"] = df[\"Output\"].astype(int)\n",
    "del df[\"Ret120\"]\n",
    "df = df.dropna()\n",
    "df.tail(10)"
   ]
  },
  {
   "cell_type": "code",
   "execution_count": 31,
   "id": "8f422390",
   "metadata": {},
   "outputs": [
    {
     "name": "stdout",
     "output_type": "stream",
     "text": [
      "Strat Return Long Only = -80.21390374331551 %\n",
      "Strat Return = -54.2721330956625 %\n",
      "Buy and Hold Return = -56.470588235294116 %\n"
     ]
    },
    {
     "name": "stderr",
     "output_type": "stream",
     "text": [
      "/var/folders/mk/pkqnv_dx053g95zwc3mj01b00000gn/T/ipykernel_21795/110887527.py:4: SettingWithCopyWarning: \n",
      "A value is trying to be set on a copy of a slice from a DataFrame\n",
      "\n",
      "See the caveats in the documentation: https://pandas.pydata.org/pandas-docs/stable/user_guide/indexing.html#returning-a-view-versus-a-copy\n",
      "  df[\"Positions_L\"][df[\"Positions_L\"] == -1] = 0\n"
     ]
    }
   ],
   "source": [
    "df[\"Positions\"] = np.where(df[\"Pred\"] > 0.5, 1, -1)\n",
    "df[\"Strat_ret\"] = df[\"Positions\"].shift(1) * df[\"Ret\"]\n",
    "df[\"Positions_L\"] = df[\"Positions\"].shift(1)\n",
    "df[\"Positions_L\"][df[\"Positions_L\"] == -1] = 0\n",
    "df[\"Strat_ret_L\"] = df[\"Positions_L\"] * df[\"Ret\"]\n",
    "df[\"CumRet\"] = df[\"Strat_ret\"].expanding().apply(lambda x: np.prod(1 + x) - 1)\n",
    "df[\"CumRet_L\"] = df[\"Strat_ret_L\"].expanding().apply(lambda x: np.prod(1 + x) - 1)\n",
    "df[\"bhRet\"] = df[\"Ret\"].expanding().apply(lambda x: np.prod(1 + x) - 1)\n",
    "\n",
    "Final_Return_L = np.prod(1 + df[\"Strat_ret_L\"]) - 1\n",
    "Final_Return = np.prod(1 + df[\"Strat_ret\"]) - 1\n",
    "Buy_Return = np.prod(1 + df[\"Ret\"]) - 1\n",
    "\n",
    "print(\"Strat Return Long Only =\", Final_Return_L * 100, \"%\")\n",
    "print(\"Strat Return =\", Final_Return * 100, \"%\")\n",
    "print(\"Buy and Hold Return =\", Buy_Return * 100, \"%\")"
   ]
  },
  {
   "cell_type": "code",
   "execution_count": null,
   "id": "e00001d6",
   "metadata": {},
   "outputs": [],
   "source": []
  }
 ],
 "metadata": {
  "kernelspec": {
   "display_name": "Python 3 (ipykernel)",
   "language": "python",
   "name": "python3"
  },
  "language_info": {
   "codemirror_mode": {
    "name": "ipython",
    "version": 3
   },
   "file_extension": ".py",
   "mimetype": "text/x-python",
   "name": "python",
   "nbconvert_exporter": "python",
   "pygments_lexer": "ipython3",
   "version": "3.9.12"
  }
 },
 "nbformat": 4,
 "nbformat_minor": 5
}
