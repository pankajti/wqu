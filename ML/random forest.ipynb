{
 "cells": [
  {
   "cell_type": "markdown",
   "id": "de5ea472",
   "metadata": {},
   "source": [
    "# Random Forest To Predict Stock Return"
   ]
  },
  {
   "cell_type": "code",
   "execution_count": 162,
   "id": "38b3bfed",
   "metadata": {},
   "outputs": [],
   "source": [
    "import yfinance as yf \n",
    "import numpy as np\n",
    "import pandas as pd\n",
    "import pandas_ta as ta\n",
    "import matplotlib.pyplot as plt\n",
    "import datetime as dt\n",
    "from sklearn.ensemble import RandomForestClassifier\n",
    "from sklearn.dummy import DummyClassifier\n",
    "from yellowbrick.classifier import ConfusionMatrix\n",
    "from sklearn.model_selection import train_test_split\n",
    "from yellowbrick.classifier import ClassificationReport\n",
    "from sklearn.metrics import confusion_matrix"
   ]
  },
  {
   "cell_type": "code",
   "execution_count": 163,
   "id": "50f20557",
   "metadata": {},
   "outputs": [],
   "source": [
    "end_date = dt.datetime.now().date()\n",
    "start_date = end_date - dt.timedelta(3650)\n",
    "prediction_duration = 10\n",
    "# start_date = None\n",
    "# end_date=None\n",
    "stock_name='TCS.NS'\n",
    "#stock_name='SPY'\n",
    "stock = yf.Ticker(stock_name).history( start=start_date, end=end_date, auto_adjust=False)"
   ]
  },
  {
   "cell_type": "code",
   "execution_count": 164,
   "id": "f785ec00",
   "metadata": {},
   "outputs": [],
   "source": [
    "training_data = stock[['Adj Close']]\n",
    "training_data=training_data.rename({'Adj Close':'close'}, axis =1)\n",
    "training_data ['high']= stock['High']\n",
    "training_data ['low']= stock['Low']\n",
    "training_data ['open']= stock['Open']\n",
    "training_data ['volume']= stock['Volume']"
   ]
  },
  {
   "cell_type": "code",
   "execution_count": 165,
   "id": "6710c3c4",
   "metadata": {},
   "outputs": [],
   "source": [
    "#sm = training_data.ta.sma(append= True)"
   ]
  },
  {
   "cell_type": "code",
   "execution_count": 166,
   "id": "4e32a5ee",
   "metadata": {},
   "outputs": [
    {
     "data": {
      "text/html": [
       "<div>\n",
       "<style scoped>\n",
       "    .dataframe tbody tr th:only-of-type {\n",
       "        vertical-align: middle;\n",
       "    }\n",
       "\n",
       "    .dataframe tbody tr th {\n",
       "        vertical-align: top;\n",
       "    }\n",
       "\n",
       "    .dataframe thead th {\n",
       "        text-align: right;\n",
       "    }\n",
       "</style>\n",
       "<table border=\"1\" class=\"dataframe\">\n",
       "  <thead>\n",
       "    <tr style=\"text-align: right;\">\n",
       "      <th></th>\n",
       "      <th>close</th>\n",
       "      <th>high</th>\n",
       "      <th>low</th>\n",
       "      <th>open</th>\n",
       "      <th>volume</th>\n",
       "    </tr>\n",
       "    <tr>\n",
       "      <th>Date</th>\n",
       "      <th></th>\n",
       "      <th></th>\n",
       "      <th></th>\n",
       "      <th></th>\n",
       "      <th></th>\n",
       "    </tr>\n",
       "  </thead>\n",
       "  <tbody>\n",
       "    <tr>\n",
       "      <th>2013-09-26 00:00:00+05:30</th>\n",
       "      <td>788.302673</td>\n",
       "      <td>987.049988</td>\n",
       "      <td>967.549988</td>\n",
       "      <td>977.400024</td>\n",
       "      <td>4919704</td>\n",
       "    </tr>\n",
       "    <tr>\n",
       "      <th>2013-09-27 00:00:00+05:30</th>\n",
       "      <td>790.412537</td>\n",
       "      <td>980.974976</td>\n",
       "      <td>968.724976</td>\n",
       "      <td>971.549988</td>\n",
       "      <td>1784666</td>\n",
       "    </tr>\n",
       "    <tr>\n",
       "      <th>2013-09-30 00:00:00+05:30</th>\n",
       "      <td>782.175964</td>\n",
       "      <td>980.924988</td>\n",
       "      <td>960.000000</td>\n",
       "      <td>977.000000</td>\n",
       "      <td>1987350</td>\n",
       "    </tr>\n",
       "    <tr>\n",
       "      <th>2013-10-01 00:00:00+05:30</th>\n",
       "      <td>790.798157</td>\n",
       "      <td>977.424988</td>\n",
       "      <td>958.349976</td>\n",
       "      <td>966.000000</td>\n",
       "      <td>1591994</td>\n",
       "    </tr>\n",
       "    <tr>\n",
       "      <th>2013-10-03 00:00:00+05:30</th>\n",
       "      <td>821.451294</td>\n",
       "      <td>1018.450012</td>\n",
       "      <td>980.200012</td>\n",
       "      <td>985.900024</td>\n",
       "      <td>4672354</td>\n",
       "    </tr>\n",
       "    <tr>\n",
       "      <th>...</th>\n",
       "      <td>...</td>\n",
       "      <td>...</td>\n",
       "      <td>...</td>\n",
       "      <td>...</td>\n",
       "      <td>...</td>\n",
       "    </tr>\n",
       "    <tr>\n",
       "      <th>2023-09-15 00:00:00+05:30</th>\n",
       "      <td>3598.300049</td>\n",
       "      <td>3607.350098</td>\n",
       "      <td>3562.449951</td>\n",
       "      <td>3567.850098</td>\n",
       "      <td>2952897</td>\n",
       "    </tr>\n",
       "    <tr>\n",
       "      <th>2023-09-18 00:00:00+05:30</th>\n",
       "      <td>3606.149902</td>\n",
       "      <td>3619.300049</td>\n",
       "      <td>3575.250000</td>\n",
       "      <td>3580.050049</td>\n",
       "      <td>1395753</td>\n",
       "    </tr>\n",
       "    <tr>\n",
       "      <th>2023-09-20 00:00:00+05:30</th>\n",
       "      <td>3606.050049</td>\n",
       "      <td>3625.000000</td>\n",
       "      <td>3580.000000</td>\n",
       "      <td>3580.000000</td>\n",
       "      <td>1649396</td>\n",
       "    </tr>\n",
       "    <tr>\n",
       "      <th>2023-09-21 00:00:00+05:30</th>\n",
       "      <td>3585.300049</td>\n",
       "      <td>3605.000000</td>\n",
       "      <td>3528.000000</td>\n",
       "      <td>3588.550049</td>\n",
       "      <td>2004073</td>\n",
       "    </tr>\n",
       "    <tr>\n",
       "      <th>2023-09-22 00:00:00+05:30</th>\n",
       "      <td>3603.649902</td>\n",
       "      <td>3633.750000</td>\n",
       "      <td>3565.050049</td>\n",
       "      <td>3584.000000</td>\n",
       "      <td>1988880</td>\n",
       "    </tr>\n",
       "  </tbody>\n",
       "</table>\n",
       "<p>2464 rows × 5 columns</p>\n",
       "</div>"
      ],
      "text/plain": [
       "                                 close         high          low         open  \\\n",
       "Date                                                                            \n",
       "2013-09-26 00:00:00+05:30   788.302673   987.049988   967.549988   977.400024   \n",
       "2013-09-27 00:00:00+05:30   790.412537   980.974976   968.724976   971.549988   \n",
       "2013-09-30 00:00:00+05:30   782.175964   980.924988   960.000000   977.000000   \n",
       "2013-10-01 00:00:00+05:30   790.798157   977.424988   958.349976   966.000000   \n",
       "2013-10-03 00:00:00+05:30   821.451294  1018.450012   980.200012   985.900024   \n",
       "...                                ...          ...          ...          ...   \n",
       "2023-09-15 00:00:00+05:30  3598.300049  3607.350098  3562.449951  3567.850098   \n",
       "2023-09-18 00:00:00+05:30  3606.149902  3619.300049  3575.250000  3580.050049   \n",
       "2023-09-20 00:00:00+05:30  3606.050049  3625.000000  3580.000000  3580.000000   \n",
       "2023-09-21 00:00:00+05:30  3585.300049  3605.000000  3528.000000  3588.550049   \n",
       "2023-09-22 00:00:00+05:30  3603.649902  3633.750000  3565.050049  3584.000000   \n",
       "\n",
       "                            volume  \n",
       "Date                                \n",
       "2013-09-26 00:00:00+05:30  4919704  \n",
       "2013-09-27 00:00:00+05:30  1784666  \n",
       "2013-09-30 00:00:00+05:30  1987350  \n",
       "2013-10-01 00:00:00+05:30  1591994  \n",
       "2013-10-03 00:00:00+05:30  4672354  \n",
       "...                            ...  \n",
       "2023-09-15 00:00:00+05:30  2952897  \n",
       "2023-09-18 00:00:00+05:30  1395753  \n",
       "2023-09-20 00:00:00+05:30  1649396  \n",
       "2023-09-21 00:00:00+05:30  2004073  \n",
       "2023-09-22 00:00:00+05:30  1988880  \n",
       "\n",
       "[2464 rows x 5 columns]"
      ]
     },
     "execution_count": 166,
     "metadata": {},
     "output_type": "execute_result"
    }
   ],
   "source": [
    "training_data.dropna()"
   ]
  },
  {
   "cell_type": "code",
   "execution_count": 167,
   "id": "c7705cfe",
   "metadata": {},
   "outputs": [],
   "source": [
    "training_data.ta.strategy('momentum')"
   ]
  },
  {
   "cell_type": "code",
   "execution_count": 168,
   "id": "387bd96b",
   "metadata": {
    "scrolled": true
   },
   "outputs": [],
   "source": [
    "#rs =training_data.ta.rsi(append= True)"
   ]
  },
  {
   "cell_type": "code",
   "execution_count": 169,
   "id": "b3fd395a",
   "metadata": {},
   "outputs": [],
   "source": [
    "df = training_data"
   ]
  },
  {
   "cell_type": "code",
   "execution_count": 170,
   "id": "81312233",
   "metadata": {},
   "outputs": [],
   "source": [
    "df[\"Ret\"] = df[\"close\"].pct_change()\n",
    "df.reset_index(inplace=True)\n",
    "name = \"Ret\""
   ]
  },
  {
   "cell_type": "code",
   "execution_count": 171,
   "id": "6dbdaa6e",
   "metadata": {},
   "outputs": [],
   "source": [
    "ret_fieldi=f\"Ret{prediction_duration}_i\"\n",
    "ret_field=f\"Ret{prediction_duration}\"\n",
    "df[ ret_fieldi] = df[name].rolling(prediction_duration).apply(lambda x: 100 * (np.prod(1 + x / 100) - 1))\n",
    "df[ret_field] = df[ret_fieldi].shift(-prediction_duration)\n",
    "df[\"Output\"] = df[ret_field].apply(lambda x :1 if  x > 0 else -1 )\n",
    "df[\"Output\"] = df[\"Output\"].astype(int)\n",
    "del df[ret_field]\n",
    "#df = df.dropna()\n",
    "#df.tail(10)"
   ]
  },
  {
   "cell_type": "markdown",
   "id": "87a603ba",
   "metadata": {},
   "source": [
    "### Input Preparation "
   ]
  },
  {
   "cell_type": "code",
   "execution_count": 172,
   "id": "4744aa10",
   "metadata": {
    "scrolled": true
   },
   "outputs": [],
   "source": [
    "df=df.fillna(0)\n",
    "del df['BR_26']"
   ]
  },
  {
   "cell_type": "code",
   "execution_count": 173,
   "id": "f73adc90",
   "metadata": {},
   "outputs": [],
   "source": [
    "X= df.iloc[:,6:-3]\n",
    "y = df.iloc[:,-1]\n",
    "classes = [1,-1]"
   ]
  },
  {
   "cell_type": "code",
   "execution_count": 174,
   "id": "562313cc",
   "metadata": {},
   "outputs": [],
   "source": [
    "X_train , X_test, y_train, y_test = train_test_split(X,y,test_size=.2,shuffle=False)"
   ]
  },
  {
   "cell_type": "markdown",
   "id": "f884bf8d",
   "metadata": {},
   "source": [
    "### Model "
   ]
  },
  {
   "cell_type": "code",
   "execution_count": 175,
   "id": "aa1d2f2b-5cc2-40f1-b3e3-4559324bf87e",
   "metadata": {},
   "outputs": [
    {
     "data": {
      "image/png": "[encoded data removed]",
      "text/plain": [
       "<Figure size 800x550 with 1 Axes>"
      ]
     },
     "metadata": {},
     "output_type": "display_data"
    },
    {
     "data": {
      "text/plain": [
       "<Axes: title={'center': 'RandomForestClassifier Confusion Matrix'}, xlabel='Predicted Class', ylabel='True Class'>"
      ]
     },
     "execution_count": 175,
     "metadata": {},
     "output_type": "execute_result"
    }
   ],
   "source": [
    "# The ConfusionMatrix visualizer taxes a model\n",
    "model =RandomForestClassifier()\n",
    "cm = ConfusionMatrix(model)\n",
    "\n",
    "# Fit fits the passed model. This is unnecessary if you pass the visualizer a pre-fitted model\n",
    "cm.fit(X_train, y_train)\n",
    "\n",
    "# To create the ConfusionMatrix, we need some test data. Score runs predict() on the data\n",
    "# and then creates the confusion_matrix from scikit-learn.\n",
    "cm.score(X_test, y_test)\n",
    "\n",
    "# How did we do?\n",
    "cm.show()"
   ]
  },
  {
   "cell_type": "code",
   "execution_count": 176,
   "id": "255fac60",
   "metadata": {},
   "outputs": [],
   "source": [
    "classifier = RandomForestClassifier()"
   ]
  },
  {
   "cell_type": "code",
   "execution_count": 177,
   "id": "1c6d030f",
   "metadata": {
    "scrolled": true
   },
   "outputs": [
    {
     "data": {
      "text/html": [
       "<style>#sk-container-id-9 {color: black;}#sk-container-id-9 pre{padding: 0;}#sk-container-id-9 div.sk-toggleable {background-color: white;}#sk-container-id-9 label.sk-toggleable__label {cursor: pointer;display: block;width: 100%;margin-bottom: 0;padding: 0.3em;box-sizing: border-box;text-align: center;}#sk-container-id-9 label.sk-toggleable__label-arrow:before {content: \"▸\";float: left;margin-right: 0.25em;color: #696969;}#sk-container-id-9 label.sk-toggleable__label-arrow:hover:before {color: black;}#sk-container-id-9 div.sk-estimator:hover label.sk-toggleable__label-arrow:before {color: black;}#sk-container-id-9 div.sk-toggleable__content {max-height: 0;max-width: 0;overflow: hidden;text-align: left;background-color: #f0f8ff;}#sk-container-id-9 div.sk-toggleable__content pre {margin: 0.2em;color: black;border-radius: 0.25em;background-color: #f0f8ff;}#sk-container-id-9 input.sk-toggleable__control:checked~div.sk-toggleable__content {max-height: 200px;max-width: 100%;overflow: auto;}#sk-container-id-9 input.sk-toggleable__control:checked~label.sk-toggleable__label-arrow:before {content: \"▾\";}#sk-container-id-9 div.sk-estimator input.sk-toggleable__control:checked~label.sk-toggleable__label {background-color: #d4ebff;}#sk-container-id-9 div.sk-label input.sk-toggleable__control:checked~label.sk-toggleable__label {background-color: #d4ebff;}#sk-container-id-9 input.sk-hidden--visually {border: 0;clip: rect(1px 1px 1px 1px);clip: rect(1px, 1px, 1px, 1px);height: 1px;margin: -1px;overflow: hidden;padding: 0;position: absolute;width: 1px;}#sk-container-id-9 div.sk-estimator {font-family: monospace;background-color: #f0f8ff;border: 1px dotted black;border-radius: 0.25em;box-sizing: border-box;margin-bottom: 0.5em;}#sk-container-id-9 div.sk-estimator:hover {background-color: #d4ebff;}#sk-container-id-9 div.sk-parallel-item::after {content: \"\";width: 100%;border-bottom: 1px solid gray;flex-grow: 1;}#sk-container-id-9 div.sk-label:hover label.sk-toggleable__label {background-color: #d4ebff;}#sk-container-id-9 div.sk-serial::before {content: \"\";position: absolute;border-left: 1px solid gray;box-sizing: border-box;top: 0;bottom: 0;left: 50%;z-index: 0;}#sk-container-id-9 div.sk-serial {display: flex;flex-direction: column;align-items: center;background-color: white;padding-right: 0.2em;padding-left: 0.2em;position: relative;}#sk-container-id-9 div.sk-item {position: relative;z-index: 1;}#sk-container-id-9 div.sk-parallel {display: flex;align-items: stretch;justify-content: center;background-color: white;position: relative;}#sk-container-id-9 div.sk-item::before, #sk-container-id-9 div.sk-parallel-item::before {content: \"\";position: absolute;border-left: 1px solid gray;box-sizing: border-box;top: 0;bottom: 0;left: 50%;z-index: -1;}#sk-container-id-9 div.sk-parallel-item {display: flex;flex-direction: column;z-index: 1;position: relative;background-color: white;}#sk-container-id-9 div.sk-parallel-item:first-child::after {align-self: flex-end;width: 50%;}#sk-container-id-9 div.sk-parallel-item:last-child::after {align-self: flex-start;width: 50%;}#sk-container-id-9 div.sk-parallel-item:only-child::after {width: 0;}#sk-container-id-9 div.sk-dashed-wrapped {border: 1px dashed gray;margin: 0 0.4em 0.5em 0.4em;box-sizing: border-box;padding-bottom: 0.4em;background-color: white;}#sk-container-id-9 div.sk-label label {font-family: monospace;font-weight: bold;display: inline-block;line-height: 1.2em;}#sk-container-id-9 div.sk-label-container {text-align: center;}#sk-container-id-9 div.sk-container {/* jupyter's `normalize.less` sets `[hidden] { display: none; }` but bootstrap.min.css set `[hidden] { display: none !important; }` so we also need the `!important` here to be able to override the default hidden behavior on the sphinx rendered scikit-learn.org. See: https://github.com/scikit-learn/scikit-learn/issues/21755 */display: inline-block !important;position: relative;}#sk-container-id-9 div.sk-text-repr-fallback {display: none;}</style><div id=\"sk-container-id-9\" class=\"sk-top-container\"><div class=\"sk-text-repr-fallback\"><pre>RandomForestClassifier()</pre><b>In a Jupyter environment, please rerun this cell to show the HTML representation or trust the notebook. <br />On GitHub, the HTML representation is unable to render, please try loading this page with nbviewer.org.</b></div><div class=\"sk-container\" hidden><div class=\"sk-item\"><div class=\"sk-estimator sk-toggleable\"><input class=\"sk-toggleable__control sk-hidden--visually\" id=\"sk-estimator-id-11\" type=\"checkbox\" checked><label for=\"sk-estimator-id-11\" class=\"sk-toggleable__label sk-toggleable__label-arrow\">RandomForestClassifier</label><div class=\"sk-toggleable__content\"><pre>RandomForestClassifier()</pre></div></div></div></div></div>"
      ],
      "text/plain": [
       "RandomForestClassifier()"
      ]
     },
     "execution_count": 177,
     "metadata": {},
     "output_type": "execute_result"
    }
   ],
   "source": [
    "classifier.fit(X_train, y_train)"
   ]
  },
  {
   "cell_type": "code",
   "execution_count": 178,
   "id": "1088da13",
   "metadata": {
    "scrolled": true
   },
   "outputs": [
    {
     "data": {
      "text/plain": [
       "0.924512987012987"
      ]
     },
     "execution_count": 178,
     "metadata": {},
     "output_type": "execute_result"
    }
   ],
   "source": [
    "classifier.score(X,y)"
   ]
  },
  {
   "cell_type": "code",
   "execution_count": 179,
   "id": "e206ed9d",
   "metadata": {},
   "outputs": [],
   "source": [
    "y_pred = classifier.predict(X)"
   ]
  },
  {
   "cell_type": "code",
   "execution_count": 180,
   "id": "2ce88cbf",
   "metadata": {},
   "outputs": [
    {
     "data": {
      "text/plain": [
       "array([[ 913,  159],\n",
       "       [  27, 1365]])"
      ]
     },
     "execution_count": 180,
     "metadata": {},
     "output_type": "execute_result"
    }
   ],
   "source": [
    "confusion_matrix(y, y_pred)"
   ]
  },
  {
   "cell_type": "code",
   "execution_count": 181,
   "id": "2840986a",
   "metadata": {},
   "outputs": [],
   "source": [
    "y_pred= classifier.predict(X_test)"
   ]
  },
  {
   "cell_type": "code",
   "execution_count": 182,
   "id": "9c47b32b",
   "metadata": {
    "scrolled": true
   },
   "outputs": [],
   "source": [
    "cm = confusion_matrix(y_test, y_pred)"
   ]
  },
  {
   "cell_type": "code",
   "execution_count": 183,
   "id": "da91aa89",
   "metadata": {},
   "outputs": [
    {
     "data": {
      "text/plain": [
       "0.8973384030418251"
      ]
     },
     "execution_count": 183,
     "metadata": {},
     "output_type": "execute_result"
    }
   ],
   "source": [
    "from sklearn.metrics import accuracy_score,f1_score,recall_score\n",
    "recall_score(y_test, y_pred)"
   ]
  },
  {
   "cell_type": "code",
   "execution_count": 184,
   "id": "5b5cb1f2",
   "metadata": {},
   "outputs": [],
   "source": [
    "importances = classifier.feature_importances_"
   ]
  },
  {
   "cell_type": "code",
   "execution_count": 185,
   "id": "5025c571",
   "metadata": {},
   "outputs": [
    {
     "data": {
      "text/plain": [
       "64"
      ]
     },
     "execution_count": 185,
     "metadata": {},
     "output_type": "execute_result"
    }
   ],
   "source": [
    "np.argmax(importances)"
   ]
  },
  {
   "cell_type": "code",
   "execution_count": 186,
   "id": "e550f984",
   "metadata": {},
   "outputs": [
    {
     "data": {
      "text/plain": [
       "'TRIXs_30_9'"
      ]
     },
     "execution_count": 186,
     "metadata": {},
     "output_type": "execute_result"
    }
   ],
   "source": [
    "X.columns[65]"
   ]
  },
  {
   "cell_type": "code",
   "execution_count": 187,
   "id": "43b86009",
   "metadata": {},
   "outputs": [
    {
     "data": {
      "text/plain": [
       "0       0.000000\n",
       "1       0.000000\n",
       "2       0.000000\n",
       "3       0.000000\n",
       "4       0.000000\n",
       "          ...   \n",
       "2459    0.084993\n",
       "2460    0.084837\n",
       "2461    0.085315\n",
       "2462    0.086397\n",
       "2463    0.088078\n",
       "Name: TRIXs_30_9, Length: 2464, dtype: float64"
      ]
     },
     "execution_count": 187,
     "metadata": {},
     "output_type": "execute_result"
    }
   ],
   "source": [
    "X['TRIXs_30_9']"
   ]
  },
  {
   "cell_type": "code",
   "execution_count": 188,
   "id": "5bcf1b0f",
   "metadata": {},
   "outputs": [
    {
     "data": {
      "image/png": "[encoded data removed]",
      "text/plain": [
       "<Figure size 800x550 with 1 Axes>"
      ]
     },
     "metadata": {},
     "output_type": "display_data"
    },
    {
     "data": {
      "text/plain": [
       "<Axes: title={'center': 'Feature Importances of Top 10 Features using RandomForestClassifier'}, xlabel='relative importance'>"
      ]
     },
     "execution_count": 188,
     "metadata": {},
     "output_type": "execute_result"
    }
   ],
   "source": [
    "from sklearn.ensemble import RandomForestClassifier\n",
    "from yellowbrick.model_selection import FeatureImportances\n",
    "model = RandomForestClassifier()\n",
    "viz = FeatureImportances(model, topn = 10)\n",
    "viz.fit(X, y)\n",
    "viz.show()"
   ]
  },
  {
   "cell_type": "code",
   "execution_count": 189,
   "id": "a28ee23a",
   "metadata": {},
   "outputs": [],
   "source": [
    "classifier = RandomForestClassifier()"
   ]
  },
  {
   "cell_type": "code",
   "execution_count": 190,
   "id": "537892cb",
   "metadata": {},
   "outputs": [
    {
     "data": {
      "text/html": [
       "<style>#sk-container-id-10 {color: black;}#sk-container-id-10 pre{padding: 0;}#sk-container-id-10 div.sk-toggleable {background-color: white;}#sk-container-id-10 label.sk-toggleable__label {cursor: pointer;display: block;width: 100%;margin-bottom: 0;padding: 0.3em;box-sizing: border-box;text-align: center;}#sk-container-id-10 label.sk-toggleable__label-arrow:before {content: \"▸\";float: left;margin-right: 0.25em;color: #696969;}#sk-container-id-10 label.sk-toggleable__label-arrow:hover:before {color: black;}#sk-container-id-10 div.sk-estimator:hover label.sk-toggleable__label-arrow:before {color: black;}#sk-container-id-10 div.sk-toggleable__content {max-height: 0;max-width: 0;overflow: hidden;text-align: left;background-color: #f0f8ff;}#sk-container-id-10 div.sk-toggleable__content pre {margin: 0.2em;color: black;border-radius: 0.25em;background-color: #f0f8ff;}#sk-container-id-10 input.sk-toggleable__control:checked~div.sk-toggleable__content {max-height: 200px;max-width: 100%;overflow: auto;}#sk-container-id-10 input.sk-toggleable__control:checked~label.sk-toggleable__label-arrow:before {content: \"▾\";}#sk-container-id-10 div.sk-estimator input.sk-toggleable__control:checked~label.sk-toggleable__label {background-color: #d4ebff;}#sk-container-id-10 div.sk-label input.sk-toggleable__control:checked~label.sk-toggleable__label {background-color: #d4ebff;}#sk-container-id-10 input.sk-hidden--visually {border: 0;clip: rect(1px 1px 1px 1px);clip: rect(1px, 1px, 1px, 1px);height: 1px;margin: -1px;overflow: hidden;padding: 0;position: absolute;width: 1px;}#sk-container-id-10 div.sk-estimator {font-family: monospace;background-color: #f0f8ff;border: 1px dotted black;border-radius: 0.25em;box-sizing: border-box;margin-bottom: 0.5em;}#sk-container-id-10 div.sk-estimator:hover {background-color: #d4ebff;}#sk-container-id-10 div.sk-parallel-item::after {content: \"\";width: 100%;border-bottom: 1px solid gray;flex-grow: 1;}#sk-container-id-10 div.sk-label:hover label.sk-toggleable__label {background-color: #d4ebff;}#sk-container-id-10 div.sk-serial::before {content: \"\";position: absolute;border-left: 1px solid gray;box-sizing: border-box;top: 0;bottom: 0;left: 50%;z-index: 0;}#sk-container-id-10 div.sk-serial {display: flex;flex-direction: column;align-items: center;background-color: white;padding-right: 0.2em;padding-left: 0.2em;position: relative;}#sk-container-id-10 div.sk-item {position: relative;z-index: 1;}#sk-container-id-10 div.sk-parallel {display: flex;align-items: stretch;justify-content: center;background-color: white;position: relative;}#sk-container-id-10 div.sk-item::before, #sk-container-id-10 div.sk-parallel-item::before {content: \"\";position: absolute;border-left: 1px solid gray;box-sizing: border-box;top: 0;bottom: 0;left: 50%;z-index: -1;}#sk-container-id-10 div.sk-parallel-item {display: flex;flex-direction: column;z-index: 1;position: relative;background-color: white;}#sk-container-id-10 div.sk-parallel-item:first-child::after {align-self: flex-end;width: 50%;}#sk-container-id-10 div.sk-parallel-item:last-child::after {align-self: flex-start;width: 50%;}#sk-container-id-10 div.sk-parallel-item:only-child::after {width: 0;}#sk-container-id-10 div.sk-dashed-wrapped {border: 1px dashed gray;margin: 0 0.4em 0.5em 0.4em;box-sizing: border-box;padding-bottom: 0.4em;background-color: white;}#sk-container-id-10 div.sk-label label {font-family: monospace;font-weight: bold;display: inline-block;line-height: 1.2em;}#sk-container-id-10 div.sk-label-container {text-align: center;}#sk-container-id-10 div.sk-container {/* jupyter's `normalize.less` sets `[hidden] { display: none; }` but bootstrap.min.css set `[hidden] { display: none !important; }` so we also need the `!important` here to be able to override the default hidden behavior on the sphinx rendered scikit-learn.org. See: https://github.com/scikit-learn/scikit-learn/issues/21755 */display: inline-block !important;position: relative;}#sk-container-id-10 div.sk-text-repr-fallback {display: none;}</style><div id=\"sk-container-id-10\" class=\"sk-top-container\"><div class=\"sk-text-repr-fallback\"><pre>RandomForestClassifier()</pre><b>In a Jupyter environment, please rerun this cell to show the HTML representation or trust the notebook. <br />On GitHub, the HTML representation is unable to render, please try loading this page with nbviewer.org.</b></div><div class=\"sk-container\" hidden><div class=\"sk-item\"><div class=\"sk-estimator sk-toggleable\"><input class=\"sk-toggleable__control sk-hidden--visually\" id=\"sk-estimator-id-12\" type=\"checkbox\" checked><label for=\"sk-estimator-id-12\" class=\"sk-toggleable__label sk-toggleable__label-arrow\">RandomForestClassifier</label><div class=\"sk-toggleable__content\"><pre>RandomForestClassifier()</pre></div></div></div></div></div>"
      ],
      "text/plain": [
       "RandomForestClassifier()"
      ]
     },
     "execution_count": 190,
     "metadata": {},
     "output_type": "execute_result"
    }
   ],
   "source": [
    "classifier.fit(X_train, y_train)"
   ]
  },
  {
   "cell_type": "code",
   "execution_count": 191,
   "id": "bd245547",
   "metadata": {},
   "outputs": [
    {
     "data": {
      "text/html": [
       "<div>\n",
       "<style scoped>\n",
       "    .dataframe tbody tr th:only-of-type {\n",
       "        vertical-align: middle;\n",
       "    }\n",
       "\n",
       "    .dataframe tbody tr th {\n",
       "        vertical-align: top;\n",
       "    }\n",
       "\n",
       "    .dataframe thead th {\n",
       "        text-align: right;\n",
       "    }\n",
       "</style>\n",
       "<table border=\"1\" class=\"dataframe\">\n",
       "  <thead>\n",
       "    <tr style=\"text-align: right;\">\n",
       "      <th></th>\n",
       "      <th>AO_5_34</th>\n",
       "      <th>APO_12_26</th>\n",
       "      <th>BIAS_SMA_26</th>\n",
       "      <th>BOP</th>\n",
       "      <th>AR_26</th>\n",
       "      <th>CCI_14_0.015</th>\n",
       "      <th>CFO_9</th>\n",
       "      <th>CG_10</th>\n",
       "      <th>CMO_14</th>\n",
       "      <th>COPC_11_14_10</th>\n",
       "      <th>...</th>\n",
       "      <th>STOCHk_14_3_3</th>\n",
       "      <th>STOCHd_14_3_3</th>\n",
       "      <th>STOCHRSIk_14_14_3_3</th>\n",
       "      <th>STOCHRSId_14_14_3_3</th>\n",
       "      <th>TRIX_30_9</th>\n",
       "      <th>TRIXs_30_9</th>\n",
       "      <th>TSI_13_25_13</th>\n",
       "      <th>TSIs_13_25_13</th>\n",
       "      <th>UO_7_14_28</th>\n",
       "      <th>WILLR_14</th>\n",
       "    </tr>\n",
       "  </thead>\n",
       "  <tbody>\n",
       "    <tr>\n",
       "      <th>1971</th>\n",
       "      <td>108.565555</td>\n",
       "      <td>49.815012</td>\n",
       "      <td>-0.003073</td>\n",
       "      <td>-1.635932</td>\n",
       "      <td>111.683137</td>\n",
       "      <td>-146.274320</td>\n",
       "      <td>-0.603863</td>\n",
       "      <td>-5.516187</td>\n",
       "      <td>7.803689</td>\n",
       "      <td>1.112162</td>\n",
       "      <td>...</td>\n",
       "      <td>-46.479429</td>\n",
       "      <td>-39.761893</td>\n",
       "      <td>1.744036</td>\n",
       "      <td>6.596714</td>\n",
       "      <td>0.323488</td>\n",
       "      <td>0.312166</td>\n",
       "      <td>25.601840</td>\n",
       "      <td>37.927439</td>\n",
       "      <td>-0.506310</td>\n",
       "      <td>-138.337023</td>\n",
       "    </tr>\n",
       "    <tr>\n",
       "      <th>1972</th>\n",
       "      <td>79.910859</td>\n",
       "      <td>35.064201</td>\n",
       "      <td>-0.008998</td>\n",
       "      <td>-3.606435</td>\n",
       "      <td>111.499824</td>\n",
       "      <td>-134.101791</td>\n",
       "      <td>-0.384929</td>\n",
       "      <td>-5.515463</td>\n",
       "      <td>3.870620</td>\n",
       "      <td>-0.274615</td>\n",
       "      <td>...</td>\n",
       "      <td>-47.925718</td>\n",
       "      <td>-45.532781</td>\n",
       "      <td>1.744036</td>\n",
       "      <td>3.200510</td>\n",
       "      <td>0.322357</td>\n",
       "      <td>0.315624</td>\n",
       "      <td>22.494411</td>\n",
       "      <td>35.722721</td>\n",
       "      <td>-3.037113</td>\n",
       "      <td>-144.353921</td>\n",
       "    </tr>\n",
       "    <tr>\n",
       "      <th>1973</th>\n",
       "      <td>41.103222</td>\n",
       "      <td>14.586703</td>\n",
       "      <td>-0.021605</td>\n",
       "      <td>-2.565513</td>\n",
       "      <td>99.653008</td>\n",
       "      <td>-142.508646</td>\n",
       "      <td>-0.551088</td>\n",
       "      <td>-5.527582</td>\n",
       "      <td>-6.336875</td>\n",
       "      <td>-1.852551</td>\n",
       "      <td>...</td>\n",
       "      <td>-47.911420</td>\n",
       "      <td>-47.438855</td>\n",
       "      <td>1.744036</td>\n",
       "      <td>1.744036</td>\n",
       "      <td>0.319806</td>\n",
       "      <td>0.317975</td>\n",
       "      <td>18.225204</td>\n",
       "      <td>33.223076</td>\n",
       "      <td>-5.966949</td>\n",
       "      <td>-161.043315</td>\n",
       "    </tr>\n",
       "    <tr>\n",
       "      <th>1974</th>\n",
       "      <td>9.911455</td>\n",
       "      <td>0.509246</td>\n",
       "      <td>-0.011312</td>\n",
       "      <td>-1.574048</td>\n",
       "      <td>102.219264</td>\n",
       "      <td>-114.684171</td>\n",
       "      <td>0.810996</td>\n",
       "      <td>-5.532698</td>\n",
       "      <td>3.381080</td>\n",
       "      <td>-2.622695</td>\n",
       "      <td>...</td>\n",
       "      <td>-47.599573</td>\n",
       "      <td>-47.812237</td>\n",
       "      <td>5.291383</td>\n",
       "      <td>2.926485</td>\n",
       "      <td>0.316381</td>\n",
       "      <td>0.319225</td>\n",
       "      <td>15.905728</td>\n",
       "      <td>30.749169</td>\n",
       "      <td>-4.316738</td>\n",
       "      <td>-137.401483</td>\n",
       "    </tr>\n",
       "    <tr>\n",
       "      <th>1975</th>\n",
       "      <td>-1.623389</td>\n",
       "      <td>-3.214504</td>\n",
       "      <td>0.003266</td>\n",
       "      <td>-0.933139</td>\n",
       "      <td>104.696693</td>\n",
       "      <td>-35.819864</td>\n",
       "      <td>1.831149</td>\n",
       "      <td>-5.523716</td>\n",
       "      <td>15.023548</td>\n",
       "      <td>-2.985415</td>\n",
       "      <td>...</td>\n",
       "      <td>-38.316299</td>\n",
       "      <td>-44.609097</td>\n",
       "      <td>20.356683</td>\n",
       "      <td>9.130701</td>\n",
       "      <td>0.312665</td>\n",
       "      <td>0.319442</td>\n",
       "      <td>15.653594</td>\n",
       "      <td>28.592658</td>\n",
       "      <td>-2.189847</td>\n",
       "      <td>-116.504099</td>\n",
       "    </tr>\n",
       "    <tr>\n",
       "      <th>...</th>\n",
       "      <td>...</td>\n",
       "      <td>...</td>\n",
       "      <td>...</td>\n",
       "      <td>...</td>\n",
       "      <td>...</td>\n",
       "      <td>...</td>\n",
       "      <td>...</td>\n",
       "      <td>...</td>\n",
       "      <td>...</td>\n",
       "      <td>...</td>\n",
       "      <td>...</td>\n",
       "      <td>...</td>\n",
       "      <td>...</td>\n",
       "      <td>...</td>\n",
       "      <td>...</td>\n",
       "      <td>...</td>\n",
       "      <td>...</td>\n",
       "      <td>...</td>\n",
       "      <td>...</td>\n",
       "      <td>...</td>\n",
       "      <td>...</td>\n",
       "    </tr>\n",
       "    <tr>\n",
       "      <th>2459</th>\n",
       "      <td>110.543236</td>\n",
       "      <td>36.636861</td>\n",
       "      <td>0.046552</td>\n",
       "      <td>0.678170</td>\n",
       "      <td>93.398321</td>\n",
       "      <td>134.550657</td>\n",
       "      <td>-0.054223</td>\n",
       "      <td>-5.447969</td>\n",
       "      <td>42.649525</td>\n",
       "      <td>8.527215</td>\n",
       "      <td>...</td>\n",
       "      <td>90.931314</td>\n",
       "      <td>92.124415</td>\n",
       "      <td>91.487340</td>\n",
       "      <td>93.616686</td>\n",
       "      <td>0.086182</td>\n",
       "      <td>0.084993</td>\n",
       "      <td>25.401130</td>\n",
       "      <td>11.891338</td>\n",
       "      <td>66.050340</td>\n",
       "      <td>-3.431946</td>\n",
       "    </tr>\n",
       "    <tr>\n",
       "      <th>2460</th>\n",
       "      <td>130.942948</td>\n",
       "      <td>51.106408</td>\n",
       "      <td>0.046914</td>\n",
       "      <td>0.592505</td>\n",
       "      <td>100.104443</td>\n",
       "      <td>116.510579</td>\n",
       "      <td>-0.431643</td>\n",
       "      <td>-5.446345</td>\n",
       "      <td>43.951091</td>\n",
       "      <td>9.872877</td>\n",
       "      <td>...</td>\n",
       "      <td>92.325862</td>\n",
       "      <td>91.366894</td>\n",
       "      <td>94.371047</td>\n",
       "      <td>92.722029</td>\n",
       "      <td>0.088880</td>\n",
       "      <td>0.084837</td>\n",
       "      <td>28.406079</td>\n",
       "      <td>14.250587</td>\n",
       "      <td>65.481840</td>\n",
       "      <td>-4.770593</td>\n",
       "    </tr>\n",
       "    <tr>\n",
       "      <th>2461</th>\n",
       "      <td>139.300017</td>\n",
       "      <td>63.962506</td>\n",
       "      <td>0.045050</td>\n",
       "      <td>0.578890</td>\n",
       "      <td>107.481800</td>\n",
       "      <td>98.152339</td>\n",
       "      <td>-0.705142</td>\n",
       "      <td>-5.448355</td>\n",
       "      <td>43.906351</td>\n",
       "      <td>10.674907</td>\n",
       "      <td>...</td>\n",
       "      <td>95.020699</td>\n",
       "      <td>92.759292</td>\n",
       "      <td>99.030998</td>\n",
       "      <td>94.963129</td>\n",
       "      <td>0.092039</td>\n",
       "      <td>0.085315</td>\n",
       "      <td>30.790015</td>\n",
       "      <td>16.613362</td>\n",
       "      <td>66.806105</td>\n",
       "      <td>-6.735363</td>\n",
       "    </tr>\n",
       "    <tr>\n",
       "      <th>2462</th>\n",
       "      <td>135.200301</td>\n",
       "      <td>72.652896</td>\n",
       "      <td>0.037470</td>\n",
       "      <td>-0.042208</td>\n",
       "      <td>102.143360</td>\n",
       "      <td>61.242794</td>\n",
       "      <td>-1.171202</td>\n",
       "      <td>-5.457842</td>\n",
       "      <td>34.548044</td>\n",
       "      <td>11.175004</td>\n",
       "      <td>...</td>\n",
       "      <td>91.230558</td>\n",
       "      <td>92.859039</td>\n",
       "      <td>93.371209</td>\n",
       "      <td>95.591085</td>\n",
       "      <td>0.095343</td>\n",
       "      <td>0.086397</td>\n",
       "      <td>31.455539</td>\n",
       "      <td>18.733673</td>\n",
       "      <td>67.920556</td>\n",
       "      <td>-14.802371</td>\n",
       "    </tr>\n",
       "    <tr>\n",
       "      <th>2463</th>\n",
       "      <td>134.903977</td>\n",
       "      <td>81.591341</td>\n",
       "      <td>0.041097</td>\n",
       "      <td>0.286025</td>\n",
       "      <td>107.188001</td>\n",
       "      <td>76.377210</td>\n",
       "      <td>-0.409310</td>\n",
       "      <td>-5.465371</td>\n",
       "      <td>38.365221</td>\n",
       "      <td>11.555457</td>\n",
       "      <td>...</td>\n",
       "      <td>89.015914</td>\n",
       "      <td>91.755723</td>\n",
       "      <td>88.194135</td>\n",
       "      <td>93.532114</td>\n",
       "      <td>0.098843</td>\n",
       "      <td>0.088078</td>\n",
       "      <td>32.576952</td>\n",
       "      <td>20.711285</td>\n",
       "      <td>62.455275</td>\n",
       "      <td>-11.414525</td>\n",
       "    </tr>\n",
       "  </tbody>\n",
       "</table>\n",
       "<p>493 rows × 70 columns</p>\n",
       "</div>"
      ],
      "text/plain": [
       "         AO_5_34  APO_12_26  BIAS_SMA_26       BOP       AR_26  CCI_14_0.015  \\\n",
       "1971  108.565555  49.815012    -0.003073 -1.635932  111.683137   -146.274320   \n",
       "1972   79.910859  35.064201    -0.008998 -3.606435  111.499824   -134.101791   \n",
       "1973   41.103222  14.586703    -0.021605 -2.565513   99.653008   -142.508646   \n",
       "1974    9.911455   0.509246    -0.011312 -1.574048  102.219264   -114.684171   \n",
       "1975   -1.623389  -3.214504     0.003266 -0.933139  104.696693    -35.819864   \n",
       "...          ...        ...          ...       ...         ...           ...   \n",
       "2459  110.543236  36.636861     0.046552  0.678170   93.398321    134.550657   \n",
       "2460  130.942948  51.106408     0.046914  0.592505  100.104443    116.510579   \n",
       "2461  139.300017  63.962506     0.045050  0.578890  107.481800     98.152339   \n",
       "2462  135.200301  72.652896     0.037470 -0.042208  102.143360     61.242794   \n",
       "2463  134.903977  81.591341     0.041097  0.286025  107.188001     76.377210   \n",
       "\n",
       "         CFO_9     CG_10     CMO_14  COPC_11_14_10  ...  STOCHk_14_3_3  \\\n",
       "1971 -0.603863 -5.516187   7.803689       1.112162  ...     -46.479429   \n",
       "1972 -0.384929 -5.515463   3.870620      -0.274615  ...     -47.925718   \n",
       "1973 -0.551088 -5.527582  -6.336875      -1.852551  ...     -47.911420   \n",
       "1974  0.810996 -5.532698   3.381080      -2.622695  ...     -47.599573   \n",
       "1975  1.831149 -5.523716  15.023548      -2.985415  ...     -38.316299   \n",
       "...        ...       ...        ...            ...  ...            ...   \n",
       "2459 -0.054223 -5.447969  42.649525       8.527215  ...      90.931314   \n",
       "2460 -0.431643 -5.446345  43.951091       9.872877  ...      92.325862   \n",
       "2461 -0.705142 -5.448355  43.906351      10.674907  ...      95.020699   \n",
       "2462 -1.171202 -5.457842  34.548044      11.175004  ...      91.230558   \n",
       "2463 -0.409310 -5.465371  38.365221      11.555457  ...      89.015914   \n",
       "\n",
       "      STOCHd_14_3_3  STOCHRSIk_14_14_3_3  STOCHRSId_14_14_3_3  TRIX_30_9  \\\n",
       "1971     -39.761893             1.744036             6.596714   0.323488   \n",
       "1972     -45.532781             1.744036             3.200510   0.322357   \n",
       "1973     -47.438855             1.744036             1.744036   0.319806   \n",
       "1974     -47.812237             5.291383             2.926485   0.316381   \n",
       "1975     -44.609097            20.356683             9.130701   0.312665   \n",
       "...             ...                  ...                  ...        ...   \n",
       "2459      92.124415            91.487340            93.616686   0.086182   \n",
       "2460      91.366894            94.371047            92.722029   0.088880   \n",
       "2461      92.759292            99.030998            94.963129   0.092039   \n",
       "2462      92.859039            93.371209            95.591085   0.095343   \n",
       "2463      91.755723            88.194135            93.532114   0.098843   \n",
       "\n",
       "      TRIXs_30_9  TSI_13_25_13  TSIs_13_25_13  UO_7_14_28    WILLR_14  \n",
       "1971    0.312166     25.601840      37.927439   -0.506310 -138.337023  \n",
       "1972    0.315624     22.494411      35.722721   -3.037113 -144.353921  \n",
       "1973    0.317975     18.225204      33.223076   -5.966949 -161.043315  \n",
       "1974    0.319225     15.905728      30.749169   -4.316738 -137.401483  \n",
       "1975    0.319442     15.653594      28.592658   -2.189847 -116.504099  \n",
       "...          ...           ...            ...         ...         ...  \n",
       "2459    0.084993     25.401130      11.891338   66.050340   -3.431946  \n",
       "2460    0.084837     28.406079      14.250587   65.481840   -4.770593  \n",
       "2461    0.085315     30.790015      16.613362   66.806105   -6.735363  \n",
       "2462    0.086397     31.455539      18.733673   67.920556  -14.802371  \n",
       "2463    0.088078     32.576952      20.711285   62.455275  -11.414525  \n",
       "\n",
       "[493 rows x 70 columns]"
      ]
     },
     "execution_count": 191,
     "metadata": {},
     "output_type": "execute_result"
    }
   ],
   "source": [
    "X_test"
   ]
  },
  {
   "cell_type": "code",
   "execution_count": 192,
   "id": "d6435987",
   "metadata": {},
   "outputs": [],
   "source": [
    "y_pred = classifier.predict(X_test)"
   ]
  },
  {
   "cell_type": "code",
   "execution_count": 193,
   "id": "65545b56",
   "metadata": {},
   "outputs": [],
   "source": [
    "cm = confusion_matrix(y_test, y_pred)"
   ]
  },
  {
   "cell_type": "code",
   "execution_count": 194,
   "id": "e05810e0-6936-4b05-a0fb-9d2995d157db",
   "metadata": {},
   "outputs": [
    {
     "data": {
      "text/plain": [
       "array([[ 76, 154],\n",
       "       [ 34, 229]])"
      ]
     },
     "execution_count": 194,
     "metadata": {},
     "output_type": "execute_result"
    }
   ],
   "source": [
    "cm"
   ]
  },
  {
   "cell_type": "code",
   "execution_count": null,
   "id": "1058760c-21d1-4476-9302-16d6a7549346",
   "metadata": {},
   "outputs": [],
   "source": []
  },
  {
   "cell_type": "code",
   "execution_count": 195,
   "id": "dee6da48",
   "metadata": {},
   "outputs": [],
   "source": [
    "from sklearn.metrics import r2_score"
   ]
  },
  {
   "cell_type": "code",
   "execution_count": 196,
   "id": "5ed93c23",
   "metadata": {},
   "outputs": [
    {
     "data": {
      "text/plain": [
       "-0.5322202016862292"
      ]
     },
     "execution_count": 196,
     "metadata": {},
     "output_type": "execute_result"
    }
   ],
   "source": [
    "r2_score(y_test, y_pred)"
   ]
  },
  {
   "cell_type": "code",
   "execution_count": 197,
   "id": "2323ad0e",
   "metadata": {},
   "outputs": [],
   "source": [
    "classifier = RandomForestClassifier()"
   ]
  },
  {
   "cell_type": "code",
   "execution_count": 198,
   "id": "666ea89e-1758-42b0-9301-3594da086dc5",
   "metadata": {
    "scrolled": true
   },
   "outputs": [
    {
     "data": {
      "text/html": [
       "<style>#sk-container-id-11 {color: black;}#sk-container-id-11 pre{padding: 0;}#sk-container-id-11 div.sk-toggleable {background-color: white;}#sk-container-id-11 label.sk-toggleable__label {cursor: pointer;display: block;width: 100%;margin-bottom: 0;padding: 0.3em;box-sizing: border-box;text-align: center;}#sk-container-id-11 label.sk-toggleable__label-arrow:before {content: \"▸\";float: left;margin-right: 0.25em;color: #696969;}#sk-container-id-11 label.sk-toggleable__label-arrow:hover:before {color: black;}#sk-container-id-11 div.sk-estimator:hover label.sk-toggleable__label-arrow:before {color: black;}#sk-container-id-11 div.sk-toggleable__content {max-height: 0;max-width: 0;overflow: hidden;text-align: left;background-color: #f0f8ff;}#sk-container-id-11 div.sk-toggleable__content pre {margin: 0.2em;color: black;border-radius: 0.25em;background-color: #f0f8ff;}#sk-container-id-11 input.sk-toggleable__control:checked~div.sk-toggleable__content {max-height: 200px;max-width: 100%;overflow: auto;}#sk-container-id-11 input.sk-toggleable__control:checked~label.sk-toggleable__label-arrow:before {content: \"▾\";}#sk-container-id-11 div.sk-estimator input.sk-toggleable__control:checked~label.sk-toggleable__label {background-color: #d4ebff;}#sk-container-id-11 div.sk-label input.sk-toggleable__control:checked~label.sk-toggleable__label {background-color: #d4ebff;}#sk-container-id-11 input.sk-hidden--visually {border: 0;clip: rect(1px 1px 1px 1px);clip: rect(1px, 1px, 1px, 1px);height: 1px;margin: -1px;overflow: hidden;padding: 0;position: absolute;width: 1px;}#sk-container-id-11 div.sk-estimator {font-family: monospace;background-color: #f0f8ff;border: 1px dotted black;border-radius: 0.25em;box-sizing: border-box;margin-bottom: 0.5em;}#sk-container-id-11 div.sk-estimator:hover {background-color: #d4ebff;}#sk-container-id-11 div.sk-parallel-item::after {content: \"\";width: 100%;border-bottom: 1px solid gray;flex-grow: 1;}#sk-container-id-11 div.sk-label:hover label.sk-toggleable__label {background-color: #d4ebff;}#sk-container-id-11 div.sk-serial::before {content: \"\";position: absolute;border-left: 1px solid gray;box-sizing: border-box;top: 0;bottom: 0;left: 50%;z-index: 0;}#sk-container-id-11 div.sk-serial {display: flex;flex-direction: column;align-items: center;background-color: white;padding-right: 0.2em;padding-left: 0.2em;position: relative;}#sk-container-id-11 div.sk-item {position: relative;z-index: 1;}#sk-container-id-11 div.sk-parallel {display: flex;align-items: stretch;justify-content: center;background-color: white;position: relative;}#sk-container-id-11 div.sk-item::before, #sk-container-id-11 div.sk-parallel-item::before {content: \"\";position: absolute;border-left: 1px solid gray;box-sizing: border-box;top: 0;bottom: 0;left: 50%;z-index: -1;}#sk-container-id-11 div.sk-parallel-item {display: flex;flex-direction: column;z-index: 1;position: relative;background-color: white;}#sk-container-id-11 div.sk-parallel-item:first-child::after {align-self: flex-end;width: 50%;}#sk-container-id-11 div.sk-parallel-item:last-child::after {align-self: flex-start;width: 50%;}#sk-container-id-11 div.sk-parallel-item:only-child::after {width: 0;}#sk-container-id-11 div.sk-dashed-wrapped {border: 1px dashed gray;margin: 0 0.4em 0.5em 0.4em;box-sizing: border-box;padding-bottom: 0.4em;background-color: white;}#sk-container-id-11 div.sk-label label {font-family: monospace;font-weight: bold;display: inline-block;line-height: 1.2em;}#sk-container-id-11 div.sk-label-container {text-align: center;}#sk-container-id-11 div.sk-container {/* jupyter's `normalize.less` sets `[hidden] { display: none; }` but bootstrap.min.css set `[hidden] { display: none !important; }` so we also need the `!important` here to be able to override the default hidden behavior on the sphinx rendered scikit-learn.org. See: https://github.com/scikit-learn/scikit-learn/issues/21755 */display: inline-block !important;position: relative;}#sk-container-id-11 div.sk-text-repr-fallback {display: none;}</style><div id=\"sk-container-id-11\" class=\"sk-top-container\"><div class=\"sk-text-repr-fallback\"><pre>RandomForestClassifier()</pre><b>In a Jupyter environment, please rerun this cell to show the HTML representation or trust the notebook. <br />On GitHub, the HTML representation is unable to render, please try loading this page with nbviewer.org.</b></div><div class=\"sk-container\" hidden><div class=\"sk-item\"><div class=\"sk-estimator sk-toggleable\"><input class=\"sk-toggleable__control sk-hidden--visually\" id=\"sk-estimator-id-13\" type=\"checkbox\" checked><label for=\"sk-estimator-id-13\" class=\"sk-toggleable__label sk-toggleable__label-arrow\">RandomForestClassifier</label><div class=\"sk-toggleable__content\"><pre>RandomForestClassifier()</pre></div></div></div></div></div>"
      ],
      "text/plain": [
       "RandomForestClassifier()"
      ]
     },
     "execution_count": 198,
     "metadata": {},
     "output_type": "execute_result"
    }
   ],
   "source": [
    "classifier.fit(X_train, y_train)"
   ]
  },
  {
   "cell_type": "code",
   "execution_count": 199,
   "id": "4f97e9ee",
   "metadata": {},
   "outputs": [],
   "source": [
    "#classifier.fit(X_train,y_train)"
   ]
  },
  {
   "cell_type": "markdown",
   "id": "a47b75ac",
   "metadata": {},
   "source": [
    "### Predictive Performance"
   ]
  },
  {
   "cell_type": "code",
   "execution_count": 200,
   "id": "5a83413e-3a01-42dd-92b0-e5f26a6be112",
   "metadata": {},
   "outputs": [
    {
     "data": {
      "text/plain": [
       "(493,)"
      ]
     },
     "execution_count": 200,
     "metadata": {},
     "output_type": "execute_result"
    }
   ],
   "source": [
    "y_test.shape"
   ]
  },
  {
   "cell_type": "code",
   "execution_count": 201,
   "id": "966dcfc6-66d7-4c38-a1aa-b24c27c58c19",
   "metadata": {
    "scrolled": true
   },
   "outputs": [
    {
     "data": {
      "text/plain": [
       "numpy.int64"
      ]
     },
     "execution_count": 201,
     "metadata": {},
     "output_type": "execute_result"
    }
   ],
   "source": [
    "type(y_pred[0])"
   ]
  },
  {
   "cell_type": "code",
   "execution_count": 202,
   "id": "8a0b5cf1-a863-44b0-829d-ff014c514166",
   "metadata": {},
   "outputs": [
    {
     "data": {
      "text/plain": [
       "int"
      ]
     },
     "execution_count": 202,
     "metadata": {},
     "output_type": "execute_result"
    }
   ],
   "source": [
    "type(1)"
   ]
  },
  {
   "cell_type": "code",
   "execution_count": 203,
   "id": "6871458f-94b7-4502-b978-607a14e63a48",
   "metadata": {},
   "outputs": [],
   "source": [
    "cm = confusion_matrix(y_test, y_pred)"
   ]
  },
  {
   "cell_type": "code",
   "execution_count": 204,
   "id": "215bdd55-c5c2-4d8e-abb4-beefcd41e116",
   "metadata": {},
   "outputs": [
    {
     "data": {
      "text/plain": [
       "array([[ 76, 154],\n",
       "       [ 34, 229]])"
      ]
     },
     "execution_count": 204,
     "metadata": {},
     "output_type": "execute_result"
    }
   ],
   "source": [
    "cm"
   ]
  },
  {
   "cell_type": "code",
   "execution_count": 205,
   "id": "fa8b9759-e5c5-4675-b9de-090b6177c1cf",
   "metadata": {},
   "outputs": [
    {
     "data": {
      "text/plain": [
       "1971   -1\n",
       "1972   -1\n",
       "1973   -1\n",
       "1974   -1\n",
       "1975   -1\n",
       "       ..\n",
       "2459   -1\n",
       "2460   -1\n",
       "2461   -1\n",
       "2462   -1\n",
       "2463   -1\n",
       "Name: Output, Length: 493, dtype: int64"
      ]
     },
     "execution_count": 205,
     "metadata": {},
     "output_type": "execute_result"
    }
   ],
   "source": [
    "y_pred=classifier.predict(X_test)\n",
    "y_test"
   ]
  },
  {
   "cell_type": "code",
   "execution_count": null,
   "id": "3620d367-ce51-4205-b638-e5e357ffe3c6",
   "metadata": {},
   "outputs": [],
   "source": []
  },
  {
   "cell_type": "code",
   "execution_count": null,
   "id": "e3006b7c",
   "metadata": {},
   "outputs": [],
   "source": []
  },
  {
   "cell_type": "code",
   "execution_count": 206,
   "id": "ffb84806",
   "metadata": {},
   "outputs": [
    {
     "data": {
      "image/png": "[encoded data removed]",
      "text/plain": [
       "<Figure size 800x550 with 1 Axes>"
      ]
     },
     "metadata": {},
     "output_type": "display_data"
    },
    {
     "data": {
      "text/plain": [
       "<Axes: title={'center': 'DummyClassifier Confusion Matrix'}, xlabel='Predicted Class', ylabel='True Class'>"
      ]
     },
     "execution_count": 206,
     "metadata": {},
     "output_type": "execute_result"
    }
   ],
   "source": [
    "dummy_model = DummyClassifier(strategy=\"most_frequent\")\n",
    "cm =ConfusionMatrix(dummy_model)\n",
    "cm.fit(X_train, y_train)\n",
    "# To create the ConfusionMatrix, we need some test data. Score runs predict() on the data\n",
    "# and then creates the confusion_matrix from scikit-learn.\n",
    "cm.score(X_test, y_test)\n",
    "# How did we do?\n",
    "cm.show()"
   ]
  },
  {
   "cell_type": "code",
   "execution_count": 207,
   "id": "1e6ddf81",
   "metadata": {},
   "outputs": [
    {
     "name": "stderr",
     "output_type": "stream",
     "text": [
      "/Users/shritiwari/opt/anaconda3/envs/push/lib/python3.10/site-packages/sklearn/metrics/_classification.py:1469: UndefinedMetricWarning: Precision and F-score are ill-defined and being set to 0.0 in labels with no predicted samples. Use `zero_division` parameter to control this behavior.\n",
      "  _warn_prf(average, modifier, msg_start, len(result))\n",
      "/Users/shritiwari/opt/anaconda3/envs/push/lib/python3.10/site-packages/sklearn/metrics/_classification.py:1469: UndefinedMetricWarning: Recall and F-score are ill-defined and being set to 0.0 in labels with no true samples. Use `zero_division` parameter to control this behavior.\n",
      "  _warn_prf(average, modifier, msg_start, len(result))\n"
     ]
    },
    {
     "data": {
      "image/png": "[encoded data removed]",
      "text/plain": [
       "<Figure size 800x550 with 2 Axes>"
      ]
     },
     "metadata": {},
     "output_type": "display_data"
    },
    {
     "data": {
      "text/plain": [
       "<Axes: title={'center': 'DummyClassifier Classification Report'}>"
      ]
     },
     "execution_count": 207,
     "metadata": {},
     "output_type": "execute_result"
    }
   ],
   "source": [
    "visualizer = ClassificationReport(dummy_model, classes=classes, support=True)\n",
    "\n",
    "visualizer.fit(X_train, y_train)        # Fit the visualizer and the model\n",
    "visualizer.score(X_test, y_test)        # Evaluate the model on the test data\n",
    "visualizer.show()  "
   ]
  },
  {
   "cell_type": "code",
   "execution_count": 208,
   "id": "8119e675",
   "metadata": {
    "scrolled": true
   },
   "outputs": [
    {
     "name": "stderr",
     "output_type": "stream",
     "text": [
      "/Users/shritiwari/opt/anaconda3/envs/push/lib/python3.10/site-packages/sklearn/metrics/_classification.py:1469: UndefinedMetricWarning: Precision and F-score are ill-defined and being set to 0.0 in labels with no predicted samples. Use `zero_division` parameter to control this behavior.\n",
      "  _warn_prf(average, modifier, msg_start, len(result))\n",
      "/Users/shritiwari/opt/anaconda3/envs/push/lib/python3.10/site-packages/sklearn/metrics/_classification.py:1469: UndefinedMetricWarning: Recall and F-score are ill-defined and being set to 0.0 in labels with no true samples. Use `zero_division` parameter to control this behavior.\n",
      "  _warn_prf(average, modifier, msg_start, len(result))\n"
     ]
    },
    {
     "data": {
      "image/png": "[encoded data removed]",
      "text/plain": [
       "<Figure size 800x550 with 2 Axes>"
      ]
     },
     "metadata": {},
     "output_type": "display_data"
    },
    {
     "data": {
      "text/plain": [
       "<Axes: title={'center': 'RandomForestClassifier Classification Report'}>"
      ]
     },
     "execution_count": 208,
     "metadata": {},
     "output_type": "execute_result"
    }
   ],
   "source": [
    "model = RandomForestClassifier()\n",
    "visualizer = ClassificationReport(model, classes=classes, support=True)\n",
    "\n",
    "visualizer.fit(X_train, y_train)        # Fit the visualizer and the model\n",
    "visualizer.score(X_test, y_test)        # Evaluate the model on the test data\n",
    "visualizer.show()  "
   ]
  },
  {
   "cell_type": "code",
   "execution_count": null,
   "id": "a7401d52",
   "metadata": {},
   "outputs": [],
   "source": []
  },
  {
   "cell_type": "code",
   "execution_count": 209,
   "id": "904553d5",
   "metadata": {},
   "outputs": [
    {
     "name": "stderr",
     "output_type": "stream",
     "text": [
      "/var/folders/mk/pkqnv_dx053g95zwc3mj01b00000gn/T/ipykernel_79742/1993079715.py:5: SettingWithCopyWarning: \n",
      "A value is trying to be set on a copy of a slice from a DataFrame\n",
      "\n",
      "See the caveats in the documentation: https://pandas.pydata.org/pandas-docs/stable/user_guide/indexing.html#returning-a-view-versus-a-copy\n",
      "  df[\"Positions_L\"][df[\"Positions_L\"] == -1] = 0\n"
     ]
    },
    {
     "name": "stdout",
     "output_type": "stream",
     "text": [
      "Strat Return Long Only = 12319.929735783782 %\n",
      "Strat Return = 271092.1637437747 %\n",
      "Buy and Hold Return = 357.14038835818707 %\n"
     ]
    }
   ],
   "source": [
    "df['Pred'] = model.predict(df[X.columns])\n",
    "df[\"Positions\"] = np.where(df[\"Pred\"] > 0.5, 1, -1)\n",
    "df[\"Strat_ret\"] = df[\"Positions\"].shift(1) * df[\"Ret\"]\n",
    "df[\"Positions_L\"] = df[\"Positions\"].shift(1)\n",
    "df[\"Positions_L\"][df[\"Positions_L\"] == -1] = 0\n",
    "df[\"Strat_ret_L\"] = df[\"Positions_L\"] * df[\"Ret\"]\n",
    "df[\"CumRet\"] = df[\"Strat_ret\"].expanding().apply(lambda x: np.prod(1 + x) - 1)\n",
    "df[\"CumRet_L\"] = df[\"Strat_ret_L\"].expanding().apply(lambda x: np.prod(1 + x) - 1)\n",
    "df[\"bhRet\"] = df[\"Ret\"].expanding().apply(lambda x: np.prod(1 + x) - 1)\n",
    "\n",
    "Final_Return_L = np.prod(1 + df[\"Strat_ret_L\"]) - 1\n",
    "Final_Return = np.prod(1 + df[\"Strat_ret\"]) - 1\n",
    "Buy_Return = np.prod(1 + df[\"Ret\"]) - 1\n",
    "\n",
    "print(\"Strat Return Long Only =\", Final_Return_L * 100, \"%\")\n",
    "print(\"Strat Return =\", Final_Return * 100, \"%\")\n",
    "print(\"Buy and Hold Return =\", Buy_Return * 100, \"%\")"
   ]
  },
  {
   "cell_type": "code",
   "execution_count": null,
   "id": "ba3567c1",
   "metadata": {},
   "outputs": [],
   "source": []
  },
  {
   "cell_type": "code",
   "execution_count": 210,
   "id": "0fc05e7b",
   "metadata": {},
   "outputs": [],
   "source": [
    "df = df.dropna()"
   ]
  },
  {
   "cell_type": "code",
   "execution_count": 211,
   "id": "f97adc20",
   "metadata": {},
   "outputs": [
    {
     "data": {
      "text/plain": [
       "0.8701395691017948"
      ]
     },
     "execution_count": 211,
     "metadata": {},
     "output_type": "execute_result"
    }
   ],
   "source": [
    "ret=df.CumRet_L\n",
    "ret.mean()/ret.std()"
   ]
  },
  {
   "cell_type": "code",
   "execution_count": 212,
   "id": "a46560a5",
   "metadata": {},
   "outputs": [
    {
     "data": {
      "text/plain": [
       "1.1879588721611907"
      ]
     },
     "execution_count": 212,
     "metadata": {},
     "output_type": "execute_result"
    }
   ],
   "source": [
    "ret=df.bhRet\n",
    "ret.mean()/ret.std()"
   ]
  },
  {
   "cell_type": "code",
   "execution_count": 213,
   "id": "236090e4",
   "metadata": {},
   "outputs": [
    {
     "data": {
      "text/plain": [
       "0.7089238288563527"
      ]
     },
     "execution_count": 213,
     "metadata": {},
     "output_type": "execute_result"
    }
   ],
   "source": [
    "ret=df.CumRet\n",
    "ret.mean()/ret.std()"
   ]
  },
  {
   "cell_type": "code",
   "execution_count": 214,
   "id": "242db20d",
   "metadata": {},
   "outputs": [
    {
     "name": "stderr",
     "output_type": "stream",
     "text": [
      "/var/folders/mk/pkqnv_dx053g95zwc3mj01b00000gn/T/ipykernel_79742/3819697979.py:5: SettingWithCopyWarning: \n",
      "A value is trying to be set on a copy of a slice from a DataFrame\n",
      "\n",
      "See the caveats in the documentation: https://pandas.pydata.org/pandas-docs/stable/user_guide/indexing.html#returning-a-view-versus-a-copy\n",
      "  df[\"Positions_L\"][df[\"Positions_L\"] == -1] = 0\n"
     ]
    },
    {
     "name": "stdout",
     "output_type": "stream",
     "text": [
      "Strat Return Long Only = 355.92013478794826 %\n",
      "Strat Return = 355.92013478794826 %\n",
      "Buy and Hold Return = 357.14038835818707 %\n"
     ]
    }
   ],
   "source": [
    "df['Pred'] = dummy_model.predict(df[ X.columns])\n",
    "df[\"Positions\"] = np.where(df[\"Pred\"] > 0.5, 1, -1)\n",
    "df[\"Strat_ret\"] = df[\"Positions\"].shift(1) * df[\"Ret\"]\n",
    "df[\"Positions_L\"] = df[\"Positions\"].shift(1)\n",
    "df[\"Positions_L\"][df[\"Positions_L\"] == -1] = 0\n",
    "df[\"Strat_ret_L\"] = df[\"Positions_L\"] * df[\"Ret\"]\n",
    "df[\"CumRet\"] = df[\"Strat_ret\"].expanding().apply(lambda x: np.prod(1 + x) - 1)\n",
    "df[\"CumRet_L\"] = df[\"Strat_ret_L\"].expanding().apply(lambda x: np.prod(1 + x) - 1)\n",
    "df[\"bhRet\"] = df[\"Ret\"].expanding().apply(lambda x: np.prod(1 + x) - 1)\n",
    "\n",
    "Final_Return_L = np.prod(1 + df[\"Strat_ret_L\"]) - 1\n",
    "Final_Return = np.prod(1 + df[\"Strat_ret\"]) - 1\n",
    "Buy_Return = np.prod(1 + df[\"Ret\"]) - 1\n",
    "\n",
    "print(\"Strat Return Long Only =\", Final_Return_L * 100, \"%\")\n",
    "print(\"Strat Return =\", Final_Return * 100, \"%\")\n",
    "print(\"Buy and Hold Return =\", Buy_Return * 100, \"%\")"
   ]
  },
  {
   "cell_type": "code",
   "execution_count": 215,
   "id": "1399b9db-fbeb-45e5-ace7-4f96fc21a17d",
   "metadata": {},
   "outputs": [
    {
     "data": {
      "text/html": [
       "<div>\n",
       "<style scoped>\n",
       "    .dataframe tbody tr th:only-of-type {\n",
       "        vertical-align: middle;\n",
       "    }\n",
       "\n",
       "    .dataframe tbody tr th {\n",
       "        vertical-align: top;\n",
       "    }\n",
       "\n",
       "    .dataframe thead th {\n",
       "        text-align: right;\n",
       "    }\n",
       "</style>\n",
       "<table border=\"1\" class=\"dataframe\">\n",
       "  <thead>\n",
       "    <tr style=\"text-align: right;\">\n",
       "      <th></th>\n",
       "      <th>Date</th>\n",
       "      <th>close</th>\n",
       "      <th>high</th>\n",
       "      <th>low</th>\n",
       "      <th>open</th>\n",
       "      <th>volume</th>\n",
       "      <th>AO_5_34</th>\n",
       "      <th>APO_12_26</th>\n",
       "      <th>BIAS_SMA_26</th>\n",
       "      <th>BOP</th>\n",
       "      <th>...</th>\n",
       "      <th>Ret10_i</th>\n",
       "      <th>Output</th>\n",
       "      <th>Pred</th>\n",
       "      <th>Positions</th>\n",
       "      <th>Strat_ret</th>\n",
       "      <th>Positions_L</th>\n",
       "      <th>Strat_ret_L</th>\n",
       "      <th>CumRet</th>\n",
       "      <th>CumRet_L</th>\n",
       "      <th>bhRet</th>\n",
       "    </tr>\n",
       "  </thead>\n",
       "  <tbody>\n",
       "    <tr>\n",
       "      <th>1</th>\n",
       "      <td>2013-09-27 00:00:00+05:30</td>\n",
       "      <td>790.412537</td>\n",
       "      <td>980.974976</td>\n",
       "      <td>968.724976</td>\n",
       "      <td>971.549988</td>\n",
       "      <td>1784666</td>\n",
       "      <td>0.000000</td>\n",
       "      <td>0.000000</td>\n",
       "      <td>0.000000</td>\n",
       "      <td>-14.786731</td>\n",
       "      <td>...</td>\n",
       "      <td>0.000000</td>\n",
       "      <td>1</td>\n",
       "      <td>1</td>\n",
       "      <td>1</td>\n",
       "      <td>NaN</td>\n",
       "      <td>NaN</td>\n",
       "      <td>NaN</td>\n",
       "      <td>NaN</td>\n",
       "      <td>NaN</td>\n",
       "      <td>0.002676</td>\n",
       "    </tr>\n",
       "    <tr>\n",
       "      <th>2</th>\n",
       "      <td>2013-09-30 00:00:00+05:30</td>\n",
       "      <td>782.175964</td>\n",
       "      <td>980.924988</td>\n",
       "      <td>960.000000</td>\n",
       "      <td>977.000000</td>\n",
       "      <td>1987350</td>\n",
       "      <td>0.000000</td>\n",
       "      <td>0.000000</td>\n",
       "      <td>0.000000</td>\n",
       "      <td>-9.310593</td>\n",
       "      <td>...</td>\n",
       "      <td>0.000000</td>\n",
       "      <td>1</td>\n",
       "      <td>1</td>\n",
       "      <td>1</td>\n",
       "      <td>-0.010421</td>\n",
       "      <td>1.0</td>\n",
       "      <td>-0.010421</td>\n",
       "      <td>-0.010421</td>\n",
       "      <td>-0.010421</td>\n",
       "      <td>-0.007772</td>\n",
       "    </tr>\n",
       "    <tr>\n",
       "      <th>3</th>\n",
       "      <td>2013-10-01 00:00:00+05:30</td>\n",
       "      <td>790.798157</td>\n",
       "      <td>977.424988</td>\n",
       "      <td>958.349976</td>\n",
       "      <td>966.000000</td>\n",
       "      <td>1591994</td>\n",
       "      <td>0.000000</td>\n",
       "      <td>0.000000</td>\n",
       "      <td>0.000000</td>\n",
       "      <td>-9.184888</td>\n",
       "      <td>...</td>\n",
       "      <td>0.000000</td>\n",
       "      <td>1</td>\n",
       "      <td>1</td>\n",
       "      <td>1</td>\n",
       "      <td>0.011023</td>\n",
       "      <td>1.0</td>\n",
       "      <td>0.011023</td>\n",
       "      <td>0.000488</td>\n",
       "      <td>0.000488</td>\n",
       "      <td>0.003166</td>\n",
       "    </tr>\n",
       "    <tr>\n",
       "      <th>4</th>\n",
       "      <td>2013-10-03 00:00:00+05:30</td>\n",
       "      <td>821.451294</td>\n",
       "      <td>1018.450012</td>\n",
       "      <td>980.200012</td>\n",
       "      <td>985.900024</td>\n",
       "      <td>4672354</td>\n",
       "      <td>0.000000</td>\n",
       "      <td>0.000000</td>\n",
       "      <td>0.000000</td>\n",
       "      <td>-4.299313</td>\n",
       "      <td>...</td>\n",
       "      <td>0.000000</td>\n",
       "      <td>1</td>\n",
       "      <td>1</td>\n",
       "      <td>1</td>\n",
       "      <td>0.038762</td>\n",
       "      <td>1.0</td>\n",
       "      <td>0.038762</td>\n",
       "      <td>0.039269</td>\n",
       "      <td>0.039269</td>\n",
       "      <td>0.042051</td>\n",
       "    </tr>\n",
       "    <tr>\n",
       "      <th>5</th>\n",
       "      <td>2013-10-04 00:00:00+05:30</td>\n",
       "      <td>825.103027</td>\n",
       "      <td>1034.500000</td>\n",
       "      <td>1013.474976</td>\n",
       "      <td>1016.000000</td>\n",
       "      <td>1934032</td>\n",
       "      <td>0.000000</td>\n",
       "      <td>0.000000</td>\n",
       "      <td>0.000000</td>\n",
       "      <td>-9.079513</td>\n",
       "      <td>...</td>\n",
       "      <td>0.000000</td>\n",
       "      <td>1</td>\n",
       "      <td>1</td>\n",
       "      <td>1</td>\n",
       "      <td>0.004445</td>\n",
       "      <td>1.0</td>\n",
       "      <td>0.004445</td>\n",
       "      <td>0.043889</td>\n",
       "      <td>0.043889</td>\n",
       "      <td>0.046683</td>\n",
       "    </tr>\n",
       "    <tr>\n",
       "      <th>...</th>\n",
       "      <td>...</td>\n",
       "      <td>...</td>\n",
       "      <td>...</td>\n",
       "      <td>...</td>\n",
       "      <td>...</td>\n",
       "      <td>...</td>\n",
       "      <td>...</td>\n",
       "      <td>...</td>\n",
       "      <td>...</td>\n",
       "      <td>...</td>\n",
       "      <td>...</td>\n",
       "      <td>...</td>\n",
       "      <td>...</td>\n",
       "      <td>...</td>\n",
       "      <td>...</td>\n",
       "      <td>...</td>\n",
       "      <td>...</td>\n",
       "      <td>...</td>\n",
       "      <td>...</td>\n",
       "      <td>...</td>\n",
       "      <td>...</td>\n",
       "    </tr>\n",
       "    <tr>\n",
       "      <th>2459</th>\n",
       "      <td>2023-09-15 00:00:00+05:30</td>\n",
       "      <td>3598.300049</td>\n",
       "      <td>3607.350098</td>\n",
       "      <td>3562.449951</td>\n",
       "      <td>3567.850098</td>\n",
       "      <td>2952897</td>\n",
       "      <td>110.543236</td>\n",
       "      <td>36.636861</td>\n",
       "      <td>0.046552</td>\n",
       "      <td>0.678170</td>\n",
       "      <td>...</td>\n",
       "      <td>0.063478</td>\n",
       "      <td>-1</td>\n",
       "      <td>1</td>\n",
       "      <td>1</td>\n",
       "      <td>0.010744</td>\n",
       "      <td>1.0</td>\n",
       "      <td>0.010744</td>\n",
       "      <td>3.552433</td>\n",
       "      <td>3.552433</td>\n",
       "      <td>3.564617</td>\n",
       "    </tr>\n",
       "    <tr>\n",
       "      <th>2460</th>\n",
       "      <td>2023-09-18 00:00:00+05:30</td>\n",
       "      <td>3606.149902</td>\n",
       "      <td>3619.300049</td>\n",
       "      <td>3575.250000</td>\n",
       "      <td>3580.050049</td>\n",
       "      <td>1395753</td>\n",
       "      <td>130.942948</td>\n",
       "      <td>51.106408</td>\n",
       "      <td>0.046914</td>\n",
       "      <td>0.592505</td>\n",
       "      <td>...</td>\n",
       "      <td>0.054025</td>\n",
       "      <td>-1</td>\n",
       "      <td>1</td>\n",
       "      <td>1</td>\n",
       "      <td>0.002182</td>\n",
       "      <td>1.0</td>\n",
       "      <td>0.002182</td>\n",
       "      <td>3.562364</td>\n",
       "      <td>3.562364</td>\n",
       "      <td>3.574575</td>\n",
       "    </tr>\n",
       "    <tr>\n",
       "      <th>2461</th>\n",
       "      <td>2023-09-20 00:00:00+05:30</td>\n",
       "      <td>3606.050049</td>\n",
       "      <td>3625.000000</td>\n",
       "      <td>3580.000000</td>\n",
       "      <td>3580.000000</td>\n",
       "      <td>1649396</td>\n",
       "      <td>139.300017</td>\n",
       "      <td>63.962506</td>\n",
       "      <td>0.045050</td>\n",
       "      <td>0.578890</td>\n",
       "      <td>...</td>\n",
       "      <td>0.050822</td>\n",
       "      <td>-1</td>\n",
       "      <td>1</td>\n",
       "      <td>1</td>\n",
       "      <td>-0.000028</td>\n",
       "      <td>1.0</td>\n",
       "      <td>-0.000028</td>\n",
       "      <td>3.562238</td>\n",
       "      <td>3.562238</td>\n",
       "      <td>3.574449</td>\n",
       "    </tr>\n",
       "    <tr>\n",
       "      <th>2462</th>\n",
       "      <td>2023-09-21 00:00:00+05:30</td>\n",
       "      <td>3585.300049</td>\n",
       "      <td>3605.000000</td>\n",
       "      <td>3528.000000</td>\n",
       "      <td>3588.550049</td>\n",
       "      <td>2004073</td>\n",
       "      <td>135.200301</td>\n",
       "      <td>72.652896</td>\n",
       "      <td>0.037470</td>\n",
       "      <td>-0.042208</td>\n",
       "      <td>...</td>\n",
       "      <td>0.044904</td>\n",
       "      <td>-1</td>\n",
       "      <td>1</td>\n",
       "      <td>1</td>\n",
       "      <td>-0.005754</td>\n",
       "      <td>1.0</td>\n",
       "      <td>-0.005754</td>\n",
       "      <td>3.535986</td>\n",
       "      <td>3.535986</td>\n",
       "      <td>3.548126</td>\n",
       "    </tr>\n",
       "    <tr>\n",
       "      <th>2463</th>\n",
       "      <td>2023-09-22 00:00:00+05:30</td>\n",
       "      <td>3603.649902</td>\n",
       "      <td>3633.750000</td>\n",
       "      <td>3565.050049</td>\n",
       "      <td>3584.000000</td>\n",
       "      <td>1988880</td>\n",
       "      <td>134.903977</td>\n",
       "      <td>81.591341</td>\n",
       "      <td>0.041097</td>\n",
       "      <td>0.286025</td>\n",
       "      <td>...</td>\n",
       "      <td>0.042631</td>\n",
       "      <td>-1</td>\n",
       "      <td>1</td>\n",
       "      <td>1</td>\n",
       "      <td>0.005118</td>\n",
       "      <td>1.0</td>\n",
       "      <td>0.005118</td>\n",
       "      <td>3.559201</td>\n",
       "      <td>3.559201</td>\n",
       "      <td>3.571404</td>\n",
       "    </tr>\n",
       "  </tbody>\n",
       "</table>\n",
       "<p>2463 rows × 87 columns</p>\n",
       "</div>"
      ],
      "text/plain": [
       "                          Date        close         high          low  \\\n",
       "1    2013-09-27 00:00:00+05:30   790.412537   980.974976   968.724976   \n",
       "2    2013-09-30 00:00:00+05:30   782.175964   980.924988   960.000000   \n",
       "3    2013-10-01 00:00:00+05:30   790.798157   977.424988   958.349976   \n",
       "4    2013-10-03 00:00:00+05:30   821.451294  1018.450012   980.200012   \n",
       "5    2013-10-04 00:00:00+05:30   825.103027  1034.500000  1013.474976   \n",
       "...                        ...          ...          ...          ...   \n",
       "2459 2023-09-15 00:00:00+05:30  3598.300049  3607.350098  3562.449951   \n",
       "2460 2023-09-18 00:00:00+05:30  3606.149902  3619.300049  3575.250000   \n",
       "2461 2023-09-20 00:00:00+05:30  3606.050049  3625.000000  3580.000000   \n",
       "2462 2023-09-21 00:00:00+05:30  3585.300049  3605.000000  3528.000000   \n",
       "2463 2023-09-22 00:00:00+05:30  3603.649902  3633.750000  3565.050049   \n",
       "\n",
       "             open   volume     AO_5_34  APO_12_26  BIAS_SMA_26        BOP  \\\n",
       "1      971.549988  1784666    0.000000   0.000000     0.000000 -14.786731   \n",
       "2      977.000000  1987350    0.000000   0.000000     0.000000  -9.310593   \n",
       "3      966.000000  1591994    0.000000   0.000000     0.000000  -9.184888   \n",
       "4      985.900024  4672354    0.000000   0.000000     0.000000  -4.299313   \n",
       "5     1016.000000  1934032    0.000000   0.000000     0.000000  -9.079513   \n",
       "...           ...      ...         ...        ...          ...        ...   \n",
       "2459  3567.850098  2952897  110.543236  36.636861     0.046552   0.678170   \n",
       "2460  3580.050049  1395753  130.942948  51.106408     0.046914   0.592505   \n",
       "2461  3580.000000  1649396  139.300017  63.962506     0.045050   0.578890   \n",
       "2462  3588.550049  2004073  135.200301  72.652896     0.037470  -0.042208   \n",
       "2463  3584.000000  1988880  134.903977  81.591341     0.041097   0.286025   \n",
       "\n",
       "      ...   Ret10_i  Output  Pred  Positions  Strat_ret  Positions_L  \\\n",
       "1     ...  0.000000       1     1          1        NaN          NaN   \n",
       "2     ...  0.000000       1     1          1  -0.010421          1.0   \n",
       "3     ...  0.000000       1     1          1   0.011023          1.0   \n",
       "4     ...  0.000000       1     1          1   0.038762          1.0   \n",
       "5     ...  0.000000       1     1          1   0.004445          1.0   \n",
       "...   ...       ...     ...   ...        ...        ...          ...   \n",
       "2459  ...  0.063478      -1     1          1   0.010744          1.0   \n",
       "2460  ...  0.054025      -1     1          1   0.002182          1.0   \n",
       "2461  ...  0.050822      -1     1          1  -0.000028          1.0   \n",
       "2462  ...  0.044904      -1     1          1  -0.005754          1.0   \n",
       "2463  ...  0.042631      -1     1          1   0.005118          1.0   \n",
       "\n",
       "      Strat_ret_L    CumRet  CumRet_L     bhRet  \n",
       "1             NaN       NaN       NaN  0.002676  \n",
       "2       -0.010421 -0.010421 -0.010421 -0.007772  \n",
       "3        0.011023  0.000488  0.000488  0.003166  \n",
       "4        0.038762  0.039269  0.039269  0.042051  \n",
       "5        0.004445  0.043889  0.043889  0.046683  \n",
       "...           ...       ...       ...       ...  \n",
       "2459     0.010744  3.552433  3.552433  3.564617  \n",
       "2460     0.002182  3.562364  3.562364  3.574575  \n",
       "2461    -0.000028  3.562238  3.562238  3.574449  \n",
       "2462    -0.005754  3.535986  3.535986  3.548126  \n",
       "2463     0.005118  3.559201  3.559201  3.571404  \n",
       "\n",
       "[2463 rows x 87 columns]"
      ]
     },
     "execution_count": 215,
     "metadata": {},
     "output_type": "execute_result"
    }
   ],
   "source": [
    "df"
   ]
  },
  {
   "cell_type": "code",
   "execution_count": 216,
   "id": "9d8ef64c",
   "metadata": {
    "scrolled": true
   },
   "outputs": [
    {
     "data": {
      "text/plain": [
       "1.1862792168369827"
      ]
     },
     "execution_count": 216,
     "metadata": {},
     "output_type": "execute_result"
    }
   ],
   "source": [
    "ret=df.CumRet_L\n",
    "ret.mean()/ret.std()"
   ]
  },
  {
   "cell_type": "code",
   "execution_count": 217,
   "id": "ac236f8b",
   "metadata": {},
   "outputs": [
    {
     "data": {
      "text/plain": [
       "1.1862792168369827"
      ]
     },
     "execution_count": 217,
     "metadata": {},
     "output_type": "execute_result"
    }
   ],
   "source": [
    "ret=df.CumRet\n",
    "ret.mean()/ret.std()"
   ]
  },
  {
   "cell_type": "code",
   "execution_count": 218,
   "id": "9aa8095b",
   "metadata": {},
   "outputs": [
    {
     "data": {
      "text/plain": [
       "1.1879588721611907"
      ]
     },
     "execution_count": 218,
     "metadata": {},
     "output_type": "execute_result"
    }
   ],
   "source": [
    "ret=df.bhRet\n",
    "ret.mean()/ret.std()"
   ]
  },
  {
   "cell_type": "code",
   "execution_count": null,
   "id": "81b49c10",
   "metadata": {},
   "outputs": [],
   "source": []
  }
 ],
 "metadata": {
  "kernelspec": {
   "display_name": "Python 3 (ipykernel)",
   "language": "python",
   "name": "python3"
  },
  "language_info": {
   "codemirror_mode": {
    "name": "ipython",
    "version": 3
   },
   "file_extension": ".py",
   "mimetype": "text/x-python",
   "name": "python",
   "nbconvert_exporter": "python",
   "pygments_lexer": "ipython3",
   "version": "3.10.11"
  }
 },
 "nbformat": 4,
 "nbformat_minor": 5
}
