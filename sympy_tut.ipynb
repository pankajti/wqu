{
 "cells": [
  {
   "cell_type": "code",
   "execution_count": 1,
   "id": "f96773d8",
   "metadata": {},
   "outputs": [],
   "source": [
    "import datetime\n",
    "\n",
    "import numpy as np\n",
    "import pandas_datareader.data as web\n",
    "from IPython.display import VimeoVideo"
   ]
  },
  {
   "cell_type": "code",
   "execution_count": 12,
   "id": "81a4304d",
   "metadata": {},
   "outputs": [],
   "source": [
    "from sympy import Symbol,integrate"
   ]
  },
  {
   "cell_type": "code",
   "execution_count": 5,
   "id": "8e10dad9",
   "metadata": {},
   "outputs": [],
   "source": [
    "x = Symbol('x')"
   ]
  },
  {
   "cell_type": "code",
   "execution_count": 10,
   "id": "8256149b",
   "metadata": {},
   "outputs": [
    {
     "data": {
      "text/latex": [
       "$\\displaystyle x^{2}$"
      ],
      "text/plain": [
       "x**2"
      ]
     },
     "execution_count": 10,
     "metadata": {},
     "output_type": "execute_result"
    }
   ],
   "source": [
    "x**2"
   ]
  },
  {
   "cell_type": "code",
   "execution_count": 13,
   "id": "1dee58d3",
   "metadata": {},
   "outputs": [
    {
     "data": {
      "text/latex": [
       "$\\displaystyle \\frac{x^{3}}{3}$"
      ],
      "text/plain": [
       "x**3/3"
      ]
     },
     "execution_count": 13,
     "metadata": {},
     "output_type": "execute_result"
    }
   ],
   "source": [
    "integrate(x**2 )"
   ]
  },
  {
   "cell_type": "code",
   "execution_count": 18,
   "id": "8d0074ed",
   "metadata": {},
   "outputs": [],
   "source": [
    "from sympy import Integral, sqrt"
   ]
  },
  {
   "cell_type": "code",
   "execution_count": 15,
   "id": "2ec6afae",
   "metadata": {},
   "outputs": [
    {
     "data": {
      "text/latex": [
       "$\\displaystyle \\int x^{2}\\, dx$"
      ],
      "text/plain": [
       "Integral(x**2, x)"
      ]
     },
     "execution_count": 15,
     "metadata": {},
     "output_type": "execute_result"
    }
   ],
   "source": [
    "Integral(x**2,x)"
   ]
  },
  {
   "cell_type": "code",
   "execution_count": 16,
   "id": "9e876ba2",
   "metadata": {},
   "outputs": [],
   "source": [
    "y = Symbol('y')"
   ]
  },
  {
   "cell_type": "code",
   "execution_count": 17,
   "id": "1b02611c",
   "metadata": {},
   "outputs": [
    {
     "data": {
      "text/latex": [
       "$\\displaystyle \\int x^{2}\\, dy$"
      ],
      "text/plain": [
       "Integral(x**2, y)"
      ]
     },
     "execution_count": 17,
     "metadata": {},
     "output_type": "execute_result"
    }
   ],
   "source": [
    "Integral(x**2,y)"
   ]
  },
  {
   "cell_type": "code",
   "execution_count": 19,
   "id": "c1875668",
   "metadata": {},
   "outputs": [
    {
     "data": {
      "text/latex": [
       "$\\displaystyle \\sqrt{x}$"
      ],
      "text/plain": [
       "sqrt(x)"
      ]
     },
     "execution_count": 19,
     "metadata": {},
     "output_type": "execute_result"
    }
   ],
   "source": [
    "sqrt(x)"
   ]
  },
  {
   "cell_type": "code",
   "execution_count": null,
   "id": "68109a66",
   "metadata": {},
   "outputs": [],
   "source": [
    "Integral(x**2,x)"
   ]
  },
  {
   "cell_type": "code",
   "execution_count": 20,
   "id": "8c5c3d70",
   "metadata": {},
   "outputs": [],
   "source": [
    "# start = datetime.date.today()-datetime.timedelta(365*10)\n",
    "# end = datetime.date.today()\n",
    "start = datetime.date(2011, 11, 25)\n",
    "end = datetime.date(2021, 11, 22)\n",
    "\n",
    "prices = web.DataReader([\"^GSPC\", \"^RUT\"], \"yahoo\", start, end)[\"Adj Close\"]\n",
    "\n",
    "# Rename column to make names more intuitive\n",
    "prices = prices.rename(columns={\"^GSPC\": \"SP500\", \"^RUT\": \"Russell2000\"})"
   ]
  },
  {
   "cell_type": "code",
   "execution_count": 21,
   "id": "c7b1710b",
   "metadata": {},
   "outputs": [
    {
     "data": {
      "text/html": [
       "<div>\n",
       "<style scoped>\n",
       "    .dataframe tbody tr th:only-of-type {\n",
       "        vertical-align: middle;\n",
       "    }\n",
       "\n",
       "    .dataframe tbody tr th {\n",
       "        vertical-align: top;\n",
       "    }\n",
       "\n",
       "    .dataframe thead th {\n",
       "        text-align: right;\n",
       "    }\n",
       "</style>\n",
       "<table border=\"1\" class=\"dataframe\">\n",
       "  <thead>\n",
       "    <tr style=\"text-align: right;\">\n",
       "      <th>Symbols</th>\n",
       "      <th>SP500</th>\n",
       "      <th>Russell2000</th>\n",
       "    </tr>\n",
       "    <tr>\n",
       "      <th>Date</th>\n",
       "      <th></th>\n",
       "      <th></th>\n",
       "    </tr>\n",
       "  </thead>\n",
       "  <tbody>\n",
       "    <tr>\n",
       "      <th>2011-11-25</th>\n",
       "      <td>1158.670044</td>\n",
       "      <td>666.159973</td>\n",
       "    </tr>\n",
       "    <tr>\n",
       "      <th>2011-11-28</th>\n",
       "      <td>1192.550049</td>\n",
       "      <td>697.900024</td>\n",
       "    </tr>\n",
       "    <tr>\n",
       "      <th>2011-11-29</th>\n",
       "      <td>1195.189941</td>\n",
       "      <td>696.099976</td>\n",
       "    </tr>\n",
       "    <tr>\n",
       "      <th>2011-11-30</th>\n",
       "      <td>1246.959961</td>\n",
       "      <td>737.419983</td>\n",
       "    </tr>\n",
       "    <tr>\n",
       "      <th>2011-12-01</th>\n",
       "      <td>1244.579956</td>\n",
       "      <td>730.750000</td>\n",
       "    </tr>\n",
       "    <tr>\n",
       "      <th>...</th>\n",
       "      <td>...</td>\n",
       "      <td>...</td>\n",
       "    </tr>\n",
       "    <tr>\n",
       "      <th>2021-11-16</th>\n",
       "      <td>4700.899902</td>\n",
       "      <td>2405.020020</td>\n",
       "    </tr>\n",
       "    <tr>\n",
       "      <th>2021-11-17</th>\n",
       "      <td>4688.669922</td>\n",
       "      <td>2377.010010</td>\n",
       "    </tr>\n",
       "    <tr>\n",
       "      <th>2021-11-18</th>\n",
       "      <td>4704.540039</td>\n",
       "      <td>2363.590088</td>\n",
       "    </tr>\n",
       "    <tr>\n",
       "      <th>2021-11-19</th>\n",
       "      <td>4697.959961</td>\n",
       "      <td>2343.159912</td>\n",
       "    </tr>\n",
       "    <tr>\n",
       "      <th>2021-11-22</th>\n",
       "      <td>4682.939941</td>\n",
       "      <td>2331.350098</td>\n",
       "    </tr>\n",
       "  </tbody>\n",
       "</table>\n",
       "<p>2515 rows × 2 columns</p>\n",
       "</div>"
      ],
      "text/plain": [
       "Symbols           SP500  Russell2000\n",
       "Date                                \n",
       "2011-11-25  1158.670044   666.159973\n",
       "2011-11-28  1192.550049   697.900024\n",
       "2011-11-29  1195.189941   696.099976\n",
       "2011-11-30  1246.959961   737.419983\n",
       "2011-12-01  1244.579956   730.750000\n",
       "...                 ...          ...\n",
       "2021-11-16  4700.899902  2405.020020\n",
       "2021-11-17  4688.669922  2377.010010\n",
       "2021-11-18  4704.540039  2363.590088\n",
       "2021-11-19  4697.959961  2343.159912\n",
       "2021-11-22  4682.939941  2331.350098\n",
       "\n",
       "[2515 rows x 2 columns]"
      ]
     },
     "execution_count": 21,
     "metadata": {},
     "output_type": "execute_result"
    }
   ],
   "source": [
    "prices"
   ]
  },
  {
   "cell_type": "code",
   "execution_count": null,
   "id": "c27eaffd",
   "metadata": {},
   "outputs": [],
   "source": []
  }
 ],
 "metadata": {
  "kernelspec": {
   "display_name": "Python 3 (ipykernel)",
   "language": "python",
   "name": "python3"
  },
  "language_info": {
   "codemirror_mode": {
    "name": "ipython",
    "version": 3
   },
   "file_extension": ".py",
   "mimetype": "text/x-python",
   "name": "python",
   "nbconvert_exporter": "python",
   "pygments_lexer": "ipython3",
   "version": "3.9.12"
  }
 },
 "nbformat": 4,
 "nbformat_minor": 5
}
