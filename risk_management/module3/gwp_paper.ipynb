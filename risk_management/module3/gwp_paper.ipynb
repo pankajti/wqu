{
 "cells": [
  {
   "cell_type": "code",
   "execution_count": 2,
   "id": "55ed924f-69a8-42c9-abd9-d2aaa6fc4115",
   "metadata": {},
   "outputs": [],
   "source": []
  },
  {
   "cell_type": "code",
   "execution_count": 32,
   "id": "291943fe-33f3-42f6-8ef1-89c85fafd3f9",
   "metadata": {},
   "outputs": [],
   "source": [
    "import pandas as pd\n",
    "import numpy as np\n",
    "eia_key = r'KhUGeRcdKwP8WpygPCSDasWyaRburTqyE9er7aUN'\n",
    "import requests"
   ]
  },
  {
   "cell_type": "code",
   "execution_count": null,
   "id": "9444f9f4-58d8-4ecc-95c9-5f5ce1437893",
   "metadata": {},
   "outputs": [],
   "source": [
    "production_data = "
   ]
  },
  {
   "cell_type": "code",
   "execution_count": 34,
   "id": "724be1d9-1788-4d8d-829e-5d5469db2af3",
   "metadata": {},
   "outputs": [],
   "source": [
    "prod_data = requests.get(r'https://api.eia.gov/v2/petroleum/crd/crpdn/data/?frequency=monthly&data[0]=value&start=2023-01&sort[0][column]=period&sort[0][direction]=desc&offset=0&length=5000&api_key={}'.format(eia_key))"
   ]
  },
  {
   "cell_type": "code",
   "execution_count": 40,
   "id": "b55278b3-2da4-4297-b2ff-e76508762afe",
   "metadata": {},
   "outputs": [],
   "source": [
    "prod_data_df = pd.DataFrame(peod_data.json()['response']['data'])"
   ]
  },
  {
   "cell_type": "code",
   "execution_count": 4,
   "id": "f32ea148-1032-4a6a-8fee-30f507f2ed0a",
   "metadata": {},
   "outputs": [],
   "source": [
    "import eia\n",
    "# the API key we recieved from EIA\n",
    "# Initiates a session with the EIA datacenter to recieve datasets\n",
    "eia_api = eia.API(eia_key)"
   ]
  },
  {
   "cell_type": "code",
   "execution_count": 5,
   "id": "a3195ec2-b6a4-401f-b819-ab309bd62c5b",
   "metadata": {
    "scrolled": true
   },
   "outputs": [
    {
     "ename": "KeyError",
     "evalue": "'series'",
     "output_type": "error",
     "traceback": [
      "\u001b[0;31m---------------------------------------------------------------------------\u001b[0m",
      "\u001b[0;31mKeyError\u001b[0m                                  Traceback (most recent call last)",
      "Cell \u001b[0;32mIn[5], line 1\u001b[0m\n\u001b[0;32m----> 1\u001b[0m eia_data \u001b[38;5;241m=\u001b[39m pd\u001b[38;5;241m.\u001b[39mDataFrame(eia_api\u001b[38;5;241m.\u001b[39mdata_by_series(series\u001b[38;5;241m=\u001b[39m\u001b[38;5;124m'\u001b[39m\u001b[38;5;124mTOTAL.COEXPUS.M\u001b[39m\u001b[38;5;124m'\u001b[39m))\n",
      "File \u001b[0;32m~/anaconda3/envs/vitmantra/lib/python3.11/site-packages/eia/api.py:424\u001b[0m, in \u001b[0;36mAPI.data_by_series\u001b[0;34m(self, series)\u001b[0m\n\u001b[1;32m    420\u001b[0m         \u001b[38;5;28;01mraise\u001b[39;00m InvalidSeries(error_msg)\n\u001b[1;32m    422\u001b[0m \u001b[38;5;28;01melse\u001b[39;00m:\n\u001b[1;32m    423\u001b[0m     lst_dates \u001b[38;5;241m=\u001b[39m [x[\u001b[38;5;241m0\u001b[39m][\u001b[38;5;241m0\u001b[39m:\u001b[38;5;241m4\u001b[39m] \u001b[38;5;241m+\u001b[39m \u001b[38;5;124m\"\u001b[39m\u001b[38;5;124m \u001b[39m\u001b[38;5;124m\"\u001b[39m \u001b[38;5;241m+\u001b[39m x[\u001b[38;5;241m0\u001b[39m][\u001b[38;5;241m4\u001b[39m:] \u001b[38;5;241m+\u001b[39m \u001b[38;5;124m\"\u001b[39m\u001b[38;5;124m \u001b[39m\u001b[38;5;124m\"\u001b[39m \u001b[38;5;241m+\u001b[39m x[\u001b[38;5;241m0\u001b[39m][\u001b[38;5;241m6\u001b[39m:\u001b[38;5;241m8\u001b[39m]\n\u001b[0;32m--> 424\u001b[0m                  \u001b[38;5;28;01mfor\u001b[39;00m x \u001b[38;5;129;01min\u001b[39;00m search\u001b[38;5;241m.\u001b[39mjson()[\u001b[38;5;124m'\u001b[39m\u001b[38;5;124mseries\u001b[39m\u001b[38;5;124m'\u001b[39m][\u001b[38;5;241m0\u001b[39m][\u001b[38;5;124m'\u001b[39m\u001b[38;5;124mdata\u001b[39m\u001b[38;5;124m'\u001b[39m]]\n\u001b[1;32m    425\u001b[0m     lst_values \u001b[38;5;241m=\u001b[39m [x[\u001b[38;5;241m1\u001b[39m] \u001b[38;5;28;01mfor\u001b[39;00m x \u001b[38;5;129;01min\u001b[39;00m\n\u001b[1;32m    426\u001b[0m                   search\u001b[38;5;241m.\u001b[39mjson()[\u001b[38;5;124m'\u001b[39m\u001b[38;5;124mseries\u001b[39m\u001b[38;5;124m'\u001b[39m][\u001b[38;5;241m0\u001b[39m][\u001b[38;5;124m'\u001b[39m\u001b[38;5;124mdata\u001b[39m\u001b[38;5;124m'\u001b[39m]]\n\u001b[1;32m    427\u001b[0m     dates_values_dict \u001b[38;5;241m=\u001b[39m \u001b[38;5;28mdict\u001b[39m(\u001b[38;5;28mzip\u001b[39m(lst_dates, lst_values))\n",
      "\u001b[0;31mKeyError\u001b[0m: 'series'"
     ]
    }
   ],
   "source": [
    "eia_data = pd.DataFrame(eia_api.data_by_series(series='TOTAL.COEXPUS.M'));"
   ]
  },
  {
   "cell_type": "code",
   "execution_count": 7,
   "id": "96d889ef-68ff-43e0-9647-29e2136e758a",
   "metadata": {},
   "outputs": [],
   "source": [
    "from fredapi import Fred\n",
    "# FRED API key\n",
    "fred_key = r'484b16395bfa70e86d649f7d42dc1d4b'\n",
    "# Initiates a session with the FRED datacenter to recieve datasets\n",
    "fred = Fred(api_key=fred_key);\n",
    "# Retrieve data from FRED API\n",
    "fred_data = pd.DataFrame(fred.get_series('WTISPLC'), columns=['WTISPLC']);"
   ]
  },
  {
   "cell_type": "code",
   "execution_count": 8,
   "id": "f293a90d-4d87-4db1-b71b-34937ac379fa",
   "metadata": {},
   "outputs": [
    {
     "data": {
      "text/html": [
       "<div>\n",
       "<style scoped>\n",
       "    .dataframe tbody tr th:only-of-type {\n",
       "        vertical-align: middle;\n",
       "    }\n",
       "\n",
       "    .dataframe tbody tr th {\n",
       "        vertical-align: top;\n",
       "    }\n",
       "\n",
       "    .dataframe thead th {\n",
       "        text-align: right;\n",
       "    }\n",
       "</style>\n",
       "<table border=\"1\" class=\"dataframe\">\n",
       "  <thead>\n",
       "    <tr style=\"text-align: right;\">\n",
       "      <th></th>\n",
       "      <th>WTISPLC</th>\n",
       "    </tr>\n",
       "  </thead>\n",
       "  <tbody>\n",
       "    <tr>\n",
       "      <th>1946-01-01</th>\n",
       "      <td>1.17</td>\n",
       "    </tr>\n",
       "    <tr>\n",
       "      <th>1946-02-01</th>\n",
       "      <td>1.17</td>\n",
       "    </tr>\n",
       "    <tr>\n",
       "      <th>1946-03-01</th>\n",
       "      <td>1.17</td>\n",
       "    </tr>\n",
       "    <tr>\n",
       "      <th>1946-04-01</th>\n",
       "      <td>1.27</td>\n",
       "    </tr>\n",
       "    <tr>\n",
       "      <th>1946-05-01</th>\n",
       "      <td>1.27</td>\n",
       "    </tr>\n",
       "    <tr>\n",
       "      <th>...</th>\n",
       "      <td>...</td>\n",
       "    </tr>\n",
       "    <tr>\n",
       "      <th>2023-08-01</th>\n",
       "      <td>81.39</td>\n",
       "    </tr>\n",
       "    <tr>\n",
       "      <th>2023-09-01</th>\n",
       "      <td>89.43</td>\n",
       "    </tr>\n",
       "    <tr>\n",
       "      <th>2023-10-01</th>\n",
       "      <td>85.64</td>\n",
       "    </tr>\n",
       "    <tr>\n",
       "      <th>2023-11-01</th>\n",
       "      <td>77.69</td>\n",
       "    </tr>\n",
       "    <tr>\n",
       "      <th>2023-12-01</th>\n",
       "      <td>71.90</td>\n",
       "    </tr>\n",
       "  </tbody>\n",
       "</table>\n",
       "<p>936 rows × 1 columns</p>\n",
       "</div>"
      ],
      "text/plain": [
       "            WTISPLC\n",
       "1946-01-01     1.17\n",
       "1946-02-01     1.17\n",
       "1946-03-01     1.17\n",
       "1946-04-01     1.27\n",
       "1946-05-01     1.27\n",
       "...             ...\n",
       "2023-08-01    81.39\n",
       "2023-09-01    89.43\n",
       "2023-10-01    85.64\n",
       "2023-11-01    77.69\n",
       "2023-12-01    71.90\n",
       "\n",
       "[936 rows x 1 columns]"
      ]
     },
     "execution_count": 8,
     "metadata": {},
     "output_type": "execute_result"
    }
   ],
   "source": [
    "fred_data"
   ]
  },
  {
   "cell_type": "code",
   "execution_count": 9,
   "id": "44f20c76-87ae-4ff6-95eb-a40693b16816",
   "metadata": {},
   "outputs": [],
   "source": []
  },
  {
   "cell_type": "code",
   "execution_count": 16,
   "id": "9047484a-6ea1-4afb-8412-7b0fc48d6049",
   "metadata": {},
   "outputs": [],
   "source": [
    "price = fred_data['WTISPLC']\n",
    "price_diff = price.diff()[1:];\n",
    "# Replacing the change with 1 if positive, else 0\n"
   ]
  },
  {
   "cell_type": "code",
   "execution_count": 17,
   "id": "53498d55-7605-4694-b0de-fa939c19e7e3",
   "metadata": {},
   "outputs": [],
   "source": [
    "e_seq = np.array(price_diff.apply(lambda x: 1 if x > 0 else 0).values);"
   ]
  },
  {
   "cell_type": "code",
   "execution_count": 18,
   "id": "464524d0-5378-4e24-a029-b04ed6ed0c92",
   "metadata": {},
   "outputs": [],
   "source": [
    "import hmms\n",
    "dhmm_r = hmms.DtHMM.random(3 , 2);\n",
    "e_seq = np.array_split(e_seq, 32);\n",
    "dhmm_r.baum_welch(e_seq, 100);\n",
    "hmms.print_parameters( dhmm_r );\n",
    "( log_prob, s_seq ) = dhmm_r.viterbi(np.concatenate(e_seq).ravel());"
   ]
  },
  {
   "cell_type": "code",
   "execution_count": 19,
   "id": "a2dd53a7-3be2-4d86-8974-66fae1a3481d",
   "metadata": {},
   "outputs": [],
   "source": []
  },
  {
   "cell_type": "code",
   "execution_count": 20,
   "id": "4de67b9d-37a1-418a-8347-aa6e47913d00",
   "metadata": {
    "scrolled": true
   },
   "outputs": [
    {
     "name": "stdout",
     "output_type": "stream",
     "text": [
      "iteration  1 / 100\n",
      "iteration  2 / 100\n",
      "iteration  3 / 100\n",
      "iteration  4 / 100\n",
      "iteration  5 / 100\n",
      "iteration  6 / 100\n",
      "iteration  7 / 100\n",
      "iteration  8 / 100\n",
      "iteration  9 / 100\n",
      "iteration  10 / 100\n",
      "iteration  11 / 100\n",
      "iteration  12 / 100\n",
      "iteration  13 / 100\n",
      "iteration  14 / 100\n",
      "iteration  15 / 100\n",
      "iteration  16 / 100\n",
      "iteration  17 / 100\n",
      "iteration  18 / 100\n",
      "iteration  19 / 100\n",
      "iteration  20 / 100\n",
      "iteration  21 / 100\n",
      "iteration  22 / 100\n",
      "iteration  23 / 100\n",
      "iteration  24 / 100\n",
      "iteration  25 / 100\n",
      "iteration  26 / 100\n",
      "iteration  27 / 100\n",
      "iteration  28 / 100\n",
      "iteration  29 / 100\n",
      "iteration  30 / 100\n",
      "iteration  31 / 100\n",
      "iteration  32 / 100\n",
      "iteration  33 / 100\n",
      "iteration  34 / 100\n",
      "iteration  35 / 100\n",
      "iteration  36 / 100\n",
      "iteration  37 / 100\n",
      "iteration  38 / 100\n",
      "iteration  39 / 100\n",
      "iteration  40 / 100\n",
      "iteration  41 / 100\n",
      "iteration  42 / 100\n",
      "iteration  43 / 100\n",
      "iteration  44 / 100\n",
      "iteration  45 / 100\n",
      "iteration  46 / 100\n",
      "iteration  47 / 100\n",
      "iteration  48 / 100\n",
      "iteration  49 / 100\n",
      "iteration  50 / 100\n",
      "iteration  51 / 100\n",
      "iteration  52 / 100\n",
      "iteration  53 / 100\n",
      "iteration  54 / 100\n",
      "iteration  55 / 100\n",
      "iteration  56 / 100\n",
      "iteration  57 / 100\n",
      "iteration  58 / 100\n",
      "iteration  59 / 100\n",
      "iteration  60 / 100\n",
      "iteration  61 / 100\n",
      "iteration  62 / 100\n",
      "iteration  63 / 100\n",
      "iteration  64 / 100\n",
      "iteration  65 / 100\n",
      "iteration  66 / 100\n",
      "iteration  67 / 100\n",
      "iteration  68 / 100\n",
      "iteration  69 / 100\n",
      "iteration  70 / 100\n",
      "iteration  71 / 100\n",
      "iteration  72 / 100\n",
      "iteration  73 / 100\n",
      "iteration  74 / 100\n",
      "iteration  75 / 100\n",
      "iteration  76 / 100\n",
      "iteration  77 / 100\n",
      "iteration  78 / 100\n",
      "iteration  79 / 100\n",
      "iteration  80 / 100\n",
      "iteration  81 / 100\n",
      "iteration  82 / 100\n",
      "iteration  83 / 100\n",
      "iteration  84 / 100\n",
      "iteration  85 / 100\n",
      "iteration  86 / 100\n",
      "iteration  87 / 100\n",
      "iteration  88 / 100\n",
      "iteration  89 / 100\n",
      "iteration  90 / 100\n",
      "iteration  91 / 100\n",
      "iteration  92 / 100\n",
      "iteration  93 / 100\n",
      "iteration  94 / 100\n",
      "iteration  95 / 100\n",
      "iteration  96 / 100\n",
      "iteration  97 / 100\n",
      "iteration  98 / 100\n",
      "iteration  99 / 100\n",
      "iteration  100 / 100\n"
     ]
    }
   ],
   "source": []
  },
  {
   "cell_type": "code",
   "execution_count": 22,
   "id": "83af2721-4d7f-4d55-af36-1ca26b5076a4",
   "metadata": {
    "scrolled": true
   },
   "outputs": [
    {
     "name": "stdout",
     "output_type": "stream",
     "text": [
      "Initial probabilities (π) :\n"
     ]
    },
    {
     "data": {
      "text/html": [
       "<div>\n",
       "<style scoped>\n",
       "    .dataframe tbody tr th:only-of-type {\n",
       "        vertical-align: middle;\n",
       "    }\n",
       "\n",
       "    .dataframe tbody tr th {\n",
       "        vertical-align: top;\n",
       "    }\n",
       "\n",
       "    .dataframe thead th {\n",
       "        text-align: right;\n",
       "    }\n",
       "</style>\n",
       "<table border=\"1\" class=\"dataframe\">\n",
       "  <thead>\n",
       "    <tr style=\"text-align: right;\">\n",
       "      <th></th>\n",
       "      <th>0</th>\n",
       "    </tr>\n",
       "  </thead>\n",
       "  <tbody>\n",
       "    <tr>\n",
       "      <th>0</th>\n",
       "      <td>0.491971</td>\n",
       "    </tr>\n",
       "    <tr>\n",
       "      <th>1</th>\n",
       "      <td>0.017999</td>\n",
       "    </tr>\n",
       "    <tr>\n",
       "      <th>2</th>\n",
       "      <td>0.490030</td>\n",
       "    </tr>\n",
       "  </tbody>\n",
       "</table>\n",
       "</div>"
      ],
      "text/plain": [
       "          0\n",
       "0  0.491971\n",
       "1  0.017999\n",
       "2  0.490030"
      ]
     },
     "metadata": {},
     "output_type": "display_data"
    },
    {
     "name": "stdout",
     "output_type": "stream",
     "text": [
      "Transition probabilities matrix (A):\n"
     ]
    },
    {
     "data": {
      "text/html": [
       "<div>\n",
       "<style scoped>\n",
       "    .dataframe tbody tr th:only-of-type {\n",
       "        vertical-align: middle;\n",
       "    }\n",
       "\n",
       "    .dataframe tbody tr th {\n",
       "        vertical-align: top;\n",
       "    }\n",
       "\n",
       "    .dataframe thead th {\n",
       "        text-align: right;\n",
       "    }\n",
       "</style>\n",
       "<table border=\"1\" class=\"dataframe\">\n",
       "  <thead>\n",
       "    <tr style=\"text-align: right;\">\n",
       "      <th></th>\n",
       "      <th>0</th>\n",
       "      <th>1</th>\n",
       "      <th>2</th>\n",
       "    </tr>\n",
       "  </thead>\n",
       "  <tbody>\n",
       "    <tr>\n",
       "      <th>0</th>\n",
       "      <td>9.931315e-01</td>\n",
       "      <td>0.006489</td>\n",
       "      <td>0.000379</td>\n",
       "    </tr>\n",
       "    <tr>\n",
       "      <th>1</th>\n",
       "      <td>8.572887e-30</td>\n",
       "      <td>0.144108</td>\n",
       "      <td>0.855892</td>\n",
       "    </tr>\n",
       "    <tr>\n",
       "      <th>2</th>\n",
       "      <td>1.414822e-33</td>\n",
       "      <td>0.126032</td>\n",
       "      <td>0.873968</td>\n",
       "    </tr>\n",
       "  </tbody>\n",
       "</table>\n",
       "</div>"
      ],
      "text/plain": [
       "              0         1         2\n",
       "0  9.931315e-01  0.006489  0.000379\n",
       "1  8.572887e-30  0.144108  0.855892\n",
       "2  1.414822e-33  0.126032  0.873968"
      ]
     },
     "metadata": {},
     "output_type": "display_data"
    },
    {
     "name": "stdout",
     "output_type": "stream",
     "text": [
      "Emission probabilities matrix (B):\n"
     ]
    },
    {
     "data": {
      "text/html": [
       "<div>\n",
       "<style scoped>\n",
       "    .dataframe tbody tr th:only-of-type {\n",
       "        vertical-align: middle;\n",
       "    }\n",
       "\n",
       "    .dataframe tbody tr th {\n",
       "        vertical-align: top;\n",
       "    }\n",
       "\n",
       "    .dataframe thead th {\n",
       "        text-align: right;\n",
       "    }\n",
       "</style>\n",
       "<table border=\"1\" class=\"dataframe\">\n",
       "  <thead>\n",
       "    <tr style=\"text-align: right;\">\n",
       "      <th></th>\n",
       "      <th>0</th>\n",
       "      <th>1</th>\n",
       "    </tr>\n",
       "  </thead>\n",
       "  <tbody>\n",
       "    <tr>\n",
       "      <th>0</th>\n",
       "      <td>0.935299</td>\n",
       "      <td>0.064701</td>\n",
       "    </tr>\n",
       "    <tr>\n",
       "      <th>1</th>\n",
       "      <td>0.582353</td>\n",
       "      <td>0.417647</td>\n",
       "    </tr>\n",
       "    <tr>\n",
       "      <th>2</th>\n",
       "      <td>0.419897</td>\n",
       "      <td>0.580103</td>\n",
       "    </tr>\n",
       "  </tbody>\n",
       "</table>\n",
       "</div>"
      ],
      "text/plain": [
       "          0         1\n",
       "0  0.935299  0.064701\n",
       "1  0.582353  0.417647\n",
       "2  0.419897  0.580103"
      ]
     },
     "metadata": {},
     "output_type": "display_data"
    }
   ],
   "source": []
  },
  {
   "cell_type": "code",
   "execution_count": 27,
   "id": "f67b78ab-ab2f-4ab9-afd8-2046ee907f6f",
   "metadata": {},
   "outputs": [],
   "source": [
    "#np.concatenate(e_seq).ravel()"
   ]
  },
  {
   "cell_type": "code",
   "execution_count": 28,
   "id": "da6fafb6-3e00-457b-8010-b98fdf644b5c",
   "metadata": {
    "scrolled": true
   },
   "outputs": [
    {
     "ename": "AttributeError",
     "evalue": "module 'numpy' has no attribute 'int'.\n`np.int` was a deprecated alias for the builtin `int`. To avoid this error in existing code, use `int` by itself. Doing this will not modify any behavior and is safe. When replacing `np.int`, you may wish to use e.g. `np.int64` or `np.int32` to specify the precision. If you wish to review your current use, check the release note link for additional information.\nThe aliases was originally deprecated in NumPy 1.20; for more details and guidance see the original release note at:\n    https://numpy.org/devdocs/release/1.20.0-notes.html#deprecations",
     "output_type": "error",
     "traceback": [
      "\u001b[0;31m---------------------------------------------------------------------------\u001b[0m",
      "\u001b[0;31mAttributeError\u001b[0m                            Traceback (most recent call last)",
      "Cell \u001b[0;32mIn[28], line 1\u001b[0m\n\u001b[0;32m----> 1\u001b[0m ( log_prob, s_seq ) \u001b[38;5;241m=\u001b[39m dhmm_r\u001b[38;5;241m.\u001b[39mviterbi(np\u001b[38;5;241m.\u001b[39mconcatenate(e_seq)\u001b[38;5;241m.\u001b[39mravel())\n",
      "File \u001b[0;32mhmms/dthmm.pyx:239\u001b[0m, in \u001b[0;36mhmms.dthmm.DtHMM.viterbi\u001b[0;34m()\u001b[0m\n",
      "File \u001b[0;32mhmms/dthmm.pyx:262\u001b[0m, in \u001b[0;36mhmms.dthmm.DtHMM.viterbi\u001b[0;34m()\u001b[0m\n",
      "File \u001b[0;32m~/anaconda3/envs/vitmantra/lib/python3.11/site-packages/numpy/__init__.py:324\u001b[0m, in \u001b[0;36m__getattr__\u001b[0;34m(attr)\u001b[0m\n\u001b[1;32m    319\u001b[0m     warnings\u001b[38;5;241m.\u001b[39mwarn(\n\u001b[1;32m    320\u001b[0m         \u001b[38;5;124mf\u001b[39m\u001b[38;5;124m\"\u001b[39m\u001b[38;5;124mIn the future `np.\u001b[39m\u001b[38;5;132;01m{\u001b[39;00mattr\u001b[38;5;132;01m}\u001b[39;00m\u001b[38;5;124m` will be defined as the \u001b[39m\u001b[38;5;124m\"\u001b[39m\n\u001b[1;32m    321\u001b[0m         \u001b[38;5;124m\"\u001b[39m\u001b[38;5;124mcorresponding NumPy scalar.\u001b[39m\u001b[38;5;124m\"\u001b[39m, \u001b[38;5;167;01mFutureWarning\u001b[39;00m, stacklevel\u001b[38;5;241m=\u001b[39m\u001b[38;5;241m2\u001b[39m)\n\u001b[1;32m    323\u001b[0m \u001b[38;5;28;01mif\u001b[39;00m attr \u001b[38;5;129;01min\u001b[39;00m __former_attrs__:\n\u001b[0;32m--> 324\u001b[0m     \u001b[38;5;28;01mraise\u001b[39;00m \u001b[38;5;167;01mAttributeError\u001b[39;00m(__former_attrs__[attr])\n\u001b[1;32m    326\u001b[0m \u001b[38;5;28;01mif\u001b[39;00m attr \u001b[38;5;241m==\u001b[39m \u001b[38;5;124m'\u001b[39m\u001b[38;5;124mtesting\u001b[39m\u001b[38;5;124m'\u001b[39m:\n\u001b[1;32m    327\u001b[0m     \u001b[38;5;28;01mimport\u001b[39;00m \u001b[38;5;21;01mnumpy\u001b[39;00m\u001b[38;5;21;01m.\u001b[39;00m\u001b[38;5;21;01mtesting\u001b[39;00m \u001b[38;5;28;01mas\u001b[39;00m \u001b[38;5;21;01mtesting\u001b[39;00m\n",
      "\u001b[0;31mAttributeError\u001b[0m: module 'numpy' has no attribute 'int'.\n`np.int` was a deprecated alias for the builtin `int`. To avoid this error in existing code, use `int` by itself. Doing this will not modify any behavior and is safe. When replacing `np.int`, you may wish to use e.g. `np.int64` or `np.int32` to specify the precision. If you wish to review your current use, check the release note link for additional information.\nThe aliases was originally deprecated in NumPy 1.20; for more details and guidance see the original release note at:\n    https://numpy.org/devdocs/release/1.20.0-notes.html#deprecations"
     ]
    }
   ],
   "source": []
  },
  {
   "cell_type": "code",
   "execution_count": 29,
   "id": "21a83393-d85a-4c85-abd5-23c7732b9fed",
   "metadata": {
    "scrolled": true
   },
   "outputs": [
    {
     "ename": "NameError",
     "evalue": "name 's_seq' is not defined",
     "output_type": "error",
     "traceback": [
      "\u001b[0;31m---------------------------------------------------------------------------\u001b[0m",
      "\u001b[0;31mNameError\u001b[0m                                 Traceback (most recent call last)",
      "Cell \u001b[0;32mIn[29], line 3\u001b[0m\n\u001b[1;32m      1\u001b[0m price_plot \u001b[38;5;241m=\u001b[39m pd\u001b[38;5;241m.\u001b[39mDataFrame(price[\u001b[38;5;241m1\u001b[39m:], index\u001b[38;5;241m=\u001b[39mprice[\u001b[38;5;241m1\u001b[39m:]\u001b[38;5;241m.\u001b[39mindex);\n\u001b[1;32m      2\u001b[0m \u001b[38;5;66;03m# Add a column representing the regime\u001b[39;00m\n\u001b[0;32m----> 3\u001b[0m price_plot[\u001b[38;5;124m'\u001b[39m\u001b[38;5;124mRegime\u001b[39m\u001b[38;5;124m'\u001b[39m] \u001b[38;5;241m=\u001b[39m s_seq;\n\u001b[1;32m      4\u001b[0m \u001b[38;5;66;03m# Add a column representing the increase or decrease in price\u001b[39;00m\n\u001b[1;32m      5\u001b[0m price_plot[\u001b[38;5;124m'\u001b[39m\u001b[38;5;124mdiff\u001b[39m\u001b[38;5;124m'\u001b[39m] \u001b[38;5;241m=\u001b[39m price_diff\n",
      "\u001b[0;31mNameError\u001b[0m: name 's_seq' is not defined"
     ]
    }
   ],
   "source": [
    "price_plot = pd.DataFrame(price[1:], index=price[1:].index);\n",
    "# Add a column representing the regime\n",
    "price_plot['Regime'] = s_seq;\n",
    "# Add a column representing the increase or decrease in price\n",
    "price_plot['diff'] = price_diff;"
   ]
  },
  {
   "cell_type": "code",
   "execution_count": null,
   "id": "79442b83-d890-4635-abf3-7436f98788cf",
   "metadata": {},
   "outputs": [],
   "source": [
    "hmms.print_parameters( dhmm_r );\n",
    "( log_prob, s_seq ) = dhmm_r.viterbi(np.concatenate(e_seq).ravel());"
   ]
  }
 ],
 "metadata": {
  "kernelspec": {
   "display_name": "Python 3 (ipykernel)",
   "language": "python",
   "name": "python3"
  },
  "language_info": {
   "codemirror_mode": {
    "name": "ipython",
    "version": 3
   },
   "file_extension": ".py",
   "mimetype": "text/x-python",
   "name": "python",
   "nbconvert_exporter": "python",
   "pygments_lexer": "ipython3",
   "version": "3.11.5"
  }
 },
 "nbformat": 4,
 "nbformat_minor": 5
}
