{
 "cells": [
  {
   "cell_type": "code",
   "execution_count": null,
   "id": "b7328f24-ce1d-4abb-8cb0-421803cd5f75",
   "metadata": {},
   "outputs": [],
   "source": [
    " Cross-Sectional Measures"
   ]
  },
  {
   "cell_type": "code",
   "execution_count": 15,
   "id": "0dd06d98-101f-4c39-87db-325bbb34d434",
   "metadata": {},
   "outputs": [],
   "source": [
    "import numpy as np\n",
    "class MarginalExpectedShortfall:\n",
    "    def __init__(self, firm_returns: np.ndarray, market_returns: np.ndarray) -> None:\n",
    "        assert firm_returns.shape == market_returns.shape\n",
    "        self.firm_returns = firm_returns\n",
    "        self.market_returns = market_returns\n",
    "\n",
    "    def estimate(self, q: float = 0.05) -> float:\n",
    "        low_threshold = np.percentile(self.market_returns, q * 100)\n",
    "        worst_days = np.argwhere(self.market_returns < low_threshold)\n",
    "        return np.mean(self.firm_returns[worst_days])"
   ]
  },
  {
   "cell_type": "code",
   "execution_count": 19,
   "id": "7e92ac96-2e3c-40ef-99e5-a817ca837523",
   "metadata": {},
   "outputs": [],
   "source": [
    "import numpy as np\n",
    "class SystemicExpectedShortfall:\n",
    "    def __init__(\n",
    "        self,\n",
    "        mes_training_sample: np.ndarray,\n",
    "        lvg_training_sample: np.ndarray,\n",
    "        ses_training_sample: np.ndarray,\n",
    "        mes_firm: float,\n",
    "        lvg_firm: float,\n",
    "    ) -> None:\n",
    "        self.mes = mes_training_sample\n",
    "        self.lvg = lvg_training_sample\n",
    "        self.ses = ses_training_sample\n",
    "        self.mes_firm = mes_firm\n",
    "        self.lvg_firm = lvg_firm\n",
    "\n",
    "    def estimate(self) -> float:\n",
    "        n_firms = self.mes.shape\n",
    "\n",
    "        data = np.vstack([np.ones(n_firms), self.mes, self.lvg]).T\n",
    "        betas = np.linalg.lstsq(data, self.ses, rcond=None)[0]\n",
    "        _, b, c = betas\n",
    "        ses = (b * self.mes_firm + c * self.lvg_firm) / (b + c)\n",
    "        return ses"
   ]
  },
  {
   "cell_type": "code",
   "execution_count": 20,
   "id": "770a18f4-180d-4e95-86ae-e7389b4850cb",
   "metadata": {},
   "outputs": [
    {
     "data": {
      "text/plain": [
       "-0.3334075723830676"
      ]
     },
     "execution_count": 20,
     "metadata": {},
     "output_type": "execute_result"
    }
   ],
   "source": [
    "import numpy as np\n",
    "mes_training_sample = np.array([-0.023, -0.07, 0.01])\n",
    "lvg_training_sample = np.array([1.8, 1.5, 2.2])\n",
    "ses_training_sample = np.array([0.3, 0.4, -0.2])\n",
    "mes_firm = 0.04\n",
    "lvg_firm = 1.7\n",
    "ses = SystemicExpectedShortfall(mes_training_sample, lvg_training_sample, ses_training_sample, mes_firm, lvg_firm)\n",
    "ses.estimate()\n"
   ]
  },
  {
   "cell_type": "code",
   "execution_count": 21,
   "id": "60532c9f-76ab-4870-ac93-bb72540e3c2c",
   "metadata": {},
   "outputs": [
    {
     "data": {
      "text/plain": [
       "0.13494025343324562"
      ]
     },
     "execution_count": 21,
     "metadata": {},
     "output_type": "execute_result"
    }
   ],
   "source": [
    "from numpy.random import RandomState\n",
    "\n",
    "rng = RandomState(0)\n",
    "firm_returns = rng.normal(0, 1, 100)\n",
    "mkt_returns = rng.normal(0, 1, 100)\n",
    "mes = MarginalExpectedShortfall(firm_returns, mkt_returns)\n",
    "res = mes.estimate()\n",
    "res"
   ]
  },
  {
   "cell_type": "code",
   "execution_count": null,
   "id": "6ad65c31-b8bc-468d-98bd-e78835257ea3",
   "metadata": {},
   "outputs": [],
   "source": [
    "function mes = marginal_expected_shortfall(firm_returns, market_returns)\n",
    "%\n",
    "% Calculates the marginal expected shortfall of a firm.\n",
    "%\n",
    "% PARAMETERS:\n",
    "% firm_returns - The time series of returns for the firm.\n",
    "% market_returns - The time series of returns for the market."
   ]
  },
  {
   "cell_type": "code",
   "execution_count": 23,
   "id": "480fe0e8-43fe-45a7-8ebc-59b47906a4a4",
   "metadata": {},
   "outputs": [],
   "source": [
    "import numpy as np\n",
    "from typing import Union\n",
    "class SRISK:\n",
    "    def __init__(\n",
    "        self,\n",
    "        firm_returns: np.ndarray,\n",
    "        market_returns: np.ndarray,\n",
    "        W: Union[float, np.ndarray],\n",
    "        D: Union[float, np.ndarray],\n",
    "    ) -> None:\n",
    "        if len(firm_returns.shape) == 1:\n",
    "            # Single firm\n",
    "            n_firms = 1\n",
    "            n_days = len(firm_returns)\n",
    "            \n",
    "        else:\n",
    "            # Multple firms\n",
    "            n_days, n_firms = firm_returns.shape\n",
    "\n",
    "        self.firm_returns = firm_returns\n",
    "        self.market_returns = market_returns\n",
    "        self.W = W\n",
    "        self.D = D\n",
    "        self.n_firms = n_firms\n",
    "        self.n_days = n_days\n",
    "\n",
    "    def estimate(\n",
    "        self,\n",
    "        k=0.08,\n",
    "        lrmes_h=22,\n",
    "        lrmes_S=10000,\n",
    "        lrmes_C=-0.1,\n",
    "        lrmes_random_seed=42,\n",
    "        aggregate_srisk=False,\n",
    "    ) -> Union[np.ndarray, float]:\n",
    "        market_returns = self.market_returns\n",
    "        if self.n_firms == 1:\n",
    "            lrmes = LongRunMarginalExpectedShortfall(\n",
    "                self.firm_returns, market_returns\n",
    "            ).estimate(lrmes_h, lrmes_S, lrmes_C, lrmes_random_seed)\n",
    "        else:\n",
    "            lrmes = np.empty(self.n_firms)\n",
    "            for i in range(self.n_firms):\n",
    "                firm_returns = self.firm_returns[:, i]\n",
    "                lrmes[i] = LongRunMarginalExpectedShortfall(\n",
    "                    firm_returns, market_returns\n",
    "                ).estimate(lrmes_h, lrmes_S, lrmes_C, lrmes_random_seed)\n",
    "\n",
    "        lvg = (self.D + self.W) / self.W\n",
    "        srisk = self.W * (k * lvg + (1 - k) * lrmes - 1)\n",
    "        if not aggregate_srisk:\n",
    "            return srisk\n",
    "        else:\n",
    "            return np.sum(srisk.clip(min=0.0))"
   ]
  },
  {
   "cell_type": "code",
   "execution_count": null,
   "id": "885b3924-e7d5-4950-9f54-9ff231e5cbe7",
   "metadata": {},
   "outputs": [],
   "source": []
  }
 ],
 "metadata": {
  "kernelspec": {
   "display_name": "Python 3 (ipykernel)",
   "language": "python",
   "name": "python3"
  },
  "language_info": {
   "codemirror_mode": {
    "name": "ipython",
    "version": 3
   },
   "file_extension": ".py",
   "mimetype": "text/x-python",
   "name": "python",
   "nbconvert_exporter": "python",
   "pygments_lexer": "ipython3",
   "version": "3.11.5"
  }
 },
 "nbformat": 4,
 "nbformat_minor": 5
}
