{
 "cells": [
  {
   "cell_type": "markdown",
   "id": "f06ed4ab",
   "metadata": {},
   "source": [
    "## Future val calc"
   ]
  },
  {
   "cell_type": "code",
   "execution_count": 1,
   "id": "c09d9e6d",
   "metadata": {},
   "outputs": [],
   "source": [
    "interest_rate = 5 \n",
    "principal = 100\n",
    "time = 3 "
   ]
  },
  {
   "cell_type": "markdown",
   "id": "69f27143",
   "metadata": {},
   "source": [
    "$ FV_n = PV(1+r)^n $ "
   ]
  },
  {
   "cell_type": "code",
   "execution_count": 42,
   "id": "c541e769",
   "metadata": {},
   "outputs": [],
   "source": [
    "FV1 = 100*(1+5/100)**1"
   ]
  },
  {
   "cell_type": "code",
   "execution_count": 43,
   "id": "9140c509",
   "metadata": {},
   "outputs": [
    {
     "data": {
      "text/plain": [
       "105.0"
      ]
     },
     "execution_count": 43,
     "metadata": {},
     "output_type": "execute_result"
    }
   ],
   "source": [
    "FV1"
   ]
  },
  {
   "cell_type": "code",
   "execution_count": 44,
   "id": "c11ea2bb",
   "metadata": {},
   "outputs": [],
   "source": [
    "FV2 = 100*(1+5/100)**2"
   ]
  },
  {
   "cell_type": "code",
   "execution_count": 45,
   "id": "d4879858",
   "metadata": {},
   "outputs": [
    {
     "data": {
      "text/plain": [
       "110.25"
      ]
     },
     "execution_count": 45,
     "metadata": {},
     "output_type": "execute_result"
    }
   ],
   "source": [
    "FV2"
   ]
  },
  {
   "cell_type": "markdown",
   "id": "2184e91a",
   "metadata": {},
   "source": [
    "$ PV = FV_n/(1+r)^n $ "
   ]
  },
  {
   "cell_type": "code",
   "execution_count": 46,
   "id": "fe63c398",
   "metadata": {},
   "outputs": [
    {
     "data": {
      "text/plain": [
       "110.25"
      ]
     },
     "execution_count": 46,
     "metadata": {},
     "output_type": "execute_result"
    }
   ],
   "source": [
    "FV2"
   ]
  },
  {
   "cell_type": "code",
   "execution_count": 8,
   "id": "35bac0bb",
   "metadata": {},
   "outputs": [],
   "source": [
    "PV = FV2/(1+(5/100))**2"
   ]
  },
  {
   "cell_type": "code",
   "execution_count": 9,
   "id": "b727a721",
   "metadata": {},
   "outputs": [
    {
     "data": {
      "text/plain": [
       "100.0"
      ]
     },
     "execution_count": 9,
     "metadata": {},
     "output_type": "execute_result"
    }
   ],
   "source": [
    "PV"
   ]
  },
  {
   "cell_type": "code",
   "execution_count": 10,
   "id": "98d0d4b6",
   "metadata": {},
   "outputs": [],
   "source": [
    "PV = FV1/(1+(5/100))**1"
   ]
  },
  {
   "cell_type": "code",
   "execution_count": 11,
   "id": "6c9a31b6",
   "metadata": {},
   "outputs": [
    {
     "data": {
      "text/plain": [
       "100.0"
      ]
     },
     "execution_count": 11,
     "metadata": {},
     "output_type": "execute_result"
    }
   ],
   "source": [
    "PV"
   ]
  },
  {
   "cell_type": "markdown",
   "id": "deed9f24",
   "metadata": {},
   "source": [
    "## Using sympy"
   ]
  },
  {
   "cell_type": "code",
   "execution_count": 33,
   "id": "aa525fc5",
   "metadata": {},
   "outputs": [],
   "source": [
    "from sympy import Symbol"
   ]
  },
  {
   "cell_type": "code",
   "execution_count": 34,
   "id": "8d0acc9d",
   "metadata": {},
   "outputs": [],
   "source": [
    "P = Symbol('Present Value')"
   ]
  },
  {
   "cell_type": "code",
   "execution_count": 41,
   "id": "88007d45",
   "metadata": {},
   "outputs": [],
   "source": [
    "F= Symbol ('Future Value')"
   ]
  },
  {
   "cell_type": "code",
   "execution_count": 36,
   "id": "646b03a2",
   "metadata": {},
   "outputs": [],
   "source": [
    "r = Symbol('rate')\n",
    "n =Symbol('time')"
   ]
  },
  {
   "cell_type": "code",
   "execution_count": 37,
   "id": "591f46d3",
   "metadata": {},
   "outputs": [],
   "source": [
    "future_value = P*(1+r)**n"
   ]
  },
  {
   "cell_type": "code",
   "execution_count": 38,
   "id": "988c95b2",
   "metadata": {},
   "outputs": [
    {
     "data": {
      "text/latex": [
       "$\\displaystyle P \\left(r + 1\\right)^{n}$"
      ],
      "text/plain": [
       "P*(r + 1)**n"
      ]
     },
     "execution_count": 38,
     "metadata": {},
     "output_type": "execute_result"
    }
   ],
   "source": [
    "expr"
   ]
  },
  {
   "cell_type": "code",
   "execution_count": 39,
   "id": "dfa513a8",
   "metadata": {},
   "outputs": [
    {
     "data": {
      "text/latex": [
       "$\\displaystyle Present Value \\left(rate + 1\\right)^{time}$"
      ],
      "text/plain": [
       "Present Value*(rate + 1)**time"
      ]
     },
     "execution_count": 39,
     "metadata": {},
     "output_type": "execute_result"
    }
   ],
   "source": [
    "future_value "
   ]
  },
  {
   "cell_type": "code",
   "execution_count": 40,
   "id": "9a1a14da",
   "metadata": {},
   "outputs": [
    {
     "data": {
      "text/latex": [
       "$\\displaystyle 110.25$"
      ],
      "text/plain": [
       "110.250000000000"
      ]
     },
     "execution_count": 40,
     "metadata": {},
     "output_type": "execute_result"
    }
   ],
   "source": [
    "future_value.evalf(subs= {P:100, r:5/100, n:2})"
   ]
  },
  {
   "cell_type": "code",
   "execution_count": 48,
   "id": "e1c1ebcd",
   "metadata": {},
   "outputs": [],
   "source": [
    "present_value = F/(1+r)**n"
   ]
  },
  {
   "cell_type": "code",
   "execution_count": 49,
   "id": "c0fc45ee",
   "metadata": {},
   "outputs": [
    {
     "data": {
      "text/latex": [
       "$\\displaystyle Future Value \\left(rate + 1\\right)^{- time}$"
      ],
      "text/plain": [
       "Future Value/(rate + 1)**time"
      ]
     },
     "execution_count": 49,
     "metadata": {},
     "output_type": "execute_result"
    }
   ],
   "source": [
    "present_value"
   ]
  },
  {
   "cell_type": "code",
   "execution_count": 53,
   "id": "46ca2a3c",
   "metadata": {},
   "outputs": [
    {
     "data": {
      "text/latex": [
       "$\\displaystyle 86.3837598531476$"
      ],
      "text/plain": [
       "86.3837598531476"
      ]
     },
     "execution_count": 53,
     "metadata": {},
     "output_type": "execute_result"
    }
   ],
   "source": [
    "present_value.evalf(subs={F:100, r:5/100, n:3})"
   ]
  },
  {
   "cell_type": "code",
   "execution_count": 54,
   "id": "2afb24e8",
   "metadata": {},
   "outputs": [
    {
     "data": {
      "text/latex": [
       "$\\displaystyle 77.2183480061064$"
      ],
      "text/plain": [
       "77.2183480061064"
      ]
     },
     "execution_count": 54,
     "metadata": {},
     "output_type": "execute_result"
    }
   ],
   "source": [
    "present_value.evalf(subs={F:100, r:9/100, n:3})"
   ]
  },
  {
   "cell_type": "code",
   "execution_count": null,
   "id": "09a00a42",
   "metadata": {},
   "outputs": [],
   "source": []
  },
  {
   "cell_type": "code",
   "execution_count": null,
   "id": "4b915a3f",
   "metadata": {},
   "outputs": [],
   "source": []
  },
  {
   "cell_type": "code",
   "execution_count": null,
   "id": "7ab881f6",
   "metadata": {},
   "outputs": [],
   "source": []
  }
 ],
 "metadata": {
  "kernelspec": {
   "display_name": "Python 3 (ipykernel)",
   "language": "python",
   "name": "python3"
  },
  "language_info": {
   "codemirror_mode": {
    "name": "ipython",
    "version": 3
   },
   "file_extension": ".py",
   "mimetype": "text/x-python",
   "name": "python",
   "nbconvert_exporter": "python",
   "pygments_lexer": "ipython3",
   "version": "3.9.12"
  }
 },
 "nbformat": 4,
 "nbformat_minor": 5
}
