{
  "nbformat": 4,
  "nbformat_minor": 0,
  "metadata": {
    "colab": {
      "provenance": [],
      "toc_visible": true,
      "include_colab_link": true
    },
    "kernelspec": {
      "name": "python3",
      "display_name": "Python 3"
    },
    "language_info": {
      "name": "python"
    }
  },
  "cells": [
    {
      "cell_type": "markdown",
      "metadata": {
        "id": "view-in-github",
        "colab_type": "text"
      },
      "source": [
        "<a href=\"https://colab.research.google.com/github/pankajti/wqu/blob/main/MScFE_610_FINANCIAL_ECONOMETRICS_Group_769_Work_Project_2.ipynb\" target=\"_parent\"><img src=\"https://colab.research.google.com/assets/colab-badge.svg\" alt=\"Open In Colab\"/></a>"
      ]
    },
    {
      "cell_type": "code",
      "source": [
        "!python -m pip install yfinance\n",
        "from IPython.display import clear_output\n",
        "clear_output(wait=False)\n"
      ],
      "metadata": {
        "id": "qLbiGSsf49sy"
      },
      "execution_count": null,
      "outputs": []
    },
    {
      "cell_type": "markdown",
      "source": [
        "## Modelling Randomnness"
      ],
      "metadata": {
        "id": "55ofAKSY4fZt"
      }
    },
    {
      "cell_type": "markdown",
      "source": [
        "### Definition\n",
        "\n",
        "Modelling randomness is a way to explain the random variation with help of some parameters. Usually we have some probability associated with random events and this probability distribution is unknown to us. We observed some sample outcomes from the random evets and try to find some parameters and models which most likely explain the sample data. "
      ],
      "metadata": {
        "id": "YmvaxDkk4Wy0"
      }
    },
    {
      "cell_type": "markdown",
      "source": [
        "### Description\n",
        "While modelling randomness we follow some steps to get a model annd model parameters from the sample data so that we can generate data from model as if they are coming from the actual population. We cann think of using all the data from population to generate model ad parameters but usually its impractical or impossbile to do so therefore we rely on sample data. "
      ],
      "metadata": {
        "id": "yax5jHWL4aTH"
      }
    },
    {
      "cell_type": "markdown",
      "source": [
        "### Demonstration\n",
        "\n",
        "We 'll use asset return data to demonstrate modelly random returns. Usually we the asset returns are ormally distributed. We'll use yahoo finance api to doenload Treasure 10 year bill data from 2016 and calculate return. \n",
        "Usually the returns are normally  distributed. We are going to show how normal distriution model fits our asset returnn data. "
      ],
      "metadata": {
        "id": "0CN7TD284f7n"
      }
    },
    {
      "cell_type": "code",
      "source": [
        "import pandas as pd\n",
        "import numpy as np \n",
        "import statsmodels\n",
        "import statsmodels.api as sm\n",
        "import scipy.stats as stats\n",
        "import matplotlib.pyplot as plt \n",
        "import yfinance as yf \n",
        "import datetime as dt\n",
        "import pylab\n"
      ],
      "metadata": {
        "id": "QOWltljX5AH0"
      },
      "execution_count": null,
      "outputs": []
    },
    {
      "cell_type": "code",
      "source": [
        "import yfinance as yf \n",
        "\n",
        "ticker= yf.Ticker('^TNX') \n",
        "ticker_hist = ticker.history(start='2016-01-05', ed= '2022-01-01')\n",
        "ticker_hist['t_date'] = list(map(lambda x: x.date() , ticker_hist.index))\n",
        "ticker_hist= ticker_hist.set_index('t_date')\n",
        "ticker_hist['stock_ret'] = ticker_hist.Close.pct_change() \n",
        "ticker_hist['log_ret'] = np.log(ticker_hist.Close) - np.log(ticker_hist.Close.shift(1))\n",
        "ticker_hist=ticker_hist.dropna()\n",
        "ticker_hist.Close.plot()\n"
      ],
      "metadata": {
        "colab": {
          "base_uri": "https://localhost:8080/",
          "height": 297
        },
        "id": "Avn9ZvEs9VK2",
        "outputId": "f489354f-e486-49b6-ae43-690d9da144eb"
      },
      "execution_count": null,
      "outputs": [
        {
          "output_type": "execute_result",
          "data": {
            "text/plain": [
              "<matplotlib.axes._subplots.AxesSubplot at 0x7f5362ac6c10>"
            ]
          },
          "metadata": {},
          "execution_count": 58
        },
        {
          "output_type": "display_data",
          "data": {
            "text/plain": [
              "<Figure size 432x288 with 1 Axes>"
            ],
            "image/png": "[encoded data removed]"
          },
          "metadata": {
            "needs_background": "light"
          }
        }
      ]
    },
    {
      "cell_type": "markdown",
      "source": [
        "### Diagram"
      ],
      "metadata": {
        "id": "cEL-0p7G4uIp"
      }
    },
    {
      "cell_type": "code",
      "source": [
        "ticker_hist['stock_ret'].hist()"
      ],
      "metadata": {
        "colab": {
          "base_uri": "https://localhost:8080/",
          "height": 282
        },
        "id": "stuhgUaqDWIy",
        "outputId": "8e76dcbc-ad90-4e7e-ac08-c86d0b9da317"
      },
      "execution_count": null,
      "outputs": [
        {
          "output_type": "execute_result",
          "data": {
            "text/plain": [
              "<matplotlib.axes._subplots.AxesSubplot at 0x7f5363026eb0>"
            ]
          },
          "metadata": {},
          "execution_count": 86
        },
        {
          "output_type": "display_data",
          "data": {
            "text/plain": [
              "<Figure size 432x288 with 1 Axes>"
            ],
            "image/png": "[encoded data removed]"
          },
          "metadata": {
            "needs_background": "light"
          }
        }
      ]
    },
    {
      "cell_type": "markdown",
      "source": [
        "As We cann see the returns are centred around zero and there is a peak around mean but need to run some formal tests to make sure that they are normally distribbuted. We ar going to do normality tests and use qqplots. "
      ],
      "metadata": {
        "id": "CrsN5JxJHDn3"
      }
    },
    {
      "cell_type": "code",
      "source": [
        "# Normal QQ plots\n",
        "plt.figure(figsize=(14, 6))\n",
        "ax1 = plt.subplot(121)\n",
        "stats.probplot(ticker_hist['stock_ret'], dist=\"norm\", plot=pylab)\n",
        "plt.title(\"US 10 Year T Bond Yield Daily pct  Return Normal Q-Q Plot\")\n",
        "\n",
        "ax2 = plt.subplot(122)\n",
        "stats.probplot(ticker_hist['log_ret'], dist=\"norm\", plot=pylab)\n",
        "plt.title(\"US 10 Year T Bond Yield Daily log  Return Normal Q-Q Plot\")\n",
        "pylab.show()"
      ],
      "metadata": {
        "colab": {
          "base_uri": "https://localhost:8080/",
          "height": 404
        },
        "id": "omRjt8mw6n3O",
        "outputId": "15a4da9b-78be-43d4-97d9-e2f932ccad76"
      },
      "execution_count": null,
      "outputs": [
        {
          "output_type": "display_data",
          "data": {
            "text/plain": [
              "<Figure size 1008x432 with 2 Axes>"
            ],
            "image/png": "[encoded data removed]"
          },
          "metadata": {
            "needs_background": "light"
          }
        }
      ]
    },
    {
      "cell_type": "markdown",
      "source": [
        "### Diagnosis\n",
        "\n",
        "We can check the test reults and model attributes along with confidence interval tests to come up with a conclusion if the model is a good fit to our sample data. "
      ],
      "metadata": {
        "id": "NpcpKM_o4zWP"
      }
    },
    {
      "cell_type": "markdown",
      "source": [
        "###  Damage\n",
        "\n",
        "We'll have some damage in case of the model not being a fit to the actual population. One well known problem in case of normal distribution is that of fat tails where some extreme results are observed more often than predicted by the model. "
      ],
      "metadata": {
        "id": "aVT7kUHy453i"
      }
    },
    {
      "cell_type": "markdown",
      "source": [
        "### Direction\n",
        "\n",
        "While modelling randomness using normal distributions we need to make sure some of the assumptions of the normality are followed. We sometimes do some trannsformations of the data to make them alignned to the normally distributed data. "
      ],
      "metadata": {
        "id": "7HloPni-48xJ"
      }
    },
    {
      "cell_type": "code",
      "source": [],
      "metadata": {
        "id": "yVH0mbHkF5yh"
      },
      "execution_count": null,
      "outputs": []
    },
    {
      "cell_type": "markdown",
      "source": [
        "## Heteroskadasticity "
      ],
      "metadata": {
        "id": "uGw0QpDJ9Il7"
      }
    },
    {
      "cell_type": "markdown",
      "source": [
        "### Definition\n",
        "\n",
        "Heteroskedaticity is a situation where standard deviation of residuals of a model is  not connstant. The residual values tennd to spread. While plotted with the predicted  values they tend to spread out inn the graph indicatinng a non constant   "
      ],
      "metadata": {
        "id": "HJLIPIIc5DmJ"
      }
    },
    {
      "cell_type": "markdown",
      "source": [
        "### Description"
      ],
      "metadata": {
        "id": "eoWqOKSf5F6V"
      }
    },
    {
      "cell_type": "markdown",
      "source": [
        "### Demonstration\n",
        "\n",
        "We are goig to use energy consumption data and fit AR model to get predictions and residulas. The heteroskedaticity will be aparant in the output data"
      ],
      "metadata": {
        "id": "4rAlY7PV5Ka_"
      }
    },
    {
      "cell_type": "code",
      "source": [
        "import pandas as pd\n",
        "import numpy as np\n",
        "import matplotlib.pyplot as plt\n",
        "#\n",
        "# Load AutoReg class from statsmodels.tsa.ar_model module\n",
        "#\n",
        "from statsmodels.tsa.ar_model import AutoReg\n",
        "# Load and plot the time-series data\n",
        "#\n",
        "url='https://raw.githubusercontent.com/jenfly/opsd/master/opsd_germany_daily.csv'\n",
        "df = pd.read_csv(url,sep=\",\")\n",
        "data = df['Consumption']\n",
        "#data= ticker_hist['log_ret']\n",
        "data.plot()"
      ],
      "metadata": {
        "colab": {
          "base_uri": "https://localhost:8080/",
          "height": 282
        },
        "id": "-94o4Mzv5JNi",
        "outputId": "de0a2fc5-47a6-4495-e847-4f06a3ac7074"
      },
      "execution_count": null,
      "outputs": [
        {
          "output_type": "execute_result",
          "data": {
            "text/plain": [
              "<matplotlib.axes._subplots.AxesSubplot at 0x7f53626f9280>"
            ]
          },
          "metadata": {},
          "execution_count": 87
        },
        {
          "output_type": "display_data",
          "data": {
            "text/plain": [
              "<Figure size 432x288 with 1 Axes>"
            ],
            "image/png": "[encoded data removed]"
          },
          "metadata": {
            "needs_background": "light"
          }
        }
      ]
    },
    {
      "cell_type": "code",
      "source": [
        "\n",
        "# Check for stationarity of the time-series data\n",
        "# We will look for p-value. In case, p-value is less than 0.05, the time series\n",
        "# data can said to have stationarity\n",
        "#\n",
        "from statsmodels.tsa.stattools import adfuller\n",
        "#\n",
        "# Run the test\n",
        "#\n",
        "df_stationarityTest = adfuller(data, autolag='AIC')\n",
        "#\n",
        "# Check the value of p-value\n",
        "#\n",
        "print(\"P-value: \", df_stationarityTest[1])\n",
        "#\n",
        "# Next step is to find the order of AR model to be trained\n",
        "# for this, we will plot partial autocorrelation plot to assess\n",
        "# the direct effect of past data on future data\n",
        "#\n",
        "from statsmodels.graphics.tsaplots import plot_pacf\n",
        "pacf = plot_pacf(data, lags=25)"
      ],
      "metadata": {
        "colab": {
          "base_uri": "https://localhost:8080/",
          "height": 298
        },
        "id": "-KIV81hIGAYD",
        "outputId": "9f3d7b90-9680-4e8d-af5f-ae0028c01029"
      },
      "execution_count": null,
      "outputs": [
        {
          "output_type": "stream",
          "name": "stdout",
          "text": [
            "P-value:  4.7440549018425884e-08\n"
          ]
        },
        {
          "output_type": "display_data",
          "data": {
            "text/plain": [
              "<Figure size 432x288 with 1 Axes>"
            ],
            "image/png": "[encoded data removed]"
          },
          "metadata": {
            "needs_background": "light"
          }
        }
      ]
    },
    {
      "cell_type": "code",
      "source": [
        "\n",
        "#\n",
        "# Create training and test data\n",
        "#\n",
        "train_data = data[:len(data)-100]\n",
        "test_data = data[len(data)-100:]\n",
        "#\n",
        "# Instantiate and fit the AR model with training data\n",
        "#\n",
        "ar_model = AutoReg(train_data, lags=8).fit()\n",
        "#\n",
        "# Print Summary\n",
        "#\n",
        "print(ar_model.summary())"
      ],
      "metadata": {
        "colab": {
          "base_uri": "https://localhost:8080/"
        },
        "id": "qLgIy-9ZGPMD",
        "outputId": "6014da8a-643c-4f23-ecfd-14c379305397"
      },
      "execution_count": null,
      "outputs": [
        {
          "output_type": "stream",
          "name": "stdout",
          "text": [
            "                            AutoReg Model Results                             \n",
            "==============================================================================\n",
            "Dep. Variable:            Consumption   No. Observations:                 4283\n",
            "Model:                     AutoReg(8)   Log Likelihood              -24231.812\n",
            "Method:               Conditional MLE   S.D. of innovations             70.058\n",
            "Date:                Mon, 12 Dec 2022   AIC                              8.503\n",
            "Time:                        02:31:49   BIC                              8.518\n",
            "Sample:                             8   HQIC                             8.509\n",
            "                                 4283                                         \n",
            "==================================================================================\n",
            "                     coef    std err          z      P>|z|      [0.025      0.975]\n",
            "----------------------------------------------------------------------------------\n",
            "intercept        121.2792     14.444      8.397      0.000      92.969     149.589\n",
            "Consumption.L1     0.6393      0.013     47.751      0.000       0.613       0.666\n",
            "Consumption.L2    -0.0966      0.011     -8.424      0.000      -0.119      -0.074\n",
            "Consumption.L3     0.0677      0.012      5.879      0.000       0.045       0.090\n",
            "Consumption.L4    -0.0538      0.012     -4.653      0.000      -0.076      -0.031\n",
            "Consumption.L5    -0.0092      0.012     -0.793      0.428      -0.032       0.014\n",
            "Consumption.L6     0.0619      0.012      5.371      0.000       0.039       0.085\n",
            "Consumption.L7     0.7832      0.011     68.283      0.000       0.761       0.806\n",
            "Consumption.L8    -0.4833      0.013    -36.107      0.000      -0.510      -0.457\n",
            "                                    Roots                                    \n",
            "=============================================================================\n",
            "                  Real          Imaginary           Modulus         Frequency\n",
            "-----------------------------------------------------------------------------\n",
            "AR.1           -0.9434           -0.4695j            1.0538           -0.4265\n",
            "AR.2           -0.9434           +0.4695j            1.0538            0.4265\n",
            "AR.3           -0.2332           -0.9929j            1.0199           -0.2867\n",
            "AR.4           -0.2332           +0.9929j            1.0199            0.2867\n",
            "AR.5            0.6323           -0.7958j            1.0164           -0.1431\n",
            "AR.6            0.6323           +0.7958j            1.0164            0.1431\n",
            "AR.7            1.0362           -0.0000j            1.0362           -0.0000\n",
            "AR.8            1.6730           -0.0000j            1.6730           -0.0000\n",
            "-----------------------------------------------------------------------------\n"
          ]
        },
        {
          "output_type": "stream",
          "name": "stderr",
          "text": [
            "/usr/local/lib/python3.8/dist-packages/statsmodels/tsa/ar_model.py:248: FutureWarning: The parameter names will change after 0.12 is released. Set old_names to False to use the new names now. Set old_names to True to use the old names. \n",
            "  warnings.warn(\n"
          ]
        }
      ]
    },
    {
      "cell_type": "code",
      "source": [
        "ar_model.resid"
      ],
      "metadata": {
        "colab": {
          "base_uri": "https://localhost:8080/"
        },
        "id": "WZblpRjGLx0u",
        "outputId": "e8351144-dce0-49fe-966b-ff28ad53aaaf"
      },
      "execution_count": null,
      "outputs": [
        {
          "output_type": "execute_result",
          "data": {
            "text/plain": [
              "8       105.393941\n",
              "9        42.843403\n",
              "10       60.981717\n",
              "11        9.894932\n",
              "12      103.881773\n",
              "           ...    \n",
              "4278     26.642677\n",
              "4279     -0.969117\n",
              "4280      1.719565\n",
              "4281    -31.301463\n",
              "4282     26.025668\n",
              "Length: 4275, dtype: float64"
            ]
          },
          "metadata": {},
          "execution_count": 97
        }
      ]
    },
    {
      "cell_type": "code",
      "source": [
        "pred"
      ],
      "metadata": {
        "colab": {
          "base_uri": "https://localhost:8080/"
        },
        "id": "deo3fxj7Ezoi",
        "outputId": "35f749db-d12c-4e1a-fafd-e746d762839e"
      },
      "execution_count": null,
      "outputs": [
        {
          "output_type": "execute_result",
          "data": {
            "text/plain": [
              "4283    1199.580761\n",
              "4284    1132.051688\n",
              "4285    1392.772651\n",
              "4286    1425.877770\n",
              "4287    1424.606502\n",
              "           ...     \n",
              "4378    1355.220188\n",
              "4379    1359.014426\n",
              "4380    1334.516355\n",
              "4381    1299.851112\n",
              "4382    1309.602440\n",
              "Length: 100, dtype: float64"
            ]
          },
          "metadata": {},
          "execution_count": 99
        }
      ]
    },
    {
      "cell_type": "code",
      "source": [
        "pred = ar_model.predict(start=len(train_data), end=(len(data)-1), dynamic=False)\n"
      ],
      "metadata": {
        "id": "SuGFkEwEFOC1"
      },
      "execution_count": null,
      "outputs": []
    },
    {
      "cell_type": "markdown",
      "source": [
        "### Diagram"
      ],
      "metadata": {
        "id": "JZD4ELef5VuI"
      }
    },
    {
      "cell_type": "code",
      "source": [
        "len(ar_model.resid)"
      ],
      "metadata": {
        "colab": {
          "base_uri": "https://localhost:8080/"
        },
        "id": "GMna3SN8FSWo",
        "outputId": "8ae5c17b-1f5f-454b-a949-3103eaf6df12"
      },
      "execution_count": null,
      "outputs": [
        {
          "output_type": "execute_result",
          "data": {
            "text/plain": [
              "4275"
            ]
          },
          "metadata": {},
          "execution_count": 101
        }
      ]
    },
    {
      "cell_type": "code",
      "source": [
        "plt.scatter(pred, pred-test_data)\n"
      ],
      "metadata": {
        "colab": {
          "base_uri": "https://localhost:8080/",
          "height": 282
        },
        "id": "URgKI6vTFWIs",
        "outputId": "f51cd8fd-92f0-4506-a44b-85ac1ac33749"
      },
      "execution_count": null,
      "outputs": [
        {
          "output_type": "execute_result",
          "data": {
            "text/plain": [
              "<matplotlib.collections.PathCollection at 0x7f53622d1b50>"
            ]
          },
          "metadata": {},
          "execution_count": 102
        },
        {
          "output_type": "display_data",
          "data": {
            "text/plain": [
              "<Figure size 432x288 with 1 Axes>"
            ],
            "image/png": "[encoded data removed]"
          },
          "metadata": {
            "needs_background": "light"
          }
        }
      ]
    },
    {
      "cell_type": "code",
      "source": [
        "plt.plot(test_data.values)"
      ],
      "metadata": {
        "colab": {
          "base_uri": "https://localhost:8080/",
          "height": 282
        },
        "id": "gQyUACFnHkP-",
        "outputId": "2731ab77-5464-468c-a14c-4d0b4462cdae"
      },
      "execution_count": null,
      "outputs": [
        {
          "output_type": "execute_result",
          "data": {
            "text/plain": [
              "[<matplotlib.lines.Line2D at 0x7f5362d4d910>]"
            ]
          },
          "metadata": {},
          "execution_count": 69
        },
        {
          "output_type": "display_data",
          "data": {
            "text/plain": [
              "<Figure size 432x288 with 1 Axes>"
            ],
            "image/png": "[encoded data removed]"
          },
          "metadata": {
            "needs_background": "light"
          }
        }
      ]
    },
    {
      "cell_type": "markdown",
      "source": [
        "### Diagnosis\n",
        "\n"
      ],
      "metadata": {
        "id": "Ms2lByT55Z_c"
      }
    },
    {
      "cell_type": "markdown",
      "source": [
        "### Damage"
      ],
      "metadata": {
        "id": "rE7kXMI35chK"
      }
    },
    {
      "cell_type": "markdown",
      "source": [
        "### Direction"
      ],
      "metadata": {
        "id": "gniT04Lj5ebq"
      }
    },
    {
      "cell_type": "markdown",
      "source": [
        "## **AUTOCORRELATION**\n",
        "\n"
      ],
      "metadata": {
        "id": "ELrvBmJF0zJj"
      }
    },
    {
      "cell_type": "markdown",
      "source": [
        "### **Definition**\n",
        "**Autocorrelation** is a function that gives a correlation between a data set and itself at various delays (lags). There are numerous uses for this in statistics and signal processing. In stock market, this sort of regressive analysis is used to estimate future prices within a given confidence interval (usually 95%), and it compares current prices to prior ones.\n",
        "\n",
        "Autocorrelation is calculated using the following function:\n",
        "$$ R_{XX}(t_1,t_2)=E[X_{t_1}\\bar{X{t_2}}] $$\n",
        "\n",
        "*Where $t_1,t_2$ are the times between which the correlation is calculated, $X_t$ a random process, and $E$ the expected value operator.*\n",
        "\n",
        "Autocorrelation's coefficient is given by the following function:\n",
        "The properties of this test coefficient are:\n",
        "$$ \\rho_{XX}(t_1,t_2)=\\frac{E[(X_{t_1}-\\mu_{t_1}) + \\overline{(X_{t_2}-\\mu_{t_2})}]}{\\sigma_{t_1}\\sigma_{t_2}} $$\n",
        "\n",
        "*Where $t_1,t_2$ are the times between which the correlation is calculated, $X_t$ a random process, $t_1,t_2$ are the covariances, $E$ the expected value operator and $ \\rho_{XX} $ the auto-correlation coefficient which is between 1 and -1;*\n",
        "\n"
      ],
      "metadata": {
        "id": "u9-1avBB3w7J"
      }
    },
    {
      "cell_type": "markdown",
      "source": [
        "\n",
        "### **Description**\n",
        "**Autocorrelation** also called serial correlation is a calculated value that represents how similar a value within a time series is to a prior value.\n",
        "Autocorrelation can be used to identify data patterns and the impact of previously recorded values on a current observation. It has numerous applications, the most notable of which include signal processing, weather forecasting, and securities research.\n"
      ],
      "metadata": {
        "id": "wZYM_W5j3y7B"
      }
    },
    {
      "cell_type": "markdown",
      "source": [
        "### **Demonstration**\n",
        "We can use a simple set of data to demonstrate the problem. We will go through an example of calculating autocorrelation in Python."
      ],
      "metadata": {
        "id": "YHeTCC963pSH"
      }
    },
    {
      "cell_type": "code",
      "source": [
        "#define data\n",
        "x = [22, 24, 25, 25, 28, 29, 34, 37, 40, 44, 51, 48, 47, 50, 51]"
      ],
      "metadata": {
        "id": "2i6MKomr1MHk"
      },
      "execution_count": null,
      "outputs": []
    },
    {
      "cell_type": "markdown",
      "source": [
        "Calculate the autocorrelation:\n",
        "\n",
        "1) Using lagged variables at different time steps"
      ],
      "metadata": {
        "id": "lyzfmmBr1R0w"
      }
    },
    {
      "cell_type": "code",
      "source": [
        "import statsmodels.api as sm\n",
        "\n",
        "# extracting only the values\n",
        "values = pd.DataFrame(x)\n",
        " \n",
        "# using shift function to shift the values.\n",
        "dataframe = pd.concat([values.shift(3), values.shift(2),\n",
        "                       values.shift(1), values], axis=1)\n",
        "# naming the columns\n",
        "dataframe.columns = ['t', 't+1', 't+2', 't+3']\n",
        " \n",
        "# using corr() function to compute the correlation\n",
        "result = dataframe.corr()\n",
        " \n",
        "print(result)"
      ],
      "metadata": {
        "colab": {
          "base_uri": "https://localhost:8080/"
        },
        "id": "EftjRnA31Zx4",
        "outputId": "a4ab5fcd-6b59-4046-aa19-f02afbc043e3"
      },
      "execution_count": null,
      "outputs": [
        {
          "output_type": "stream",
          "name": "stdout",
          "text": [
            "            t       t+1       t+2       t+3\n",
            "t    1.000000  0.962781  0.926109  0.901460\n",
            "t+1  0.962781  1.000000  0.967451  0.935356\n",
            "t+2  0.926109  0.967451  1.000000  0.971469\n",
            "t+3  0.901460  0.935356  0.971469  1.000000\n"
          ]
        }
      ]
    },
    {
      "cell_type": "markdown",
      "source": [
        "2) using acf function"
      ],
      "metadata": {
        "id": "BkZNPoxj1eSk"
      }
    },
    {
      "cell_type": "code",
      "source": [
        "print(sm.tsa.acf(x))"
      ],
      "metadata": {
        "colab": {
          "base_uri": "https://localhost:8080/"
        },
        "id": "qwpwlPB81fDn",
        "outputId": "4e4952b7-070e-44b0-8e90-2a18e1d2eba5"
      },
      "execution_count": null,
      "outputs": [
        {
          "output_type": "stream",
          "name": "stdout",
          "text": [
            "[ 1.          0.83174224  0.65632458  0.49105012  0.27863962  0.03102625\n",
            " -0.16527446 -0.30369928 -0.40095465 -0.45823389 -0.45047733 -0.36933174\n",
            " -0.29057279 -0.22494033 -0.12529833]\n"
          ]
        },
        {
          "output_type": "stream",
          "name": "stderr",
          "text": [
            "/usr/local/lib/python3.8/dist-packages/statsmodels/tsa/stattools.py:657: FutureWarning: The default number of lags is changing from 40 tomin(int(10 * np.log10(nobs)), nobs - 1) after 0.12is released. Set the number of lags to an integer to  silence this warning.\n",
            "  warnings.warn(\n",
            "/usr/local/lib/python3.8/dist-packages/statsmodels/tsa/stattools.py:667: FutureWarning: fft=True will become the default after the release of the 0.12 release of statsmodels. To suppress this warning, explicitly set fft=False.\n",
            "  warnings.warn(\n"
          ]
        }
      ]
    },
    {
      "cell_type": "markdown",
      "source": [
        "### **Diagram**\n",
        "Autocorrelation diagram for a time series by using the plot_acf() function"
      ],
      "metadata": {
        "id": "PJmknURj1pTV"
      }
    },
    {
      "cell_type": "code",
      "source": [
        "from statsmodels.graphics import tsaplots\n",
        "import matplotlib.pyplot as plt\n",
        "\n",
        "#plot autocorrelation function\n",
        "fig = tsaplots.plot_acf(x, lags=10)\n",
        "plt.show()"
      ],
      "metadata": {
        "colab": {
          "base_uri": "https://localhost:8080/",
          "height": 281
        },
        "id": "ZnQ4f-Lp1tSg",
        "outputId": "beedc133-2641-41d2-fcaf-6347e4968d4b"
      },
      "execution_count": null,
      "outputs": [
        {
          "output_type": "display_data",
          "data": {
            "text/plain": [
              "<Figure size 432x288 with 1 Axes>"
            ],
            "image/png": "[encoded data removed]"
          },
          "metadata": {
            "needs_background": "light"
          }
        }
      ]
    },
    {
      "cell_type": "markdown",
      "source": [
        "The x-axis shows the number of delays, while the y-axis shows the autocorrelation at those lags. By default, the plot begins at lag = 0, and the autocorrelation is always 1.\n",
        "\n",
        "### **Diagnosis**\n",
        "Autocorrelation is a powerful method for finding periodicity, and other less obvious forms of effect. There is no such thing as a perfect forecasting technique, and autocorrelation is no exception. The Durbin-Watson statistic is the conventional test for the presence of first-order autocorrelation.\n",
        "\n"
      ],
      "metadata": {
        "id": "iDGQQh-R12ij"
      }
    },
    {
      "cell_type": "markdown",
      "source": [
        "### **Damage**\n",
        "Too Much Retained Knowledge is one of the limit of autocorrelation.\n",
        "Data in signal processing frequently exhibits small changes or artifacts created during observation. Speech-pattern recognition, radio-frequency analysis, and x-ray analysis all generate enormous volumes of noise.\n",
        "\n"
      ],
      "metadata": {
        "id": "O1ou6QVp38dF"
      }
    },
    {
      "cell_type": "markdown",
      "source": [
        "### **Directions**\n",
        "There are different approaches to solve autocorrelation problems.\n",
        "There are two strategies for reducing autocorrelation, the first of which is the most important:\n",
        "1.   Improve the model's fit. In the model, try to capture structure in the data.\n",
        "2.   Include an AR1 model if no additional predictors can be added. \n",
        "\n"
      ],
      "metadata": {
        "id": "XT2Ha_Jc394e"
      }
    },
    {
      "cell_type": "markdown",
      "source": [
        "## *References*\n",
        "*   https://en.wikipedia.org/wiki/Autocorrelation#Serial_dependence\n",
        "*   https://www.educative.io/answers/what-is-autocorrelation-in-python\n",
        "*   https://vitalflux.com/autoregressive-ar-models-with-python-examples/\n",
        "*   https://dtkaplan.github.io/SM2-bookdown/modeling-randomness.html"
      ],
      "metadata": {
        "id": "PN-wNrv24IBG"
      }
    }
  ]
}